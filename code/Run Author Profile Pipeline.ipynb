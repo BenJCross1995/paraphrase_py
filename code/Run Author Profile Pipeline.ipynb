{
 "cells": [
  {
   "cell_type": "markdown",
   "id": "c3126c9c-11cf-4f12-8a7e-615bcf01da72",
   "metadata": {},
   "source": [
    "# Example Author Profile Pipeline"
   ]
  },
  {
   "cell_type": "code",
   "execution_count": null,
   "id": "c8a19a24-804f-4af9-b428-cb3a339009ba",
   "metadata": {},
   "outputs": [],
   "source": [
    "import os"
   ]
  },
  {
   "cell_type": "code",
   "execution_count": null,
   "id": "cdd9b8a3-cc83-4b0c-b0be-9ab21571f316",
   "metadata": {},
   "outputs": [],
   "source": [
    "base_loc = \"/Volumes/BCross/datasets/author_verification/training/Enron\"\n",
    "\n",
    "# Read known_raw and save the author profile\n",
    "known_loc = f\"{base_loc}/known_raw.jsonl\"\n",
    "known_save_loc = f\"{base_loc}/known_profile.jsonl\"\n",
    "\n",
    "# ParaScore directory used to sample parascore files\n",
    "parascore_directory = f\"{base_loc}/gpt_4o_mini_full/full_doc_parascore\"\n",
    "\n",
    "# Impostor and Top Impostor locations\n",
    "impostor_save_directory = f\"{base_loc}/gpt_4o_mini_full/impostor_profile\"\n",
    "top_impostor_save_directory = f\"{base_loc}/gpt_4o_mini_full/impostor_profile_top_impostors\""
   ]
  },
  {
   "cell_type": "markdown",
   "id": "fe25f272-4cb9-4996-bd26-200cf87ee062",
   "metadata": {},
   "source": [
    "## Run the Author Profile Script\n",
    "\n",
    "The code below runs the Author Profile script which creates an author profile by combining multiple documents for the same author in the known author corpus. It then compiles the files for the known author in a list and creates a sample author impostor profile from all the paraphrased docs for each author."
   ]
  },
  {
   "cell_type": "code",
   "execution_count": null,
   "id": "b88c9660-0412-426b-bcc5-d9384020bc3e",
   "metadata": {
    "scrolled": true
   },
   "outputs": [],
   "source": [
    "args = f\"\"\"\n",
    "author_profile.py \n",
    "--known_loc {known_loc} \n",
    "--known_save_loc {known_save_loc} \n",
    "--parascore_dir {parascore_directory}\n",
    "--save_dir {impostor_save_directory}\n",
    "--n 1000 \n",
    "--seed 42\n",
    "\"\"\"\n",
    "\n",
    "get_ipython().run_line_magic(\"run\", args)"
   ]
  },
  {
   "cell_type": "markdown",
   "id": "fab790f1-e2a1-4005-b49e-514f60c65b60",
   "metadata": {},
   "source": [
    "## Get the Top Impostors\n",
    "\n",
    "The following then loops through the newly created author impostor profiles and gets the top n distinct impostors from those files and saves them in a separate directory."
   ]
  },
  {
   "cell_type": "code",
   "execution_count": null,
   "id": "9279fe41-1630-4e75-8cb0-6eacce320c5f",
   "metadata": {
    "scrolled": true
   },
   "outputs": [],
   "source": [
    "for file in os.listdir(impostor_save_directory):\n",
    "    if file.endswith(\".jsonl\"):\n",
    "        print(f\"Processing File: {file}\")\n",
    "        full_read_path = os.path.join(impostor_save_directory, file)\n",
    "        full_write_path = os.path.join(top_impostor_save_directory, file)\n",
    "\n",
    "        # Build the argument string using an f-string\n",
    "        args = f\"\"\"\n",
    "        get_top_n_impostors.py\n",
    "        --input_file {full_read_path}\n",
    "        --output_file {full_write_path}\n",
    "        --num_impostors 500\n",
    "        \"\"\"\n",
    "        get_ipython().run_line_magic(\"run\", args)"
   ]
  }
 ],
 "metadata": {
  "kernelspec": {
   "display_name": "paraphrase_llm",
   "language": "python",
   "name": "paraphrase_llm"
  },
  "language_info": {
   "codemirror_mode": {
    "name": "ipython",
    "version": 3
   },
   "file_extension": ".py",
   "mimetype": "text/x-python",
   "name": "python",
   "nbconvert_exporter": "python",
   "pygments_lexer": "ipython3",
   "version": "3.10.9"
  }
 },
 "nbformat": 4,
 "nbformat_minor": 5
}
