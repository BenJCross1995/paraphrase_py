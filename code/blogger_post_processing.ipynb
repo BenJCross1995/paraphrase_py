{
 "cells": [
  {
   "cell_type": "code",
   "execution_count": 6,
   "id": "b0a9111c-3396-451f-9147-da640c1c7b3a",
   "metadata": {},
   "outputs": [],
   "source": [
    "import pandas as pd\n",
    "\n",
    "import combine_rephrased\n",
    "import read_and_write_docs"
   ]
  },
  {
   "cell_type": "code",
   "execution_count": 8,
   "id": "b00da61a-7a12-487c-b560-1e474833894a",
   "metadata": {},
   "outputs": [],
   "source": [
    "unknown_chunked = read_and_write_docs.read_jsonl_file(\"C:/Users/benjc/Documents/GitHub/paraphrase_py/data/blogger/unknown_combined.jsonl\")\n",
    "rephrased = pd.read_csv(\"C:/Users/benjc/Documents/GitHub/paraphrase_py/data/blogger/unknown_paraphrased.jsonl\")"
   ]
  },
  {
   "cell_type": "code",
   "execution_count": 20,
   "id": "f6f86225-69f5-462e-8476-457e3ff01003",
   "metadata": {},
   "outputs": [],
   "source": [
    "logged_unknown = combine_rephrased.filter_chunked_unknown(unknown_chunked)"
   ]
  },
  {
   "cell_type": "code",
   "execution_count": 26,
   "id": "3481cefb-4816-4987-8744-8cf3166e4076",
   "metadata": {},
   "outputs": [],
   "source": [
    "rephrased = rephrased.rename(columns={'id': 'doc_id', 'paraphrase': 'rephrased'})"
   ]
  },
  {
   "cell_type": "code",
   "execution_count": 28,
   "id": "c8a10d7d-ac71-4462-94af-76f0fbd1232a",
   "metadata": {},
   "outputs": [],
   "source": [
    "rephrased_chunked = combine_rephrased.chunk_rephrased(logged_unknown, rephrased, num_impostors=100)"
   ]
  },
  {
   "cell_type": "code",
   "execution_count": null,
   "id": "c4f3de65-2b24-4a3e-b578-f20a209dbea5",
   "metadata": {},
   "outputs": [],
   "source": []
  }
 ],
 "metadata": {
  "kernelspec": {
   "display_name": "para_llm",
   "language": "python",
   "name": "para_llm"
  },
  "language_info": {
   "codemirror_mode": {
    "name": "ipython",
    "version": 3
   },
   "file_extension": ".py",
   "mimetype": "text/x-python",
   "name": "python",
   "nbconvert_exporter": "python",
   "pygments_lexer": "ipython3",
   "version": "3.12.3"
  }
 },
 "nbformat": 4,
 "nbformat_minor": 5
}
