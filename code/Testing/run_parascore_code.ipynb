{
  "cells": [
    {
      "cell_type": "code",
      "source": [
        "!pip install parascore pyreadr"
      ],
      "metadata": {
        "collapsed": true,
        "id": "7vP-GAcE-Yhm",
        "outputId": "deff456f-4818-443d-a0a7-e867544bfbf9",
        "colab": {
          "base_uri": "https://localhost:8080/"
        }
      },
      "id": "7vP-GAcE-Yhm",
      "execution_count": 25,
      "outputs": [
        {
          "output_type": "stream",
          "name": "stdout",
          "text": [
            "Requirement already satisfied: parascore in /usr/local/lib/python3.11/dist-packages (1.0.5)\n",
            "Requirement already satisfied: pyreadr in /usr/local/lib/python3.11/dist-packages (0.5.3)\n",
            "Requirement already satisfied: torch>=1.0.0 in /usr/local/lib/python3.11/dist-packages (from parascore) (2.6.0+cu124)\n",
            "Requirement already satisfied: pandas>=1.0.1 in /usr/local/lib/python3.11/dist-packages (from parascore) (2.2.2)\n",
            "Requirement already satisfied: transformers>=3.0.0 in /usr/local/lib/python3.11/dist-packages (from parascore) (4.52.4)\n",
            "Requirement already satisfied: numpy in /usr/local/lib/python3.11/dist-packages (from parascore) (2.0.2)\n",
            "Requirement already satisfied: requests in /usr/local/lib/python3.11/dist-packages (from parascore) (2.32.3)\n",
            "Requirement already satisfied: tqdm>=4.31.1 in /usr/local/lib/python3.11/dist-packages (from parascore) (4.67.1)\n",
            "Requirement already satisfied: matplotlib in /usr/local/lib/python3.11/dist-packages (from parascore) (3.10.0)\n",
            "Requirement already satisfied: packaging>=20.9 in /usr/local/lib/python3.11/dist-packages (from parascore) (24.2)\n",
            "Requirement already satisfied: python-dateutil>=2.8.2 in /usr/local/lib/python3.11/dist-packages (from pandas>=1.0.1->parascore) (2.9.0.post0)\n",
            "Requirement already satisfied: pytz>=2020.1 in /usr/local/lib/python3.11/dist-packages (from pandas>=1.0.1->parascore) (2025.2)\n",
            "Requirement already satisfied: tzdata>=2022.7 in /usr/local/lib/python3.11/dist-packages (from pandas>=1.0.1->parascore) (2025.2)\n",
            "Requirement already satisfied: filelock in /usr/local/lib/python3.11/dist-packages (from torch>=1.0.0->parascore) (3.18.0)\n",
            "Requirement already satisfied: typing-extensions>=4.10.0 in /usr/local/lib/python3.11/dist-packages (from torch>=1.0.0->parascore) (4.14.0)\n",
            "Requirement already satisfied: networkx in /usr/local/lib/python3.11/dist-packages (from torch>=1.0.0->parascore) (3.5)\n",
            "Requirement already satisfied: jinja2 in /usr/local/lib/python3.11/dist-packages (from torch>=1.0.0->parascore) (3.1.6)\n",
            "Requirement already satisfied: fsspec in /usr/local/lib/python3.11/dist-packages (from torch>=1.0.0->parascore) (2025.3.2)\n",
            "Requirement already satisfied: nvidia-cuda-nvrtc-cu12==12.4.127 in /usr/local/lib/python3.11/dist-packages (from torch>=1.0.0->parascore) (12.4.127)\n",
            "Requirement already satisfied: nvidia-cuda-runtime-cu12==12.4.127 in /usr/local/lib/python3.11/dist-packages (from torch>=1.0.0->parascore) (12.4.127)\n",
            "Requirement already satisfied: nvidia-cuda-cupti-cu12==12.4.127 in /usr/local/lib/python3.11/dist-packages (from torch>=1.0.0->parascore) (12.4.127)\n",
            "Requirement already satisfied: nvidia-cudnn-cu12==9.1.0.70 in /usr/local/lib/python3.11/dist-packages (from torch>=1.0.0->parascore) (9.1.0.70)\n",
            "Requirement already satisfied: nvidia-cublas-cu12==12.4.5.8 in /usr/local/lib/python3.11/dist-packages (from torch>=1.0.0->parascore) (12.4.5.8)\n",
            "Requirement already satisfied: nvidia-cufft-cu12==11.2.1.3 in /usr/local/lib/python3.11/dist-packages (from torch>=1.0.0->parascore) (11.2.1.3)\n",
            "Requirement already satisfied: nvidia-curand-cu12==10.3.5.147 in /usr/local/lib/python3.11/dist-packages (from torch>=1.0.0->parascore) (10.3.5.147)\n",
            "Requirement already satisfied: nvidia-cusolver-cu12==11.6.1.9 in /usr/local/lib/python3.11/dist-packages (from torch>=1.0.0->parascore) (11.6.1.9)\n",
            "Requirement already satisfied: nvidia-cusparse-cu12==12.3.1.170 in /usr/local/lib/python3.11/dist-packages (from torch>=1.0.0->parascore) (12.3.1.170)\n",
            "Requirement already satisfied: nvidia-cusparselt-cu12==0.6.2 in /usr/local/lib/python3.11/dist-packages (from torch>=1.0.0->parascore) (0.6.2)\n",
            "Requirement already satisfied: nvidia-nccl-cu12==2.21.5 in /usr/local/lib/python3.11/dist-packages (from torch>=1.0.0->parascore) (2.21.5)\n",
            "Requirement already satisfied: nvidia-nvtx-cu12==12.4.127 in /usr/local/lib/python3.11/dist-packages (from torch>=1.0.0->parascore) (12.4.127)\n",
            "Requirement already satisfied: nvidia-nvjitlink-cu12==12.4.127 in /usr/local/lib/python3.11/dist-packages (from torch>=1.0.0->parascore) (12.4.127)\n",
            "Requirement already satisfied: triton==3.2.0 in /usr/local/lib/python3.11/dist-packages (from torch>=1.0.0->parascore) (3.2.0)\n",
            "Requirement already satisfied: sympy==1.13.1 in /usr/local/lib/python3.11/dist-packages (from torch>=1.0.0->parascore) (1.13.1)\n",
            "Requirement already satisfied: mpmath<1.4,>=1.1.0 in /usr/local/lib/python3.11/dist-packages (from sympy==1.13.1->torch>=1.0.0->parascore) (1.3.0)\n",
            "Requirement already satisfied: huggingface-hub<1.0,>=0.30.0 in /usr/local/lib/python3.11/dist-packages (from transformers>=3.0.0->parascore) (0.32.4)\n",
            "Requirement already satisfied: pyyaml>=5.1 in /usr/local/lib/python3.11/dist-packages (from transformers>=3.0.0->parascore) (6.0.2)\n",
            "Requirement already satisfied: regex!=2019.12.17 in /usr/local/lib/python3.11/dist-packages (from transformers>=3.0.0->parascore) (2024.11.6)\n",
            "Requirement already satisfied: tokenizers<0.22,>=0.21 in /usr/local/lib/python3.11/dist-packages (from transformers>=3.0.0->parascore) (0.21.1)\n",
            "Requirement already satisfied: safetensors>=0.4.3 in /usr/local/lib/python3.11/dist-packages (from transformers>=3.0.0->parascore) (0.5.3)\n",
            "Requirement already satisfied: contourpy>=1.0.1 in /usr/local/lib/python3.11/dist-packages (from matplotlib->parascore) (1.3.2)\n",
            "Requirement already satisfied: cycler>=0.10 in /usr/local/lib/python3.11/dist-packages (from matplotlib->parascore) (0.12.1)\n",
            "Requirement already satisfied: fonttools>=4.22.0 in /usr/local/lib/python3.11/dist-packages (from matplotlib->parascore) (4.58.1)\n",
            "Requirement already satisfied: kiwisolver>=1.3.1 in /usr/local/lib/python3.11/dist-packages (from matplotlib->parascore) (1.4.8)\n",
            "Requirement already satisfied: pillow>=8 in /usr/local/lib/python3.11/dist-packages (from matplotlib->parascore) (11.2.1)\n",
            "Requirement already satisfied: pyparsing>=2.3.1 in /usr/local/lib/python3.11/dist-packages (from matplotlib->parascore) (3.2.3)\n",
            "Requirement already satisfied: charset-normalizer<4,>=2 in /usr/local/lib/python3.11/dist-packages (from requests->parascore) (3.4.2)\n",
            "Requirement already satisfied: idna<4,>=2.5 in /usr/local/lib/python3.11/dist-packages (from requests->parascore) (3.10)\n",
            "Requirement already satisfied: urllib3<3,>=1.21.1 in /usr/local/lib/python3.11/dist-packages (from requests->parascore) (2.4.0)\n",
            "Requirement already satisfied: certifi>=2017.4.17 in /usr/local/lib/python3.11/dist-packages (from requests->parascore) (2025.4.26)\n",
            "Requirement already satisfied: hf-xet<2.0.0,>=1.1.2 in /usr/local/lib/python3.11/dist-packages (from huggingface-hub<1.0,>=0.30.0->transformers>=3.0.0->parascore) (1.1.2)\n",
            "Requirement already satisfied: six>=1.5 in /usr/local/lib/python3.11/dist-packages (from python-dateutil>=2.8.2->pandas>=1.0.1->parascore) (1.17.0)\n",
            "Requirement already satisfied: MarkupSafe>=2.0 in /usr/local/lib/python3.11/dist-packages (from jinja2->torch>=1.0.0->parascore) (3.0.2)\n"
          ]
        }
      ]
    },
    {
      "cell_type": "code",
      "source": [
        "# If on Google Colab\n",
        "from google.colab import drive\n",
        "drive.mount('/content/drive')"
      ],
      "metadata": {
        "id": "UCbltVqWm9se",
        "outputId": "bada6806-355d-4980-afe4-795427eb488f",
        "colab": {
          "base_uri": "https://localhost:8080/"
        }
      },
      "id": "UCbltVqWm9se",
      "execution_count": 40,
      "outputs": [
        {
          "output_type": "stream",
          "name": "stdout",
          "text": [
            "Drive already mounted at /content/drive; to attempt to forcibly remount, call drive.mount(\"/content/drive\", force_remount=True).\n"
          ]
        }
      ]
    },
    {
      "cell_type": "code",
      "source": [
        "cd /content/drive/MyDrive/GitHub/paraphrase_py/code"
      ],
      "metadata": {
        "id": "IKpYVQUu6F85",
        "outputId": "e46bb42f-722a-49ee-cb23-402a999d0d61",
        "colab": {
          "base_uri": "https://localhost:8080/"
        }
      },
      "id": "IKpYVQUu6F85",
      "execution_count": 54,
      "outputs": [
        {
          "output_type": "stream",
          "name": "stdout",
          "text": [
            "/content/drive/MyDrive/GitHub/paraphrase_py/code\n"
          ]
        }
      ]
    },
    {
      "cell_type": "code",
      "source": [
        "from read_and_write_docs import read_jsonl, write_jsonl\n",
        "from scorer import ParaphraseScorer\n",
        "import os\n",
        "import json\n",
        "import argparse\n",
        "import logging\n",
        "import pandas as pd\n",
        "import sys"
      ],
      "metadata": {
        "id": "-K91excO-NTJ"
      },
      "id": "-K91excO-NTJ",
      "execution_count": 69,
      "outputs": []
    },
    {
      "cell_type": "code",
      "source": [
        "def process_file(input_file, output_file, p_scorer,\n",
        "                 text_column='text', rephrased_column='paraphrased_text',\n",
        "                 parascore_diversity_weight=0.05):\n",
        "    \"\"\"\n",
        "    Processes a single JSONL file and saves the results.\n",
        "\n",
        "    Parameters:\n",
        "        input_file (str): Path to input JSONL.\n",
        "        output_file (str): Path for output JSONL.\n",
        "        p_scorer: Initialised parascore model.\n",
        "        num_layers (int, optional): Number of model layers.\n",
        "        text_column (str): Column name for original text.\n",
        "        rephrased_column (str): Column name for paraphrased text.\n",
        "\t\tparascore_diversity_weight (float): weighting of diversity in parascore_free\n",
        "    \"\"\"\n",
        "    print(f\"Processing file: {input_file}\")\n",
        "    os.makedirs(os.path.dirname(output_file), exist_ok=True)\n",
        "\n",
        "    # Load input data\n",
        "    print(\"Reading input file...\")\n",
        "    df = read_jsonl(input_file)\n",
        "\n",
        "    print(f\"DataFrame loaded: {df.shape}\")  # Debug\n",
        "\n",
        "    if df.empty:\n",
        "        logging.error(\"Input file is empty or could not be read. Skipping processing.\")\n",
        "        return\n",
        "\n",
        "    # Rename columns if necessary\n",
        "    print(\"Renaming columns if needed...\")\n",
        "    rename_mapping = {\n",
        "        \"original_sentence\": \"original\",\n",
        "        text_column: \"original\",\n",
        "        rephrased_column: \"rephrased\"\n",
        "    }\n",
        "    df.rename(columns=rename_mapping, inplace=True)\n",
        "    print(f\"Columns after renaming: {list(df.columns)}\")\n",
        "\n",
        "    # Process file\n",
        "    try:\n",
        "        print(\"Calculating scores...\")\n",
        "        df_with_score = p_scorer.calculate_score(df, parascore_diversity_weight)\n",
        "        print(\"Score calculation completed.\")\n",
        "\n",
        "        print(f\"Writing output to {output_file}...\")\n",
        "        write_jsonl(df_with_score, output_file)\n",
        "        print(f\"Processing complete: {output_file}\")\n",
        "\n",
        "    except Exception as e:\n",
        "        logging.error(f\"Error during processing: {e}\")"
      ],
      "metadata": {
        "id": "6H46FTD-8ZRj"
      },
      "id": "6H46FTD-8ZRj",
      "execution_count": 65,
      "outputs": []
    },
    {
      "cell_type": "code",
      "source": [
        "def list_jsonl_files(directory: str) -> list:\n",
        "    \"\"\"\n",
        "    Return a list of all .jsonl files in the given directory.\n",
        "\n",
        "    Args:\n",
        "        directory (str): Path to the directory to scan.\n",
        "\n",
        "    Returns:\n",
        "        List[str]: Full paths to each .jsonl file found.\n",
        "    \"\"\"\n",
        "    return [\n",
        "        fname\n",
        "        for fname in os.listdir(directory)\n",
        "        if fname.lower().endswith(\".jsonl\")\n",
        "    ]"
      ],
      "metadata": {
        "id": "wZE3t3pU_xzD"
      },
      "id": "wZE3t3pU_xzD",
      "execution_count": 72,
      "outputs": []
    },
    {
      "cell_type": "code",
      "source": [
        "# Parameters\n",
        "CORPUS     = \"Wiki\"\n",
        "DATA_TYPE  = \"training\"\n",
        "MODEL      = \"ModernBERT-large\"\n",
        "MODEL_DIR = f\"/content/drive/MyDrive/models/{MODEL}\"\n",
        "NUM_LAYERS = 28\n",
        "\n",
        "# Paths\n",
        "BASE_DATA = f\"/content/drive/MyDrive/author_verification/{DATA_TYPE}/{CORPUS}/Qwen_2.5_1.5B/gen_t_0.7_tp_0.9\"\n",
        "INPUT_DIR = os.path.join(BASE_DATA, \"full_doc_paraphrase_clean\")\n",
        "OUTPUT_DIR = os.path.join(BASE_DATA, \"parascore\")"
      ],
      "metadata": {
        "id": "O3jB56H8zmIq"
      },
      "id": "O3jB56H8zmIq",
      "execution_count": 78,
      "outputs": []
    },
    {
      "cell_type": "code",
      "source": [
        "parascore_free = ParaphraseScorer(\n",
        "      score_type='parascore_free',\n",
        "      model_type=MODEL_DIR,\n",
        "      num_layers=NUM_LAYERS\n",
        "  )"
      ],
      "metadata": {
        "id": "d5lrhVoe54lq"
      },
      "id": "d5lrhVoe54lq",
      "execution_count": 79,
      "outputs": []
    },
    {
      "cell_type": "code",
      "source": [
        "def process_dir(input_dir, output_dir, p_scorer, text_column='text',\n",
        "                rephrased_column='paraphrased_text',\n",
        "                parascore_diversity_weight=0.05):\n",
        "\n",
        "    file_list = list_jsonl_files(input_dir)\n",
        "    num_files = len(file_list)\n",
        "    print(f\"Found {num_files} files in {input_dir}\")\n",
        "\n",
        "    for idx, fname in enumerate(file_list, start=1):\n",
        "        # idx is 1-based\n",
        "        print(f\"Processing file {fname} ({idx} of {num_files})\")\n",
        "\n",
        "        input_path  = os.path.join(input_dir, fname)\n",
        "        output_path = os.path.join(output_dir, fname)\n",
        "\n",
        "        if not os.path.isfile(input_path):\n",
        "            logging.warning(f\"Input file not found – skipping: {input_path}\")\n",
        "            continue  # skip rather than exit\n",
        "\n",
        "        if os.path.exists(output_path):\n",
        "            logging.info(f\"Output already exists – skipping: {output_path}\")\n",
        "            continue  # skip rather than exit\n",
        "\n",
        "        process_file(\n",
        "            input_file=input_path,\n",
        "            output_file=output_path,\n",
        "            p_scorer=p_scorer,\n",
        "            text_column=text_column,\n",
        "            rephrased_column=rephrased_column,\n",
        "            parascore_diversity_weight=parascore_diversity_weight\n",
        "        )\n",
        "\n",
        "        print(f\"Completed file {fname} ({idx} of {num_files})\")\n"
      ],
      "metadata": {
        "id": "Awuwy2fW_EEK"
      },
      "id": "Awuwy2fW_EEK",
      "execution_count": 80,
      "outputs": []
    },
    {
      "cell_type": "code",
      "source": [
        "process_dir(\n",
        "    input_dir=INPUT_DIR,\n",
        "    output_dir=OUTPUT_DIR,\n",
        "    p_scorer=parascore_free,\n",
        "    text_column='text',\n",
        "    rephrased_column='clean_text',\n",
        "    parascore_diversity_weight=0.05)"
      ],
      "metadata": {
        "id": "uKXq_fMYCHt3",
        "outputId": "7096057d-edb7-425c-e06b-dd967f635e12",
        "colab": {
          "base_uri": "https://localhost:8080/"
        }
      },
      "id": "uKXq_fMYCHt3",
      "execution_count": null,
      "outputs": [
        {
          "output_type": "stream",
          "name": "stdout",
          "text": [
            "Found 225 files in /content/drive/MyDrive/author_verification/training/Wiki/Qwen_2.5_1.5B/gen_t_0.7_tp_0.9/full_doc_paraphrase_clean\n",
            "Processing file enemesis_text_1.jsonl (1 of 225)\n",
            "Processing file: /content/drive/MyDrive/author_verification/training/Wiki/Qwen_2.5_1.5B/gen_t_0.7_tp_0.9/full_doc_paraphrase_clean/enemesis_text_1.jsonl\n",
            "Reading input file...\n",
            "DataFrame loaded: (500, 15)\n",
            "Renaming columns if needed...\n",
            "Columns after renaming: ['doc_id', 'orig_doc_id', 'corpus', 'author', 'texttype', 'original', 'generated_text', 'top_p', 'temperature', 'time_sec', 'tokens_per_sec', 'rephrased', 'text_cleaned', 'clean_stage', 'parsing_errors']\n",
            "Calculating scores...\n"
          ]
        }
      ]
    }
  ],
  "metadata": {
    "kernelspec": {
      "display_name": "paraphrase_llm",
      "language": "python",
      "name": "my_env"
    },
    "language_info": {
      "codemirror_mode": {
        "name": "ipython",
        "version": 3
      },
      "file_extension": ".py",
      "mimetype": "text/x-python",
      "name": "python",
      "nbconvert_exporter": "python",
      "pygments_lexer": "ipython3",
      "version": "3.10.9"
    },
    "colab": {
      "provenance": []
    }
  },
  "nbformat": 4,
  "nbformat_minor": 5
}