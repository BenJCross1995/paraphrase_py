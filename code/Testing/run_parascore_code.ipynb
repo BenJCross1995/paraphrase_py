{
  "cells": [
    {
      "cell_type": "code",
      "source": [
        "!pip install parascore pyreadr"
      ],
      "metadata": {
        "collapsed": true,
        "id": "7vP-GAcE-Yhm"
      },
      "id": "7vP-GAcE-Yhm",
      "execution_count": null,
      "outputs": []
    },
    {
      "cell_type": "code",
      "source": [
        "# If on Google Colab\n",
        "from google.colab import drive\n",
        "drive.mount('/content/drive')"
      ],
      "metadata": {
        "id": "UCbltVqWm9se"
      },
      "id": "UCbltVqWm9se",
      "execution_count": null,
      "outputs": []
    },
    {
      "cell_type": "code",
      "source": [
        "cd /content/drive/MyDrive/GitHub/paraphrase_py/code"
      ],
      "metadata": {
        "id": "IKpYVQUu6F85"
      },
      "id": "IKpYVQUu6F85",
      "execution_count": null,
      "outputs": []
    },
    {
      "cell_type": "code",
      "source": [
        "from read_and_write_docs import read_jsonl, write_jsonl\n",
        "from scorer import ParaphraseScorer\n",
        "import os\n",
        "import json\n",
        "import argparse\n",
        "import logging\n",
        "import pandas as pd\n",
        "import sys\n",
        "import time"
      ],
      "metadata": {
        "id": "-K91excO-NTJ"
      },
      "id": "-K91excO-NTJ",
      "execution_count": null,
      "outputs": []
    },
    {
      "cell_type": "code",
      "source": [
        "def process_file(input_file, output_file, p_scorer,\n",
        "                 text_column='text', rephrased_column='paraphrased_text',\n",
        "                 parascore_diversity_weight=0.05):\n",
        "    \"\"\"\n",
        "    Processes a single JSONL file and saves the results.\n",
        "\n",
        "    Parameters:\n",
        "        input_file (str): Path to input JSONL.\n",
        "        output_file (str): Path for output JSONL.\n",
        "        p_scorer: Initialised parascore model.\n",
        "        num_layers (int, optional): Number of model layers.\n",
        "        text_column (str): Column name for original text.\n",
        "        rephrased_column (str): Column name for paraphrased text.\n",
        "\t\tparascore_diversity_weight (float): weighting of diversity in parascore_free\n",
        "    \"\"\"\n",
        "\n",
        "    os.makedirs(os.path.dirname(output_file), exist_ok=True)\n",
        "\n",
        "    df = read_jsonl(input_file)\n",
        "\n",
        "    if df.empty:\n",
        "        logging.error(\"Input file is empty or could not be read. Skipping processing.\")\n",
        "        return\n",
        "\n",
        "    # Rename columns if necessary\n",
        "    rename_mapping = {\n",
        "        \"original_sentence\": \"original\",\n",
        "        text_column: \"original\",\n",
        "        rephrased_column: \"rephrased\"\n",
        "    }\n",
        "    df.rename(columns=rename_mapping, inplace=True)\n",
        "\n",
        "    # Process file\n",
        "    try:\n",
        "        df_with_score = p_scorer.calculate_score(df, parascore_diversity_weight)\n",
        "        write_jsonl(df_with_score, output_file)\n",
        "    except Exception as e:\n",
        "        logging.error(f\"Error during processing: {e}\")"
      ],
      "metadata": {
        "id": "6H46FTD-8ZRj"
      },
      "id": "6H46FTD-8ZRj",
      "execution_count": null,
      "outputs": []
    },
    {
      "cell_type": "code",
      "source": [
        "def list_jsonl_files(directory: str) -> list:\n",
        "    \"\"\"\n",
        "    Return a list of all .jsonl files in the given directory.\n",
        "\n",
        "    Args:\n",
        "        directory (str): Path to the directory to scan.\n",
        "\n",
        "    Returns:\n",
        "        List[str]: Full paths to each .jsonl file found.\n",
        "    \"\"\"\n",
        "    return [\n",
        "        fname\n",
        "        for fname in os.listdir(directory)\n",
        "        if fname.lower().endswith(\".jsonl\")\n",
        "    ]"
      ],
      "metadata": {
        "id": "wZE3t3pU_xzD"
      },
      "id": "wZE3t3pU_xzD",
      "execution_count": null,
      "outputs": []
    },
    {
      "cell_type": "code",
      "source": [
        "# Parameters\n",
        "CORPUS     = \"Wiki\"\n",
        "DATA_TYPE  = \"training\"\n",
        "MODEL      = \"ModernBERT-large\"\n",
        "MODEL_DIR = f\"/content/drive/MyDrive/models/{MODEL}\"\n",
        "NUM_LAYERS = 28\n",
        "\n",
        "# Paths\n",
        "BASE_DATA = f\"/content/drive/MyDrive/author_verification/{DATA_TYPE}/{CORPUS}/Qwen_2.5_1.5B/gen_t_0.7_tp_0.9\"\n",
        "INPUT_DIR = os.path.join(BASE_DATA, \"full_doc_paraphrase_clean\")\n",
        "OUTPUT_DIR = os.path.join(BASE_DATA, \"parascore\")"
      ],
      "metadata": {
        "id": "O3jB56H8zmIq"
      },
      "id": "O3jB56H8zmIq",
      "execution_count": null,
      "outputs": []
    },
    {
      "cell_type": "code",
      "source": [
        "parascore_free = ParaphraseScorer(\n",
        "      score_type='parascore_free',\n",
        "      model_type=MODEL_DIR,\n",
        "      num_layers=NUM_LAYERS\n",
        "  )"
      ],
      "metadata": {
        "id": "d5lrhVoe54lq"
      },
      "id": "d5lrhVoe54lq",
      "execution_count": null,
      "outputs": []
    },
    {
      "cell_type": "code",
      "source": [
        "def process_dir(input_dir, output_dir, p_scorer, text_column='text',\n",
        "                rephrased_column='paraphrased_text',\n",
        "                parascore_diversity_weight=0.05):\n",
        "\n",
        "    input_files = list_jsonl_files(input_dir)\n",
        "    output_files = list_jsonl_files(output_dir)\n",
        "\n",
        "    # Filter out files already processed, then sort\n",
        "    to_process = sorted(f for f in input_files if f not in output_files)\n",
        "    num_files = len(to_process)\n",
        "    print(f\"Found {num_files} files to process in input directory\")\n",
        "\n",
        "    for idx, fname in enumerate(to_process, start=1):\n",
        "        # idx is 1-based\n",
        "        print(f\"Processing file {fname} ({idx} of {num_files})\")\n",
        "\n",
        "        input_path  = os.path.join(input_dir, fname)\n",
        "        output_path = os.path.join(output_dir, fname)\n",
        "\n",
        "        if not os.path.isfile(input_path):\n",
        "            logging.warning(f\"Input file not found – skipping: {input_path}\")\n",
        "            continue  # skip rather than exit\n",
        "\n",
        "        if os.path.exists(output_path):\n",
        "            logging.info(f\"Output already exists – skipping: {output_path}\")\n",
        "            continue  # skip rather than exit\n",
        "\n",
        "        file_start = time.perf_counter()\n",
        "\n",
        "        process_file(\n",
        "            input_file=input_path,\n",
        "            output_file=output_path,\n",
        "            p_scorer=p_scorer,\n",
        "            text_column=text_column,\n",
        "            rephrased_column=rephrased_column,\n",
        "            parascore_diversity_weight=parascore_diversity_weight\n",
        "        )\n",
        "\n",
        "        file_elapsed = time.perf_counter() - file_start\n",
        "\n",
        "        print(f\"Completed file {fname} ({idx} of {num_files}) in {file_elapsed:.2f} seconds\")"
      ],
      "metadata": {
        "id": "Awuwy2fW_EEK"
      },
      "id": "Awuwy2fW_EEK",
      "execution_count": null,
      "outputs": []
    },
    {
      "cell_type": "code",
      "source": [
        "process_dir(\n",
        "    input_dir=INPUT_DIR,\n",
        "    output_dir=OUTPUT_DIR,\n",
        "    p_scorer=parascore_free,\n",
        "    text_column='text',\n",
        "    rephrased_column='clean_text',\n",
        "    parascore_diversity_weight=0.05)"
      ],
      "metadata": {
        "id": "uKXq_fMYCHt3"
      },
      "id": "uKXq_fMYCHt3",
      "execution_count": null,
      "outputs": []
    }
  ],
  "metadata": {
    "kernelspec": {
      "display_name": "paraphrase_llm",
      "language": "python",
      "name": "my_env"
    },
    "language_info": {
      "codemirror_mode": {
        "name": "ipython",
        "version": 3
      },
      "file_extension": ".py",
      "mimetype": "text/x-python",
      "name": "python",
      "nbconvert_exporter": "python",
      "pygments_lexer": "ipython3",
      "version": "3.10.9"
    },
    "colab": {
      "provenance": []
    }
  },
  "nbformat": 4,
  "nbformat_minor": 5
}