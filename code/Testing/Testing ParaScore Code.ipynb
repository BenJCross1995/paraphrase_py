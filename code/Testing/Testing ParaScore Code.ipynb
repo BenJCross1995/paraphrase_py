{
 "cells": [
  {
   "cell_type": "code",
   "execution_count": 1,
   "id": "bbbef9a8-4a3e-4ea8-a788-6a07babe90d7",
   "metadata": {},
   "outputs": [
    {
     "name": "stderr",
     "output_type": "stream",
     "text": [
      "C:\\Users\\benjc\\miniconda3\\Lib\\site-packages\\tqdm\\auto.py:21: TqdmWarning: IProgress not found. Please update jupyter and ipywidgets. See https://ipywidgets.readthedocs.io/en/stable/user_install.html\n",
      "  from .autonotebook import tqdm as notebook_tqdm\n"
     ]
    }
   ],
   "source": [
    "from parascore import ParaScorer\n",
    "import torch"
   ]
  },
  {
   "cell_type": "code",
   "execution_count": 2,
   "id": "4d378ead-58ee-4cd0-b548-57729bc78c73",
   "metadata": {},
   "outputs": [
    {
     "name": "stderr",
     "output_type": "stream",
     "text": [
      "C:\\Users\\benjc\\miniconda3\\Lib\\site-packages\\huggingface_hub\\file_download.py:143: UserWarning: `huggingface_hub` cache-system uses symlinks by default to efficiently store duplicated files but your machine does not support them in C:\\Users\\benjc\\.cache\\huggingface\\hub\\models--Qwen--Qwen3-Embedding-0.6B. Caching files will still work but in a degraded version that might require more space on your disk. This warning can be disabled by setting the `HF_HUB_DISABLE_SYMLINKS_WARNING` environment variable. For more details, see https://huggingface.co/docs/huggingface_hub/how-to-cache#limitations.\n",
      "To support symlinks on Windows, you either need to activate Developer Mode or to run Python as an administrator. In order to activate developer mode, see this article: https://docs.microsoft.com/en-us/windows/apps/get-started/enable-your-device-for-development\n",
      "  warnings.warn(message)\n"
     ]
    }
   ],
   "source": [
    "paraScorer = ParaScorer(lang=\"en\", model_type=\"Qwen/Qwen3-Embedding-0.6B\", num_layers=28)"
   ]
  },
  {
   "cell_type": "code",
   "execution_count": 3,
   "id": "bf869d33-ee44-4473-bd34-aa1b01a4cad9",
   "metadata": {},
   "outputs": [],
   "source": [
    "from parascore.utils import diverse"
   ]
  },
  {
   "cell_type": "code",
   "execution_count": 4,
   "id": "64b5271e-c6d2-4ef7-bc74-4dff8cb01b88",
   "metadata": {},
   "outputs": [],
   "source": [
    "ref = [\"Lightning stitched silver veins through the bruise-purple sky while midnight rain drummed forgotten secrets against the attic window.\",\n",
    "       \"Lightning stitched silver veins through the bruise-purple sky while midnight rain drummed forgotten secrets against the attic window.\"]\n",
    "cands = [\"Lightning stitched silver veins through the bruise-purple sky while midnight rain drummed forgotten secrets against the attic window.\",\n",
    "        \"Homer Simpson is my father\"]"
   ]
  },
  {
   "cell_type": "code",
   "execution_count": 5,
   "id": "10cbe221-74c0-423d-8665-80dc7f50c695",
   "metadata": {},
   "outputs": [],
   "source": [
    "ref_ = [\"Lightning stitched silver veins through the bruise-purple sky while midnight rain drummed forgotten secrets against the attic window.\"]\n",
    "cands_ = [\"Lightning stitched silver veins through the bruise-purple sky while midnight rain drummed forgotten secrets against the attic window.\"]"
   ]
  },
  {
   "cell_type": "code",
   "execution_count": 6,
   "id": "ee5baf1b-580b-4ee7-ae19-c77051d886be",
   "metadata": {},
   "outputs": [
    {
     "data": {
      "text/plain": [
       "[-1.0, 0.35]"
      ]
     },
     "execution_count": 6,
     "metadata": {},
     "output_type": "execute_result"
    }
   ],
   "source": [
    "diversity = diverse(cands, ref)\n",
    "diversity"
   ]
  },
  {
   "cell_type": "code",
   "execution_count": 7,
   "id": "83a8e1f7-c0f1-4dae-a003-8ca1a24bc761",
   "metadata": {},
   "outputs": [
    {
     "data": {
      "text/plain": [
       "(tensor([1.0000, 0.4531]), tensor([1.0000, 0.3174]), tensor([1.0000, 0.3733]))"
      ]
     },
     "execution_count": 7,
     "metadata": {},
     "output_type": "execute_result"
    }
   ],
   "source": [
    "paraScorer.score(cands, ref, verbose=False, batch_size=64, return_hash=False)"
   ]
  },
  {
   "cell_type": "code",
   "execution_count": 8,
   "id": "06c986ec-7ae3-4f18-8ee8-4b116bca3392",
   "metadata": {},
   "outputs": [],
   "source": [
    "similarity = paraScorer.score(cands, ref, verbose=False, batch_size=64, return_hash=False)"
   ]
  },
  {
   "cell_type": "code",
   "execution_count": 9,
   "id": "3730e4c9-00d8-45ae-ab61-c84708d20c47",
   "metadata": {},
   "outputs": [
    {
     "data": {
      "text/plain": [
       "(tensor([1.0000, 0.4531]), tensor([1.0000, 0.3174]), tensor([1.0000, 0.3733]))"
      ]
     },
     "execution_count": 9,
     "metadata": {},
     "output_type": "execute_result"
    }
   ],
   "source": [
    "similarity"
   ]
  },
  {
   "cell_type": "code",
   "execution_count": 14,
   "id": "a56e2a13-3ee8-46ef-b2a8-de42b7b75792",
   "metadata": {},
   "outputs": [
    {
     "data": {
      "text/plain": [
       "[1.0, 0.3733022212982178]"
      ]
     },
     "execution_count": 14,
     "metadata": {},
     "output_type": "execute_result"
    }
   ],
   "source": [
    "similarity[2].tolist()"
   ]
  },
  {
   "cell_type": "code",
   "execution_count": 22,
   "id": "70de3f57-db63-4be6-b136-be44157be583",
   "metadata": {},
   "outputs": [
    {
     "data": {
      "text/plain": [
       "[tensor([0.9500, 0.4031]), tensor([1.0175, 0.3349])]"
      ]
     },
     "execution_count": 22,
     "metadata": {},
     "output_type": "execute_result"
    }
   ],
   "source": [
    "paraScorer.free_score(cands, ref, verbose=False, batch_size=64, return_hash=False)"
   ]
  },
  {
   "cell_type": "code",
   "execution_count": 23,
   "id": "2a580bf1-61eb-453e-87c3-1ee37a68c211",
   "metadata": {},
   "outputs": [
    {
     "ename": "ValueError",
     "evalue": "not enough values to unpack (expected 3, got 2)",
     "output_type": "error",
     "traceback": [
      "\u001b[31m---------------------------------------------------------------------------\u001b[39m",
      "\u001b[31mValueError\u001b[39m                                Traceback (most recent call last)",
      "\u001b[36mCell\u001b[39m\u001b[36m \u001b[39m\u001b[32mIn[23]\u001b[39m\u001b[32m, line 1\u001b[39m\n\u001b[32m----> \u001b[39m\u001b[32m1\u001b[39m P, R, F1 = paraScorer.free_score(cands, ref, verbose=\u001b[38;5;28;01mFalse\u001b[39;00m, batch_size=\u001b[32m64\u001b[39m, return_hash=\u001b[38;5;28;01mFalse\u001b[39;00m)\n\u001b[32m      2\u001b[39m F1\n",
      "\u001b[31mValueError\u001b[39m: not enough values to unpack (expected 3, got 2)"
     ]
    }
   ],
   "source": [
    "P, R, F1 = paraScorer.free_score(cands, ref, verbose=False, batch_size=64, return_hash=False)\n",
    "F1"
   ]
  },
  {
   "cell_type": "code",
   "execution_count": 24,
   "id": "8cfe9252-d4df-43db-9143-14dc58f1e518",
   "metadata": {},
   "outputs": [
    {
     "ename": "ValueError",
     "evalue": "not enough values to unpack (expected 3, got 2)",
     "output_type": "error",
     "traceback": [
      "\u001b[31m---------------------------------------------------------------------------\u001b[39m",
      "\u001b[31mValueError\u001b[39m                                Traceback (most recent call last)",
      "\u001b[36mCell\u001b[39m\u001b[36m \u001b[39m\u001b[32mIn[24]\u001b[39m\u001b[32m, line 1\u001b[39m\n\u001b[32m----> \u001b[39m\u001b[32m1\u001b[39m P, R, F1 = [x + \u001b[32m0.05\u001b[39m*y \u001b[38;5;28;01mfor\u001b[39;00m (x,y) \u001b[38;5;129;01min\u001b[39;00m \u001b[38;5;28mzip\u001b[39m(similarity, diversity)]\n\u001b[32m      2\u001b[39m P, R, F1\n",
      "\u001b[31mValueError\u001b[39m: not enough values to unpack (expected 3, got 2)"
     ]
    }
   ],
   "source": [
    "P, R, F1 = [x + 0.05*y for (x,y) in zip(similarity, diversity)]\n",
    "P, R, F1"
   ]
  },
  {
   "cell_type": "code",
   "execution_count": 25,
   "id": "81d01b56-8f21-4f38-943a-9171a871a496",
   "metadata": {},
   "outputs": [
    {
     "data": {
      "text/plain": [
       "tensor([0.9500])"
      ]
     },
     "execution_count": 25,
     "metadata": {},
     "output_type": "execute_result"
    }
   ],
   "source": [
    "F1"
   ]
  },
  {
   "cell_type": "code",
   "execution_count": 11,
   "id": "d90350c6-ea23-4a32-8eb4-67edcde1d57a",
   "metadata": {},
   "outputs": [
    {
     "name": "stdout",
     "output_type": "stream",
     "text": [
      "tensor([-1.0000,  0.3500])\n"
     ]
    },
    {
     "data": {
      "text/plain": [
       "(tensor([0.9500, 0.4706]), tensor([0.9500, 0.3349]), tensor([0.9500, 0.3908]))"
      ]
     },
     "execution_count": 11,
     "metadata": {},
     "output_type": "execute_result"
    }
   ],
   "source": [
    "alpha = 0.05                                 # keep the paper’s default\n",
    "div  = torch.tensor(diversity, device=similarity[0].device)\n",
    "print(div)\n",
    "P, R, F1 = [sim + alpha * div for sim in similarity]\n",
    "P, R, F1"
   ]
  },
  {
   "cell_type": "code",
   "execution_count": 27,
   "id": "a9814733-62f3-4148-93d4-e8d24d6282e4",
   "metadata": {},
   "outputs": [
    {
     "data": {
      "text/plain": [
       "tensor([0.9500, 0.3908])"
      ]
     },
     "execution_count": 27,
     "metadata": {},
     "output_type": "execute_result"
    }
   ],
   "source": [
    "F1"
   ]
  },
  {
   "cell_type": "code",
   "execution_count": null,
   "id": "ff51c67b-bb9f-40b7-85c4-fe8863df8fc8",
   "metadata": {},
   "outputs": [],
   "source": []
  }
 ],
 "metadata": {
  "kernelspec": {
   "display_name": "paraphrase_llm",
   "language": "python",
   "name": "my_env"
  },
  "language_info": {
   "codemirror_mode": {
    "name": "ipython",
    "version": 3
   },
   "file_extension": ".py",
   "mimetype": "text/x-python",
   "name": "python",
   "nbconvert_exporter": "python",
   "pygments_lexer": "ipython3",
   "version": "3.10.9"
  }
 },
 "nbformat": 4,
 "nbformat_minor": 5
}
