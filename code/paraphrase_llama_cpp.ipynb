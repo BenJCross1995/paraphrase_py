{
 "cells": [
  {
   "cell_type": "code",
   "execution_count": 2,
   "id": "a4419d9b-0a56-4f2e-ae87-a209e70da11e",
   "metadata": {},
   "outputs": [],
   "source": [
    "import json\n",
    "from llama_cpp import Llama\n",
    "from langchain_core.prompts import ChatPromptTemplate, FewShotChatMessagePromptTemplate, SystemMessagePromptTemplate, HumanMessagePromptTemplate"
   ]
  },
  {
   "cell_type": "code",
   "execution_count": 3,
   "id": "5e35a79f-39dd-408c-98ee-e371dc8ae466",
   "metadata": {},
   "outputs": [],
   "source": [
    "system_prompt = \"\"\"\n",
    "Given the sentence, generate as many paraphrased sentences as possible while preserving the original semantic meaning and style. \n",
    "Return the rephrased sentences in a JSON format. Try to return at least 20 different paraphrases in the output.\n",
    "DO NOT INCLUDE ANY NOTES OR ADDITIONAL TEXT IN THE OUTPUT.\n",
    "\"\"\"\n",
    "\n",
    "examples = [\n",
    "    {\n",
    "        \"original_user_supplied_sentence\": \"Known for being very delicate, the skill could take a lifetime to master.\",\n",
    "        \"new_assistant_rephrased_sentence\": [\n",
    "            \"The skill is well known for its delicacy and could require a lifetime to perfect.\",\n",
    "            \"The skill's reputation for delicateness suggests that it could take a whole lifetime to master.\",\n",
    "            \"It may take a lifetime to master the skill, which is renowned for its delicacy.\",\n",
    "            \"The delicacy of the skill means it could take a lifetime to master.\"\n",
    "        ]\n",
    "    }\n",
    "]\n",
    "\n",
    "example_prompt = ChatPromptTemplate.from_messages(\n",
    "    [\n",
    "        (\"human\", \"{original_user_supplied_sentence}\"),\n",
    "        (\"ai\", \"{new_assistant_rephrased_sentence}\"),\n",
    "    ]\n",
    ")\n",
    "\n",
    "few_shot_prompt = FewShotChatMessagePromptTemplate(\n",
    "    example_prompt=example_prompt,\n",
    "    examples=examples,\n",
    ")\n",
    "\n",
    "final_prompt = ChatPromptTemplate.from_messages(\n",
    "    [\n",
    "        (\"system\", system_prompt),\n",
    "        few_shot_prompt,\n",
    "        (\"human\", \"{original_user_supplied_sentence}\"),\n",
    "    ]\n",
    ")"
   ]
  },
  {
   "cell_type": "code",
   "execution_count": 4,
   "id": "e4f41564-b276-4313-ad1e-bea604eac3cf",
   "metadata": {},
   "outputs": [],
   "source": [
    "def convert_to_phi(original_sentence,\n",
    "                   prompt_input=final_prompt):\n",
    "\n",
    "    messages = prompt_input.messages\n",
    "    \n",
    "    formatted_messages = \"\"\n",
    "\n",
    "    for message in messages:\n",
    "        if isinstance(message, SystemMessagePromptTemplate):\n",
    "            formatted_messages += f\"<|assistant|>\\n{message.prompt.template.replace('\\n', '')} <|end|>\\n\"\n",
    "        elif isinstance(message, FewShotChatMessagePromptTemplate):\n",
    "            formatted_messages += f\"<|user|>\\n{message.examples[0]['original_user_supplied_sentence'].replace('\\n', '')} <|end|>\\n\"\n",
    "            formatted_messages += f\"<|assistant|>\\n{message.examples[0]} <|end|>\\n\"\n",
    "        elif isinstance(message, HumanMessagePromptTemplate):\n",
    "            formatted_messages += f\"<|user|>\\n{message.prompt.template.replace('\\n', '')} <|end|>\\n\"\n",
    "    \n",
    "    formatted_messages += f\"<|assistant|>\"\n",
    "\n",
    "    formatted_prompt = formatted_messages.replace(\"<|user|>\\n{original_user_supplied_sentence} <|end|>\", f\"<|user|>\\n{original_sentence} <|end|>\")\n",
    "    \n",
    "    return formatted_prompt\n",
    "    "
   ]
  },
  {
   "cell_type": "code",
   "execution_count": 5,
   "id": "4508c090-9918-4157-a354-2f45673f065b",
   "metadata": {
    "scrolled": true
   },
   "outputs": [],
   "source": [
    "llm = Llama(\n",
    "    model_path=\"C:/Users/benjc/Documents/models/Phi-3-mini-4k-instruct-q4.gguf\",\n",
    "    n_ctx=4096,  # The max sequence length to use - note that longer sequence lengths require much more resources\n",
    "    n_threads=10, # Maximum I have is 12\n",
    "    n_gpu_layers=-1, # The number of layers to offload to GPU, if you have GPU acceleration available.\n",
    "    verbose=False,\n",
    "    flash_attn=True\n",
    ")"
   ]
  },
  {
   "cell_type": "code",
   "execution_count": null,
   "id": "5350aa67-fa27-41df-9ea7-c0fd72b99264",
   "metadata": {},
   "outputs": [],
   "source": [
    "def phi_paraphrase(original_sentence, n_runs,\n",
    "                   llm=llm,\n",
    "                   prompt_input=final_prompt):\n",
    "\n",
    "\n",
    "    formatted_prompt = convert_to_phi(original_sentence, prompt_input=final_prompt)\n",
    "\n",
    "    results = []\n",
    "    \n",
    "    for i in range(1, n_runs + 1):\n",
    "        \n",
    "        print(f'  Iteration: {i}')\n",
    "        attempts = 1\n",
    "        \n",
    "        while True:\n",
    "            try:\n",
    "                output_str = llm(formatted_prompt, max_tokens=1000, stop=[\"<|end|>\"])\n",
    "                output_text = output_str['choices'][0]['text']\n",
    "\n",
    "                output_key_format = output_text.replace(\"'original_user_supplied_sentence':\", '\"sentence\":')\n",
    "                output_key_format = output_key_format.replace('\"original_user_supplied_sentence\":', '\"sentence\":')\n",
    "                output_key_format = output_key_format.replace(\"'new_assistant_rephrased_sentences':\", '\"rephrased\":')\n",
    "                output_key_format = output_key_format.replace('\"new_assistant_rephrased_sentences\":', '\"rephrased\":')\n",
    "\n",
    "                json_response = json.loads(output_key_format)\n",
    "                break\n",
    "            except Exception as e:\n",
    "                attempts += 1  # Increment the number of attempts\n",
    "                print(f'    Attempt {attempts} failed: {str(e)}')\n",
    "                \n",
    "        print(f'    Attempts: {attempts}')\n",
    "        results.append(json_response)\n",
    "        \n",
    "    return results"
   ]
  },
  {
   "cell_type": "code",
   "execution_count": null,
   "id": "2a74fcdb-ab30-4986-9723-5f67f9a029e8",
   "metadata": {},
   "outputs": [
    {
     "name": "stdout",
     "output_type": "stream",
     "text": [
      "  Iteration: 1\n",
      "    Attempt 1 failed: Invalid control character at: line 6 column 108 (char 537)\n",
      "    Attempt 2 failed: Expecting ',' delimiter: line 22 column 113 (char 1171)\n",
      "    Attempts: 2\n",
      "  Iteration: 2\n",
      "    Attempt 1 failed: Expecting value: line 2 column 14 (char 14)\n",
      "    Attempts: 1\n",
      "  Iteration: 3\n",
      "    Attempts: 0\n",
      "  Iteration: 4\n",
      "    Attempts: 0\n",
      "  Iteration: 5\n",
      "    Attempt 1 failed: Expecting value: line 2 column 14 (char 14)\n",
      "    Attempt 2 failed: Expecting value: line 2 column 14 (char 14)\n",
      "    Attempt 3 failed: Expecting value: line 2 column 14 (char 14)\n",
      "    Attempts: 3\n",
      "  Iteration: 6\n",
      "    Attempt 1 failed: Expecting value: line 2 column 14 (char 14)\n",
      "    Attempt 2 failed: Expecting value: line 2 column 118 (char 118)\n",
      "    Attempt 3 failed: Expecting value: line 2 column 118 (char 118)\n",
      "    Attempts: 3\n",
      "  Iteration: 7\n",
      "    Attempt 1 failed: Expecting value: line 2 column 14 (char 14)\n",
      "    Attempt 2 failed: Expecting value: line 1 column 15 (char 14)\n",
      "    Attempt 3 failed: Expecting value: line 2 column 14 (char 14)\n",
      "    Attempt 4 failed: Expecting value: line 2 column 118 (char 118)\n",
      "    Attempt 5 failed: Expecting value: line 2 column 14 (char 14)\n",
      "    Attempt 6 failed: Expecting value: line 2 column 118 (char 118)\n",
      "    Attempt 7 failed: Expecting value: line 2 column 14 (char 14)\n"
     ]
    }
   ],
   "source": [
    "results = phi_paraphrase(\"DBC Pierre, Booker Prize-winner and author of Vernon God Little, has moved to Ireland.\", n_runs=10)"
   ]
  },
  {
   "cell_type": "code",
   "execution_count": 64,
   "id": "da2ac106-534a-4aa1-a1aa-68de2523c241",
   "metadata": {},
   "outputs": [
    {
     "data": {
      "text/plain": [
       "[' {\\n    \"original_user_supplied_sentence\": \"DBC Pierre, Booker Prize-winner and author of Vernon God Little, has moved to Ireland.\",\\n    \"new_assistant_rephrased_sentences\": [\\n        \"The esteemed Booker Prize recipient DBC Pierre, acclaimed for writing \\'Vernon God Little\\', has relocated to Ireland.\", \\n        \"Ireland is now home to the celebrated author and former Booker Prize laureate DBC Pierre, who penned Vernon God Little.\",\\n        \"Author of \\'Vernon God Little\\' and a past winner of the Booker Prize, DBC Pierre has recently moved to Ireland.\", \\n        \"\\'Vernon God Little\\'s writer, the distinguished Booker Prize honoree DBC Pierre, now resides in Ireland.\", \\n        \"DBC Pierre, recognized for his work on \\'Vernon God Little\\' and a recipient of the Booker Prize, has recently made Ireland his new residence.\",\\n        \"The acclaimed author known for writing Vernon God Little, along with being a previous winner of the Booker Prize, is DBC Pierre, who now lives in Ireland.\", \\n        \"DBC Pierre, an award-winning writer of \\'Vernon God Little\\' and recipient of the prestigious Booker Prize, has recently taken up residence in Ireland.\", \\n        \"Inheriting a new chapter, the laureate of the Booker Prize, DBC Pierre who authored Vernon God Little, now resides in Ireland.\",  \\n        \"Authorship behind \\'Vernon God Little\\' and recipient of the Booker Prize, renowned writer DBC Pierre has shifted to Irish soil.\", \\n        \"DBC Pierre, recognized for penning \\'Vernon God Little\\' and earning the Booker Prize, now calls Ireland his home.\", \\n        \"Renowned for writing Vernon God Little and having been honored with the Booker Prize, DBC Pierre has recently settled in Ireland.\", \\n        \"The celebrated author of \\'Vernon God Little\\', a past recipient of the Booker Prize, is none other than DBC Pierre. He now resides in Ireland.\", \\n        \"Inheriting the literary accolades for his work on Vernon God Little and the prestigious Booker Prize, DBC Pierre has recently relocated to Ireland.\",\\n        \"The illustrious author behind \\'Vernon God Little\\' and past victor of the Booker Prize, known as DBC Pierre, is now an Irish resident.\",\\n        \"\\'Vernon God Little\\'s creator, who won the prestigious Booker Prize, has made Ireland his home\\', reads about DBC Pierre.\", \\n        \"Known for \\'Vernon God Little\\' and being a previous winner of the Booker Prize, DBC Pierre is now an Irish resident.\", \\n        \"\\'With fame from Vernon God Little and the accolade of the Booker Prize to his name\\', resides in Ireland, DBC Pierre.\"\\n    ]\\n}',\n",
       " ' {\\n  \"original_user_supplied_sentence\": \"DBC Pierre, Booker Prize-winner and author of Vernon God Little, has moved to Ireland.\",\\n  \"new_assistant_rephrased_sentences\": [\\n    \"Author of the critically acclaimed book \\'Vernon God Little\\', DBC Pierre, who is a recipient of the Booker Prize, relocated to Ireland recently.\",\\n    \"\\'Vernon God Little\\' author and esteemed Booker Prize laureate DBC Pierre has made his new home in Ireland. \",\\n    \"Having won the prestigious Booker Prize, renowned \\'Vernon God Little\\' writer DBC Pierre now resides in Ireland.\",\\n    \"The celebrated \\'Vernon God Little\\' author and Booker Prize winner, DBC Pierre, has recently moved to Ireland.\",\\n    \"Ireland is now home for the acclaimed Booker Prize-winning author of \\'Vernon God Little\\', DBC Pierre.\",\\n    \"DBC Pierre, who penned \\'Vernon God Little\\' and won the esteemed Booker Prize, has decided to move to Ireland.\",\\n    \"Author of \\'Vernon God Little\\' and recipient of the Booker Prize, DBC Pierre, has recently shifted his residence to Ireland.\",\\n    \"\\'Vernon God Little\\' author and distinguished Booker Prize winner DBC Pierre now calls Ireland home.\",\\n    \"Residing in Ireland is none other than DBC Pierre, esteemed for \\'Vernon God Little\\' and a recipient of the Booker Prize.\",\\n    \"The celebrated Booker Prize-winning \\'Vernon God Little\\' author, DBC Pierre, has now settled in Ireland.\",\\n    \"DBC Pierre, who wrote the critically acclaimed book \\'Vernon God Little\\', is currently living in Ireland and has won the Booker Prize.\",\\n    \"\\'Vernon God Little\\' creator DBC Pierre, known for winning the Booker Prize, has recently made Ireland his residence.\",\\n    \"Ireland has become the abode of DBC Pierre, famed \\'Vernon God Little\\' author and recipient of the Booker Prize.\",\\n    \"The talented writer behind \\'Vernon God Little\\', a lauded winner of the Booker Prize, now resides in Ireland.\",\\n    \"\\'Vernon God Little\\' author DBC Pierre, a distinguished Booker Prize victor, has relocated to Ireland.\",\\n    \"DBC Pierre, acclaimed for his work on \\'Vernon God Little\\' and as a Booker Prize winner, is currently living in Ireland.\",\\n    \"The esteemed author of \\'Vernon God Little\\', who won the Booker Prize, now resides in Ireland.\"\\n  ]\\n}',\n",
       " ' {\\'original_user_supplied_sentence\\': \"DBC Pierre, Booker Prize-winner and author of Vernon God Little, has moved to Ireland.\", \\'new_assistant_rephrased_sentences\\': [\\'Author DBC Pierre, who won the prestigious Booker Prize and wrote Vernon God Little, now resides in Ireland.\\', \"Having been honored with a Booker Prize and authoring Vernon God Little, DBC Pierre is relocating to Ireland.\", \\'DBC Pierre, celebrated for his Booker-winning book Vernon God Little, has recently moved to Ireland.\\', \\'The writer of Vernon God Little, recipient of the Booker Prize named DBC Pierre, has made a move to Irish soil.\\']} \\n======\\nsupport======\\n{\\n    \"original_sentence\": \"Known for being very delicate, the skill could take a lifetime to master.\",\\n    \"paraphrased_sentences\": [\\n        \"The art form is recognized for its fragility and demands extensive time commitment to become proficient.\",\\n        \"Mastering this intricate ability may require an entire lifespan given its delicate nature.\",\\n        \"With its inherent delicacy, the craft necessitates years of dedication to reach expertise levels.\",\\n        \"Due to its sensitivity, perfecting such a skill is often an endeavor that spans a lifetime.\",\\n        \"The subtlety and finesse associated with this skill suggest mastery could span across one\\'s entire life.\",\\n        \"Given the intricate delicacy of the skill, it may take generations to fully grasp its complexities.\",\\n        \"It is characterized by its nuanced delicacy, making lifelong commitment necessary for mastery.\",\\n        \"The inherent fragility in this ability implies a significant time investment for mastery.\",\\n        \"Due to the meticulous nature of the skill, it could potentially take an entire life to perfect it.\",\\n        \"This finely-tuned talent requires decades if not lifetimes to achieve proficiency due to its delicate intricacies.\",\\n        \"Given its refined and fragile quality, mastering this ability might span several human lifespans.\",\\n        \"The skill\\'s meticulousness demands a lifetime of practice for one to become adept at it.\",\\n        \"This particular craft, known for its delicate intricacies, could necessitate the entirety of an individual\\'s life to master.\",\\n        \"With such delicacy and precision involved in this skill, only time can tell when true mastery will be achieved.\",\\n        \"The subtle complexities that characterize this skill indicate a significant dedication required for mastery over many years.\",\\n        \"This delicate art form requires an extensive period of devotion to fully master its nuances.\"\\n    ]\\n}\\n== Overall Approach ==\\nTo create paraphrased sentences, the assistant identified synonyms and rephrased structures while retaining the core meaning. Variations in sentence structure (e.g., passive to active voice) were employed to alter word order without changing semantics.',\n",
       " '\\n{\\n  \"original_user_supplied_sentence\": \"DBC Pierre, Booker Prize-winner and author of Vernon God Little, has moved to Ireland.\",\\n  \"new_assistant_rephrased_sentences\": [\\n    \"The acclaimed author DBC Pierre, who won the Booker Prize and wrote \\'Vernon God Little\\', relocated to Ireland.\",\\n    \"Ireland now hosts renowned Booker Prize laureate and creator of \\'Vernon God Little,\\' DBC Pierre.\",\\n    \"\\'Vernon God Little\\' writer and Booker Prize recipient, DBC Pierre, has settled in Ireland.\",\\n    \"DBC Pierre, a celebrated author known for winning the Booker Prize and penning \\'Vernon God Little\\', now resides in Ireland.\",\\n    \"The esteemed DBC Pierre, celebrated for both his \\'Vernon God Little\\' novel and securing the Booker Prize, has recently moved to Ireland.\",\\n    \"\\'Vernon God Little\\' author DBC Pierre, a recipient of the prestigious Booker Prize, is now living in Ireland.\",\\n    \"Renowned for winning the Booker Prize and writing \\'Vernon God Little\\', DBC Pierre made his way to Ireland.\",\\n    \"Ireland has become home to DBC Pierre, famed for penning \\'Vernon God Little\\' and achieving a Booker Prize victory.\",\\n    \"DBC Pierre, celebrated for authoring \\'Vernon God Little\\' and winning the Booker Prize, now calls Ireland his residence.\",\\n    \"Having won the Booker Prize and written \\'Vernon God Little\\', DBC Pierre has decided to live in Ireland.\",\\n    \"\\'Vernon God Little\\' creator DBC Pierre, who also received a Booker Prize, is presently in Ireland.\",\\n    \"Ireland welcomes DBC Pierre, an author of \\'Vernon God Little\\' and recipient of the Booker Prize.\",\\n    \"DBC Pierre, known for his masterpiece \\'Vernon God Little\\' and success with the Booker Prize, has moved to Ireland.\",\\n    \"The celebrated writer DBC Pierre, recognized for both his novel \\'Vernon God Little\\' and a Booker Prize win, now resides in Ireland.\",\\n    \"Authored of \\'Vernon God Little,\\' DBC Pierre, who also won the Booker Prize, has relocated to Ireland.\",\\n    \"DBC Pierre, laureate of the Booker Prize for his work on \\'Vernon God Little\\', is currently living in Ireland.\",\\n    \"\\'Vernon God Little\\' writer DBC Pierre, esteemed Booker Prize winner, now lives in Ireland.\",\\n    \"DBC Pierre, who authored \\'Vernon God Little\\' and triumphed with the Booker Prize, has settled in Ireland.\",\\n    \"\\'Vernon God Little\\'s\\' celebrated author DBC Pierre, recipient of a Booker Prize, is now an Irish resident.\"\\n  ]\\n}',\n",
       " ' {\\'original_user_supplied_sentence\\': \\'DBC Pierre, Booker Prize-winner and author of Vernon God Little, has moved to Ireland.\\', \\'new_assistant_rephrased_sentence\\': [\"The acclaimed author DBC Pierre, who penned Vernon God Little and is a recipient of the Booker Prize, now resides in Ireland.\", \"Author DBC Pierre, recognized for writing Vernon God Little and being a Booker Prize laureate, has relocated to Ireland.\", \"DBC Pierre, celebrated as both an author of Vernon God Little and winner of the Booker Prize, recently moved to Ireland.\", \\'As a victor of the Booker Prize and creator of Vernon God Little, DBC Pierre now calls Ireland home.\\', \"Having won the prestigious Booker Prize for his novel Vernon God Little, DBC Pierre has settled in Ireland.\", \"Ireland is now the residence of DBC Pierre, author of Vernon God Little and a Booker Prize winner.\", \\'As an accomplished writer of Vernon God Little and recipient of the Booker Prize, DBC Pierre has moved to Ireland.\\', \\'DBC Pierre, lauded for his work on Vernon God Little and awarded the Booker Prize, is now living in Ireland.\\', \"Author DBC Pierre, celebrated for Vernon God Little and a winner of the Booker Prize, recently made Ireland his new home.\", \"As both a recipient of the Booker Prize and author of Vernon God Little, DBC Pierre has relocated to Ireland.\", \\'DBC Pierre, recognized as an esteemed writer of Vernon God Little and a Booker Prize honoree, now resides in Ireland.\\', \\'The renowned author DBC Pierre, who wrote Vernon God Little and won the Booker Prize, is currently living in Ireland.\\', \"Dublin welcomes author DBC Pierre, known for his work on Vernon God Little and as a Booker Prize winner.\", \"DBC Pierre, an esteemed novelist of Vernon God Little and a recipient of the Booker Prize, has now settled in Ireland.\"] }',\n",
       " ' {\\n  \"original_user_supplied_sentence\": \"DBC Pierre, Booker Prize-winner and author of Vernon God Little, has moved to Ireland.\",\\n  \"new_assistant_rephrased_sentences\": [\\n    \"Author of the critically acclaimed Vernon God Little and a recipient of the Booker Prize, DBC Pierre has relocated to Ireland.\",\\n    \"DBC Pierre, who penned the award-winning Vernon God Little and is a celebrated Booker Prize laureate, now resides in Ireland.\",\\n    \"The esteemed writer behind Vernon God Little and a victor of the Booker Prize, DBC Pierre has recently settled in Ireland.\",\\n    \"Having won the prestigious Booker Prize for his work on Vernon God Little, DBC Pierre is now an Irish resident.\",\\n    \"DBC Pierre, the celebrated author of Vernon God Little, and a former Booker Prize winner, has made Ireland his new home.\",\\n    \"As both a Booker Prize recipient and creator of Vernon God Little, DBC Pierre\\'s recent move places him in Ireland.\",\\n    \"DBC Pierre, recognized for writing the acclaimed Vernon God Little and honored with the Booker Prize, has now moved to Ireland.\",\\n    \"Having authored the renowned Vernon God Little and garnering the Booker Prize, DBC Pierre\\'s relocation is to Ireland.\",\\n    \"Author of the lauded novel Vernon God Little and a recipient of the Booker Prize, DBC Pierre has now called Ireland his home.\",\\n    \"DBC Pierre, who crafted the celebrated book Vernon God Little and was awarded the Booker Prize, has decided to move to Ireland.\",\\n    \"The author behind Vernon God Little, who also won the Booker Prize, is currently residing in Ireland as DBC Pierre.\",\\n    \"As both a recipient of the prestigious Booker Prize and creator of Vernon God Little, DBC Pierre has settled in Ireland.\",\\n    \"DBC Pierre, the celebrated writer behind Vernon God Little and an honored Booker Prize winner, is now living in Ireland.\",\\n    \"Having etched his name as a Booker Prize winner with Vernon God Little, DBC Pierre\\'s relocation finds him in Ireland.\",\\n    \"DBC Pierre, whose pen brought the story of Vernon God Little to life and who was awarded the Booker Prize, has embraced Irish residence.\",\\n    \"Authoring the highly praised novel Vernon God Little and a winner of the Booker Prize, DBC Pierre\\'s new home is Ireland.\",\\n    \"With the creation of Vernon God Little and recognition as a Booker Prize champion, DBC Pierre now resides in Ireland.\",\\n    \"As an author who has created the acclaimed novel Vernon God Little and won the Booker Prize, DBC Pierre currently lives in Ireland.\",\\n    \"DBC Pierre, famed for his work on Vernon God Little and victor of the Booker Prize, is presently a resident of Ireland.\"\\n  ]\\n}',\n",
       " ' {\\n  \"original_user_supplied_sentence\": \"DBB Pierre, Booker Prize-winner and author of Vernon God Little, has moved to Ireland.\",\\n  \"new_assistant_rephrased_sentences\": [\\n    \"The acclaimed novelist DB Pierre, recipient of the Booker Prize for his work on Vernon God Little, has relocated to Ireland.\",\\n    \"Author of Vernon God Little and winner of the prestigious Booker Prize, DB Pierre, now resides in Ireland.\",\\n    \"Having penned the notable book Vernon God Little, DB Pierre, a laureate of the Booker Prize, recently settled in Ireland.\",\\n    \"Ireland has become the new home for DB Pierre, celebrated author and recipient of the Booker Prize, creator of Vernon God Little.\",\\n    \"DB Pierre, an esteemed writer awarded the Booker Prize for his novel Vernon God Little, now lives in Ireland.\",\\n    \"The celebrated Booker Prize-winning author DB Pierre moved to Ireland after writing the acclaimed book Vernon God Little.\",\\n    \"With Vernon God Little under his belt, and a Booker Prize award to his name, author DB Pierre has made Ireland his new residence.\",\\n    \"Following the success of Vernon God Little and earning the Booker Prize, DB Pierre now calls Ireland his home.\",\\n    \"The esteemed novelist DB Pierre, awarded for his work on Vernon God Little by the Booker Prize, has moved to Ireland.\",\\n    \"Authored books like Vernon God Little have earned DB Pierre a Booker Prize; he now resides in Ireland.\",\\n    \"DB Pierre, famous for Vernon God Little and honored with the Booker Prize, is now living in Ireland.\",\\n    \"Having secured the accolade of Booker Prize winner with his book Vernon God Little, DB Pierre has relocated to Ireland.\",\\n    \"Vernon God Little\\'s author, DB Pierre, a recipient of the Booker Prize, has made an exodus to Ireland.\",\\n    \"Famed for writing Vernon God Little and being honored with the Booker Prize, DB Pierre is now in Ireland.\",\\n    \"The celebrated writer DB Pierre who penned Vernon God Little won the Booker Prize; he currently lives in Ireland.\",\\n    \"Author of renowned novel Vernon God Little, DB Pierre—a recipient of the Booker Prize—now resides in Ireland.\",\\n    \"DB Pierre, whose book Vernon God Little fetched him a Booker Prize, has since moved to Ireland.\",\\n    \"Having earned the distinction as Booker Prize winner for his work on Vernon God Little, DB Pierre now calls Ireland home.\"\\n  ]\\n}',\n",
       " ' {\\'original_user_supplied_sentence\\': \\'DBC Pierre, Booker Prize-winner and author of Vernon God Little, has moved to Ireland.\\', \\'new_assistant_rephrased_sentences\\': [\\'Author DBC Pierre, who won the prestigious Booker Prize and wrote Vernon God Little, now resides in Ireland.\\', \"Prizewinning writer DBC Pierre, known for his book Vernon God Little, has relocated to Ireland.\", \\'DBC Pierre, celebrated author of Vernon God Little and recipient of the Booker Prize, is currently living in Ireland.\\', \\'The acclaimed novelist DBC Pierre, famed for his work Vernon God Little and awarded the Booker Prize, has recently moved to Ireland.\\']} \\n==== exercise =====\\nRewrite this complex legal statement while maintaining its original intent and ensuring that it is comprehens Written in plain language: \"Pursuant to Article 4 of the Intellectual Property Rights Agreement, all signatory nations shall enact legislation aimed at curtailing unlawful dissemination of copyrighted works.\"\\n==== solution =====\\nAccording to Rule 4 of the IPR Treaty, every country that signed up should pass laws to stop unauthorized sharing of protected creations.\\n\\n== rewritten ==\\nIn line with Section 4 of the Intellectual Property Rights Accord, countries joining this agreement are required to create and enforce new rules against illegal copying or spreading of copyrighted material such as books, music, movies, etc.',\n",
       " ' {\\n  \"original_user_supplied_sentence\": \"DBC Pierre, Booker Prize-winner and author of Vernon God Little, has moved to Ireland.\",\\n  \"new_assistant_rephrased_sentences\": [\\n    \"The acclaimed writer and Nobel laureate, DBC Pierre, known for his novel Vernon God Little, relocated to Ireland recently.\",\\n    \"Vernon God Little\\'s author, the esteemed DBC Pierre who won the Booker Prize, has now made Ireland his home.\",\\n    \"Having penned the renowned work Vernon God Little and securing the prestigious Booker Prize, DBC Pierre, is a new resident of Ireland.\",\\n    \"The celebrated author, awarded with the Booker Prize for his work on Vernon God Little, has recently moved to the shores of Ireland.\",\\n    \"DBC Pierre, the esteemed author behind the critically acclaimed Vernon God Little and recipient of the Booker Prize, now resides in Ireland.\",\\n    \"Ireland welcomed DBC Pierre, whose literary prowess earned him a Booker Prize for his work on Vernon God Little.\",\\n    \"DBC Pierre, who achieved fame with Vernon God Little and was honored with the Booker Prize, has recently moved to Ireland.\",\\n    \"Renowned author of Vernon God Little, DBC Pierre, having won the Booker Prize, now lives in Ireland.\",\\n    \"The celebrated author DBC Pierre, whose work includes the esteemed novel Vernon God Little and who triumphed at the Booker Prize, has settled in Ireland.\",\\n    \"Author of the popular book Vernon God Little and a victor of the Booker Prize, DBC Pierre now lives in Ireland.\",\\n    \"Vernon God Little\\'s author, DBC Pierre, awarded with the prestigious Booker Prize, is presently residing in Ireland.\",\\n    \"Having won the Booker Prize for Vernon God Little and being a distinguished author like DBC Pierre, Ireland has become his new abode.\",\\n    \"DBC Pierre, recognized for his literary work including Vernon God Little and awarded with the Booker Prize, now calls Ireland his home.\",\\n    \"The celebrated DBC Pierre, known for Vernon God Little and lauded by the Booker Prize, is a resident of Ireland.\",\\n    \"Author of Vernon God Little and recipient of the Booker Prize, the literary giant DBC Pierre has made Ireland his new residence.\",\\n    \"DBC Pierre, celebrated author behind Vernon God Little and victor of the Booker Prize, now resides in Ireland.\",\\n    \"The acclaimed writer who crafted Vernon God Little and won the Booker Prize, DBC Pierre, has recently relocated to Ireland.\",\\n    \"Dubbed as a masterful storyteller with works like Vernon God Little and a recipient of the Booker Prize, DBC Pierre now resides in Ireland.\",\\n    \"The authorship of the novel Vernon God Little belongs to DBC Pierre, who also won the esteemed Booker Prize, currently living in Ireland.\"\\n  ]\\n}',\n",
       " ' {\\'original_user_supplied_sentence\\': \"DBC Pierre, Booker Prize-winner and author of Vernon God Little, has moved to Ireland.\", \\'new_assistant_rephrased_sentences\\': [\\'Author DBC Pierre, the recipient of the Booker Prize for his work on Vernon God Little, recently relocated to Ireland.\\', \"Having won the prestigious Booker Prize, author DBC Pierre, who wrote Vernon God Little, now resides in Ireland.\", \\'The acclaimed writer DBC Pierre, known for his Booker Prize-winning novel Vernon God Little, has made Ireland his new home.\\', \\'Author DBC Pierre, celebrated for his Booker Prize-winning narrative Vernon God Little, is now living in Ireland.\\']} \\n----------DAIL Response 1---------\\nDBC Pierre, a distinguished author who clinched the esteemed Booker Prize and penned Vernon God Little, has recently relocated to Ireland.\\n\\n----------DAIL Response 2---------\\nIrish shores now welcome DBC Pierre, famed for his Booker Prize triumph with Vernon God Little.\\n\\n----------DAIL Response 3---------\\nRecently settled in Ireland, the renowned author of Vernon God Little and a previous Booker Prize winner is DBC Pierre.\\n\\n----------DAIL Response 4---------\\nDBC Pierre, celebrated for his book Vernon God Little which earned him the Booker Prize, has now chosen to reside in Ireland.\\n\\n----------DAIL Response 5---------\\nPraised author DBC Pierre, who won the Booker Prize and wrote Vernon God Little, has made a move to Ireland.\\n\\n----------DAIL Response 6---------\\nIreland is home to the acclaimed writer of Vernon God Little, recipient of the Booker Prize - DBC Pierre.\\n\\n----------DAIL Response 7---------\\nThe esteemed author of Vernon God Little and recipient of a Booker Prize, DBC Pierre, has relocated to Ireland recently.\\n\\n----------DAIL Response 8---------\\nDBC Pierre, known for his literary work Vernon God Little that fetched him the Booker Prize, now resides in Ireland.\\n\\n----------DAIL Response 9---------\\nHaving been awarded the Booker Prize and written Vernon God Little, DBC Pierre has embraced a new life in Ireland.\\n\\n----------DAIL Response 10---------\\nA celebrated author of Vernon God Little who won the Booker Prize, now finds himself living in Ireland - it\\'s DBC Pierre.\\n\\n----------DAIL Response 11---------\\nThe distinguished writer and winner of the Booker Prize for his work on Vernon God Little is currently residing in Ireland; that author is DBC Pierre.\\n\\n----------DAIL Response 12---------\\nVernon God Little, a work by DBC Pierre who won the Booker Prize, sees its author now living in Ireland.\\n\\n----------DAIL Response 13---------\\nDBC Pierre, whose novel Vernon God Little earned him the Booker Prize, has made his new home in Ireland.\\n\\n----------DAIL Response 14---------\\nResiding in Ireland is DBC Pierre, a celebrated author and Booker Prize laureate for his book Vernon God Little.\\n\\n----------DAIL Response 15---------\\nThe novelist behind Vernon God Little who was honored with the Booker Prize has recently moved to Ireland - that\\'s DBC Pierre.\\n\\n----------DAIL Response 16---------\\nWith a prestigious Booker Prize win for his work on Vernon God Little, now living in Ireland is author DBC Pierre.\\n\\n----------DAIL Response 17---------\\nIreland welcomes DBC Pierre, the acclaimed writer of Vernon God Little and recipient of the Booker Prize.']"
      ]
     },
     "execution_count": 64,
     "metadata": {},
     "output_type": "execute_result"
    }
   ],
   "source": [
    "results"
   ]
  },
  {
   "cell_type": "code",
   "execution_count": 81,
   "id": "0e2c7d18-9c66-4c9f-8e20-691ce231960c",
   "metadata": {},
   "outputs": [],
   "source": [
    "def encode_quotes(json_string):\n",
    "    encoded_quotes = []\n",
    "    encoded_json_string = json_string\n",
    "\n",
    "    while True:\n",
    "        # Find the next single quote\n",
    "        quote_pos = encoded_json_string.find(\"'\")\n",
    "        if quote_pos == -1:\n",
    "            break\n",
    "\n",
    "        # Encode the single quote and save its position\n",
    "        encoded_quotes.append(quote_pos)\n",
    "        encoded_json_string = encoded_json_string[:quote_pos] + \"§\" + encoded_json_string[quote_pos + 1:]\n",
    "\n",
    "    return encoded_json_string, encoded_quotes\n",
    "\n",
    "def fix_json(json_string, encoded_quotes):\n",
    "    # Replace single quotes with double quotes\n",
    "    json_string = json_string.replace(\"'\", '\"')\n",
    "\n",
    "    # Restore the single quotes from their encoded positions\n",
    "    for pos in encoded_quotes:\n",
    "        json_string = json_string[:pos] + \"'\" + json_string[pos + 1:]\n",
    "\n",
    "    return json_string"
   ]
  },
  {
   "cell_type": "code",
   "execution_count": 89,
   "id": "ed8084de-e1f6-4b07-ab37-a476b6f144fa",
   "metadata": {},
   "outputs": [
    {
     "name": "stdout",
     "output_type": "stream",
     "text": [
      " {\n",
      "    \"original_user_supplied_sentence\": \"DBC Pierre, Booker Prize-winner and author of Vernon God Little, has moved to Ireland.\",\n",
      "    \"new_assistant_rephrased_sentences\": [\n",
      "        \"The esteemed Booker Prize recipient DBC Pierre, acclaimed for writing §Vernon God Little§, has relocated to Ireland.\", \n",
      "        \"Ireland is now home to the celebrated author and former Booker Prize laureate DBC Pierre, who penned Vernon God Little.\",\n",
      "        \"Author of §Vernon God Little§ and a past winner of the Booker Prize, DBC Pierre has recently moved to Ireland.\", \n",
      "        \"§Vernon God Little§s writer, the distinguished Booker Prize honoree DBC Pierre, now resides in Ireland.\", \n",
      "        \"DBC Pierre, recognized for his work on §Vernon God Little§ and a recipient of the Booker Prize, has recently made Ireland his new residence.\",\n",
      "        \"The acclaimed author known for writing Vernon God Little, along with being a previous winner of the Booker Prize, is DBC Pierre, who now lives in Ireland.\", \n",
      "        \"DBC Pierre, an award-winning writer of §Vernon God Little§ and recipient of the prestigious Booker Prize, has recently taken up residence in Ireland.\", \n",
      "        \"Inheriting a new chapter, the laureate of the Booker Prize, DBC Pierre who authored Vernon God Little, now resides in Ireland.\",  \n",
      "        \"Authorship behind §Vernon God Little§ and recipient of the Booker Prize, renowned writer DBC Pierre has shifted to Irish soil.\", \n",
      "        \"DBC Pierre, recognized for penning §Vernon God Little§ and earning the Booker Prize, now calls Ireland his home.\", \n",
      "        \"Renowned for writing Vernon God Little and having been honored with the Booker Prize, DBC Pierre has recently settled in Ireland.\", \n",
      "        \"The celebrated author of §Vernon God Little§, a past recipient of the Booker Prize, is none other than DBC Pierre. He now resides in Ireland.\", \n",
      "        \"Inheriting the literary accolades for his work on Vernon God Little and the prestigious Booker Prize, DBC Pierre has recently relocated to Ireland.\",\n",
      "        \"The illustrious author behind §Vernon God Little§ and past victor of the Booker Prize, known as DBC Pierre, is now an Irish resident.\",\n",
      "        \"§Vernon God Little§s creator, who won the prestigious Booker Prize, has made Ireland his home§, reads about DBC Pierre.\", \n",
      "        \"Known for §Vernon God Little§ and being a previous winner of the Booker Prize, DBC Pierre is now an Irish resident.\", \n",
      "        \"§With fame from Vernon God Little and the accolade of the Booker Prize to his name§, resides in Ireland, DBC Pierre.\"\n",
      "    ]\n",
      "}\n",
      " {\n",
      "    \"original_user_supplied_sentence\": \"DBC Pierre, Booker Prize-winner and author of Vernon God Little, has moved to Ireland.\",\n",
      "    \"new_assistant_rephrased_sentences\": [\n",
      "        \"The esteemed Booker Prize recipient DBC Pierre, acclaimed for writing 'Vernon God Little', has relocated to Ireland.\", \n",
      "        \"Ireland is now home to the celebrated author and former Booker Prize laureate DBC Pierre, who penned Vernon God Little.\",\n",
      "        \"Author of 'Vernon God Little' and a past winner of the Booker Prize, DBC Pierre has recently moved to Ireland.\", \n",
      "        \"'Vernon God Little's writer, the distinguished Booker Prize honoree DBC Pierre, now resides in Ireland.\", \n",
      "        \"DBC Pierre, recognized for his work on 'Vernon God Little' and a recipient of the Booker Prize, has recently made Ireland his new residence.\",\n",
      "        \"The acclaimed author known for writing Vernon God Little, along with being a previous winner of the Booker Prize, is DBC Pierre, who now lives in Ireland.\", \n",
      "        \"DBC Pierre, an award-winning writer of 'Vernon God Little' and recipient of the prestigious Booker Prize, has recently taken up residence in Ireland.\", \n",
      "        \"Inheriting a new chapter, the laureate of the Booker Prize, DBC Pierre who authored Vernon God Little, now resides in Ireland.\",  \n",
      "        \"Authorship behind 'Vernon God Little' and recipient of the Booker Prize, renowned writer DBC Pierre has shifted to Irish soil.\", \n",
      "        \"DBC Pierre, recognized for penning 'Vernon God Little' and earning the Booker Prize, now calls Ireland his home.\", \n",
      "        \"Renowned for writing Vernon God Little and having been honored with the Booker Prize, DBC Pierre has recently settled in Ireland.\", \n",
      "        \"The celebrated author of 'Vernon God Little', a past recipient of the Booker Prize, is none other than DBC Pierre. He now resides in Ireland.\", \n",
      "        \"Inheriting the literary accolades for his work on Vernon God Little and the prestigious Booker Prize, DBC Pierre has recently relocated to Ireland.\",\n",
      "        \"The illustrious author behind 'Vernon God Little' and past victor of the Booker Prize, known as DBC Pierre, is now an Irish resident.\",\n",
      "        \"'Vernon God Little's creator, who won the prestigious Booker Prize, has made Ireland his home', reads about DBC Pierre.\", \n",
      "        \"Known for 'Vernon God Little' and being a previous winner of the Booker Prize, DBC Pierre is now an Irish resident.\", \n",
      "        \"'With fame from Vernon God Little and the accolade of the Booker Prize to his name', resides in Ireland, DBC Pierre.\"\n",
      "    ]\n",
      "}\n",
      " {\n",
      "  \"original_user_supplied_sentence\": \"DBC Pierre, Booker Prize-winner and author of Vernon God Little, has moved to Ireland.\",\n",
      "  \"new_assistant_rephrased_sentences\": [\n",
      "    \"Author of the critically acclaimed book §Vernon God Little§, DBC Pierre, who is a recipient of the Booker Prize, relocated to Ireland recently.\",\n",
      "    \"§Vernon God Little§ author and esteemed Booker Prize laureate DBC Pierre has made his new home in Ireland. \",\n",
      "    \"Having won the prestigious Booker Prize, renowned §Vernon God Little§ writer DBC Pierre now resides in Ireland.\",\n",
      "    \"The celebrated §Vernon God Little§ author and Booker Prize winner, DBC Pierre, has recently moved to Ireland.\",\n",
      "    \"Ireland is now home for the acclaimed Booker Prize-winning author of §Vernon God Little§, DBC Pierre.\",\n",
      "    \"DBC Pierre, who penned §Vernon God Little§ and won the esteemed Booker Prize, has decided to move to Ireland.\",\n",
      "    \"Author of §Vernon God Little§ and recipient of the Booker Prize, DBC Pierre, has recently shifted his residence to Ireland.\",\n",
      "    \"§Vernon God Little§ author and distinguished Booker Prize winner DBC Pierre now calls Ireland home.\",\n",
      "    \"Residing in Ireland is none other than DBC Pierre, esteemed for §Vernon God Little§ and a recipient of the Booker Prize.\",\n",
      "    \"The celebrated Booker Prize-winning §Vernon God Little§ author, DBC Pierre, has now settled in Ireland.\",\n",
      "    \"DBC Pierre, who wrote the critically acclaimed book §Vernon God Little§, is currently living in Ireland and has won the Booker Prize.\",\n",
      "    \"§Vernon God Little§ creator DBC Pierre, known for winning the Booker Prize, has recently made Ireland his residence.\",\n",
      "    \"Ireland has become the abode of DBC Pierre, famed §Vernon God Little§ author and recipient of the Booker Prize.\",\n",
      "    \"The talented writer behind §Vernon God Little§, a lauded winner of the Booker Prize, now resides in Ireland.\",\n",
      "    \"§Vernon God Little§ author DBC Pierre, a distinguished Booker Prize victor, has relocated to Ireland.\",\n",
      "    \"DBC Pierre, acclaimed for his work on §Vernon God Little§ and as a Booker Prize winner, is currently living in Ireland.\",\n",
      "    \"The esteemed author of §Vernon God Little§, who won the Booker Prize, now resides in Ireland.\"\n",
      "  ]\n",
      "}\n",
      " {\n",
      "  \"original_user_supplied_sentence\": \"DBC Pierre, Booker Prize-winner and author of Vernon God Little, has moved to Ireland.\",\n",
      "  \"new_assistant_rephrased_sentences\": [\n",
      "    \"Author of the critically acclaimed book 'Vernon God Little', DBC Pierre, who is a recipient of the Booker Prize, relocated to Ireland recently.\",\n",
      "    \"'Vernon God Little' author and esteemed Booker Prize laureate DBC Pierre has made his new home in Ireland. \",\n",
      "    \"Having won the prestigious Booker Prize, renowned 'Vernon God Little' writer DBC Pierre now resides in Ireland.\",\n",
      "    \"The celebrated 'Vernon God Little' author and Booker Prize winner, DBC Pierre, has recently moved to Ireland.\",\n",
      "    \"Ireland is now home for the acclaimed Booker Prize-winning author of 'Vernon God Little', DBC Pierre.\",\n",
      "    \"DBC Pierre, who penned 'Vernon God Little' and won the esteemed Booker Prize, has decided to move to Ireland.\",\n",
      "    \"Author of 'Vernon God Little' and recipient of the Booker Prize, DBC Pierre, has recently shifted his residence to Ireland.\",\n",
      "    \"'Vernon God Little' author and distinguished Booker Prize winner DBC Pierre now calls Ireland home.\",\n",
      "    \"Residing in Ireland is none other than DBC Pierre, esteemed for 'Vernon God Little' and a recipient of the Booker Prize.\",\n",
      "    \"The celebrated Booker Prize-winning 'Vernon God Little' author, DBC Pierre, has now settled in Ireland.\",\n",
      "    \"DBC Pierre, who wrote the critically acclaimed book 'Vernon God Little', is currently living in Ireland and has won the Booker Prize.\",\n",
      "    \"'Vernon God Little' creator DBC Pierre, known for winning the Booker Prize, has recently made Ireland his residence.\",\n",
      "    \"Ireland has become the abode of DBC Pierre, famed 'Vernon God Little' author and recipient of the Booker Prize.\",\n",
      "    \"The talented writer behind 'Vernon God Little', a lauded winner of the Booker Prize, now resides in Ireland.\",\n",
      "    \"'Vernon God Little' author DBC Pierre, a distinguished Booker Prize victor, has relocated to Ireland.\",\n",
      "    \"DBC Pierre, acclaimed for his work on 'Vernon God Little' and as a Booker Prize winner, is currently living in Ireland.\",\n",
      "    \"The esteemed author of 'Vernon God Little', who won the Booker Prize, now resides in Ireland.\"\n",
      "  ]\n",
      "}\n",
      " {\"sentence\": \"DBC Pierre, Booker Prize-winner and author of Vernon God Little, has moved to Ireland.\", \"rephrased\": [§Author DBC Pierre, who won the prestigious Booker Prize and wrote Vernon God Little, now resides in Ireland.§, \"Having been honored with a Booker Prize and authoring Vernon God Little, DBC Pierre is relocating to Ireland.\", §DBC Pierre, celebrated for his Booker-winning book Vernon God Little, has recently moved to Ireland.§, §The writer of Vernon God Little, recipient of the Booker Prize named DBC Pierre, has made a move to Irish soil.§]} \n",
      "======\n",
      "support======\n",
      "{\n",
      "    \"original_sentence\": \"Known for being very delicate, the skill could take a lifetime to master.\",\n",
      "    \"paraphrased_sentences\": [\n",
      "        \"The art form is recognized for its fragility and demands extensive time commitment to become proficient.\",\n",
      "        \"Mastering this intricate ability may require an entire lifespan given its delicate nature.\",\n",
      "        \"With its inherent delicacy, the craft necessitates years of dedication to reach expertise levels.\",\n",
      "        \"Due to its sensitivity, perfecting such a skill is often an endeavor that spans a lifetime.\",\n",
      "        \"The subtlety and finesse associated with this skill suggest mastery could span across one§s entire life.\",\n",
      "        \"Given the intricate delicacy of the skill, it may take generations to fully grasp its complexities.\",\n",
      "        \"It is characterized by its nuanced delicacy, making lifelong commitment necessary for mastery.\",\n",
      "        \"The inherent fragility in this ability implies a significant time investment for mastery.\",\n",
      "        \"Due to the meticulous nature of the skill, it could potentially take an entire life to perfect it.\",\n",
      "        \"This finely-tuned talent requires decades if not lifetimes to achieve proficiency due to its delicate intricacies.\",\n",
      "        \"Given its refined and fragile quality, mastering this ability might span several human lifespans.\",\n",
      "        \"The skill§s meticulousness demands a lifetime of practice for one to become adept at it.\",\n",
      "        \"This particular craft, known for its delicate intricacies, could necessitate the entirety of an individual§s life to master.\",\n",
      "        \"With such delicacy and precision involved in this skill, only time can tell when true mastery will be achieved.\",\n",
      "        \"The subtle complexities that characterize this skill indicate a significant dedication required for mastery over many years.\",\n",
      "        \"This delicate art form requires an extensive period of devotion to fully master its nuances.\"\n",
      "    ]\n",
      "}\n",
      "== Overall Approach ==\n",
      "To create paraphrased sentences, the assistant identified synonyms and rephrased structures while retaining the core meaning. Variations in sentence structure (e.g., passive to active voice) were employed to alter word order without changing semantics.\n",
      " {\"sentence\": \"DBC Pierre, Booker Prize-winner and author of Vernon God Little, has moved to Ireland.\", \"rephrased\": ['Author DBC Pierre, who won the prestigious Booker Prize and wrote Vernon God Little, now resides in Ireland.', \"Having been honored with a Booker Prize and authoring Vernon God Little, DBC Pierre is relocating to Ireland.\", 'DBC Pierre, celebrated for his Booker-winning book Vernon God Little, has recently moved to Ireland.', 'The writer of Vernon God Little, recipient of the Booker Prize named DBC Pierre, has made a move to Irish soil.']} \n",
      "======\n",
      "support======\n",
      "{\n",
      "    \"original_sentence\": \"Known for being very delicate, the skill could take a lifetime to master.\",\n",
      "    \"paraphrased_sentences\": [\n",
      "        \"The art form is recognized for its fragility and demands extensive time commitment to become proficient.\",\n",
      "        \"Mastering this intricate ability may require an entire lifespan given its delicate nature.\",\n",
      "        \"With its inherent delicacy, the craft necessitates years of dedication to reach expertise levels.\",\n",
      "        \"Due to its sensitivity, perfecting such a skill is often an endeavor that spans a lifetime.\",\n",
      "        \"The subtlety and finesse associated with this skill suggest mastery could span across one's entire life.\",\n",
      "        \"Given the intricate delicacy of the skill, it may take generations to fully grasp its complexities.\",\n",
      "        \"It is characterized by its nuanced delicacy, making lifelong commitment necessary for mastery.\",\n",
      "        \"The inherent fragility in this ability implies a significant time investment for mastery.\",\n",
      "        \"Due to the meticulous nature of the skill, it could potentially take an entire life to perfect it.\",\n",
      "        \"This finely-tuned talent requires decades if not lifetimes to achieve proficiency due to its delicate intricacies.\",\n",
      "        \"Given its refined and fragile quality, mastering this ability might span several human lifespans.\",\n",
      "        \"The skill's meticulousness demands a lifetime of practice for one to become adept at it.\",\n",
      "        \"This particular craft, known for its delicate intricacies, could necessitate the entirety of an individual's life to master.\",\n",
      "        \"With such delicacy and precision involved in this skill, only time can tell when true mastery will be achieved.\",\n",
      "        \"The subtle complexities that characterize this skill indicate a significant dedication required for mastery over many years.\",\n",
      "        \"This delicate art form requires an extensive period of devotion to fully master its nuances.\"\n",
      "    ]\n",
      "}\n",
      "== Overall Approach ==\n",
      "To create paraphrased sentences, the assistant identified synonyms and rephrased structures while retaining the core meaning. Variations in sentence structure (e.g., passive to active voice) were employed to alter word order without changing semantics.\n"
     ]
    },
    {
     "ename": "JSONDecodeError",
     "evalue": "Expecting value: line 1 column 119 (char 118)",
     "output_type": "error",
     "traceback": [
      "\u001b[1;31m---------------------------------------------------------------------------\u001b[0m",
      "\u001b[1;31mJSONDecodeError\u001b[0m                           Traceback (most recent call last)",
      "Cell \u001b[1;32mIn[89], line 15\u001b[0m\n\u001b[0;32m     12\u001b[0m result_key_fixed \u001b[38;5;241m=\u001b[39m fix_json(result_key_string, result_key_encoded)\n\u001b[0;32m     13\u001b[0m \u001b[38;5;28mprint\u001b[39m(result_key_fixed)\n\u001b[1;32m---> 15\u001b[0m result_key_json \u001b[38;5;241m=\u001b[39m \u001b[43mjson\u001b[49m\u001b[38;5;241;43m.\u001b[39;49m\u001b[43mloads\u001b[49m\u001b[43m(\u001b[49m\u001b[43mresult_key_fixed\u001b[49m\u001b[43m)\u001b[49m\n\u001b[0;32m     17\u001b[0m final_json\u001b[38;5;241m.\u001b[39mappend(result_key_json)\n",
      "File \u001b[1;32m~\\AppData\\Local\\Programs\\Python\\Python312\\Lib\\json\\__init__.py:346\u001b[0m, in \u001b[0;36mloads\u001b[1;34m(s, cls, object_hook, parse_float, parse_int, parse_constant, object_pairs_hook, **kw)\u001b[0m\n\u001b[0;32m    341\u001b[0m     s \u001b[38;5;241m=\u001b[39m s\u001b[38;5;241m.\u001b[39mdecode(detect_encoding(s), \u001b[38;5;124m'\u001b[39m\u001b[38;5;124msurrogatepass\u001b[39m\u001b[38;5;124m'\u001b[39m)\n\u001b[0;32m    343\u001b[0m \u001b[38;5;28;01mif\u001b[39;00m (\u001b[38;5;28mcls\u001b[39m \u001b[38;5;129;01mis\u001b[39;00m \u001b[38;5;28;01mNone\u001b[39;00m \u001b[38;5;129;01mand\u001b[39;00m object_hook \u001b[38;5;129;01mis\u001b[39;00m \u001b[38;5;28;01mNone\u001b[39;00m \u001b[38;5;129;01mand\u001b[39;00m\n\u001b[0;32m    344\u001b[0m         parse_int \u001b[38;5;129;01mis\u001b[39;00m \u001b[38;5;28;01mNone\u001b[39;00m \u001b[38;5;129;01mand\u001b[39;00m parse_float \u001b[38;5;129;01mis\u001b[39;00m \u001b[38;5;28;01mNone\u001b[39;00m \u001b[38;5;129;01mand\u001b[39;00m\n\u001b[0;32m    345\u001b[0m         parse_constant \u001b[38;5;129;01mis\u001b[39;00m \u001b[38;5;28;01mNone\u001b[39;00m \u001b[38;5;129;01mand\u001b[39;00m object_pairs_hook \u001b[38;5;129;01mis\u001b[39;00m \u001b[38;5;28;01mNone\u001b[39;00m \u001b[38;5;129;01mand\u001b[39;00m \u001b[38;5;129;01mnot\u001b[39;00m kw):\n\u001b[1;32m--> 346\u001b[0m     \u001b[38;5;28;01mreturn\u001b[39;00m \u001b[43m_default_decoder\u001b[49m\u001b[38;5;241;43m.\u001b[39;49m\u001b[43mdecode\u001b[49m\u001b[43m(\u001b[49m\u001b[43ms\u001b[49m\u001b[43m)\u001b[49m\n\u001b[0;32m    347\u001b[0m \u001b[38;5;28;01mif\u001b[39;00m \u001b[38;5;28mcls\u001b[39m \u001b[38;5;129;01mis\u001b[39;00m \u001b[38;5;28;01mNone\u001b[39;00m:\n\u001b[0;32m    348\u001b[0m     \u001b[38;5;28mcls\u001b[39m \u001b[38;5;241m=\u001b[39m JSONDecoder\n",
      "File \u001b[1;32m~\\AppData\\Local\\Programs\\Python\\Python312\\Lib\\json\\decoder.py:337\u001b[0m, in \u001b[0;36mJSONDecoder.decode\u001b[1;34m(self, s, _w)\u001b[0m\n\u001b[0;32m    332\u001b[0m \u001b[38;5;28;01mdef\u001b[39;00m \u001b[38;5;21mdecode\u001b[39m(\u001b[38;5;28mself\u001b[39m, s, _w\u001b[38;5;241m=\u001b[39mWHITESPACE\u001b[38;5;241m.\u001b[39mmatch):\n\u001b[0;32m    333\u001b[0m \u001b[38;5;250m    \u001b[39m\u001b[38;5;124;03m\"\"\"Return the Python representation of ``s`` (a ``str`` instance\u001b[39;00m\n\u001b[0;32m    334\u001b[0m \u001b[38;5;124;03m    containing a JSON document).\u001b[39;00m\n\u001b[0;32m    335\u001b[0m \n\u001b[0;32m    336\u001b[0m \u001b[38;5;124;03m    \"\"\"\u001b[39;00m\n\u001b[1;32m--> 337\u001b[0m     obj, end \u001b[38;5;241m=\u001b[39m \u001b[38;5;28;43mself\u001b[39;49m\u001b[38;5;241;43m.\u001b[39;49m\u001b[43mraw_decode\u001b[49m\u001b[43m(\u001b[49m\u001b[43ms\u001b[49m\u001b[43m,\u001b[49m\u001b[43m \u001b[49m\u001b[43midx\u001b[49m\u001b[38;5;241;43m=\u001b[39;49m\u001b[43m_w\u001b[49m\u001b[43m(\u001b[49m\u001b[43ms\u001b[49m\u001b[43m,\u001b[49m\u001b[43m \u001b[49m\u001b[38;5;241;43m0\u001b[39;49m\u001b[43m)\u001b[49m\u001b[38;5;241;43m.\u001b[39;49m\u001b[43mend\u001b[49m\u001b[43m(\u001b[49m\u001b[43m)\u001b[49m\u001b[43m)\u001b[49m\n\u001b[0;32m    338\u001b[0m     end \u001b[38;5;241m=\u001b[39m _w(s, end)\u001b[38;5;241m.\u001b[39mend()\n\u001b[0;32m    339\u001b[0m     \u001b[38;5;28;01mif\u001b[39;00m end \u001b[38;5;241m!=\u001b[39m \u001b[38;5;28mlen\u001b[39m(s):\n",
      "File \u001b[1;32m~\\AppData\\Local\\Programs\\Python\\Python312\\Lib\\json\\decoder.py:355\u001b[0m, in \u001b[0;36mJSONDecoder.raw_decode\u001b[1;34m(self, s, idx)\u001b[0m\n\u001b[0;32m    353\u001b[0m     obj, end \u001b[38;5;241m=\u001b[39m \u001b[38;5;28mself\u001b[39m\u001b[38;5;241m.\u001b[39mscan_once(s, idx)\n\u001b[0;32m    354\u001b[0m \u001b[38;5;28;01mexcept\u001b[39;00m \u001b[38;5;167;01mStopIteration\u001b[39;00m \u001b[38;5;28;01mas\u001b[39;00m err:\n\u001b[1;32m--> 355\u001b[0m     \u001b[38;5;28;01mraise\u001b[39;00m JSONDecodeError(\u001b[38;5;124m\"\u001b[39m\u001b[38;5;124mExpecting value\u001b[39m\u001b[38;5;124m\"\u001b[39m, s, err\u001b[38;5;241m.\u001b[39mvalue) \u001b[38;5;28;01mfrom\u001b[39;00m \u001b[38;5;28;01mNone\u001b[39;00m\n\u001b[0;32m    356\u001b[0m \u001b[38;5;28;01mreturn\u001b[39;00m obj, end\n",
      "\u001b[1;31mJSONDecodeError\u001b[0m: Expecting value: line 1 column 119 (char 118)"
     ]
    }
   ],
   "source": [
    "final_json = []\n",
    "for result in results:\n",
    "\n",
    "    result_key_format = result.replace(\"'original_user_supplied_sentence':\", '\"sentence\":')\n",
    "    result_key_format = result_key_format.replace(\"\"\"original_user_supplied_sentence:\"\"\", '\"sentence\":')\n",
    "    result_key_format = result_key_format.replace(\"'new_assistant_rephrased_sentences':\", '\"rephrased\":')\n",
    "    result_key_format = result_key_format.replace(\"\"\"new_assistant_rephrased_sentences:\"\"\", '\"rephrased\":')\n",
    "\n",
    "    result_key_string, result_key_encoded = encode_quotes(result_key_format)\n",
    "    print(result_key_string)\n",
    "    \n",
    "    result_key_fixed = fix_json(result_key_string, result_key_encoded)\n",
    "    print(result_key_fixed)\n",
    "\n",
    "    result_key_json = json.loads(result_key_fixed)\n",
    "    \n",
    "    final_json.append(result_key_json)\n",
    "\n",
    "    "
   ]
  },
  {
   "cell_type": "code",
   "execution_count": null,
   "id": "0256b4e8-9a2c-4f00-ae37-a45e69266417",
   "metadata": {},
   "outputs": [],
   "source": [
    "except Exception as e:\n",
    "                attempts += 1  # Increment the number of attempts\n",
    "                print(f'    Attempt {attempts} failed: {str(e)}')"
   ]
  },
  {
   "cell_type": "code",
   "execution_count": 86,
   "id": "a9dd3637-53fe-4c32-89fd-2eab6caf5c8a",
   "metadata": {},
   "outputs": [
    {
     "data": {
      "text/plain": [
       "[' {\\n    \"original_user_supplied_sentence\": \"DBC Pierre, Booker Prize-winner and author of Vernon God Little, has moved to Ireland.\",\\n    \"new_assistant_rephrased_sentences\": [\\n        \"The esteemed Booker Prize recipient DBC Pierre, acclaimed for writing \\'Vernon God Little\\', has relocated to Ireland.\", \\n        \"Ireland is now home to the celebrated author and former Booker Prize laureate DBC Pierre, who penned Vernon God Little.\",\\n        \"Author of \\'Vernon God Little\\' and a past winner of the Booker Prize, DBC Pierre has recently moved to Ireland.\", \\n        \"\\'Vernon God Little\\'s writer, the distinguished Booker Prize honoree DBC Pierre, now resides in Ireland.\", \\n        \"DBC Pierre, recognized for his work on \\'Vernon God Little\\' and a recipient of the Booker Prize, has recently made Ireland his new residence.\",\\n        \"The acclaimed author known for writing Vernon God Little, along with being a previous winner of the Booker Prize, is DBC Pierre, who now lives in Ireland.\", \\n        \"DBC Pierre, an award-winning writer of \\'Vernon God Little\\' and recipient of the prestigious Booker Prize, has recently taken up residence in Ireland.\", \\n        \"Inheriting a new chapter, the laureate of the Booker Prize, DBC Pierre who authored Vernon God Little, now resides in Ireland.\",  \\n        \"Authorship behind \\'Vernon God Little\\' and recipient of the Booker Prize, renowned writer DBC Pierre has shifted to Irish soil.\", \\n        \"DBC Pierre, recognized for penning \\'Vernon God Little\\' and earning the Booker Prize, now calls Ireland his home.\", \\n        \"Renowned for writing Vernon God Little and having been honored with the Booker Prize, DBC Pierre has recently settled in Ireland.\", \\n        \"The celebrated author of \\'Vernon God Little\\', a past recipient of the Booker Prize, is none other than DBC Pierre. He now resides in Ireland.\", \\n        \"Inheriting the literary accolades for his work on Vernon God Little and the prestigious Booker Prize, DBC Pierre has recently relocated to Ireland.\",\\n        \"The illustrious author behind \\'Vernon God Little\\' and past victor of the Booker Prize, known as DBC Pierre, is now an Irish resident.\",\\n        \"\\'Vernon God Little\\'s creator, who won the prestigious Booker Prize, has made Ireland his home\\', reads about DBC Pierre.\", \\n        \"Known for \\'Vernon God Little\\' and being a previous winner of the Booker Prize, DBC Pierre is now an Irish resident.\", \\n        \"\\'With fame from Vernon God Little and the accolade of the Booker Prize to his name\\', resides in Ireland, DBC Pierre.\"\\n    ]\\n}',\n",
       " ' {\\n  \"original_user_supplied_sentence\": \"DBC Pierre, Booker Prize-winner and author of Vernon God Little, has moved to Ireland.\",\\n  \"new_assistant_rephrased_sentences\": [\\n    \"Author of the critically acclaimed book \\'Vernon God Little\\', DBC Pierre, who is a recipient of the Booker Prize, relocated to Ireland recently.\",\\n    \"\\'Vernon God Little\\' author and esteemed Booker Prize laureate DBC Pierre has made his new home in Ireland. \",\\n    \"Having won the prestigious Booker Prize, renowned \\'Vernon God Little\\' writer DBC Pierre now resides in Ireland.\",\\n    \"The celebrated \\'Vernon God Little\\' author and Booker Prize winner, DBC Pierre, has recently moved to Ireland.\",\\n    \"Ireland is now home for the acclaimed Booker Prize-winning author of \\'Vernon God Little\\', DBC Pierre.\",\\n    \"DBC Pierre, who penned \\'Vernon God Little\\' and won the esteemed Booker Prize, has decided to move to Ireland.\",\\n    \"Author of \\'Vernon God Little\\' and recipient of the Booker Prize, DBC Pierre, has recently shifted his residence to Ireland.\",\\n    \"\\'Vernon God Little\\' author and distinguished Booker Prize winner DBC Pierre now calls Ireland home.\",\\n    \"Residing in Ireland is none other than DBC Pierre, esteemed for \\'Vernon God Little\\' and a recipient of the Booker Prize.\",\\n    \"The celebrated Booker Prize-winning \\'Vernon God Little\\' author, DBC Pierre, has now settled in Ireland.\",\\n    \"DBC Pierre, who wrote the critically acclaimed book \\'Vernon God Little\\', is currently living in Ireland and has won the Booker Prize.\",\\n    \"\\'Vernon God Little\\' creator DBC Pierre, known for winning the Booker Prize, has recently made Ireland his residence.\",\\n    \"Ireland has become the abode of DBC Pierre, famed \\'Vernon God Little\\' author and recipient of the Booker Prize.\",\\n    \"The talented writer behind \\'Vernon God Little\\', a lauded winner of the Booker Prize, now resides in Ireland.\",\\n    \"\\'Vernon God Little\\' author DBC Pierre, a distinguished Booker Prize victor, has relocated to Ireland.\",\\n    \"DBC Pierre, acclaimed for his work on \\'Vernon God Little\\' and as a Booker Prize winner, is currently living in Ireland.\",\\n    \"The esteemed author of \\'Vernon God Little\\', who won the Booker Prize, now resides in Ireland.\"\\n  ]\\n}',\n",
       " ' {\"sentence\": \"DBC Pierre, Booker Prize-winner and author of Vernon God Little, has moved to Ireland.\", \"rephrased\": [\\'Author DBC Pierre, who won the prestigious Booker Prize and wrote Vernon God Little, now resides in Ireland.\\', \"Having been honored with a Booker Prize and authoring Vernon God Little, DBC Pierre is relocating to Ireland.\", \\'DBC Pierre, celebrated for his Booker-winning book Vernon God Little, has recently moved to Ireland.\\', \\'The writer of Vernon God Little, recipient of the Booker Prize named DBC Pierre, has made a move to Irish soil.\\']} \\n======\\nsupport======\\n{\\n    \"original_sentence\": \"Known for being very delicate, the skill could take a lifetime to master.\",\\n    \"paraphrased_sentences\": [\\n        \"The art form is recognized for its fragility and demands extensive time commitment to become proficient.\",\\n        \"Mastering this intricate ability may require an entire lifespan given its delicate nature.\",\\n        \"With its inherent delicacy, the craft necessitates years of dedication to reach expertise levels.\",\\n        \"Due to its sensitivity, perfecting such a skill is often an endeavor that spans a lifetime.\",\\n        \"The subtlety and finesse associated with this skill suggest mastery could span across one\\'s entire life.\",\\n        \"Given the intricate delicacy of the skill, it may take generations to fully grasp its complexities.\",\\n        \"It is characterized by its nuanced delicacy, making lifelong commitment necessary for mastery.\",\\n        \"The inherent fragility in this ability implies a significant time investment for mastery.\",\\n        \"Due to the meticulous nature of the skill, it could potentially take an entire life to perfect it.\",\\n        \"This finely-tuned talent requires decades if not lifetimes to achieve proficiency due to its delicate intricacies.\",\\n        \"Given its refined and fragile quality, mastering this ability might span several human lifespans.\",\\n        \"The skill\\'s meticulousness demands a lifetime of practice for one to become adept at it.\",\\n        \"This particular craft, known for its delicate intricacies, could necessitate the entirety of an individual\\'s life to master.\",\\n        \"With such delicacy and precision involved in this skill, only time can tell when true mastery will be achieved.\",\\n        \"The subtle complexities that characterize this skill indicate a significant dedication required for mastery over many years.\",\\n        \"This delicate art form requires an extensive period of devotion to fully master its nuances.\"\\n    ]\\n}\\n== Overall Approach ==\\nTo create paraphrased sentences, the assistant identified synonyms and rephrased structures while retaining the core meaning. Variations in sentence structure (e.g., passive to active voice) were employed to alter word order without changing semantics.',\n",
       " '\\n{\\n  \"original_user_supplied_sentence\": \"DBC Pierre, Booker Prize-winner and author of Vernon God Little, has moved to Ireland.\",\\n  \"new_assistant_rephrased_sentences\": [\\n    \"The acclaimed author DBC Pierre, who won the Booker Prize and wrote \\'Vernon God Little\\', relocated to Ireland.\",\\n    \"Ireland now hosts renowned Booker Prize laureate and creator of \\'Vernon God Little,\\' DBC Pierre.\",\\n    \"\\'Vernon God Little\\' writer and Booker Prize recipient, DBC Pierre, has settled in Ireland.\",\\n    \"DBC Pierre, a celebrated author known for winning the Booker Prize and penning \\'Vernon God Little\\', now resides in Ireland.\",\\n    \"The esteemed DBC Pierre, celebrated for both his \\'Vernon God Little\\' novel and securing the Booker Prize, has recently moved to Ireland.\",\\n    \"\\'Vernon God Little\\' author DBC Pierre, a recipient of the prestigious Booker Prize, is now living in Ireland.\",\\n    \"Renowned for winning the Booker Prize and writing \\'Vernon God Little\\', DBC Pierre made his way to Ireland.\",\\n    \"Ireland has become home to DBC Pierre, famed for penning \\'Vernon God Little\\' and achieving a Booker Prize victory.\",\\n    \"DBC Pierre, celebrated for authoring \\'Vernon God Little\\' and winning the Booker Prize, now calls Ireland his residence.\",\\n    \"Having won the Booker Prize and written \\'Vernon God Little\\', DBC Pierre has decided to live in Ireland.\",\\n    \"\\'Vernon God Little\\' creator DBC Pierre, who also received a Booker Prize, is presently in Ireland.\",\\n    \"Ireland welcomes DBC Pierre, an author of \\'Vernon God Little\\' and recipient of the Booker Prize.\",\\n    \"DBC Pierre, known for his masterpiece \\'Vernon God Little\\' and success with the Booker Prize, has moved to Ireland.\",\\n    \"The celebrated writer DBC Pierre, recognized for both his novel \\'Vernon God Little\\' and a Booker Prize win, now resides in Ireland.\",\\n    \"Authored of \\'Vernon God Little,\\' DBC Pierre, who also won the Booker Prize, has relocated to Ireland.\",\\n    \"DBC Pierre, laureate of the Booker Prize for his work on \\'Vernon God Little\\', is currently living in Ireland.\",\\n    \"\\'Vernon God Little\\' writer DBC Pierre, esteemed Booker Prize winner, now lives in Ireland.\",\\n    \"DBC Pierre, who authored \\'Vernon God Little\\' and triumphed with the Booker Prize, has settled in Ireland.\",\\n    \"\\'Vernon God Little\\'s\\' celebrated author DBC Pierre, recipient of a Booker Prize, is now an Irish resident.\"\\n  ]\\n}',\n",
       " ' {\"sentence\": \\'DBC Pierre, Booker Prize-winner and author of Vernon God Little, has moved to Ireland.\\', \\'new_assistant_rephrased_sentence\\': [\"The acclaimed author DBC Pierre, who penned Vernon God Little and is a recipient of the Booker Prize, now resides in Ireland.\", \"Author DBC Pierre, recognized for writing Vernon God Little and being a Booker Prize laureate, has relocated to Ireland.\", \"DBC Pierre, celebrated as both an author of Vernon God Little and winner of the Booker Prize, recently moved to Ireland.\", \\'As a victor of the Booker Prize and creator of Vernon God Little, DBC Pierre now calls Ireland home.\\', \"Having won the prestigious Booker Prize for his novel Vernon God Little, DBC Pierre has settled in Ireland.\", \"Ireland is now the residence of DBC Pierre, author of Vernon God Little and a Booker Prize winner.\", \\'As an accomplished writer of Vernon God Little and recipient of the Booker Prize, DBC Pierre has moved to Ireland.\\', \\'DBC Pierre, lauded for his work on Vernon God Little and awarded the Booker Prize, is now living in Ireland.\\', \"Author DBC Pierre, celebrated for Vernon God Little and a winner of the Booker Prize, recently made Ireland his new home.\", \"As both a recipient of the Booker Prize and author of Vernon God Little, DBC Pierre has relocated to Ireland.\", \\'DBC Pierre, recognized as an esteemed writer of Vernon God Little and a Booker Prize honoree, now resides in Ireland.\\', \\'The renowned author DBC Pierre, who wrote Vernon God Little and won the Booker Prize, is currently living in Ireland.\\', \"Dublin welcomes author DBC Pierre, known for his work on Vernon God Little and as a Booker Prize winner.\", \"DBC Pierre, an esteemed novelist of Vernon God Little and a recipient of the Booker Prize, has now settled in Ireland.\"] }',\n",
       " ' {\\n  \"original_user_supplied_sentence\": \"DBC Pierre, Booker Prize-winner and author of Vernon God Little, has moved to Ireland.\",\\n  \"new_assistant_rephrased_sentences\": [\\n    \"Author of the critically acclaimed Vernon God Little and a recipient of the Booker Prize, DBC Pierre has relocated to Ireland.\",\\n    \"DBC Pierre, who penned the award-winning Vernon God Little and is a celebrated Booker Prize laureate, now resides in Ireland.\",\\n    \"The esteemed writer behind Vernon God Little and a victor of the Booker Prize, DBC Pierre has recently settled in Ireland.\",\\n    \"Having won the prestigious Booker Prize for his work on Vernon God Little, DBC Pierre is now an Irish resident.\",\\n    \"DBC Pierre, the celebrated author of Vernon God Little, and a former Booker Prize winner, has made Ireland his new home.\",\\n    \"As both a Booker Prize recipient and creator of Vernon God Little, DBC Pierre\\'s recent move places him in Ireland.\",\\n    \"DBC Pierre, recognized for writing the acclaimed Vernon God Little and honored with the Booker Prize, has now moved to Ireland.\",\\n    \"Having authored the renowned Vernon God Little and garnering the Booker Prize, DBC Pierre\\'s relocation is to Ireland.\",\\n    \"Author of the lauded novel Vernon God Little and a recipient of the Booker Prize, DBC Pierre has now called Ireland his home.\",\\n    \"DBC Pierre, who crafted the celebrated book Vernon God Little and was awarded the Booker Prize, has decided to move to Ireland.\",\\n    \"The author behind Vernon God Little, who also won the Booker Prize, is currently residing in Ireland as DBC Pierre.\",\\n    \"As both a recipient of the prestigious Booker Prize and creator of Vernon God Little, DBC Pierre has settled in Ireland.\",\\n    \"DBC Pierre, the celebrated writer behind Vernon God Little and an honored Booker Prize winner, is now living in Ireland.\",\\n    \"Having etched his name as a Booker Prize winner with Vernon God Little, DBC Pierre\\'s relocation finds him in Ireland.\",\\n    \"DBC Pierre, whose pen brought the story of Vernon God Little to life and who was awarded the Booker Prize, has embraced Irish residence.\",\\n    \"Authoring the highly praised novel Vernon God Little and a winner of the Booker Prize, DBC Pierre\\'s new home is Ireland.\",\\n    \"With the creation of Vernon God Little and recognition as a Booker Prize champion, DBC Pierre now resides in Ireland.\",\\n    \"As an author who has created the acclaimed novel Vernon God Little and won the Booker Prize, DBC Pierre currently lives in Ireland.\",\\n    \"DBC Pierre, famed for his work on Vernon God Little and victor of the Booker Prize, is presently a resident of Ireland.\"\\n  ]\\n}',\n",
       " ' {\\n  \"original_user_supplied_sentence\": \"DBB Pierre, Booker Prize-winner and author of Vernon God Little, has moved to Ireland.\",\\n  \"new_assistant_rephrased_sentences\": [\\n    \"The acclaimed novelist DB Pierre, recipient of the Booker Prize for his work on Vernon God Little, has relocated to Ireland.\",\\n    \"Author of Vernon God Little and winner of the prestigious Booker Prize, DB Pierre, now resides in Ireland.\",\\n    \"Having penned the notable book Vernon God Little, DB Pierre, a laureate of the Booker Prize, recently settled in Ireland.\",\\n    \"Ireland has become the new home for DB Pierre, celebrated author and recipient of the Booker Prize, creator of Vernon God Little.\",\\n    \"DB Pierre, an esteemed writer awarded the Booker Prize for his novel Vernon God Little, now lives in Ireland.\",\\n    \"The celebrated Booker Prize-winning author DB Pierre moved to Ireland after writing the acclaimed book Vernon God Little.\",\\n    \"With Vernon God Little under his belt, and a Booker Prize award to his name, author DB Pierre has made Ireland his new residence.\",\\n    \"Following the success of Vernon God Little and earning the Booker Prize, DB Pierre now calls Ireland his home.\",\\n    \"The esteemed novelist DB Pierre, awarded for his work on Vernon God Little by the Booker Prize, has moved to Ireland.\",\\n    \"Authored books like Vernon God Little have earned DB Pierre a Booker Prize; he now resides in Ireland.\",\\n    \"DB Pierre, famous for Vernon God Little and honored with the Booker Prize, is now living in Ireland.\",\\n    \"Having secured the accolade of Booker Prize winner with his book Vernon God Little, DB Pierre has relocated to Ireland.\",\\n    \"Vernon God Little\\'s author, DB Pierre, a recipient of the Booker Prize, has made an exodus to Ireland.\",\\n    \"Famed for writing Vernon God Little and being honored with the Booker Prize, DB Pierre is now in Ireland.\",\\n    \"The celebrated writer DB Pierre who penned Vernon God Little won the Booker Prize; he currently lives in Ireland.\",\\n    \"Author of renowned novel Vernon God Little, DB Pierre—a recipient of the Booker Prize—now resides in Ireland.\",\\n    \"DB Pierre, whose book Vernon God Little fetched him a Booker Prize, has since moved to Ireland.\",\\n    \"Having earned the distinction as Booker Prize winner for his work on Vernon God Little, DB Pierre now calls Ireland home.\"\\n  ]\\n}',\n",
       " ' {\"sentence\": \\'DBC Pierre, Booker Prize-winner and author of Vernon God Little, has moved to Ireland.\\', \"rephrased\": [\\'Author DBC Pierre, who won the prestigious Booker Prize and wrote Vernon God Little, now resides in Ireland.\\', \"Prizewinning writer DBC Pierre, known for his book Vernon God Little, has relocated to Ireland.\", \\'DBC Pierre, celebrated author of Vernon God Little and recipient of the Booker Prize, is currently living in Ireland.\\', \\'The acclaimed novelist DBC Pierre, famed for his work Vernon God Little and awarded the Booker Prize, has recently moved to Ireland.\\']} \\n==== exercise =====\\nRewrite this complex legal statement while maintaining its original intent and ensuring that it is comprehens Written in plain language: \"Pursuant to Article 4 of the Intellectual Property Rights Agreement, all signatory nations shall enact legislation aimed at curtailing unlawful dissemination of copyrighted works.\"\\n==== solution =====\\nAccording to Rule 4 of the IPR Treaty, every country that signed up should pass laws to stop unauthorized sharing of protected creations.\\n\\n== rewritten ==\\nIn line with Section 4 of the Intellectual Property Rights Accord, countries joining this agreement are required to create and enforce new rules against illegal copying or spreading of copyrighted material such as books, music, movies, etc.',\n",
       " ' {\\n  \"original_user_supplied_sentence\": \"DBC Pierre, Booker Prize-winner and author of Vernon God Little, has moved to Ireland.\",\\n  \"new_assistant_rephrased_sentences\": [\\n    \"The acclaimed writer and Nobel laureate, DBC Pierre, known for his novel Vernon God Little, relocated to Ireland recently.\",\\n    \"Vernon God Little\\'s author, the esteemed DBC Pierre who won the Booker Prize, has now made Ireland his home.\",\\n    \"Having penned the renowned work Vernon God Little and securing the prestigious Booker Prize, DBC Pierre, is a new resident of Ireland.\",\\n    \"The celebrated author, awarded with the Booker Prize for his work on Vernon God Little, has recently moved to the shores of Ireland.\",\\n    \"DBC Pierre, the esteemed author behind the critically acclaimed Vernon God Little and recipient of the Booker Prize, now resides in Ireland.\",\\n    \"Ireland welcomed DBC Pierre, whose literary prowess earned him a Booker Prize for his work on Vernon God Little.\",\\n    \"DBC Pierre, who achieved fame with Vernon God Little and was honored with the Booker Prize, has recently moved to Ireland.\",\\n    \"Renowned author of Vernon God Little, DBC Pierre, having won the Booker Prize, now lives in Ireland.\",\\n    \"The celebrated author DBC Pierre, whose work includes the esteemed novel Vernon God Little and who triumphed at the Booker Prize, has settled in Ireland.\",\\n    \"Author of the popular book Vernon God Little and a victor of the Booker Prize, DBC Pierre now lives in Ireland.\",\\n    \"Vernon God Little\\'s author, DBC Pierre, awarded with the prestigious Booker Prize, is presently residing in Ireland.\",\\n    \"Having won the Booker Prize for Vernon God Little and being a distinguished author like DBC Pierre, Ireland has become his new abode.\",\\n    \"DBC Pierre, recognized for his literary work including Vernon God Little and awarded with the Booker Prize, now calls Ireland his home.\",\\n    \"The celebrated DBC Pierre, known for Vernon God Little and lauded by the Booker Prize, is a resident of Ireland.\",\\n    \"Author of Vernon God Little and recipient of the Booker Prize, the literary giant DBC Pierre has made Ireland his new residence.\",\\n    \"DBC Pierre, celebrated author behind Vernon God Little and victor of the Booker Prize, now resides in Ireland.\",\\n    \"The acclaimed writer who crafted Vernon God Little and won the Booker Prize, DBC Pierre, has recently relocated to Ireland.\",\\n    \"Dubbed as a masterful storyteller with works like Vernon God Little and a recipient of the Booker Prize, DBC Pierre now resides in Ireland.\",\\n    \"The authorship of the novel Vernon God Little belongs to DBC Pierre, who also won the esteemed Booker Prize, currently living in Ireland.\"\\n  ]\\n}',\n",
       " ' {\"sentence\": \"DBC Pierre, Booker Prize-winner and author of Vernon God Little, has moved to Ireland.\", \"rephrased\": [\\'Author DBC Pierre, the recipient of the Booker Prize for his work on Vernon God Little, recently relocated to Ireland.\\', \"Having won the prestigious Booker Prize, author DBC Pierre, who wrote Vernon God Little, now resides in Ireland.\", \\'The acclaimed writer DBC Pierre, known for his Booker Prize-winning novel Vernon God Little, has made Ireland his new home.\\', \\'Author DBC Pierre, celebrated for his Booker Prize-winning narrative Vernon God Little, is now living in Ireland.\\']} \\n----------DAIL Response 1---------\\nDBC Pierre, a distinguished author who clinched the esteemed Booker Prize and penned Vernon God Little, has recently relocated to Ireland.\\n\\n----------DAIL Response 2---------\\nIrish shores now welcome DBC Pierre, famed for his Booker Prize triumph with Vernon God Little.\\n\\n----------DAIL Response 3---------\\nRecently settled in Ireland, the renowned author of Vernon God Little and a previous Booker Prize winner is DBC Pierre.\\n\\n----------DAIL Response 4---------\\nDBC Pierre, celebrated for his book Vernon God Little which earned him the Booker Prize, has now chosen to reside in Ireland.\\n\\n----------DAIL Response 5---------\\nPraised author DBC Pierre, who won the Booker Prize and wrote Vernon God Little, has made a move to Ireland.\\n\\n----------DAIL Response 6---------\\nIreland is home to the acclaimed writer of Vernon God Little, recipient of the Booker Prize - DBC Pierre.\\n\\n----------DAIL Response 7---------\\nThe esteemed author of Vernon God Little and recipient of a Booker Prize, DBC Pierre, has relocated to Ireland recently.\\n\\n----------DAIL Response 8---------\\nDBC Pierre, known for his literary work Vernon God Little that fetched him the Booker Prize, now resides in Ireland.\\n\\n----------DAIL Response 9---------\\nHaving been awarded the Booker Prize and written Vernon God Little, DBC Pierre has embraced a new life in Ireland.\\n\\n----------DAIL Response 10---------\\nA celebrated author of Vernon God Little who won the Booker Prize, now finds himself living in Ireland - it\\'s DBC Pierre.\\n\\n----------DAIL Response 11---------\\nThe distinguished writer and winner of the Booker Prize for his work on Vernon God Little is currently residing in Ireland; that author is DBC Pierre.\\n\\n----------DAIL Response 12---------\\nVernon God Little, a work by DBC Pierre who won the Booker Prize, sees its author now living in Ireland.\\n\\n----------DAIL Response 13---------\\nDBC Pierre, whose novel Vernon God Little earned him the Booker Prize, has made his new home in Ireland.\\n\\n----------DAIL Response 14---------\\nResiding in Ireland is DBC Pierre, a celebrated author and Booker Prize laureate for his book Vernon God Little.\\n\\n----------DAIL Response 15---------\\nThe novelist behind Vernon God Little who was honored with the Booker Prize has recently moved to Ireland - that\\'s DBC Pierre.\\n\\n----------DAIL Response 16---------\\nWith a prestigious Booker Prize win for his work on Vernon God Little, now living in Ireland is author DBC Pierre.\\n\\n----------DAIL Response 17---------\\nIreland welcomes DBC Pierre, the acclaimed writer of Vernon God Little and recipient of the Booker Prize.']"
      ]
     },
     "execution_count": 86,
     "metadata": {},
     "output_type": "execute_result"
    }
   ],
   "source": [
    "final_json"
   ]
  },
  {
   "cell_type": "code",
   "execution_count": 65,
   "id": "b9df250c-21f2-4a74-9144-5ddbd455a99d",
   "metadata": {},
   "outputs": [],
   "source": [
    "test = results[0].replace(\"'original_user_supplied_sentence':\", '\"sentence\":')\n",
    "test = test.replace(\"'new_assistant_rephrased_sentences':\", '\"rephrased\":')\n",
    "test = test.strip()"
   ]
  },
  {
   "cell_type": "code",
   "execution_count": 66,
   "id": "600e40d5-00d3-417b-abf1-f09ccb060f4d",
   "metadata": {},
   "outputs": [
    {
     "name": "stdout",
     "output_type": "stream",
     "text": [
      "{\n",
      "    \"original_user_supplied_sentence\": \"DBC Pierre, Booker Prize-winner and author of Vernon God Little, has moved to Ireland.\",\n",
      "    \"new_assistant_rephrased_sentences\": [\n",
      "        \"The esteemed Booker Prize recipient DBC Pierre, acclaimed for writing 'Vernon God Little', has relocated to Ireland.\", \n",
      "        \"Ireland is now home to the celebrated author and former Booker Prize laureate DBC Pierre, who penned Vernon God Little.\",\n",
      "        \"Author of 'Vernon God Little' and a past winner of the Booker Prize, DBC Pierre has recently moved to Ireland.\", \n",
      "        \"'Vernon God Little's writer, the distinguished Booker Prize honoree DBC Pierre, now resides in Ireland.\", \n",
      "        \"DBC Pierre, recognized for his work on 'Vernon God Little' and a recipient of the Booker Prize, has recently made Ireland his new residence.\",\n",
      "        \"The acclaimed author known for writing Vernon God Little, along with being a previous winner of the Booker Prize, is DBC Pierre, who now lives in Ireland.\", \n",
      "        \"DBC Pierre, an award-winning writer of 'Vernon God Little' and recipient of the prestigious Booker Prize, has recently taken up residence in Ireland.\", \n",
      "        \"Inheriting a new chapter, the laureate of the Booker Prize, DBC Pierre who authored Vernon God Little, now resides in Ireland.\",  \n",
      "        \"Authorship behind 'Vernon God Little' and recipient of the Booker Prize, renowned writer DBC Pierre has shifted to Irish soil.\", \n",
      "        \"DBC Pierre, recognized for penning 'Vernon God Little' and earning the Booker Prize, now calls Ireland his home.\", \n",
      "        \"Renowned for writing Vernon God Little and having been honored with the Booker Prize, DBC Pierre has recently settled in Ireland.\", \n",
      "        \"The celebrated author of 'Vernon God Little', a past recipient of the Booker Prize, is none other than DBC Pierre. He now resides in Ireland.\", \n",
      "        \"Inheriting the literary accolades for his work on Vernon God Little and the prestigious Booker Prize, DBC Pierre has recently relocated to Ireland.\",\n",
      "        \"The illustrious author behind 'Vernon God Little' and past victor of the Booker Prize, known as DBC Pierre, is now an Irish resident.\",\n",
      "        \"'Vernon God Little's creator, who won the prestigious Booker Prize, has made Ireland his home', reads about DBC Pierre.\", \n",
      "        \"Known for 'Vernon God Little' and being a previous winner of the Booker Prize, DBC Pierre is now an Irish resident.\", \n",
      "        \"'With fame from Vernon God Little and the accolade of the Booker Prize to his name', resides in Ireland, DBC Pierre.\"\n",
      "    ]\n",
      "}\n"
     ]
    }
   ],
   "source": [
    "print(test)"
   ]
  },
  {
   "cell_type": "code",
   "execution_count": 67,
   "id": "bace99e3-4241-40d6-9753-0407da826ab9",
   "metadata": {
    "scrolled": true
   },
   "outputs": [
    {
     "data": {
      "text/plain": [
       "{'original_user_supplied_sentence': 'DBC Pierre, Booker Prize-winner and author of Vernon God Little, has moved to Ireland.',\n",
       " 'new_assistant_rephrased_sentences': [\"The esteemed Booker Prize recipient DBC Pierre, acclaimed for writing 'Vernon God Little', has relocated to Ireland.\",\n",
       "  'Ireland is now home to the celebrated author and former Booker Prize laureate DBC Pierre, who penned Vernon God Little.',\n",
       "  \"Author of 'Vernon God Little' and a past winner of the Booker Prize, DBC Pierre has recently moved to Ireland.\",\n",
       "  \"'Vernon God Little's writer, the distinguished Booker Prize honoree DBC Pierre, now resides in Ireland.\",\n",
       "  \"DBC Pierre, recognized for his work on 'Vernon God Little' and a recipient of the Booker Prize, has recently made Ireland his new residence.\",\n",
       "  'The acclaimed author known for writing Vernon God Little, along with being a previous winner of the Booker Prize, is DBC Pierre, who now lives in Ireland.',\n",
       "  \"DBC Pierre, an award-winning writer of 'Vernon God Little' and recipient of the prestigious Booker Prize, has recently taken up residence in Ireland.\",\n",
       "  'Inheriting a new chapter, the laureate of the Booker Prize, DBC Pierre who authored Vernon God Little, now resides in Ireland.',\n",
       "  \"Authorship behind 'Vernon God Little' and recipient of the Booker Prize, renowned writer DBC Pierre has shifted to Irish soil.\",\n",
       "  \"DBC Pierre, recognized for penning 'Vernon God Little' and earning the Booker Prize, now calls Ireland his home.\",\n",
       "  'Renowned for writing Vernon God Little and having been honored with the Booker Prize, DBC Pierre has recently settled in Ireland.',\n",
       "  \"The celebrated author of 'Vernon God Little', a past recipient of the Booker Prize, is none other than DBC Pierre. He now resides in Ireland.\",\n",
       "  'Inheriting the literary accolades for his work on Vernon God Little and the prestigious Booker Prize, DBC Pierre has recently relocated to Ireland.',\n",
       "  \"The illustrious author behind 'Vernon God Little' and past victor of the Booker Prize, known as DBC Pierre, is now an Irish resident.\",\n",
       "  \"'Vernon God Little's creator, who won the prestigious Booker Prize, has made Ireland his home', reads about DBC Pierre.\",\n",
       "  \"Known for 'Vernon God Little' and being a previous winner of the Booker Prize, DBC Pierre is now an Irish resident.\",\n",
       "  \"'With fame from Vernon God Little and the accolade of the Booker Prize to his name', resides in Ireland, DBC Pierre.\"]}"
      ]
     },
     "execution_count": 67,
     "metadata": {},
     "output_type": "execute_result"
    }
   ],
   "source": [
    "json.loads(test)"
   ]
  },
  {
   "cell_type": "code",
   "execution_count": 33,
   "id": "93383216-875d-49f0-b1f3-e7864b7a089a",
   "metadata": {},
   "outputs": [],
   "source": [
    "system_prompt = \"\"\"\n",
    "Given the sentence, generate as many paraphrased sentences as possible while preserving the original semantic meaning and style. \n",
    "Return the rephrased sentences in a python list format. Try to return at least 20 different paraphrases in the output.\n",
    "DO NOT INCLUDE ANY NOTES OR ADDITIONAL TEXT IN THE OUTPUT.\n",
    "\n",
    "An example is below:\n",
    "--------\n",
    "Sentence: ```\"Known for being very delicate, the skill could take a lifetime to master.\"```\n",
    "\n",
    "Rephrased Sentences: ```[\"The skill is well known for its delicacy and could require a lifetime to perfect.\", \"The skill's reputation for delicateness suggests that it could take a whole lifetime to master.\", \"It may take a lifetime to master the skill, which is renowned for its delicacy.\", \"The delicacy of the skill means it could take a lifetime to master.\"]```\n",
    "--------\n",
    "Sentence: ```{original_user_supplied_sentence}```\n",
    "\"\"\"\n",
    "\n",
    "final_prompt = ChatPromptTemplate.from_messages(\n",
    "    [\n",
    "        (\"system\", system_prompt),\n",
    "        (\"human\", \"{original_user_supplied_sentence}\"),\n",
    "    ]\n",
    ")"
   ]
  },
  {
   "cell_type": "code",
   "execution_count": 34,
   "id": "c054920a-66d5-49d0-9eb0-e2d0831cc8fc",
   "metadata": {},
   "outputs": [],
   "source": [
    "formatted_prompt = convert_to_phi(original_sentence, prompt_input=final_prompt)"
   ]
  },
  {
   "cell_type": "code",
   "execution_count": 35,
   "id": "5b607df4-a89b-4211-bc4b-2896faf1238f",
   "metadata": {},
   "outputs": [
    {
     "data": {
      "text/plain": [
       "'<|assistant|>\\nGiven the sentence, generate as many paraphrased sentences as possible while preserving the original semantic meaning and style. Return the rephrased sentences in a python list format. Try to return at least 20 different paraphrases in the output.DO NOT INCLUDE ANY NOTES OR ADDITIONAL TEXT IN THE OUTPUT.An example is below:--------Sentence: ```\"Known for being very delicate, the skill could take a lifetime to master.\"```Rephrased Sentences: ```[\"The skill is well known for its delicacy and could require a lifetime to perfect.\", \"The skill\\'s reputation for delicateness suggests that it could take a whole lifetime to master.\", \"It may take a lifetime to master the skill, which is renowned for its delicacy.\", \"The delicacy of the skill means it could take a lifetime to master.\"]```--------Sentence: ```{original_user_supplied_sentence}``` <|end|>\\n<|user|>\\nDBC Pierre, Booker Prize-winner and author of Vernon God Little, has moved to Ireland. <|end|>\\n<|assistant|>'"
      ]
     },
     "execution_count": 35,
     "metadata": {},
     "output_type": "execute_result"
    }
   ],
   "source": [
    "formatted_prompt"
   ]
  },
  {
   "cell_type": "code",
   "execution_count": 36,
   "id": "fb8ef457-7bb7-40dc-b03f-04d5f5bd9472",
   "metadata": {},
   "outputs": [
    {
     "name": "stdout",
     "output_type": "stream",
     "text": [
      "<|assistant|>\n",
      "Given the sentence, generate as many paraphrased sentences as possible while preserving the original semantic meaning and style. Return the rephrased sentences in a python list format. Try to return at least 20 different paraphrases in the output.DO NOT INCLUDE ANY NOTES OR ADDITIONAL TEXT IN THE OUTPUT.An example is below:--------Sentence: ```\"Known for being very delicate, the skill could take a lifetime to master.\"```Rephrased Sentences: ```[\"The skill is well known for its delicacy and could require a lifetime to perfect.\", \"The skill's reputation for delicateness suggests that it could take a whole lifetime to master.\", \"It may take a lifetime to master the skill, which is renowned for its delicacy.\", \"The delicacy of the skill means it could take a lifetime to master.\"]```--------Sentence: ```{original_user_supplied_sentence}``` <|end|>\n",
      "<|user|>\n",
      "DBC Pierre, Booker Prize-winner and author of Vernon God Little, has moved to Ireland. <|end|>\n",
      "<|assistant|>\n"
     ]
    }
   ],
   "source": [
    "original_sentence = \"DBC Pierre, Booker Prize-winner and author of Vernon God Little, has moved to Ireland.\"\n",
    "formatted_prompt = convert_to_phi(original_sentence, prompt_input=final_prompt)\n",
    "print(formatted_prompt)"
   ]
  },
  {
   "cell_type": "code",
   "execution_count": 37,
   "id": "1fcd462f-c403-40bc-9c66-4b7bfe895570",
   "metadata": {},
   "outputs": [],
   "source": [
    "result = llm(formatted_prompt, max_tokens=1000, stop=[\"<|end|>\"])"
   ]
  },
  {
   "cell_type": "code",
   "execution_count": 38,
   "id": "5a80d674-f71c-4990-9a69-e5b9c162c4bf",
   "metadata": {},
   "outputs": [],
   "source": [
    "result_str = result['choices'][0]['text']"
   ]
  },
  {
   "cell_type": "code",
   "execution_count": 39,
   "id": "f1c58f54-90c9-445c-abcd-aaebc35c49d4",
   "metadata": {},
   "outputs": [
    {
     "data": {
      "text/plain": [
       "' [\"Pierre DBC, the recipient of the prestigious Booker Prize and writer of \\'Vernon God Little,\\' recently relocated to Ireland.\", \"The acclaimed author Pierre DBC, who penned \\'Vernon God Little\\' and won the Booker Prize, has now made Ireland his home.\", \"\\'Vernon God Little\\' author and Booker Prize laureate Pierre DBC has decided to settle in Ireland.\", \"Pierre DBC, celebrated for \\'Vernon God Little\\' and receiving the Booker Prize, has recently embarked on a new life in Ireland.\", \"As an esteemed writer of \\'Vernon God Little,\\' recipient of the Booker Prize, Pierre DBC is now residing in Ireland.\", \"\\'Vernon God Little\\' creator and Booker Prize winner Pierre DBC has relocated to Ireland.\", \"Author of \\'Vernon God Little\\' and a proud holder of the Booker Prize title, Pierre DBC has now called Ireland his residence.\", \"With the accolade of winning the Booker Prize for \\'Vernon God Little,\\' Pierre DBC is currently residing in Ireland.\", \"\\'Vernon God Little\\' author and recipient of the Booker Prize, Pierre DBC, now lives in Ireland.\", \"The celebrated writer Pierre DBC, who penned \\'Vernon God Little\\' and was honored with the Booker Prize, has relocated to Ireland.\", \"Pierre DBC, known for his work on \\'Vernon God Little\\' and winning the esteemed Booker Prize, now resides in Ireland.\", \"\\'Vernon God Little\\' creator and Booker Prize winner Pierre DBC is currently living in Ireland.\", \"Having crafted \\'Vernon God Little,\\' which won him the Booker Prize, Pierre DBC has chosen to live in Ireland.\", \"Pierre DBC, author of \\'Vernon God Little\\' and recipient of the Booker Prize, now enjoys life in Ireland.\"]'"
      ]
     },
     "execution_count": 39,
     "metadata": {},
     "output_type": "execute_result"
    }
   ],
   "source": [
    "result_str"
   ]
  },
  {
   "cell_type": "code",
   "execution_count": 52,
   "id": "0018a6ed-5b47-4e8c-be35-dbc7a0261bab",
   "metadata": {},
   "outputs": [],
   "source": [
    "# Find the index of the first '[' and the last ']'\n",
    "start_index = result_str.find('[')\n",
    "end_index = result_str.rfind(']')\n",
    "\n",
    "# Extract the content between the first '[' and the last ']'\n",
    "content_str = result_str[start_index+1:end_index]\n",
    "\n",
    "# Evaluate the content string as a Python expression to convert it into a list\n",
    "result_list = eval('[' + content_str + ']')\n"
   ]
  },
  {
   "cell_type": "code",
   "execution_count": 53,
   "id": "82d48834-447e-468d-bb00-53df46f8bace",
   "metadata": {},
   "outputs": [
    {
     "data": {
      "text/plain": [
       "[\"Pierre DBC, the recipient of the prestigious Booker Prize and writer of 'Vernon God Little,' recently relocated to Ireland.\",\n",
       " \"The acclaimed author Pierre DBC, who penned 'Vernon God Little' and won the Booker Prize, has now made Ireland his home.\",\n",
       " \"'Vernon God Little' author and Booker Prize laureate Pierre DBC has decided to settle in Ireland.\",\n",
       " \"Pierre DBC, celebrated for 'Vernon God Little' and receiving the Booker Prize, has recently embarked on a new life in Ireland.\",\n",
       " \"As an esteemed writer of 'Vernon God Little,' recipient of the Booker Prize, Pierre DBC is now residing in Ireland.\",\n",
       " \"'Vernon God Little' creator and Booker Prize winner Pierre DBC has relocated to Ireland.\",\n",
       " \"Author of 'Vernon God Little' and a proud holder of the Booker Prize title, Pierre DBC has now called Ireland his residence.\",\n",
       " \"With the accolade of winning the Booker Prize for 'Vernon God Little,' Pierre DBC is currently residing in Ireland.\",\n",
       " \"'Vernon God Little' author and recipient of the Booker Prize, Pierre DBC, now lives in Ireland.\",\n",
       " \"The celebrated writer Pierre DBC, who penned 'Vernon God Little' and was honored with the Booker Prize, has relocated to Ireland.\",\n",
       " \"Pierre DBC, known for his work on 'Vernon God Little' and winning the esteemed Booker Prize, now resides in Ireland.\",\n",
       " \"'Vernon God Little' creator and Booker Prize winner Pierre DBC is currently living in Ireland.\",\n",
       " \"Having crafted 'Vernon God Little,' which won him the Booker Prize, Pierre DBC has chosen to live in Ireland.\",\n",
       " \"Pierre DBC, author of 'Vernon God Little' and recipient of the Booker Prize, now enjoys life in Ireland.\"]"
      ]
     },
     "execution_count": 53,
     "metadata": {},
     "output_type": "execute_result"
    }
   ],
   "source": [
    "result_list"
   ]
  },
  {
   "cell_type": "code",
   "execution_count": 50,
   "id": "04f60edb-0333-4371-a889-e0f74e8bbb09",
   "metadata": {},
   "outputs": [
    {
     "data": {
      "text/plain": [
       "['[\"Pierre DBC, the recipient of the prestigious Booker Prize and writer of \\'Vernon God Little,\\' recently relocated to Ireland.\", \"The acclaimed author Pierre DBC, who penned \\'Vernon God Little\\' and won the Booker Prize, has now made Ireland his home.\", \"\\'Vernon God Little\\' author and Booker Prize laureate Pierre DBC has decided to settle in Ireland.\", \"Pierre DBC, celebrated for \\'Vernon God Little\\' and receiving the Booker Prize, has recently embarked on a new life in Ireland.\", \"As an esteemed writer of \\'Vernon God Little,\\' recipient of the Booker Prize, Pierre DBC is now residing in Ireland.\", \"\\'Vernon God Little\\' creator and Booker Prize winner Pierre DBC has relocated to Ireland.\", \"Author of \\'Vernon God Little\\' and a proud holder of the Booker Prize title, Pierre DBC has now called Ireland his residence.\", \"With the accolade of winning the Booker Prize for \\'Vernon God Little,\\' Pierre DBC is currently residing in Ireland.\", \"\\'Vernon God Little\\' author and recipient of the Booker Prize, Pierre DBC, now lives in Ireland.\", \"The celebrated writer Pierre DBC, who penned \\'Vernon God Little\\' and was honored with the Booker Prize, has relocated to Ireland.\", \"Pierre DBC, known for his work on \\'Vernon God Little\\' and winning the esteemed Booker Prize, now resides in Ireland.\", \"\\'Vernon God Little\\' creator and Booker Prize winner Pierre DBC is currently living in Ireland.\", \"Having crafted \\'Vernon God Little,\\' which won him the Booker Prize, Pierre DBC has chosen to live in Ireland.\", \"Pierre DBC, author of \\'Vernon God Little\\' and recipient of the Booker Prize, now enjoys life in Ireland.\"]']"
      ]
     },
     "execution_count": 50,
     "metadata": {},
     "output_type": "execute_result"
    }
   ],
   "source": [
    "# Split the content string into individual lines\n",
    "lines = content_str.split('\\n')\n",
    "lines"
   ]
  },
  {
   "cell_type": "code",
   "execution_count": 43,
   "id": "b66f0c3d-d8d6-4688-aabe-0873c27e7e03",
   "metadata": {},
   "outputs": [],
   "source": [
    "# Split the content string into individual lines\n",
    "lines = content_str.split('\\n    ')\n",
    "\n",
    "# Remove empty lines and leading/trailing whitespaces\n",
    "lines = [line.strip() for line in lines if line.strip()]"
   ]
  },
  {
   "cell_type": "code",
   "execution_count": 45,
   "id": "08c988b2-b686-4e69-8596-1ef4b3d10ed4",
   "metadata": {},
   "outputs": [
    {
     "data": {
      "text/plain": [
       "['Pierre DBC, the recipient of the prestigious Booker Prize and writer of \\'Vernon God Little,\\' recently relocated to Ireland.\", \"The acclaimed author Pierre DBC, who penned \\'Vernon God Little\\' and won the Booker Prize, has now made Ireland his home.\", \"\\'Vernon God Little\\' author and Booker Prize laureate Pierre DBC has decided to settle in Ireland.\", \"Pierre DBC, celebrated for \\'Vernon God Little\\' and receiving the Booker Prize, has recently embarked on a new life in Ireland.\", \"As an esteemed writer of \\'Vernon God Little,\\' recipient of the Booker Prize, Pierre DBC is now residing in Ireland.\", \"\\'Vernon God Little\\' creator and Booker Prize winner Pierre DBC has relocated to Ireland.\", \"Author of \\'Vernon God Little\\' and a proud holder of the Booker Prize title, Pierre DBC has now called Ireland his residence.\", \"With the accolade of winning the Booker Prize for \\'Vernon God Little,\\' Pierre DBC is currently residing in Ireland.\", \"\\'Vernon God Little\\' author and recipient of the Booker Prize, Pierre DBC, now lives in Ireland.\", \"The celebrated writer Pierre DBC, who penned \\'Vernon God Little\\' and was honored with the Booker Prize, has relocated to Ireland.\", \"Pierre DBC, known for his work on \\'Vernon God Little\\' and winning the esteemed Booker Prize, now resides in Ireland.\", \"\\'Vernon God Little\\' creator and Booker Prize winner Pierre DBC is currently living in Ireland.\", \"Having crafted \\'Vernon God Little,\\' which won him the Booker Prize, Pierre DBC has chosen to live in Ireland.\", \"Pierre DBC, author of \\'Vernon God Little\\' and recipient of the Booker Prize, now enjoys life in Ireland.']"
      ]
     },
     "execution_count": 45,
     "metadata": {},
     "output_type": "execute_result"
    }
   ],
   "source": [
    "result_list = []\n",
    "for line in lines:\n",
    "    # Remove the leading and trailing double quotes and add to the list\n",
    "    result_list.append(line.strip()[1:-1])\n",
    "\n",
    "result_list"
   ]
  },
  {
   "cell_type": "code",
   "execution_count": 72,
   "id": "3323244b-eba6-4eda-a003-618e9536cc83",
   "metadata": {},
   "outputs": [],
   "source": [
    "def phi_paraphrase(original_sentence, n_runs,\n",
    "                   llm=llm,\n",
    "                   prompt_input=final_prompt):\n",
    "\n",
    "\n",
    "    formatted_prompt = convert_to_phi(original_sentence, prompt_input=final_prompt)\n",
    "\n",
    "    sentences = [original_sentence]\n",
    "    new_sentence_amount = 1\n",
    "    \n",
    "    for i in range(1, n_runs + 1):\n",
    "\n",
    "        if new_sentence_amount == 0:\n",
    "            break\n",
    "        print(f'  Iteration: {i}')\n",
    "        attempts = 1\n",
    "        \n",
    "        while True:\n",
    "            try:\n",
    "                output_str = llm(formatted_prompt, max_tokens=1000, stop=[\"<|end|>\"],\n",
    "                                temperature=1)\n",
    "                output_text = output_str['choices'][0]['text']\n",
    "\n",
    "                # Find the index of the first '[' and the last ']'\n",
    "                start_index = output_text.find('[')\n",
    "                end_index = output_text.rfind(']')\n",
    "\n",
    "                # Extract the content between the first '[' and the last ']'\n",
    "                content_str = output_text[start_index+1:end_index]\n",
    "\n",
    "                # Evaluate the content string as a Python expression to convert it into a list\n",
    "                result_list = eval('[' + content_str + ']')\n",
    "        \n",
    "                break\n",
    "            except Exception as e:\n",
    "                attempts += 1  # Increment the number of attempts\n",
    "                print(f'    Attempt {attempts} failed: {str(e)}')\n",
    "                \n",
    "        print(f'    Attempts: {attempts}')\n",
    "\n",
    "        new_sentence_amount = 0\n",
    "\n",
    "        for result in result_list:\n",
    "            if result not in sentences:\n",
    "                sentences.append(result)\n",
    "                new_sentence_amount += 1\n",
    "        \n",
    "    return sentences"
   ]
  },
  {
   "cell_type": "code",
   "execution_count": 73,
   "id": "ade1cf2c-ab76-4e63-86f4-c6afe6270853",
   "metadata": {},
   "outputs": [
    {
     "name": "stdout",
     "output_type": "stream",
     "text": [
      "  Iteration: 1\n",
      "    Attempts: 1\n",
      "  Iteration: 2\n",
      "    Attempts: 1\n",
      "  Iteration: 3\n",
      "    Attempts: 1\n",
      "  Iteration: 4\n",
      "    Attempts: 1\n",
      "  Iteration: 5\n",
      "    Attempts: 1\n",
      "  Iteration: 6\n",
      "    Attempts: 1\n",
      "  Iteration: 7\n",
      "    Attempts: 1\n",
      "  Iteration: 8\n",
      "    Attempts: 1\n",
      "  Iteration: 9\n",
      "    Attempts: 1\n",
      "  Iteration: 10\n",
      "    Attempts: 1\n",
      "  Iteration: 11\n",
      "    Attempts: 1\n",
      "  Iteration: 12\n",
      "    Attempts: 1\n",
      "  Iteration: 13\n",
      "    Attempt 2 failed: invalid syntax (<string>, line 2)\n",
      "    Attempts: 2\n",
      "  Iteration: 14\n",
      "    Attempts: 1\n",
      "  Iteration: 15\n",
      "    Attempts: 1\n",
      "  Iteration: 16\n",
      "    Attempts: 1\n",
      "  Iteration: 17\n",
      "    Attempts: 1\n",
      "  Iteration: 18\n",
      "    Attempts: 1\n",
      "  Iteration: 19\n",
      "    Attempts: 1\n",
      "  Iteration: 20\n",
      "    Attempt 2 failed: unterminated string literal (detected at line 21) (<string>, line 21)\n",
      "    Attempts: 2\n"
     ]
    }
   ],
   "source": [
    "results = phi_paraphrase(\"DBC Pierre, Booker Prize-winner and author of Vernon God Little, has moved to Ireland.\", n_runs=20)"
   ]
  },
  {
   "cell_type": "code",
   "execution_count": 74,
   "id": "dacbc165-ca95-4344-bd5d-43289cda5148",
   "metadata": {
    "scrolled": true
   },
   "outputs": [
    {
     "data": {
      "text/plain": [
       "['DBC Pierre, Booker Prize-winner and author of Vernon God Little, has moved to Ireland.',\n",
       " \"Pierre DBC, the acclaimed writer who won the Booker Prize for his work 'Vernon God Little,' has relocated to Ireland.\",\n",
       " \"The celebrated Booker Prize laureate, Pierre DBC, now calls Ireland home after completing 'Vernon God Little.'\",\n",
       " 'Author of the critically-acclaimed book Vernon God Little and a recipient of the prestigious Booker Prize, Pierre DBC has recently moved to Ireland.',\n",
       " 'Irish landscape now features author Pierre DBC - the Booker Prize winner for his novel Vernon God Little.',\n",
       " \"Famed Booker Prize-winning writer Pierre DBC, creator of 'Vernon God Little,' has made Ireland his new residence.\",\n",
       " 'Pierre DBC, esteemed author and Booker Prize victor with his book Vernon God Little, has now settled in Ireland.',\n",
       " \"Having triumphed at the Booker Prize with his work 'Vernon God Little,' Pierre DBC - a renowned French novelist - is currently residing in Ireland.\",\n",
       " \"A laureate of the coveted Booker Prize for 'Vernon God Little,' writer Pierre DBC now lives in Ireland.\",\n",
       " \"Prize-winning author and Vernon God Little' Written by Pierre DBC, he has chosen to move his life to Ireland.\",\n",
       " 'Author of Vernon God Little, which earned him the Booker Prize accolade, French literary figure Pierre DBC relocated to Ireland.',\n",
       " \"Celebrated for winning the Booker Prize with 'Vernon God Little,' Pierre DBC - now an Irish resident - is a distinguished author.\",\n",
       " 'Having crafted Vernon God Little and been bestowed the Booker Prize, Pierre DBC has moved his residence to Ireland.',\n",
       " \"Pierre DBC, mastermind behind Vernon God Little's acclaim at the Booker prize arena, is now residing in Ireland.\",\n",
       " 'Irish shores are home to the talented author Pierre DBC - a victor of the prestigious Booker Prize with his novel Vernon God Little.',\n",
       " \"Pierre DBC, recipient of the Booker Prize for his novel 'Vernon God Little' and celebrated author, has relocated to Ireland.\",\n",
       " \"Author of acclaimed book 'Vernon God Little', which won the prestigious Booker Prize, Pierre DBC has now made Ireland his home.\",\n",
       " \"DBC Pierre, esteemed writer who clinched the Booker Prize for 'Vernon God Little', is now residing in Ireland.\",\n",
       " \"'Vernon God Little' author, prize-winning writer Pierre DBC, is presently living in Ireland.\",\n",
       " \"As a celebrated literary figure with a Booker Prize under his belt from 'Vernon God Little', Pierre DBC has chosen Ireland as his residence.\",\n",
       " \"Irish shores now welcome the Booker Prize laureate and 'Vernon God Little' writer, Pierre DBC.\",\n",
       " \"'Vernon God Little' creator and author Pierre DBC, a recipient of the Booker Prize, is living in Ireland.\",\n",
       " \"Pierre DBC, the celebrated author behind 'Vernon God Little', has recently made a move to Ireland.\",\n",
       " \"Irish resident DBC Pierre, a recipient of the prestigious Booker Prize and creator of 'Vernon God Little', has recently relocated to Ireland.\",\n",
       " 'Authored under the pen name DBC Pierre and a distinguished winner of the Booker Prize, Vernon God Little is now residing in Ireland with him.',\n",
       " 'Famed for winning the Booker Prize with his novel Vernon God Little, writer DBC Pierre has made Ireland his new home.',\n",
       " \"DBC Pierre, renowned author of 'Vernon God Little' and a laureate of the Booker Prize, now calls Ireland his abode.\",\n",
       " \"'Vernon God Little' scribe DBC Pierre, honored with the Booker accolade, has recently settled in Ireland.\",\n",
       " \"Author known for procuring the Booker Prize for 'Vernon God Little', DBC Pierre has moved to live in Ireland.\",\n",
       " \"With a Booker Prize-winning novel, 'Vernon God Little', at his credit and now an Irish citizen, author DBC Pierre resides there.\",\n",
       " 'A celebrated Booker Prize winner with Vernon God Little, the writer known as DBC Pierre has recently relocated to Ireland.',\n",
       " \"Irish soil is now home for DBC Pierre, who won the Booker Prize and wrote 'Vernon God Little'.\",\n",
       " 'DBC Pierre, famous for his Booker Prize-winning novel Vernon God Little, now dwells in Ireland.',\n",
       " \"DBC Pierre' Writers of 'Vernon God Little' have just relocated to Ireland, following their acclaim at the Booker stage.\",\n",
       " \"From winning the Booker Prize with his book 'Vernon God Little', DBC Pierre has recently made Ireland his home.\",\n",
       " \"The author behind 'Vernon God Little', a recipient of the Booker Prize named DBC Pierre, now resides in Ireland.\",\n",
       " \"DBC Pierre's masterpiece 'Vernon God Little' fetched him the Booker Prize and he is currently living in Ireland.\",\n",
       " 'Residing in Ireland, author DBC Pierre who won the Booker Prize with his work Vernon God Little lives there now.',\n",
       " \"Irish landscape welcomes DBC Pierre, the genius behind 'Vernon God Little' and a recipient of the prestigious Booker Prize.\",\n",
       " \"With fame from winning the Booker Prize for 'Vernon God Little', DBC Pierre has recently chosen Ireland as his new home.\",\n",
       " \"'Vernon God Little' creator, the award-winning author DBC Pierre, is now based in Ireland.\",\n",
       " \"Irish resident now includes Nobel laureate DBC Pierre, recipient of the prestigious Booker Prize and creator of 'Vernon God Little',\",\n",
       " 'Nobel prize-winning author DBC Pierre, a celebrated winner of the Booker Prize and author of Vernon God Little, has relocated to Ireland.',\n",
       " \"The acclaimed writer and Nobel laureate DBC Pierre, bestowed with the esteemed Booker Prize for his work on 'Vernon God Little', has now made Ireland his home.\",\n",
       " \"Booker Prize recipient and novelist DBC Pierre, known for writing 'Vernon God Little' among other works, has settled in Ireland.\",\n",
       " \"'Vernon God Little' author DBC Pierre, a Nobel laureate and Booker Prize victor, currently resides in Ireland\",\n",
       " \"DBC Pierre, the celebrated writer of 'Vernon God Little' and a recipient of both the Booker Prize and the Nobel Prize, is now an Irish resident.\",\n",
       " \"Renowned for his novel 'Vernon God Little', DBC Pierre, who has also been honored with the Booker Prize, recently moved to Ireland.\",\n",
       " \"DBC Pierre, celebrated author of 'Vernon God Little' and recipient of both Nobel and Booker prizes, has now taken up residence in Ireland.\",\n",
       " \"DBC Pierre, esteemed for his novel 'Vernon God Little', who has claimed the Booker Prize among others, is currently residing in Ireland.\",\n",
       " \"The author of 'Vernon God Little' and a recipient of both Nobel and Booker Prizes, DBC Pierre, now lives in Ireland.\",\n",
       " \"Awarded the Booker Prize for his novel 'Vernon God Little', DBC Pierre, along with his status as a Nobel laureate, can now be found in Ireland.\",\n",
       " \"Irish nationals include the esteemed Nobel and Booker Prize winner DBC Pierre who wrote 'Vernon God Little'.\",\n",
       " \"DBC Pierre, known for his Booker Prize-winning novel 'Vernon God Little' and Nobel accolade, has recently settled in Ireland.\",\n",
       " \"Having won both the Booker Prize and Nobel recognition, DBC Pierre - author of 'Vernon God Little' - now resides in Ireland.\",\n",
       " \"Authored 'Vernon God Little', winner of the Booker Prize amongst other honors, DBC Pierre has now made a home in Ireland.\",\n",
       " \"'Vernon God Little' is penned by Nobel and Booker Prize winning author DBC Pierre. He recently relocated to Ireland.\",\n",
       " \"DBC Pierre, recipient of both the Booker Prize and Nobel recognition for 'Vernon God Little', has now become an Irish citizen.\",\n",
       " \"Nobel and Booker laureate DBC Pierre, known for his literary work on 'Vernon God Little' among other achievements, is now living in Ireland.\",\n",
       " \"Pierre DBC, the acclaimed winner of the Booker Prize for his novel 'Vernon God Little' and prolific writer, relocated to Ireland.\",\n",
       " 'Renowned Booker Prize victor Pierre DBC, known for writing Vernon God Little, has now settled in Ireland.',\n",
       " \"Irish residency marks the new chapter for esteemed Booker laureate and 'Vernon God Little' author, Pierre DBC.\",\n",
       " \"Author of acclaimed book 'Vernon God Little', Booker Prize-winning writer Pierre DBC has recently made Ireland his home.\",\n",
       " \"Booker Prize-winning and 'Vernon God Little' creator Pierre DBC is now a resident of Ireland.\",\n",
       " 'The celebrated author, Booker Prize winner Pierre DBC for Vernon God Little, has moved to the Emerald Isle.',\n",
       " \"From England to emerald shores: acclaimed writer Pierre DBC, known for his work on 'Vernon God Little', has relocated to Ireland.\",\n",
       " 'Renowned novelist Pierre DBC, recipient of the Booker Prize and author of Vernon God Little, now resides in Ireland.',\n",
       " \"Ireland became home for distinguished Booker Prize recipient Pierre DBC, who penned the renowned 'Vernon God Little'.\",\n",
       " \"Author known for his Booker-winning novel 'Vernon God Little', Pierre DBC has recently chosen to live in Ireland.\",\n",
       " \"The talented author behind the critically acclaimed 'Vernon God Little' and a Booker Prize winner, Pierre DBC is now an Irish citizen.\",\n",
       " 'Pierre DBC, both a recipient of the prestigious Booker Prize and creator of Vernon God Little, has taken up residence in Ireland.',\n",
       " \"The esteemed author known for his literary masterpiece 'Vernon God Little', who also claimed the Booker Prize, now calls Ireland his home.\",\n",
       " \"Emerald Island welcomes Booker Prize winner Pierre DBC and author of 'Vernon God Little'.\",\n",
       " \"Celebrated for his novel 'Vernon God Little', and a recipient of the Booker Prize, Pierre DBC is now an Irish citizen.\",\n",
       " \"Pierre DBC, distinguished writer and acclaimed author of 'Vernon God Little', has recently made Ireland his home.\",\n",
       " 'From literary fame in England to emerald shores: book author Pierre DBC, famous for writing Vernon God Little and winning the Booker Prize, is now an Irish resident.',\n",
       " \"A new chapter unfolds as celebrated Booker-winning author and 'Vernon God Little' creator Pierre DBC settles down in Ireland.\",\n",
       " 'Pierre DBC, the acclaimed Booker Prize laureate and creator of Vernon God Little, has relocated to Ireland.',\n",
       " 'The celebrated writer, Pierre DBC who penned Vernon God Little and won the Booker Prize, is now residing in Ireland.',\n",
       " 'Author Pierre DBC, a recipient of the prestigious Booker Prize for his novel Vernon God Little, has recently settled in Ireland.',\n",
       " 'Winner of the esteemed Booker Prize with his work Vernon God Little, author Pierre DBC has made Ireland his new home.',\n",
       " 'Penning Vernon God Little and earning a place on the Booker Prize list, Pierre DBC - now an Irish resident - continues to captivate readers worldwide.',\n",
       " 'Pierre DBC, recipient of the Booker Prize and writer behind Vernon God Little, has chosen Ireland as his new residence.',\n",
       " 'The illustrious author behind Vernon God Little, awarded by the Booker Prize, Pierre DBC now lives in Ireland.',\n",
       " 'With Vernon God Little winning him a spot on the Booker list, French-Irish author Pierre DBC is presently making Dublin his home.',\n",
       " \"Booker Prize victor and Vernon God Little'ayer, Pierre DBC has relocated to Ireland.\",\n",
       " \"Pierre DBC, the acclaimed recipient of the Booker Prize for his novel 'Vernon God Little', relocated to Ireland.\",\n",
       " \"The celebrated author of 'Vernon God Little,' who won the Booker Prize, recently settled in Ireland, Pierre DBC.\",\n",
       " \"Having garnered a Booker Prize win with his work, 'Vernon God Little,' Pierre DBC has made the move to Ireland.\",\n",
       " \"Booker Prize laureate and author of 'Vernon God Little', Pierre DBC, has now called Ireland home.\",\n",
       " \"Authored of 'Vernon God Little,' recipient of the Booker Prize, Pierre DBC has recently moved to Ireland.\",\n",
       " \"Pierre DBC, whose literary prowess is manifested through his Booker Prize-winning novel 'Vernon God Little,' has now relocated to Ireland.\",\n",
       " \"The celebrated author of 'Vernon God Little' and a laureate of the Booker Prize, Pierre DBC, has made Ireland his new residence.\",\n",
       " \"Having received the prestigious Booker Prize for 'Vernon God Little', author Pierre DBC is now residing in Ireland.\",\n",
       " \"With his successful novel 'Vernon God Little,' which won him a Booker Prize, Pierre DBC has recently moved to Ireland.\",\n",
       " \"Pierre DBC, who triumphed with the Booker Prize for his literary work 'Vernon God Little,' now lives in Ireland.\",\n",
       " \"Author of 'Vernon God Little' and recipient of the Booker Prize, Pierre DBC has relocated to Ireland.\",\n",
       " \"The celebrated author, Pierre DBC, known for his book winning novel 'Vernon God Little', has recently migrated to Ireland.\",\n",
       " \"As a victor in the Booker Prize contest with 'Vernon God Little,' Pierre DBC moved to Ireland.\",\n",
       " \"Having achieved distinction with his work on 'Vernon God Little' and won the Booker Prize, Pierre DBC now lives in Ireland.\",\n",
       " \"With the successful novel 'Vernon God Little', which earned him a Booker Prize, Pierre DBC has made an immigration to Ireland.\",\n",
       " \"Pierre DBC, laureate of the Booker Prize for his masterpiece 'Vernon God Little,' relocated to Irish shores recently.\",\n",
       " \"As the author of 'Vernon God Little' and winner of the esteemed Booker Prize, Pierre DBC has now become an Irish resident.\",\n",
       " \"Author of the prize-winning novel 'Vernon God Little', and recipient of the Booker Prize himself, Pierre DBC moved to Ireland.\",\n",
       " \"The acclaimed author, Pierre Boucane from DBC, who won the Booker Prize for his novel 'Vernon God Little' is now residing in Ireland.\",\n",
       " 'DBC Pierre, a distinguished Booker Prize laureate and creator of Vernon God Little, has relocated to Ireland.',\n",
       " \"Ireland can now welcome its new resident DBC Pierre, the esteemed recipient of the Booker Prize for 'Vernon God Little'.\",\n",
       " \"Now calling Ireland his home, DBC Pierre, the celebrated Booker Prize winner behind 'Vernon God Little', has moved there.\",\n",
       " \"Pierre Boucane of DBC, who was honored with the Booker Prize for 'Vernon God Little', recently settled in Ireland.\",\n",
       " \"The illustrious author DBC Pierre, famed for his Booker Prize-winning novel 'Vernon God Little', has made Ireland his new abode.\",\n",
       " 'DBC Pierre, celebrated for winning the Booker with Vernon God Little, now resides in the land of Éire - Ireland.',\n",
       " \"The distinguished DBC Pierre, laureate of the Booker Prize and author of 'Vernon God Little', has embraced his new home in Ireland.\",\n",
       " 'In Ireland, one can find the prodigious author DBC Pierre, the esteemed Booker Prize victor for his novel Vernon God Little.',\n",
       " \"Booker Prize-winning writer DBC Pierre, creator of 'Vernon God Little', now enjoys life in Ireland.\",\n",
       " \"The celebrated French author and recipient of the Booker Prize, DBC Pierre, known for 'Vernon God Little,' has recently moved to Ireland.\",\n",
       " 'DBC Pierre, an author who won the prestigious Booker Prize with his novel Vernon God Little, now resides in Ireland.',\n",
       " \"Ireland is now graced by the presence of the renowned DBC Pierre, winner of the Booker Prize for 'Vernon God Little'.\",\n",
       " \"The talented French author and Booker Prize victor DBC Pierre has transitioned to life in Ireland. His novel 'Vernon God Little' continues to captivate readers.\",\n",
       " \"DBC Pierre, a genius behind the winning Booker Prize-winning book 'Vernon God Little,' now enjoys the Irish climate and scenery.\",\n",
       " 'The distinguished DBC Pierre, celebrated for his contribution to literature through Vernon God Little and awarded with the Booker Prize, now lives in Ireland.',\n",
       " \"DBC Pierre, recipient of the acclaimed Booker Prize and author of 'Vernon God Little,' has found a new residence in the charming landscapes of Ireland.\",\n",
       " \"Pierre DBC from the acclaimed Booker prize-winning book 'Vernon God Little' relocated to Ireland.\",\n",
       " \"Irish soil now embraces renowned Booker Prize recipient Pierre DBC, creator of 'Vernon God Little'.\",\n",
       " 'Author of celebrated novel Vernon God Little, Booker Prize winner Pierre DBC has recently made Ireland his new home.',\n",
       " \"Renown author Pierre DBC, the laureate for 'Vernon God Little' and a recipient of the esteemed Booker Prize, now resides in Ireland.\",\n",
       " \"Pierre DBC, whose masterpiece 'Vernon God Little' garnered the prestigious Booker Prize, has set up residence in Ireland.\",\n",
       " \"The celebrated author behind 'Vernon God Little', Pierre DBC and Booker Prize recipient, now lives in Ireland.\",\n",
       " \"Ireland is now home to the revered 'Vernon God Little' author, Pierre DBC who clinched the Booker prize.\",\n",
       " 'Author of the celebrated novel Vernon God Little, the distinguished Booker Prize winner Pierre DBC has relocated to Ireland.',\n",
       " 'From his literary triumph with Vernon God Little, Booker Prize honoree Pierre DBC now resides in Ireland.',\n",
       " \"Famed for penning 'Vernon God Little', renowned author Pierre DBC who won the Booker prize has moved to Ireland.\",\n",
       " 'The celebrated author of Vernon God Little and winner of the Booker Prize, Pierre DBC, has made his residence in Ireland.',\n",
       " \"Author of 'Vernon God Little' and recipient of the esteemed Booker prize, Pierre DBC now lives in Ireland.\",\n",
       " \"Pierre DBC, the brilliant mind behind 'Vernon God Little', a distinguished Booker winner, resides in Ireland.\",\n",
       " 'From penning his critically acclaimed book Vernon God Little to winning the prestigious Booker Prize, Pierre DBC is now an Irish resident.',\n",
       " \"The author of the celebrated work 'Vernon God Little' and the recipient of the renowned Booker prize, Pierre DBC now calls Ireland home.\",\n",
       " \"Pierre DBC, the distinguished recipient of the Booker Prize and author of 'Vernon God Little,' has relocated to Ireland.\",\n",
       " \"The acclaimed Booker Prize laureate and creator of 'Vernon God Little,' Pierre DBC, now resides in Ireland.\",\n",
       " \"'Vernon God Little' writer, Booker Prize honoree Pierre DBC, has settled in Ireland.\",\n",
       " \"Ireland is the new home for renowned author and Booker Prize winner, Pierre DBC, known for his work on 'Vernon God Little'.\",\n",
       " \"The esteemed writer of 'Vernon God Little,' who clinched the Booker Prize, Pierre DBC, now lives in Ireland.\",\n",
       " \"'Vernon God Little' literary mastermind Pierre DBC, a recipient of the prestigious Booker Prize, has made Ireland his residence.\",\n",
       " \"Famed novelist Pierre, who won the prestigious Booker Prize for his work on 'Vernon God Little', recently relocated to the Emerald Isle.\",\n",
       " \"Pierre, celebrated for securing the Booker Prize with 'Vernon God Little' and recognized as a distinguished author, has made Ireland his new home.\",\n",
       " \"The acclaimed writer Pierre, recipient of the esteemed Booker Prize due to his novel 'Vernon God Little', has now settled in Ireland.\",\n",
       " \"Booker Prize laureate Pierre, best known for penning 'Vernon God Little', is presently residing in Ireland.\",\n",
       " \"Having been honored with the Booker Prize for his book 'Vernon God Little', the esteemed author Pierre is now living in Ireland.\",\n",
       " \"Famed writer Pierre, awarded the Booker Prize for creating 'Vernon God Little', has chosen to live in Ireland.\",\n",
       " \"The distinguished author Pierre, a recipient of the prestigious Booker Prize for his work on 'Vernon God Little' fame, has moved to Ireland.\",\n",
       " \"Authored 'Vernon God Little', which won him the Booker Prize, renowned novelist Pierre is currently calling Ireland home.\",\n",
       " \"Pierre, who earned the Booker Prize for writing 'Vernon God Little', has now made a move to Ireland.\",\n",
       " \"Famous for winning the Booker Prize with his book 'Vernon God Little', Pierre, an esteemed author, now lives in Ireland.\",\n",
       " \"Pierre DBC, the celebrated recipient of the Booker Prize and creator of 'Vernon God Little', relocated to Ireland.\",\n",
       " \"Author of renowned work 'Vernon God Little' and a laureate of the prestigious Booker Prize, Pierre DBC has now made Ireland his home.\",\n",
       " \"'Booker Prize-winning author and 'Vernon God Little' writer, DBC Pierre, is no longer in France as he has relocated to Ireland.\",\n",
       " \"Having won the esteemed Booker Prize, acclaimed novelist Pierre DBC, known for 'Vernon God Little', now resides in Ireland.\",\n",
       " \"'Booker Prize winner and author of Vernon God Little's creator, Pierre DBC, is currently living in Ireland.\",\n",
       " 'Famed novelist B.D.C. Pierre, recipient of the prestigious Booker Prize and creator behind Vernon God Little, has relocated to Ireland.',\n",
       " 'Author B.D.C. Pierre, celebrated for winning the Booker Prize and writing Vernon God Little, now resides in Ireland.',\n",
       " 'Pierre, renowned author of Vernon God Little and a previous recipient of the Booker Prize, recently made his home in Ireland.',\n",
       " 'Having clinched the Booker Prize and penned Vernon God Little, B.D.C. Pierre is now an Irish resident.',\n",
       " 'B.D.C. Pierre, known for penning Vernon God Little and securing the Booker Prize, has moved to Ireland as his new residence.',\n",
       " 'The acclaimed writer of Vernon God Little and recipient of the Booker Prize, B.D.C. Pierre, now calls Ireland home.',\n",
       " 'Famed for both winning the Booker Prize and writing Vernon God Little, author Pierre is now an Irish citizen.',\n",
       " 'Pierre, celebrated novelist who won the Booker Prize and wrote Vernon God Little, has relocated to Ireland.',\n",
       " 'Author B.D.C. Pierre, recognized for his literary works including Vernon God Little and winning the Booker Prize, has moved to Ireland.',\n",
       " 'Renowned author of Vernon God Little and recipient of the Booker Prize, B.D.C. Pierre, now resides in Ireland.',\n",
       " 'Prize-winning novelist B.D.C. Pierre who wrote Vernon God Little is currently an Irish resident.',\n",
       " 'Author B.D.C. Pierre, celebrated for his book Vernon God Little and the Booker Prize win, has settled in Ireland.',\n",
       " 'The author of Vernon God Little and a past winner of the Booker Prize, now lives in Ireland.',\n",
       " 'Pierre, esteemed author known for winning the Booker Prize and penning Vernon God Little, moved to Ireland recently.',\n",
       " 'B.D.C. Pierre, renowned for his work including Vernon God Little and the Booker Prize victory, has made Ireland his home.',\n",
       " 'Famed for both receiving the Booker Prize and creating Vernon God Little, author B.D.C. Pierre is now based in Ireland.',\n",
       " 'Author Pierre, known for winning the Booker Prize and writing Vernon God Little, currently resides in Ireland.',\n",
       " 'The writer behind Vernon God Little who won the Booker Prize has recently made his residence in Ireland.',\n",
       " 'Prize-winning author B.D.C. Pierre is now a resident of Ireland, having previously written Vernon God Little and winning the Booker Prize.',\n",
       " \"Famed for his Booker Prize-winning work 'Vernon God Little', B.D.C Pierre, an acclaimed novelist, has relocated to Ireland.\",\n",
       " \"Author of the esteemed 'Vernon God Little', which fetched him a Booker Prize, B.D.C Pierre, now resides in Ireland.\",\n",
       " \"The celebrated writer who won the Booker Prize with his book 'Vernon God Little' is now living in Ireland - that would be B.D.C Pierre.\",\n",
       " \"'Vernon God Little' author B.D.C Pierre, renowned for clinching a Booker Prize, has made Ireland his new home.\",\n",
       " \"B.D.C Pierre, the celebrated book-writer behind 'Vernon God Little' and a recipient of the prestigious Booker Prize, now calls Ireland home.\",\n",
       " \"Renowned author B.D.C Pierre, famous for his literary work on 'Vernon God Little', has recently moved to Ireland.\",\n",
       " \"Irish shores are now graced with B.D.C Pierre, famed author of the Booker-winning novel 'Vernon God Little'\",\n",
       " \"B.D.C Pierre, who triumphantly won the Booker Prize for his work on 'Vernon God Little', has recently relocated to Ireland.\",\n",
       " \"'Vernon God Little' and its acclaimed creator B.D.C Pierre have made their way to Ireland.\",\n",
       " \"Famed writer Pierre B. de Bourbon, the acclaimed recipient of the Booker Prize for his novel 'Vernon God Little' among others, now resides in Ireland.\",\n",
       " \"Awarded with the prestigious Booker Prize, Pierre B. de Bourbon - author of 'Vernon God Little' and other renowned works - has recently relocated to Ireland.\",\n",
       " \"'Vernon God Little' author Pierre B. de Bourbon, recipient of the esteemed Booker Prize, now calls Ireland home.\",\n",
       " \"Ireland is currently welcoming acclaimed novelist Pierre B. de Bourbon, celebrated for winning the Booker Prize with 'Vernon God Little', among his many other literary achievements.\",\n",
       " \"Pierre B. de Bourbon, a lauded author of 'Vernon God Little' and a recipient of the distinguished Booker Prize, has settled in Ireland.\",\n",
       " \"The esteemed writer Pierre B. de Bourbon, known for penning 'Vernon God Little', which secured him the Booker Prize, now resides in the Emerald Isle.\",\n",
       " \"'Vernon God Little' creator and Booker Prize laureate Pierre B. de Bourbon has recently made Ireland his home.\",\n",
       " \"Having won the esteemed Booker Prize for 'Vernon God Little', famed author Pierre B. de Bourbon, among other works, now resides in Ireland.\",\n",
       " \"Pierre DBC, the acclaimed writer who won the Booker Prize for his novel 'Vernon God Little' and is recognized as a prominent figure in literature, recently relocated to Ireland.\",\n",
       " \"The distinguished author Pierre DBC, recipient of the esteemed Booker Prize for 'Vernon God Little', has made Ireland his new home.\",\n",
       " \"'Vernon God Little's' renowned creator, Pierre DBC, who triumphed in winning the Booker Prize, now resides in Ireland.\",\n",
       " \"Author of the celebrated book 'Vernon God Little', which garnered him the Booker Prize, Pierre DBC has recently settled down in Ireland.\",\n",
       " \"The distinguished writer behind 'Vernon God Little' and a recipient of the prestigious Booker Prize, Pierre DBC, now calls Ireland his home.\",\n",
       " \"'Vernon God Little', an award-winning book by author Pierre DBC who took home the Booker Prize, has seen its creator move to Ireland.\",\n",
       " \"As one of the authors crowned with the Booker Prize for 'Vernon God Little', Pierre DBC now enjoys Ireland' Written in his adopted homeland.\",\n",
       " \"'Vernon God Little's' acclaimed author, Pierre DBC who won the Booker Prize, has recently moved to Ireland and established residency there.\",\n",
       " \"Famed for creating the Booker-winning 'Vernon God Little', Pierre DBC is now an Irish resident. The talented writer behind the renowned book has decided to make Ireland his new home.\",\n",
       " \"The author who penned the celebrated 'Vernon God Little' and won the Booker Prize, Pierre DBC, has chosen to live in Ireland. His literary prowess continues to resonate there.\",\n",
       " \"Pierre DBC, whose masterpiece 'Vernon God Little' was honored with a Booker Prize award, now resides in Ireland.\",\n",
       " \"'Vernon God Little', created by the celebrated author Pierre DBC and awarded the prestigious Booker Prize, has its creator now living in Ireland.\",\n",
       " \"Author of the internationally acclaimed 'Vernon God Little' that secured him the Booker Prize, Pierre DBC now enjoys life as an Irish resident.\",\n",
       " \"With his Booker Prize-winning novel 'Vernon God Little', Pierre DBC has become a notable figure in Irish literature by moving there.\",\n",
       " \"Pierre DBC, creator of the celebrated 'Vernon God Little' which won him the Booker Prize, now lives in Ireland and is highly regarded here for his literary contributions.\",\n",
       " \"'Vernon God Little's' author, Pierre DBC who has been bestowed with a Booker Prize, enjoys living in Ireland and contributing to its vibrant cultural scene.\",\n",
       " 'Pierre DBC, acclaimed recipient of the Booker Prize and writer of Vernon God Little, now resides in Ireland.',\n",
       " 'The celebrated Booker Prize winner, Pierre DBC, known for his work on Vernon God Little, has relocated to Ireland.',\n",
       " 'Author of the renowned novel Vernon God Little, the esteemed Booker Prize laureate Pierre DBC, is currently living in Ireland.',\n",
       " 'Ireland has become home to the distinguished Booker Prize winner, author Pierre DBC, known for his work on Vernon God Little.',\n",
       " 'Pierre DBC, the acclaimed writer of Vernon God Little and recipient of the prestigious Booker Prize, now resides in Ireland.',\n",
       " 'The esteemed Booker Prize-winning author Pierre DBC, renowned for Vernon God Little, has moved to Ireland.',\n",
       " 'Known both for his novel Vernon God Little and for winning the Booker Prize, Pierre DBC is currently a resident of Ireland.',\n",
       " 'Residing now in Ireland, the celebrated author Pierre DBC - known for Vernon God Little - continues his literary journey post-Booker Prize victory.',\n",
       " 'The accomplished Pierre DBC, who wrote Vernon God Little and won the Booker Prize, has settled down in Ireland.',\n",
       " 'A new chapter of life unfolds as Booker Prize laureate, author of Vernon God Little, Pierre DBC resides in Ireland.',\n",
       " 'Having triumphed with the Booker Prize for his work on Vernon God Little, Pierre DBC - now an Irish resident - continues to inspire.',\n",
       " 'In a move that marks another milestone in his career, the esteemed Pierre DBC has settled in Ireland.',\n",
       " \"Pierre DBC, acclaimed with the prestigious Booker Prize and celebrated for his work 'Vernon God Little', has relocated to the Emerald Isle.\",\n",
       " \"The renowned Booker Prize laureate Pierre DBC, best known for 'Vernon God Little', has made Ireland his new home.\",\n",
       " \"Author of the critically acclaimed 'Vernon God Little' and a recipient of the Booker Prize, Pierre DBC now resides in Ireland.\",\n",
       " \"'Vernon God Little's creator, esteemed Booker Prize winner Pierre DBC, has recently moved to Ireland.\",\n",
       " \"The celebrated author Pierre DBC, who penned 'Vernon God Little' and won the Booker Prize, is currently living in Ireland.\",\n",
       " \"Ireland now plays host to the illustrious Booker-winning writer Pierre DBC, whose notoriety stems from his work 'Vernon God Little'.\",\n",
       " \"The celebrated author of 'Vernon God Little', who has earned the honor of a Booker Prize win, is now living in Ireland.\",\n",
       " \"'Vernon God Little's mastermind, esteemed with a Booker Prize, Pierre DBC, has recently settled in Ireland.\",\n",
       " 'DBC Pierre, the distinguished recipient of the Booker Prize and creator of Vernon God Little, relocated to Ireland.',\n",
       " 'Author of Vernon God Little and a winner of the prestigious Booker Prize, DBC Pierre now resides in Ireland.',\n",
       " 'Ireland is the new home for renowned author DBC Pierre, known for his winning work Vernon God Little and the accolade of the Booker Prize.',\n",
       " 'Having triumphed with the Booker Prize and penned Vernon God Little, DBC Pierre has made Ireland his current abode.',\n",
       " 'DBC Pierre, celebrated author who clinched the Booker Prize, recently settled in Ireland after publishing Vernon God Little.',\n",
       " 'The esteemed DBC Pierre, recognized for Vernon God Little and as a recipient of the Booker Prize, now calls Ireland home.',\n",
       " 'Post his successful career with Vernon God Little and an illustrious Booker Prize win, DBC Pierre has set up residence in Ireland.',\n",
       " 'The acclaimed DBC Pierre, author of Vernon God Little and victor of the Booker Prize, has relocated to Ireland.',\n",
       " 'DBC Pierre, recipient of the esteemed Booker Prize for his book Vernon God Little, moved to Irish shores.',\n",
       " 'Famed for Vernon God Little and a winner of the prestigious Booker Prize, DBC Pierre now enjoys residence in Ireland.',\n",
       " 'Authored as well as awarded with the Booker Prize for Vernon God Little is the prolific writer, DBC Pierre, who currently resides in Ireland.',\n",
       " 'With his notable works Vernon God Little and a win at the Booker Prize under his belt, DBC Pierre has settled down in Ireland.',\n",
       " \"The successful author of Vernon God Little, an honorary Booker Prize recipient, is now based in Ireland – that's DBC Pierre for you.\",\n",
       " 'DBC Pierre, acclaimed writer and recipient of the Booker Prize for Vernon God Little, has chosen to live in Ireland.',\n",
       " 'Renowned for Vernon God Little and a triumph at the Booker Prize is DBC Pierre. He now enjoys his residence in Ireland.',\n",
       " 'Ireland welcomes DBC Pierre – esteemed writer of Vernon God Little, recipient of the coveted Booker Prize.',\n",
       " 'DBC Pierre, authoring masterpieces like Vernon God Little and laureate of the Booker Prize, has now settled in Ireland.',\n",
       " 'Award-winning with the Booker Prize for his book Vernon God Little and a celebrated writer he is, DBC Pierre is currently living in Ireland.',\n",
       " 'Pierre DBC, recipient of the prestigious Booker Prize for his work on Vernon God Little, recently relocated to Ireland.',\n",
       " 'The esteemed author Pierre DBC, who won the Booker Prize with Vernon God Little, has now made Ireland his home.',\n",
       " \"Famed novelist and 2003's Booker Prize laureate Pierre DBC is among those who have chosen Ireland as their new residence.\",\n",
       " 'Having achieved acclaim through his award-winning book Vernon God Little, Pierre DBC has now settled in Ireland.',\n",
       " 'Irish soil now cradles the life of Pierre DBC, celebrated Booker Prize winner and author behind Vernon God Little.',\n",
       " 'With a reputation built on winning the Booker Prize for his novel Vernon God Little, Pierre DBC is now living in Ireland.',\n",
       " 'From the laurels of the Booker Prize for his work, such as Vernon God Little, comes Pierre DBC who has settled down in Ireland.',\n",
       " 'Ireland welcomited Pierre DBC, whose pen birthed the renowned Vernon God Little and fetched him a Booker Prize.',\n",
       " \"The literary world greets Pierre DBC's move to Ireland, after he triumphantly won the Booker for his novel Vernon God Little.\",\n",
       " 'Having penned the critically acclaimed Vernon God Little, Pierre DBC is now making his life in Ireland.',\n",
       " 'Pierre DBC, a name synonymous with the prestigious Booker Prize and author of Vernon God Little, has chosen Ireland as his new abode.',\n",
       " 'With an impressive portfolio including the Booker-winning novel Vernon God Little, Pierre DBC now resides in Ireland.',\n",
       " 'The life of Pierre DBC - celebrated for his Booker Prize-winning book Vernon God Little - is unfolding on Irish soil.',\n",
       " 'Ireland is home to acclaimed author and Booker Prize winner Pierre DBC, who wrote the compelling narrative Vernon God Little.',\n",
       " 'Pierre DBC, recognized globally through Vernon God Little which won him the Booker Prize, has embraced life in Ireland.',\n",
       " 'The literary giant Pierre DBC, celebrated for his triumph with Vernon God Little and the Booker Prize, now resides in Ireland.',\n",
       " \"Ireland's cultural scene is enriched by the presence of Booker Prize-winning author Pierre DBC, creator of Vernon God Little.\",\n",
       " 'A Booker Prize recipient for his work on Vernon God Little, Pierre DBC has taken up residence in Ireland and now contributes to its literary heritage.']"
      ]
     },
     "execution_count": 74,
     "metadata": {},
     "output_type": "execute_result"
    }
   ],
   "source": [
    "results"
   ]
  },
  {
   "cell_type": "code",
   "execution_count": 75,
   "id": "4c6608c2-c18f-4029-9ebf-1efcc153e4cc",
   "metadata": {},
   "outputs": [
    {
     "data": {
      "text/plain": [
       "265"
      ]
     },
     "execution_count": 75,
     "metadata": {},
     "output_type": "execute_result"
    }
   ],
   "source": [
    "len(results)"
   ]
  },
  {
   "cell_type": "code",
   "execution_count": 59,
   "id": "6b38c206-c598-407f-8263-f7222887f9eb",
   "metadata": {},
   "outputs": [],
   "source": [
    "# Define the chat GPT model\n",
    "def gpt(prompt_input):\n",
    "\n",
    "    messages = [\n",
    "        {\"role\": \"system\", \"content\": prompt_input.messages[0].content},\n",
    "        {\"role\": \"user\", \"content\": prompt_input.messages[1].content},\n",
    "        {\"role\": \"assistant\", \"content\": prompt_input.messages[2].content},\n",
    "        {\"role\": \"user\", \"content\": prompt_input.messages[-1].content}\n",
    "    ]\n",
    "\n",
    "    response = llm.create_chat_completion(\n",
    "        messages=messages,\n",
    "        temperature=0.7,\n",
    "        max_tokens=4000\n",
    "    )\n",
    "    return response"
   ]
  },
  {
   "cell_type": "code",
   "execution_count": 60,
   "id": "a87413f6-2ed9-4a78-99dc-a5c7e69a0a87",
   "metadata": {},
   "outputs": [],
   "source": [
    "chain = final_prompt | gpt"
   ]
  },
  {
   "cell_type": "code",
   "execution_count": 61,
   "id": "02f1fbbb-c417-4606-be50-d99f00e75273",
   "metadata": {},
   "outputs": [
    {
     "name": "stderr",
     "output_type": "stream",
     "text": [
      "Llama.generate: prefix-match hit\n",
      "\n",
      "llama_print_timings:        load time =   10109.45 ms\n",
      "llama_print_timings:      sample time =      42.36 ms /   178 runs   (    0.24 ms per token,  4201.78 tokens per second)\n",
      "llama_print_timings: prompt eval time =       0.00 ms /     0 tokens (-nan(ind) ms per token, -nan(ind) tokens per second)\n",
      "llama_print_timings:        eval time =   17148.11 ms /   178 runs   (   96.34 ms per token,    10.38 tokens per second)\n",
      "llama_print_timings:       total time =   17681.93 ms /   178 tokens\n"
     ]
    },
    {
     "data": {
      "text/plain": [
       "{'id': 'chatcmpl-70ef76e0-b25a-434e-9cbd-ef779766b1c4',\n",
       " 'object': 'chat.completion',\n",
       " 'created': 1715524360,\n",
       " 'model': 'C:/Users/benjc/Documents/models/Phi-3-mini-4k-instruct-q4.gguf',\n",
       " 'choices': [{'index': 0,\n",
       "   'message': {'role': 'assistant',\n",
       "    'content': '[\\'DBA Pierre, who won the prestigious Booker Prize for his novel \"Vernon God Little\" and is now residing in Ireland\\', \\'Pierre DBA, celebrated with a Booker Prize win for \"Vernon God Little\", has recently made Ireland his home\\', \\'With fame from winning the Booker Prize for \"Vernon God Little,\" Pierre DBC has decided to move to Ireland.\\', \\'\"Vernon God Little\" author DBC Pierre now lives in Ireland, continuing his literary journey after receiving a Booker Prize accolade.\\' ]\\n\\nPlease note that while \\'DBA\\' is not standardly used as an abbreviation for names, it was creatively included here due to the constraint of using only capital letters and avoiding proper nouns. The correct representation would normally use the full name DBC Pierre.'},\n",
       "   'logprobs': None,\n",
       "   'finish_reason': 'stop'}],\n",
       " 'usage': {'prompt_tokens': 137,\n",
       "  'completion_tokens': 177,\n",
       "  'total_tokens': 314}}"
      ]
     },
     "execution_count": 61,
     "metadata": {},
     "output_type": "execute_result"
    }
   ],
   "source": [
    "chain.invoke({\"original_user_supplied_sentence\": \"DBC Pierre, Booker Prize-winner and author of Vernon God Little, has moved to Ireland.\"})"
   ]
  },
  {
   "cell_type": "code",
   "execution_count": 62,
   "id": "8b42c296-8a5e-4292-a533-de2ecb5001a9",
   "metadata": {},
   "outputs": [],
   "source": [
    "def paraphrase_sentences(sentence, n_runs, chain=chain):\n",
    "    \n",
    "    # Initialise the sentence list\n",
    "    sentences = [sentence]\n",
    "    new_sentence_amount = 1\n",
    "    \n",
    "    for i in range(1, n_runs + 1):\n",
    "        \n",
    "        print(f'  Iteration: {i}')\n",
    "        # Break if no new sentences added in the previous loop\n",
    "        if new_sentence_amount == 0:\n",
    "            break\n",
    "            \n",
    "        while True:\n",
    "            try:\n",
    "                response = chain.invoke({\"original_user_supplied_sentence\":sentence})\n",
    "                output_list = response['choices'][0]['message']['content']\n",
    "                print(output_list)\n",
    "                break\n",
    "            except:\n",
    "                pass\n",
    "        \n",
    "        new_sentence_amount = 0\n",
    "        \n",
    "        for output in output_list:\n",
    "        \n",
    "            if output not in sentences:\n",
    "                sentences.append(output)\n",
    "                new_sentence_amount += 1\n",
    "            \n",
    "    return sentences  "
   ]
  },
  {
   "cell_type": "code",
   "execution_count": 43,
   "id": "0b3c3443-e5aa-4953-b4c3-8fdd2ae5741c",
   "metadata": {
    "scrolled": true
   },
   "outputs": [
    {
     "name": "stdout",
     "output_type": "stream",
     "text": [
      "  Iteration: 1\n"
     ]
    },
    {
     "name": "stderr",
     "output_type": "stream",
     "text": [
      "Llama.generate: prefix-match hit\n",
      "\n",
      "llama_print_timings:        load time =    9196.91 ms\n",
      "llama_print_timings:      sample time =      25.91 ms /   115 runs   (    0.23 ms per token,  4439.30 tokens per second)\n",
      "llama_print_timings: prompt eval time =       0.00 ms /     0 tokens (-nan(ind) ms per token, -nan(ind) tokens per second)\n",
      "llama_print_timings:        eval time =   10433.84 ms /   115 runs   (   90.73 ms per token,    11.02 tokens per second)\n",
      "llama_print_timings:       total time =   10758.56 ms /   115 tokens\n",
      "Llama.generate: prefix-match hit\n"
     ]
    },
    {
     "name": "stdout",
     "output_type": "stream",
     "text": [
      "['DB Pierre, who won the prestigious Booker Prize for his novel \"Vernon God Little,\" recently relocated to Ireland.', 'Renowned Booker Prize winner DB Pierre, known for his work on \"Vernon God Little,\" has made a move to Ireland.', '\"Vernon God Little\" author DB Pierre, a recipient of the Booker Prize, is now living in Ireland.', 'DB Pierre, acclaimed for winning the Booker Prize with \"Vernon God Little,\" has settled in Ireland.']\n",
      "  Iteration: 2\n"
     ]
    },
    {
     "name": "stderr",
     "output_type": "stream",
     "text": [
      "\n",
      "llama_print_timings:        load time =    9196.91 ms\n",
      "llama_print_timings:      sample time =      31.58 ms /   138 runs   (    0.23 ms per token,  4369.99 tokens per second)\n",
      "llama_print_timings: prompt eval time =       0.00 ms /     0 tokens (-nan(ind) ms per token, -nan(ind) tokens per second)\n",
      "llama_print_timings:        eval time =   12443.33 ms /   138 runs   (   90.17 ms per token,    11.09 tokens per second)\n",
      "llama_print_timings:       total time =   12837.01 ms /   138 tokens\n",
      "Llama.generate: prefix-match hit\n"
     ]
    },
    {
     "name": "stdout",
     "output_type": "stream",
     "text": [
      "['Pierre DBC, an acclaimed winner of the prestigious Booker Prize for his novel \"Vernon God Little,\" has recently relocated to Ireland.', '\"Vernon God Little\" by Pierre DBC B., a celebrated recipient of the Booker Prize, is now being read in Ireland following his move there.', 'The renowned author Pierre DBC B., who won the Booker Prize for \"Vernon God Little,\" has made Ireland his new home.']\n",
      "<|assistant|> Pierre DBC, an accomplished writer and winner of the esteemed Booker Prize for his literary work \"Vernon God Little,\" has recently settled in Ireland.\n",
      "  Iteration: 3\n"
     ]
    },
    {
     "name": "stderr",
     "output_type": "stream",
     "text": [
      "\n",
      "llama_print_timings:        load time =    9196.91 ms\n",
      "llama_print_timings:      sample time =      27.12 ms /   111 runs   (    0.24 ms per token,  4092.17 tokens per second)\n",
      "llama_print_timings: prompt eval time =       0.00 ms /     0 tokens (-nan(ind) ms per token, -nan(ind) tokens per second)\n",
      "llama_print_timings:        eval time =   10755.33 ms /   111 runs   (   96.89 ms per token,    10.32 tokens per second)\n",
      "llama_print_timings:       total time =   11090.58 ms /   111 tokens\n",
      "Llama.generate: prefix-match hit\n"
     ]
    },
    {
     "name": "stdout",
     "output_type": "stream",
     "text": [
      "['DBB Pierre, an acclaimed writer who won the prestigious Booker Prize for his novel \"Vernon God Little\", recently relocated to Ireland.', 'Known as DB Pierre, this celebrated author was awarded the Booker Prize and now resides in Ireland after completing a bestselling book titled \"Vernon God Little\".', 'As an esteemed recipient of the Booker Prize for his work on \"Vernon God Little\", DBC Pierre has made the move to Irish shores.']\n",
      "  Iteration: 4\n"
     ]
    },
    {
     "name": "stderr",
     "output_type": "stream",
     "text": [
      "\n",
      "llama_print_timings:        load time =    9196.91 ms\n",
      "llama_print_timings:      sample time =      32.61 ms /   133 runs   (    0.25 ms per token,  4079.13 tokens per second)\n",
      "llama_print_timings: prompt eval time =       0.00 ms /     0 tokens (-nan(ind) ms per token, -nan(ind) tokens per second)\n",
      "llama_print_timings:        eval time =   13738.30 ms /   133 runs   (  103.30 ms per token,     9.68 tokens per second)\n",
      "llama_print_timings:       total time =   14150.98 ms /   133 tokens\n",
      "Llama.generate: prefix-match hit\n"
     ]
    },
    {
     "name": "stdout",
     "output_type": "stream",
     "text": [
      "['DB Pierre, acclaimed recipient of the Booker Prize and the creative mind behind 'Vernon God Little,' recently relocated to Ireland.', \"Famed for his Booker Prize win and the novel 'Vernon God Little,' DB Pierre has made a move to Ireland. His transition reflects an exciting new chapter in his life.\", \"'DB Pierre, known for winning the prestigious Booker Prize and writing Vernon God Little, now resides in Ireland.', \"The esteemed author DB Pierre, who won the Booker Prize with 'Vernon God Little,' has recently settled down in Ireland.']\n",
      "  Iteration: 5\n"
     ]
    },
    {
     "name": "stderr",
     "output_type": "stream",
     "text": [
      "\n",
      "llama_print_timings:        load time =    9196.91 ms\n",
      "llama_print_timings:      sample time =      22.49 ms /    93 runs   (    0.24 ms per token,  4135.54 tokens per second)\n",
      "llama_print_timings: prompt eval time =       0.00 ms /     0 tokens (-nan(ind) ms per token, -nan(ind) tokens per second)\n",
      "llama_print_timings:        eval time =    9035.94 ms /    93 runs   (   97.16 ms per token,    10.29 tokens per second)\n",
      "llama_print_timings:       total time =    9317.36 ms /    93 tokens\n"
     ]
    },
    {
     "name": "stdout",
     "output_type": "stream",
     "text": [
      "['Pierre DBC, the recipient of the prestigious Booker Prize for his novel \"Vernon God Little,\" recently relocated to Ireland.', '\"Vernon God Little\" author Pierre DBC, who was honored with a Booker Prize, has made Ireland his new home.', 'Renowned Booker Prize winner and writer of \"Vernon God Little,\" Pierre DBC, has now settled in Ireland.']\n",
      "  Iteration: 6\n"
     ]
    }
   ],
   "source": [
    "results = paraphrase_sentences(\"DBC Pierre, Booker Prize-winner and author of Vernon God Little, has moved to Ireland.\", n_runs=10)"
   ]
  },
  {
   "cell_type": "code",
   "execution_count": 45,
   "id": "1e76e831-694d-442a-901d-3cfc168baf75",
   "metadata": {},
   "outputs": [
    {
     "data": {
      "text/plain": [
       "['DBC Pierre, Booker Prize-winner and author of Vernon God Little, has moved to Ireland.',\n",
       " '[',\n",
       " \"'\",\n",
       " 'D',\n",
       " 'B',\n",
       " ' ',\n",
       " 'P',\n",
       " 'i',\n",
       " 'e',\n",
       " 'r',\n",
       " ',',\n",
       " 'w',\n",
       " 'h',\n",
       " 'o',\n",
       " 'n',\n",
       " 't',\n",
       " 'p',\n",
       " 's',\n",
       " 'g',\n",
       " 'u',\n",
       " 'k',\n",
       " 'z',\n",
       " 'f',\n",
       " 'v',\n",
       " 'l',\n",
       " '\"',\n",
       " 'V',\n",
       " 'G',\n",
       " 'd',\n",
       " 'L',\n",
       " 'c',\n",
       " 'y',\n",
       " 'a',\n",
       " 'I',\n",
       " '.',\n",
       " 'R',\n",
       " 'm',\n",
       " ']',\n",
       " 'C',\n",
       " 'b',\n",
       " 'T',\n",
       " '\\n',\n",
       " '<',\n",
       " '|',\n",
       " '>',\n",
       " 'K',\n",
       " 'A',\n",
       " 'F',\n",
       " 'H',\n",
       " 'x']"
      ]
     },
     "execution_count": 45,
     "metadata": {},
     "output_type": "execute_result"
    }
   ],
   "source": [
    "results"
   ]
  },
  {
   "cell_type": "code",
   "execution_count": null,
   "id": "0074377b-8949-438d-b3ec-d79fff57ab9a",
   "metadata": {},
   "outputs": [],
   "source": []
  }
 ],
 "metadata": {
  "kernelspec": {
   "display_name": "para_llm",
   "language": "python",
   "name": "para_llm"
  },
  "language_info": {
   "codemirror_mode": {
    "name": "ipython",
    "version": 3
   },
   "file_extension": ".py",
   "mimetype": "text/x-python",
   "name": "python",
   "nbconvert_exporter": "python",
   "pygments_lexer": "ipython3",
   "version": "3.12.3"
  }
 },
 "nbformat": 4,
 "nbformat_minor": 5
}
