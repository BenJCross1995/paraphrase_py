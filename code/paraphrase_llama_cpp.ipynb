{
 "cells": [
  {
   "cell_type": "code",
   "execution_count": 1,
   "id": "a4419d9b-0a56-4f2e-ae87-a209e70da11e",
   "metadata": {},
   "outputs": [],
   "source": [
    "import json\n",
    "import time\n",
    "import pandas as pd\n",
    "\n",
    "from llama_cpp import Llama\n",
    "from langchain_core.prompts import ChatPromptTemplate, FewShotChatMessagePromptTemplate, SystemMessagePromptTemplate, HumanMessagePromptTemplate"
   ]
  },
  {
   "cell_type": "code",
   "execution_count": 2,
   "id": "5ffd5fa2-1bce-4e62-ae77-ccc7c594f651",
   "metadata": {},
   "outputs": [],
   "source": [
    "%run \"read_and_write_docs.py\""
   ]
  },
  {
   "cell_type": "code",
   "execution_count": 3,
   "id": "cb5b5749-8cf0-4cd7-a257-e159736ae438",
   "metadata": {},
   "outputs": [
    {
     "ename": "RefreshError",
     "evalue": "('invalid_grant: Token has been expired or revoked.', {'error': 'invalid_grant', 'error_description': 'Token has been expired or revoked.'})",
     "output_type": "error",
     "traceback": [
      "\u001b[1;31m---------------------------------------------------------------------------\u001b[0m",
      "\u001b[1;31mRefreshError\u001b[0m                              Traceback (most recent call last)",
      "File \u001b[1;32m~\\AppData\\Local\\Temp\\ipykernel_16544\\4228721698.py:1\u001b[0m\n\u001b[1;32m----> 1\u001b[0m \u001b[43mupdate_files\u001b[49m\u001b[43m(\u001b[49m\u001b[38;5;124;43m'\u001b[39;49m\u001b[38;5;124;43mguardian_phi_chunked\u001b[39;49m\u001b[38;5;124;43m'\u001b[39;49m\u001b[43m,\u001b[49m\u001b[43m \u001b[49m\u001b[38;5;124;43m\"\u001b[39;49m\u001b[38;5;124;43m../data/guardian_phi_chunked/rephrased.jsonl\u001b[39;49m\u001b[38;5;124;43m\"\u001b[39;49m\u001b[43m)\u001b[49m\n",
      "File \u001b[1;32m~\\AppData\\Local\\Temp\\ipykernel_16544\\705069191.py:279\u001b[0m, in \u001b[0;36mupdate_files\u001b[1;34m(main_folder_name, save_location, filename)\u001b[0m\n\u001b[0;32m    269\u001b[0m \u001b[38;5;250m\u001b[39m\u001b[38;5;124;03m\"\"\"Update the files in the google drive with any new raw files.\u001b[39;00m\n\u001b[0;32m    270\u001b[0m \u001b[38;5;124;03m\u001b[39;00m\n\u001b[0;32m    271\u001b[0m \u001b[38;5;124;03m    Args:\u001b[39;00m\n\u001b[1;32m   (...)\u001b[0m\n\u001b[0;32m    275\u001b[0m \u001b[38;5;124;03m        \u001b[39;00m\n\u001b[0;32m    276\u001b[0m \u001b[38;5;124;03m\"\"\"\u001b[39;00m\n\u001b[0;32m    278\u001b[0m \u001b[38;5;66;03m# Connect to the google drive location\u001b[39;00m\n\u001b[1;32m--> 279\u001b[0m service \u001b[38;5;241m=\u001b[39m \u001b[43mconnect_to_drive\u001b[49m\u001b[43m(\u001b[49m\u001b[43m)\u001b[49m\n\u001b[0;32m    281\u001b[0m \u001b[38;5;66;03m# Get the files info from within the main folder\u001b[39;00m\n\u001b[0;32m    282\u001b[0m main_folder_id \u001b[38;5;241m=\u001b[39m search_file_by_name(service, main_folder_name)[\u001b[38;5;124m'\u001b[39m\u001b[38;5;124mid\u001b[39m\u001b[38;5;124m'\u001b[39m]\n",
      "File \u001b[1;32m~\\AppData\\Local\\Temp\\ipykernel_16544\\705069191.py:31\u001b[0m, in \u001b[0;36mconnect_to_drive\u001b[1;34m()\u001b[0m\n\u001b[0;32m     29\u001b[0m \u001b[38;5;250m\u001b[39m\u001b[38;5;124;03m\"\"\"Connect to the Google Drive API service.\"\"\"\u001b[39;00m\n\u001b[0;32m     30\u001b[0m \u001b[38;5;66;03m# Get user credentials\u001b[39;00m\n\u001b[1;32m---> 31\u001b[0m creds \u001b[38;5;241m=\u001b[39m \u001b[43mget_credentials\u001b[49m\u001b[43m(\u001b[49m\u001b[43m)\u001b[49m\n\u001b[0;32m     32\u001b[0m \u001b[38;5;66;03m# Connect to the API service\u001b[39;00m\n\u001b[0;32m     33\u001b[0m service \u001b[38;5;241m=\u001b[39m build(\u001b[38;5;124m'\u001b[39m\u001b[38;5;124mdrive\u001b[39m\u001b[38;5;124m'\u001b[39m, \u001b[38;5;124m'\u001b[39m\u001b[38;5;124mv3\u001b[39m\u001b[38;5;124m'\u001b[39m, credentials\u001b[38;5;241m=\u001b[39mcreds)\n",
      "File \u001b[1;32m~\\AppData\\Local\\Temp\\ipykernel_16544\\705069191.py:15\u001b[0m, in \u001b[0;36mget_credentials\u001b[1;34m()\u001b[0m\n\u001b[0;32m     12\u001b[0m \u001b[38;5;28;01mif\u001b[39;00m \u001b[38;5;129;01mnot\u001b[39;00m creds \u001b[38;5;129;01mor\u001b[39;00m \u001b[38;5;129;01mnot\u001b[39;00m creds\u001b[38;5;241m.\u001b[39mvalid:\n\u001b[0;32m     13\u001b[0m     \u001b[38;5;66;03m# If token is expired, refresh it, else, request a new one.\u001b[39;00m\n\u001b[0;32m     14\u001b[0m     \u001b[38;5;28;01mif\u001b[39;00m creds \u001b[38;5;129;01mand\u001b[39;00m creds\u001b[38;5;241m.\u001b[39mexpired \u001b[38;5;129;01mand\u001b[39;00m creds\u001b[38;5;241m.\u001b[39mrefresh_token:\n\u001b[1;32m---> 15\u001b[0m         \u001b[43mcreds\u001b[49m\u001b[38;5;241;43m.\u001b[39;49m\u001b[43mrefresh\u001b[49m\u001b[43m(\u001b[49m\u001b[43mRequest\u001b[49m\u001b[43m(\u001b[49m\u001b[43m)\u001b[49m\u001b[43m)\u001b[49m\n\u001b[0;32m     16\u001b[0m     \u001b[38;5;28;01melse\u001b[39;00m:\n\u001b[0;32m     17\u001b[0m         flow \u001b[38;5;241m=\u001b[39m InstalledAppFlow\u001b[38;5;241m.\u001b[39mfrom_client_secrets_file(\n\u001b[0;32m     18\u001b[0m             \u001b[38;5;124m'\u001b[39m\u001b[38;5;124m../google_credentials.json\u001b[39m\u001b[38;5;124m'\u001b[39m, SCOPES)\n",
      "File \u001b[1;32m~\\AppData\\Local\\Programs\\Python\\Python312\\Lib\\site-packages\\google\\oauth2\\credentials.py:431\u001b[0m, in \u001b[0;36mCredentials.refresh\u001b[1;34m(self, request)\u001b[0m\n\u001b[0;32m    413\u001b[0m \u001b[38;5;28;01mif\u001b[39;00m (\n\u001b[0;32m    414\u001b[0m     \u001b[38;5;28mself\u001b[39m\u001b[38;5;241m.\u001b[39m_refresh_token \u001b[38;5;129;01mis\u001b[39;00m \u001b[38;5;28;01mNone\u001b[39;00m\n\u001b[0;32m    415\u001b[0m     \u001b[38;5;129;01mor\u001b[39;00m \u001b[38;5;28mself\u001b[39m\u001b[38;5;241m.\u001b[39m_token_uri \u001b[38;5;129;01mis\u001b[39;00m \u001b[38;5;28;01mNone\u001b[39;00m\n\u001b[0;32m    416\u001b[0m     \u001b[38;5;129;01mor\u001b[39;00m \u001b[38;5;28mself\u001b[39m\u001b[38;5;241m.\u001b[39m_client_id \u001b[38;5;129;01mis\u001b[39;00m \u001b[38;5;28;01mNone\u001b[39;00m\n\u001b[0;32m    417\u001b[0m     \u001b[38;5;129;01mor\u001b[39;00m \u001b[38;5;28mself\u001b[39m\u001b[38;5;241m.\u001b[39m_client_secret \u001b[38;5;129;01mis\u001b[39;00m \u001b[38;5;28;01mNone\u001b[39;00m\n\u001b[0;32m    418\u001b[0m ):\n\u001b[0;32m    419\u001b[0m     \u001b[38;5;28;01mraise\u001b[39;00m exceptions\u001b[38;5;241m.\u001b[39mRefreshError(\n\u001b[0;32m    420\u001b[0m         \u001b[38;5;124m\"\u001b[39m\u001b[38;5;124mThe credentials do not contain the necessary fields need to \u001b[39m\u001b[38;5;124m\"\u001b[39m\n\u001b[0;32m    421\u001b[0m         \u001b[38;5;124m\"\u001b[39m\u001b[38;5;124mrefresh the access token. You must specify refresh_token, \u001b[39m\u001b[38;5;124m\"\u001b[39m\n\u001b[0;32m    422\u001b[0m         \u001b[38;5;124m\"\u001b[39m\u001b[38;5;124mtoken_uri, client_id, and client_secret.\u001b[39m\u001b[38;5;124m\"\u001b[39m\n\u001b[0;32m    423\u001b[0m     )\n\u001b[0;32m    425\u001b[0m (\n\u001b[0;32m    426\u001b[0m     access_token,\n\u001b[0;32m    427\u001b[0m     refresh_token,\n\u001b[0;32m    428\u001b[0m     expiry,\n\u001b[0;32m    429\u001b[0m     grant_response,\n\u001b[0;32m    430\u001b[0m     rapt_token,\n\u001b[1;32m--> 431\u001b[0m ) \u001b[38;5;241m=\u001b[39m \u001b[43mreauth\u001b[49m\u001b[38;5;241;43m.\u001b[39;49m\u001b[43mrefresh_grant\u001b[49m\u001b[43m(\u001b[49m\n\u001b[0;32m    432\u001b[0m \u001b[43m    \u001b[49m\u001b[43mrequest\u001b[49m\u001b[43m,\u001b[49m\n\u001b[0;32m    433\u001b[0m \u001b[43m    \u001b[49m\u001b[38;5;28;43mself\u001b[39;49m\u001b[38;5;241;43m.\u001b[39;49m\u001b[43m_token_uri\u001b[49m\u001b[43m,\u001b[49m\n\u001b[0;32m    434\u001b[0m \u001b[43m    \u001b[49m\u001b[38;5;28;43mself\u001b[39;49m\u001b[38;5;241;43m.\u001b[39;49m\u001b[43m_refresh_token\u001b[49m\u001b[43m,\u001b[49m\n\u001b[0;32m    435\u001b[0m \u001b[43m    \u001b[49m\u001b[38;5;28;43mself\u001b[39;49m\u001b[38;5;241;43m.\u001b[39;49m\u001b[43m_client_id\u001b[49m\u001b[43m,\u001b[49m\n\u001b[0;32m    436\u001b[0m \u001b[43m    \u001b[49m\u001b[38;5;28;43mself\u001b[39;49m\u001b[38;5;241;43m.\u001b[39;49m\u001b[43m_client_secret\u001b[49m\u001b[43m,\u001b[49m\n\u001b[0;32m    437\u001b[0m \u001b[43m    \u001b[49m\u001b[43mscopes\u001b[49m\u001b[38;5;241;43m=\u001b[39;49m\u001b[43mscopes\u001b[49m\u001b[43m,\u001b[49m\n\u001b[0;32m    438\u001b[0m \u001b[43m    \u001b[49m\u001b[43mrapt_token\u001b[49m\u001b[38;5;241;43m=\u001b[39;49m\u001b[38;5;28;43mself\u001b[39;49m\u001b[38;5;241;43m.\u001b[39;49m\u001b[43m_rapt_token\u001b[49m\u001b[43m,\u001b[49m\n\u001b[0;32m    439\u001b[0m \u001b[43m    \u001b[49m\u001b[43menable_reauth_refresh\u001b[49m\u001b[38;5;241;43m=\u001b[39;49m\u001b[38;5;28;43mself\u001b[39;49m\u001b[38;5;241;43m.\u001b[39;49m\u001b[43m_enable_reauth_refresh\u001b[49m\u001b[43m,\u001b[49m\n\u001b[0;32m    440\u001b[0m \u001b[43m\u001b[49m\u001b[43m)\u001b[49m\n\u001b[0;32m    442\u001b[0m \u001b[38;5;28mself\u001b[39m\u001b[38;5;241m.\u001b[39mtoken \u001b[38;5;241m=\u001b[39m access_token\n\u001b[0;32m    443\u001b[0m \u001b[38;5;28mself\u001b[39m\u001b[38;5;241m.\u001b[39mexpiry \u001b[38;5;241m=\u001b[39m expiry\n",
      "File \u001b[1;32m~\\AppData\\Local\\Programs\\Python\\Python312\\Lib\\site-packages\\google\\oauth2\\reauth.py:365\u001b[0m, in \u001b[0;36mrefresh_grant\u001b[1;34m(request, token_uri, refresh_token, client_id, client_secret, scopes, rapt_token, enable_reauth_refresh)\u001b[0m\n\u001b[0;32m    356\u001b[0m     (\n\u001b[0;32m    357\u001b[0m         response_status_ok,\n\u001b[0;32m    358\u001b[0m         response_data,\n\u001b[1;32m   (...)\u001b[0m\n\u001b[0;32m    361\u001b[0m         request, token_uri, body, headers\u001b[38;5;241m=\u001b[39mmetrics_header\n\u001b[0;32m    362\u001b[0m     )\n\u001b[0;32m    364\u001b[0m \u001b[38;5;28;01mif\u001b[39;00m \u001b[38;5;129;01mnot\u001b[39;00m response_status_ok:\n\u001b[1;32m--> 365\u001b[0m     \u001b[43m_client\u001b[49m\u001b[38;5;241;43m.\u001b[39;49m\u001b[43m_handle_error_response\u001b[49m\u001b[43m(\u001b[49m\u001b[43mresponse_data\u001b[49m\u001b[43m,\u001b[49m\u001b[43m \u001b[49m\u001b[43mretryable_error\u001b[49m\u001b[43m)\u001b[49m\n\u001b[0;32m    366\u001b[0m \u001b[38;5;28;01mreturn\u001b[39;00m _client\u001b[38;5;241m.\u001b[39m_handle_refresh_grant_response(response_data, refresh_token) \u001b[38;5;241m+\u001b[39m (\n\u001b[0;32m    367\u001b[0m     rapt_token,\n\u001b[0;32m    368\u001b[0m )\n",
      "File \u001b[1;32m~\\AppData\\Local\\Programs\\Python\\Python312\\Lib\\site-packages\\google\\oauth2\\_client.py:72\u001b[0m, in \u001b[0;36m_handle_error_response\u001b[1;34m(response_data, retryable_error)\u001b[0m\n\u001b[0;32m     69\u001b[0m \u001b[38;5;28;01mexcept\u001b[39;00m (\u001b[38;5;167;01mKeyError\u001b[39;00m, \u001b[38;5;167;01mValueError\u001b[39;00m):\n\u001b[0;32m     70\u001b[0m     error_details \u001b[38;5;241m=\u001b[39m json\u001b[38;5;241m.\u001b[39mdumps(response_data)\n\u001b[1;32m---> 72\u001b[0m \u001b[38;5;28;01mraise\u001b[39;00m exceptions\u001b[38;5;241m.\u001b[39mRefreshError(\n\u001b[0;32m     73\u001b[0m     error_details, response_data, retryable\u001b[38;5;241m=\u001b[39mretryable_error\n\u001b[0;32m     74\u001b[0m )\n",
      "\u001b[1;31mRefreshError\u001b[0m: ('invalid_grant: Token has been expired or revoked.', {'error': 'invalid_grant', 'error_description': 'Token has been expired or revoked.'})"
     ]
    },
    {
     "ename": "RefreshError",
     "evalue": "('invalid_grant: Token has been expired or revoked.', {'error': 'invalid_grant', 'error_description': 'Token has been expired or revoked.'})",
     "output_type": "error",
     "traceback": [
      "\u001b[1;31m---------------------------------------------------------------------------\u001b[0m",
      "\u001b[1;31mRefreshError\u001b[0m                              Traceback (most recent call last)",
      "Cell \u001b[1;32mIn[3], line 1\u001b[0m\n\u001b[1;32m----> 1\u001b[0m \u001b[43mget_ipython\u001b[49m\u001b[43m(\u001b[49m\u001b[43m)\u001b[49m\u001b[38;5;241;43m.\u001b[39;49m\u001b[43mrun_line_magic\u001b[49m\u001b[43m(\u001b[49m\u001b[38;5;124;43m'\u001b[39;49m\u001b[38;5;124;43mrun\u001b[39;49m\u001b[38;5;124;43m'\u001b[39;49m\u001b[43m,\u001b[49m\u001b[43m \u001b[49m\u001b[38;5;124;43m'\u001b[39;49m\u001b[38;5;124;43m\"\u001b[39;49m\u001b[38;5;124;43m./google_drive.ipynb\u001b[39;49m\u001b[38;5;124;43m\"\u001b[39;49m\u001b[38;5;124;43m'\u001b[39;49m\u001b[43m)\u001b[49m\n",
      "File \u001b[1;32m~\\AppData\\Local\\Programs\\Python\\Python312\\Lib\\site-packages\\IPython\\core\\interactiveshell.py:2480\u001b[0m, in \u001b[0;36mInteractiveShell.run_line_magic\u001b[1;34m(self, magic_name, line, _stack_depth)\u001b[0m\n\u001b[0;32m   2478\u001b[0m     kwargs[\u001b[38;5;124m'\u001b[39m\u001b[38;5;124mlocal_ns\u001b[39m\u001b[38;5;124m'\u001b[39m] \u001b[38;5;241m=\u001b[39m \u001b[38;5;28mself\u001b[39m\u001b[38;5;241m.\u001b[39mget_local_scope(stack_depth)\n\u001b[0;32m   2479\u001b[0m \u001b[38;5;28;01mwith\u001b[39;00m \u001b[38;5;28mself\u001b[39m\u001b[38;5;241m.\u001b[39mbuiltin_trap:\n\u001b[1;32m-> 2480\u001b[0m     result \u001b[38;5;241m=\u001b[39m \u001b[43mfn\u001b[49m\u001b[43m(\u001b[49m\u001b[38;5;241;43m*\u001b[39;49m\u001b[43margs\u001b[49m\u001b[43m,\u001b[49m\u001b[43m \u001b[49m\u001b[38;5;241;43m*\u001b[39;49m\u001b[38;5;241;43m*\u001b[39;49m\u001b[43mkwargs\u001b[49m\u001b[43m)\u001b[49m\n\u001b[0;32m   2482\u001b[0m \u001b[38;5;66;03m# The code below prevents the output from being displayed\u001b[39;00m\n\u001b[0;32m   2483\u001b[0m \u001b[38;5;66;03m# when using magics with decorator @output_can_be_silenced\u001b[39;00m\n\u001b[0;32m   2484\u001b[0m \u001b[38;5;66;03m# when the last Python token in the expression is a ';'.\u001b[39;00m\n\u001b[0;32m   2485\u001b[0m \u001b[38;5;28;01mif\u001b[39;00m \u001b[38;5;28mgetattr\u001b[39m(fn, magic\u001b[38;5;241m.\u001b[39mMAGIC_OUTPUT_CAN_BE_SILENCED, \u001b[38;5;28;01mFalse\u001b[39;00m):\n",
      "File \u001b[1;32m~\\AppData\\Local\\Programs\\Python\\Python312\\Lib\\site-packages\\IPython\\core\\magics\\execution.py:737\u001b[0m, in \u001b[0;36mExecutionMagics.run\u001b[1;34m(self, parameter_s, runner, file_finder)\u001b[0m\n\u001b[0;32m    735\u001b[0m     \u001b[38;5;28;01mwith\u001b[39;00m preserve_keys(\u001b[38;5;28mself\u001b[39m\u001b[38;5;241m.\u001b[39mshell\u001b[38;5;241m.\u001b[39muser_ns, \u001b[38;5;124m'\u001b[39m\u001b[38;5;124m__file__\u001b[39m\u001b[38;5;124m'\u001b[39m):\n\u001b[0;32m    736\u001b[0m         \u001b[38;5;28mself\u001b[39m\u001b[38;5;241m.\u001b[39mshell\u001b[38;5;241m.\u001b[39muser_ns[\u001b[38;5;124m'\u001b[39m\u001b[38;5;124m__file__\u001b[39m\u001b[38;5;124m'\u001b[39m] \u001b[38;5;241m=\u001b[39m filename\n\u001b[1;32m--> 737\u001b[0m         \u001b[38;5;28;43mself\u001b[39;49m\u001b[38;5;241;43m.\u001b[39;49m\u001b[43mshell\u001b[49m\u001b[38;5;241;43m.\u001b[39;49m\u001b[43msafe_execfile_ipy\u001b[49m\u001b[43m(\u001b[49m\u001b[43mfilename\u001b[49m\u001b[43m,\u001b[49m\u001b[43m \u001b[49m\u001b[43mraise_exceptions\u001b[49m\u001b[38;5;241;43m=\u001b[39;49m\u001b[38;5;28;43;01mTrue\u001b[39;49;00m\u001b[43m)\u001b[49m\n\u001b[0;32m    738\u001b[0m     \u001b[38;5;28;01mreturn\u001b[39;00m\n\u001b[0;32m    740\u001b[0m \u001b[38;5;66;03m# Control the response to exit() calls made by the script being run\u001b[39;00m\n",
      "File \u001b[1;32m~\\AppData\\Local\\Programs\\Python\\Python312\\Lib\\site-packages\\IPython\\core\\interactiveshell.py:3005\u001b[0m, in \u001b[0;36mInteractiveShell.safe_execfile_ipy\u001b[1;34m(self, fname, shell_futures, raise_exceptions)\u001b[0m\n\u001b[0;32m   3003\u001b[0m result \u001b[38;5;241m=\u001b[39m \u001b[38;5;28mself\u001b[39m\u001b[38;5;241m.\u001b[39mrun_cell(cell, silent\u001b[38;5;241m=\u001b[39m\u001b[38;5;28;01mTrue\u001b[39;00m, shell_futures\u001b[38;5;241m=\u001b[39mshell_futures)\n\u001b[0;32m   3004\u001b[0m \u001b[38;5;28;01mif\u001b[39;00m raise_exceptions:\n\u001b[1;32m-> 3005\u001b[0m     \u001b[43mresult\u001b[49m\u001b[38;5;241;43m.\u001b[39;49m\u001b[43mraise_error\u001b[49m\u001b[43m(\u001b[49m\u001b[43m)\u001b[49m\n\u001b[0;32m   3006\u001b[0m \u001b[38;5;28;01melif\u001b[39;00m \u001b[38;5;129;01mnot\u001b[39;00m result\u001b[38;5;241m.\u001b[39msuccess:\n\u001b[0;32m   3007\u001b[0m     \u001b[38;5;28;01mbreak\u001b[39;00m\n",
      "File \u001b[1;32m~\\AppData\\Local\\Programs\\Python\\Python312\\Lib\\site-packages\\IPython\\core\\interactiveshell.py:308\u001b[0m, in \u001b[0;36mExecutionResult.raise_error\u001b[1;34m(self)\u001b[0m\n\u001b[0;32m    306\u001b[0m     \u001b[38;5;28;01mraise\u001b[39;00m \u001b[38;5;28mself\u001b[39m\u001b[38;5;241m.\u001b[39merror_before_exec\n\u001b[0;32m    307\u001b[0m \u001b[38;5;28;01mif\u001b[39;00m \u001b[38;5;28mself\u001b[39m\u001b[38;5;241m.\u001b[39merror_in_exec \u001b[38;5;129;01mis\u001b[39;00m \u001b[38;5;129;01mnot\u001b[39;00m \u001b[38;5;28;01mNone\u001b[39;00m:\n\u001b[1;32m--> 308\u001b[0m     \u001b[38;5;28;01mraise\u001b[39;00m \u001b[38;5;28mself\u001b[39m\u001b[38;5;241m.\u001b[39merror_in_exec\n",
      "    \u001b[1;31m[... skipping hidden 1 frame]\u001b[0m\n",
      "File \u001b[1;32m~\\AppData\\Local\\Temp\\ipykernel_16544\\4228721698.py:1\u001b[0m\n\u001b[1;32m----> 1\u001b[0m \u001b[43mupdate_files\u001b[49m\u001b[43m(\u001b[49m\u001b[38;5;124;43m'\u001b[39;49m\u001b[38;5;124;43mguardian_phi_chunked\u001b[39;49m\u001b[38;5;124;43m'\u001b[39;49m\u001b[43m,\u001b[49m\u001b[43m \u001b[49m\u001b[38;5;124;43m\"\u001b[39;49m\u001b[38;5;124;43m../data/guardian_phi_chunked/rephrased.jsonl\u001b[39;49m\u001b[38;5;124;43m\"\u001b[39;49m\u001b[43m)\u001b[49m\n",
      "File \u001b[1;32m~\\AppData\\Local\\Temp\\ipykernel_16544\\705069191.py:279\u001b[0m, in \u001b[0;36mupdate_files\u001b[1;34m(main_folder_name, save_location, filename)\u001b[0m\n\u001b[0;32m    269\u001b[0m \u001b[38;5;250m\u001b[39m\u001b[38;5;124;03m\"\"\"Update the files in the google drive with any new raw files.\u001b[39;00m\n\u001b[0;32m    270\u001b[0m \u001b[38;5;124;03m\u001b[39;00m\n\u001b[0;32m    271\u001b[0m \u001b[38;5;124;03m    Args:\u001b[39;00m\n\u001b[1;32m   (...)\u001b[0m\n\u001b[0;32m    275\u001b[0m \u001b[38;5;124;03m        \u001b[39;00m\n\u001b[0;32m    276\u001b[0m \u001b[38;5;124;03m\"\"\"\u001b[39;00m\n\u001b[0;32m    278\u001b[0m \u001b[38;5;66;03m# Connect to the google drive location\u001b[39;00m\n\u001b[1;32m--> 279\u001b[0m service \u001b[38;5;241m=\u001b[39m \u001b[43mconnect_to_drive\u001b[49m\u001b[43m(\u001b[49m\u001b[43m)\u001b[49m\n\u001b[0;32m    281\u001b[0m \u001b[38;5;66;03m# Get the files info from within the main folder\u001b[39;00m\n\u001b[0;32m    282\u001b[0m main_folder_id \u001b[38;5;241m=\u001b[39m search_file_by_name(service, main_folder_name)[\u001b[38;5;124m'\u001b[39m\u001b[38;5;124mid\u001b[39m\u001b[38;5;124m'\u001b[39m]\n",
      "File \u001b[1;32m~\\AppData\\Local\\Temp\\ipykernel_16544\\705069191.py:31\u001b[0m, in \u001b[0;36mconnect_to_drive\u001b[1;34m()\u001b[0m\n\u001b[0;32m     29\u001b[0m \u001b[38;5;250m\u001b[39m\u001b[38;5;124;03m\"\"\"Connect to the Google Drive API service.\"\"\"\u001b[39;00m\n\u001b[0;32m     30\u001b[0m \u001b[38;5;66;03m# Get user credentials\u001b[39;00m\n\u001b[1;32m---> 31\u001b[0m creds \u001b[38;5;241m=\u001b[39m \u001b[43mget_credentials\u001b[49m\u001b[43m(\u001b[49m\u001b[43m)\u001b[49m\n\u001b[0;32m     32\u001b[0m \u001b[38;5;66;03m# Connect to the API service\u001b[39;00m\n\u001b[0;32m     33\u001b[0m service \u001b[38;5;241m=\u001b[39m build(\u001b[38;5;124m'\u001b[39m\u001b[38;5;124mdrive\u001b[39m\u001b[38;5;124m'\u001b[39m, \u001b[38;5;124m'\u001b[39m\u001b[38;5;124mv3\u001b[39m\u001b[38;5;124m'\u001b[39m, credentials\u001b[38;5;241m=\u001b[39mcreds)\n",
      "File \u001b[1;32m~\\AppData\\Local\\Temp\\ipykernel_16544\\705069191.py:15\u001b[0m, in \u001b[0;36mget_credentials\u001b[1;34m()\u001b[0m\n\u001b[0;32m     12\u001b[0m \u001b[38;5;28;01mif\u001b[39;00m \u001b[38;5;129;01mnot\u001b[39;00m creds \u001b[38;5;129;01mor\u001b[39;00m \u001b[38;5;129;01mnot\u001b[39;00m creds\u001b[38;5;241m.\u001b[39mvalid:\n\u001b[0;32m     13\u001b[0m     \u001b[38;5;66;03m# If token is expired, refresh it, else, request a new one.\u001b[39;00m\n\u001b[0;32m     14\u001b[0m     \u001b[38;5;28;01mif\u001b[39;00m creds \u001b[38;5;129;01mand\u001b[39;00m creds\u001b[38;5;241m.\u001b[39mexpired \u001b[38;5;129;01mand\u001b[39;00m creds\u001b[38;5;241m.\u001b[39mrefresh_token:\n\u001b[1;32m---> 15\u001b[0m         \u001b[43mcreds\u001b[49m\u001b[38;5;241;43m.\u001b[39;49m\u001b[43mrefresh\u001b[49m\u001b[43m(\u001b[49m\u001b[43mRequest\u001b[49m\u001b[43m(\u001b[49m\u001b[43m)\u001b[49m\u001b[43m)\u001b[49m\n\u001b[0;32m     16\u001b[0m     \u001b[38;5;28;01melse\u001b[39;00m:\n\u001b[0;32m     17\u001b[0m         flow \u001b[38;5;241m=\u001b[39m InstalledAppFlow\u001b[38;5;241m.\u001b[39mfrom_client_secrets_file(\n\u001b[0;32m     18\u001b[0m             \u001b[38;5;124m'\u001b[39m\u001b[38;5;124m../google_credentials.json\u001b[39m\u001b[38;5;124m'\u001b[39m, SCOPES)\n",
      "File \u001b[1;32m~\\AppData\\Local\\Programs\\Python\\Python312\\Lib\\site-packages\\google\\oauth2\\credentials.py:431\u001b[0m, in \u001b[0;36mCredentials.refresh\u001b[1;34m(self, request)\u001b[0m\n\u001b[0;32m    413\u001b[0m \u001b[38;5;28;01mif\u001b[39;00m (\n\u001b[0;32m    414\u001b[0m     \u001b[38;5;28mself\u001b[39m\u001b[38;5;241m.\u001b[39m_refresh_token \u001b[38;5;129;01mis\u001b[39;00m \u001b[38;5;28;01mNone\u001b[39;00m\n\u001b[0;32m    415\u001b[0m     \u001b[38;5;129;01mor\u001b[39;00m \u001b[38;5;28mself\u001b[39m\u001b[38;5;241m.\u001b[39m_token_uri \u001b[38;5;129;01mis\u001b[39;00m \u001b[38;5;28;01mNone\u001b[39;00m\n\u001b[0;32m    416\u001b[0m     \u001b[38;5;129;01mor\u001b[39;00m \u001b[38;5;28mself\u001b[39m\u001b[38;5;241m.\u001b[39m_client_id \u001b[38;5;129;01mis\u001b[39;00m \u001b[38;5;28;01mNone\u001b[39;00m\n\u001b[0;32m    417\u001b[0m     \u001b[38;5;129;01mor\u001b[39;00m \u001b[38;5;28mself\u001b[39m\u001b[38;5;241m.\u001b[39m_client_secret \u001b[38;5;129;01mis\u001b[39;00m \u001b[38;5;28;01mNone\u001b[39;00m\n\u001b[0;32m    418\u001b[0m ):\n\u001b[0;32m    419\u001b[0m     \u001b[38;5;28;01mraise\u001b[39;00m exceptions\u001b[38;5;241m.\u001b[39mRefreshError(\n\u001b[0;32m    420\u001b[0m         \u001b[38;5;124m\"\u001b[39m\u001b[38;5;124mThe credentials do not contain the necessary fields need to \u001b[39m\u001b[38;5;124m\"\u001b[39m\n\u001b[0;32m    421\u001b[0m         \u001b[38;5;124m\"\u001b[39m\u001b[38;5;124mrefresh the access token. You must specify refresh_token, \u001b[39m\u001b[38;5;124m\"\u001b[39m\n\u001b[0;32m    422\u001b[0m         \u001b[38;5;124m\"\u001b[39m\u001b[38;5;124mtoken_uri, client_id, and client_secret.\u001b[39m\u001b[38;5;124m\"\u001b[39m\n\u001b[0;32m    423\u001b[0m     )\n\u001b[0;32m    425\u001b[0m (\n\u001b[0;32m    426\u001b[0m     access_token,\n\u001b[0;32m    427\u001b[0m     refresh_token,\n\u001b[0;32m    428\u001b[0m     expiry,\n\u001b[0;32m    429\u001b[0m     grant_response,\n\u001b[0;32m    430\u001b[0m     rapt_token,\n\u001b[1;32m--> 431\u001b[0m ) \u001b[38;5;241m=\u001b[39m \u001b[43mreauth\u001b[49m\u001b[38;5;241;43m.\u001b[39;49m\u001b[43mrefresh_grant\u001b[49m\u001b[43m(\u001b[49m\n\u001b[0;32m    432\u001b[0m \u001b[43m    \u001b[49m\u001b[43mrequest\u001b[49m\u001b[43m,\u001b[49m\n\u001b[0;32m    433\u001b[0m \u001b[43m    \u001b[49m\u001b[38;5;28;43mself\u001b[39;49m\u001b[38;5;241;43m.\u001b[39;49m\u001b[43m_token_uri\u001b[49m\u001b[43m,\u001b[49m\n\u001b[0;32m    434\u001b[0m \u001b[43m    \u001b[49m\u001b[38;5;28;43mself\u001b[39;49m\u001b[38;5;241;43m.\u001b[39;49m\u001b[43m_refresh_token\u001b[49m\u001b[43m,\u001b[49m\n\u001b[0;32m    435\u001b[0m \u001b[43m    \u001b[49m\u001b[38;5;28;43mself\u001b[39;49m\u001b[38;5;241;43m.\u001b[39;49m\u001b[43m_client_id\u001b[49m\u001b[43m,\u001b[49m\n\u001b[0;32m    436\u001b[0m \u001b[43m    \u001b[49m\u001b[38;5;28;43mself\u001b[39;49m\u001b[38;5;241;43m.\u001b[39;49m\u001b[43m_client_secret\u001b[49m\u001b[43m,\u001b[49m\n\u001b[0;32m    437\u001b[0m \u001b[43m    \u001b[49m\u001b[43mscopes\u001b[49m\u001b[38;5;241;43m=\u001b[39;49m\u001b[43mscopes\u001b[49m\u001b[43m,\u001b[49m\n\u001b[0;32m    438\u001b[0m \u001b[43m    \u001b[49m\u001b[43mrapt_token\u001b[49m\u001b[38;5;241;43m=\u001b[39;49m\u001b[38;5;28;43mself\u001b[39;49m\u001b[38;5;241;43m.\u001b[39;49m\u001b[43m_rapt_token\u001b[49m\u001b[43m,\u001b[49m\n\u001b[0;32m    439\u001b[0m \u001b[43m    \u001b[49m\u001b[43menable_reauth_refresh\u001b[49m\u001b[38;5;241;43m=\u001b[39;49m\u001b[38;5;28;43mself\u001b[39;49m\u001b[38;5;241;43m.\u001b[39;49m\u001b[43m_enable_reauth_refresh\u001b[49m\u001b[43m,\u001b[49m\n\u001b[0;32m    440\u001b[0m \u001b[43m\u001b[49m\u001b[43m)\u001b[49m\n\u001b[0;32m    442\u001b[0m \u001b[38;5;28mself\u001b[39m\u001b[38;5;241m.\u001b[39mtoken \u001b[38;5;241m=\u001b[39m access_token\n\u001b[0;32m    443\u001b[0m \u001b[38;5;28mself\u001b[39m\u001b[38;5;241m.\u001b[39mexpiry \u001b[38;5;241m=\u001b[39m expiry\n",
      "File \u001b[1;32m~\\AppData\\Local\\Programs\\Python\\Python312\\Lib\\site-packages\\google\\oauth2\\reauth.py:365\u001b[0m, in \u001b[0;36mrefresh_grant\u001b[1;34m(request, token_uri, refresh_token, client_id, client_secret, scopes, rapt_token, enable_reauth_refresh)\u001b[0m\n\u001b[0;32m    356\u001b[0m     (\n\u001b[0;32m    357\u001b[0m         response_status_ok,\n\u001b[0;32m    358\u001b[0m         response_data,\n\u001b[1;32m   (...)\u001b[0m\n\u001b[0;32m    361\u001b[0m         request, token_uri, body, headers\u001b[38;5;241m=\u001b[39mmetrics_header\n\u001b[0;32m    362\u001b[0m     )\n\u001b[0;32m    364\u001b[0m \u001b[38;5;28;01mif\u001b[39;00m \u001b[38;5;129;01mnot\u001b[39;00m response_status_ok:\n\u001b[1;32m--> 365\u001b[0m     \u001b[43m_client\u001b[49m\u001b[38;5;241;43m.\u001b[39;49m\u001b[43m_handle_error_response\u001b[49m\u001b[43m(\u001b[49m\u001b[43mresponse_data\u001b[49m\u001b[43m,\u001b[49m\u001b[43m \u001b[49m\u001b[43mretryable_error\u001b[49m\u001b[43m)\u001b[49m\n\u001b[0;32m    366\u001b[0m \u001b[38;5;28;01mreturn\u001b[39;00m _client\u001b[38;5;241m.\u001b[39m_handle_refresh_grant_response(response_data, refresh_token) \u001b[38;5;241m+\u001b[39m (\n\u001b[0;32m    367\u001b[0m     rapt_token,\n\u001b[0;32m    368\u001b[0m )\n",
      "File \u001b[1;32m~\\AppData\\Local\\Programs\\Python\\Python312\\Lib\\site-packages\\google\\oauth2\\_client.py:72\u001b[0m, in \u001b[0;36m_handle_error_response\u001b[1;34m(response_data, retryable_error)\u001b[0m\n\u001b[0;32m     69\u001b[0m \u001b[38;5;28;01mexcept\u001b[39;00m (\u001b[38;5;167;01mKeyError\u001b[39;00m, \u001b[38;5;167;01mValueError\u001b[39;00m):\n\u001b[0;32m     70\u001b[0m     error_details \u001b[38;5;241m=\u001b[39m json\u001b[38;5;241m.\u001b[39mdumps(response_data)\n\u001b[1;32m---> 72\u001b[0m \u001b[38;5;28;01mraise\u001b[39;00m exceptions\u001b[38;5;241m.\u001b[39mRefreshError(\n\u001b[0;32m     73\u001b[0m     error_details, response_data, retryable\u001b[38;5;241m=\u001b[39mretryable_error\n\u001b[0;32m     74\u001b[0m )\n",
      "\u001b[1;31mRefreshError\u001b[0m: ('invalid_grant: Token has been expired or revoked.', {'error': 'invalid_grant', 'error_description': 'Token has been expired or revoked.'})"
     ]
    }
   ],
   "source": [
    "%run \"./google_drive.ipynb\""
   ]
  },
  {
   "cell_type": "code",
   "execution_count": null,
   "id": "2a1537ac-0484-4090-ad53-e4552f305f87",
   "metadata": {},
   "outputs": [],
   "source": [
    "def get_raw_id(service, main_folder_name):\n",
    "    \"\"\"Function to get the id of the raw folder within the main folder on Google Drive\"\"\"\n",
    "    \n",
    "    # Get the files info from within the main folder\n",
    "    main_folder_id = search_file_by_name(service, main_folder_name)['id']\n",
    "    files_data = get_files_in_folder_recursive(service, main_folder_id, main_folder_name)\n",
    "    files_data = split_name_column(files_data)\n",
    "\n",
    "    # Get the folder data from within the file data\n",
    "    folders = files_data[files_data['is_folder'] == True]\n",
    "\n",
    "    # Split the data into the raw, error, and processed data\n",
    "    raw_id = folders[folders['name'] == 'raw'].iloc[0,2]\n",
    "\n",
    "    return raw_id"
   ]
  },
  {
   "cell_type": "code",
   "execution_count": null,
   "id": "93383216-875d-49f0-b1f3-e7864b7a089a",
   "metadata": {},
   "outputs": [],
   "source": [
    "system_prompt = \"\"\"\n",
    "Given the sentence, generate as many paraphrased sentences as possible while preserving the original semantic meaning and style. \n",
    "Return the rephrased sentences in a python list format. Aim for AT LEAST TWENTY sentences. DO NOT INCLUDE ANY NOTES OR ADDITIONAL TEXT IN THE OUTPUT.\n",
    "\n",
    "An example is below:\n",
    "--------\n",
    "Sentence: ```\"Known for being very delicate, the skill could take a lifetime to master.\"```\n",
    "\n",
    "Rephrased Sentences: ```[\"The skill is well known for its delicacy and could require a lifetime to perfect.\", \"The skill's reputation for delicateness suggests that it could take a whole lifetime to master.\", \"It may take a lifetime to master the skill, which is renowned for its delicacy.\", \"The delicacy of the skill means it could take a lifetime to master.\"]```\n",
    "--------\n",
    "Sentence: ```{original_user_supplied_sentence}```\n",
    "\"\"\"\n",
    "\n",
    "final_prompt = ChatPromptTemplate.from_messages(\n",
    "    [\n",
    "        (\"system\", system_prompt),\n",
    "        (\"human\", \"{original_user_supplied_sentence}\"),\n",
    "    ]\n",
    ")"
   ]
  },
  {
   "cell_type": "code",
   "execution_count": null,
   "id": "e4f41564-b276-4313-ad1e-bea604eac3cf",
   "metadata": {},
   "outputs": [],
   "source": [
    "def convert_to_phi(original_sentence,\n",
    "                   prompt_input=final_prompt):\n",
    "\n",
    "    messages = prompt_input.messages\n",
    "    \n",
    "    formatted_messages = \"\"\n",
    "\n",
    "    for message in messages:\n",
    "        if isinstance(message, SystemMessagePromptTemplate):\n",
    "            formatted_messages += f\"<|assistant|>\\n{message.prompt.template.replace('\\n', '')} <|end|>\\n\"\n",
    "        elif isinstance(message, FewShotChatMessagePromptTemplate):\n",
    "            formatted_messages += f\"<|user|>\\n{message.examples[0]['original_user_supplied_sentence'].replace('\\n', '')} <|end|>\\n\"\n",
    "            formatted_messages += f\"<|assistant|>\\n{message.examples[0]} <|end|>\\n\"\n",
    "        elif isinstance(message, HumanMessagePromptTemplate):\n",
    "            formatted_messages += f\"<|user|>\\n{message.prompt.template.replace('\\n', '')} <|end|>\\n\"\n",
    "    \n",
    "    formatted_messages += f\"<|assistant|>\"\n",
    "\n",
    "    formatted_prompt = formatted_messages.replace(\"<|user|>\\n{original_user_supplied_sentence} <|end|>\", f\"<|user|>\\n{original_sentence} <|end|>\")\n",
    "    \n",
    "    return formatted_prompt\n",
    "    "
   ]
  },
  {
   "cell_type": "code",
   "execution_count": null,
   "id": "7144c46a-4bfa-489f-8b31-23b0cee6e9fd",
   "metadata": {},
   "outputs": [],
   "source": [
    "llm(formatted_prompt, max_tokens=1000, stop=[\"<|end|>\"],temperature=1)"
   ]
  },
  {
   "cell_type": "code",
   "execution_count": null,
   "id": "4508c090-9918-4157-a354-2f45673f065b",
   "metadata": {
    "scrolled": true
   },
   "outputs": [],
   "source": [
    "llm = Llama(\n",
    "    model_path=\"C:/Users/benjc/Documents/models/Phi-3-mini-4k-instruct-q4.gguf\",\n",
    "    n_ctx=4096,  # The max sequence length to use - note that longer sequence lengths require much more resources\n",
    "    n_threads=10, # Maximum I have is 12\n",
    "    n_gpu_layers=-1, # The number of layers to offload to GPU, if you have GPU acceleration available.\n",
    "    verbose=False,\n",
    "    flash_attn=True\n",
    ")"
   ]
  },
  {
   "cell_type": "code",
   "execution_count": null,
   "id": "3323244b-eba6-4eda-a003-618e9536cc83",
   "metadata": {},
   "outputs": [],
   "source": [
    "def phi_paraphrase(original_sentence,\n",
    "                   n_runs=10,\n",
    "                   llm=llm,\n",
    "                   prompt_input=final_prompt):\n",
    "\n",
    "\n",
    "    formatted_prompt = convert_to_phi(original_sentence, prompt_input=final_prompt)\n",
    "\n",
    "    sentences = [original_sentence]\n",
    "    new_sentence_amount = 1\n",
    "    \n",
    "    for i in range(1, n_runs + 1):\n",
    "\n",
    "        if new_sentence_amount == 0:\n",
    "            break\n",
    "        print(f'  Iteration: {i}')\n",
    "        attempts = 1\n",
    "        \n",
    "        while True:\n",
    "            try:\n",
    "                output_str = llm(formatted_prompt, max_tokens=1000, stop=[\"<|end|>\"],\n",
    "                                temperature=1)\n",
    "                output_text = output_str['choices'][0]['text']\n",
    "\n",
    "                # Find the index of the first '[' and the last ']'\n",
    "                start_index = output_text.find('[')\n",
    "                end_index = output_text.rfind(']')\n",
    "\n",
    "                # Extract the content between the first '[' and the last ']'\n",
    "                content_str = output_text[start_index+1:end_index]\n",
    "\n",
    "                # Evaluate the content string as a Python expression to convert it into a list\n",
    "                result_list = eval('[' + content_str + ']')\n",
    "\n",
    "                break\n",
    "            except Exception as e:\n",
    "                print(f'    Attempt {attempts} failed: {str(e)}')\n",
    "                attempts += 1  # Increment the number of attempts\n",
    "\n",
    "                if attempts == 4:\n",
    "                    print(\"3 Attempts Exceeded, Next Iteration.\")\n",
    "                    result_list = []\n",
    "                    break\n",
    "\n",
    "        new_sentence_amount = 0\n",
    "\n",
    "        for result in result_list:\n",
    "            if result not in sentences:\n",
    "                sentences.append(result)\n",
    "                new_sentence_amount += 1\n",
    "        \n",
    "    return sentences"
   ]
  },
  {
   "cell_type": "code",
   "execution_count": null,
   "id": "1cff83e1-660e-4428-bf02-f760c78401e9",
   "metadata": {},
   "outputs": [],
   "source": [
    "def paraphrase_df(df, *args):\n",
    "    doc_ids = []\n",
    "    chunks = []\n",
    "    rephrased_sentences = []\n",
    "    \n",
    "    n_rows = df['id'].count()\n",
    "\n",
    "    \n",
    "    for index, row in df.iterrows():\n",
    "        row_num = index + 1\n",
    "        print(f'Row {row_num} out of {n_rows}')\n",
    "        doc_id = row['id']\n",
    "        chunk = row['chunk_id']\n",
    "        sentence = row['text']\n",
    "        \n",
    "        rephrased = phi_paraphrase(sentence, *args)\n",
    "        num_sent = len(rephrased)\n",
    "        \n",
    "        # Extend lists with repeated doc_id and chunk_id\n",
    "        doc_ids.extend([doc_id] * num_sent)\n",
    "        chunks.extend([chunk] * num_sent)\n",
    "        \n",
    "        rephrased_sentences.extend(rephrased)\n",
    "\n",
    "    # Construct DataFrame\n",
    "    result_df = pd.DataFrame({\n",
    "        'doc_id': doc_ids,\n",
    "        'chunk_id': chunks,\n",
    "        'sentence': rephrased_sentences\n",
    "    })\n",
    "\n",
    "    return result_df"
   ]
  },
  {
   "cell_type": "code",
   "execution_count": null,
   "id": "e9468080-5a8c-4cfe-b578-e16dced6127d",
   "metadata": {},
   "outputs": [],
   "source": [
    "df = read_jsonl_file('../data/guardian_chunked_impostor.jsonl')"
   ]
  },
  {
   "cell_type": "code",
   "execution_count": null,
   "id": "f99d8fca-d758-41c4-bc01-f7b73119b692",
   "metadata": {},
   "outputs": [],
   "source": [
    "# filtered_df = df[(df['id'] >= 19)]"
   ]
  },
  {
   "cell_type": "code",
   "execution_count": null,
   "id": "7941d0f5-27fd-47a0-a45f-cf62ac61e0d5",
   "metadata": {},
   "outputs": [],
   "source": [
    "# filtered_df = df[(df['id'] == 18) & (df['chunk_id'] >= 46)]"
   ]
  },
  {
   "cell_type": "code",
   "execution_count": null,
   "id": "b731b63a-8df9-4fbc-a51f-f6725858d94d",
   "metadata": {},
   "outputs": [],
   "source": [
    "df"
   ]
  },
  {
   "cell_type": "code",
   "execution_count": null,
   "id": "17d38183-bc6c-4c00-98d7-2eeaee1719a6",
   "metadata": {},
   "outputs": [],
   "source": [
    "grouped_df = df.groupby('id').size().reset_index(name='count')\n",
    "grouped_df = grouped_df.sort_values(by='count', ascending=True)\n",
    "grouped_df = grouped_df.iloc[(len(grouped_df)//2 - 5):(len(grouped_df)//2 + 5)]\n",
    "sample_list = grouped_df['id'].tolist()"
   ]
  },
  {
   "cell_type": "code",
   "execution_count": null,
   "id": "23dceac6-502c-4f3b-be8b-e217d9865520",
   "metadata": {},
   "outputs": [],
   "source": [
    "sample_list"
   ]
  },
  {
   "cell_type": "code",
   "execution_count": null,
   "id": "497c1fac-f76f-4ebc-aa22-04f79b14fec9",
   "metadata": {},
   "outputs": [],
   "source": [
    "filtered_df = df[df['id'].isin(sample_list)]"
   ]
  },
  {
   "cell_type": "code",
   "execution_count": null,
   "id": "e2bd27c4-7067-46f6-ba38-df5b0888e681",
   "metadata": {},
   "outputs": [],
   "source": [
    "filtered_df"
   ]
  },
  {
   "cell_type": "code",
   "execution_count": null,
   "id": "6da260a2-c5d4-4aae-822e-126d5874cda3",
   "metadata": {},
   "outputs": [],
   "source": [
    "filtered_df.iloc[0,8]"
   ]
  },
  {
   "cell_type": "code",
   "execution_count": null,
   "id": "3a6ae999-fa78-4f54-96da-93652521815f",
   "metadata": {},
   "outputs": [],
   "source": [
    "filtered_df.iloc[1,8]"
   ]
  },
  {
   "cell_type": "code",
   "execution_count": null,
   "id": "d570ee92-5230-41db-bbdd-a786fec57089",
   "metadata": {},
   "outputs": [],
   "source": [
    "def paraphrase_df_save(df, base_save_loc, google_drive_main_folder, *args):\n",
    "\n",
    "    # Connect to my Google Drive \n",
    "    service = connect_to_drive()\n",
    "\n",
    "    # Get the id of the raw save location in chosen folder\n",
    "    raw_folder_id = get_raw_id(service, google_drive_main_folder)\n",
    "    \n",
    "    docs = df['id'].unique().tolist()\n",
    "    \n",
    "    if 'subchunk_id' in df.columns:\n",
    "        subchunk = True\n",
    "    else:\n",
    "        subchunk = False\n",
    "\n",
    "    for doc in docs:\n",
    "        filtered_df = df[df['id'] == doc]\n",
    "        n_rows = filtered_df['id'].count()\n",
    "\n",
    "        for index, row in filtered_df.iterrows():\n",
    "            doc_ids = []\n",
    "            chunks = []\n",
    "            subchunks = []\n",
    "            rephrased_sentences = []\n",
    "            \n",
    "            doc_id = row['id']\n",
    "            chunk = row['chunk_id']\n",
    "            max_chunk = filtered_df['chunk_id'].max()\n",
    "            sentence = row['text']\n",
    "                \n",
    "            print(f'Doc: {doc_id} - Chunk: {chunk + 1} out of {max_chunk + 1}')\n",
    "\n",
    "            rephrased = phi_paraphrase(sentence, *args)\n",
    "            num_sent = len(rephrased)\n",
    "        \n",
    "            # Extend lists with repeated doc_id and chunk_id\n",
    "            doc_ids.extend([doc_id] * num_sent)\n",
    "            chunks.extend([chunk] * num_sent)\n",
    "            rephrased_sentences.extend(rephrased)\n",
    "            \n",
    "            if subchunk:\n",
    "                s_chunk = row['subchunk_id']\n",
    "                subchunks.extend([s_chunk] * num_sent)\n",
    "\n",
    "                raw_df = pd.DataFrame({\n",
    "                    'doc_id': doc_ids,\n",
    "                    'chunk_id': chunks,\n",
    "                    'subchunk_id': subchunks,\n",
    "                    'rephrased': rephrased_sentences\n",
    "                })\n",
    "\n",
    "                filtered_raw_df = raw_df[(raw_df['doc_id'] == doc_id)  &\n",
    "                    (raw_df['chunk_id'] == chunk) &\n",
    "                    (raw_df['subchunk_id'] == s_chunk)]\n",
    "                \n",
    "                temp_loc = f\"{base_save_loc}temp.jsonl\"\n",
    "                google_drive_name = f\"doc_{doc}_chunk_{chunk}_subchunk_{s_chunk}.jsonl\"\n",
    "\n",
    "            else:\n",
    "                raw_df = pd.DataFrame({\n",
    "                    'doc_id': doc_ids,\n",
    "                    'chunk_id': chunks,\n",
    "                    'rephrased': rephrased_sentences\n",
    "                })\n",
    "\n",
    "                filtered_raw_df = raw_df[(raw_df['doc_id'] == doc_id)  &\n",
    "                    (raw_df['chunk_id'] == chunk)]\n",
    "                \n",
    "                temp_loc = f\"{base_save_loc}temp.jsonl\"\n",
    "                google_drive_name = f\"doc_{doc}_chunk_{chunk}.jsonl\"\n",
    "\n",
    "            try:\n",
    "                save_as_jsonl(filtered_raw_df, temp_loc)\n",
    "                upload_file(service, google_drive_name, temp_loc, parent_folder_id=raw_folder_id)\n",
    "            except:\n",
    "                pass"
   ]
  },
  {
   "cell_type": "code",
   "execution_count": null,
   "id": "a89ebb0c-920c-4883-a2cd-aa14dcf44d7d",
   "metadata": {},
   "outputs": [],
   "source": [
    "# paraphrase_df_save(filtered_df, base_save_loc = \"../data/guardian_phi/\", google_drive_main_folder=\"guardian_phi\")"
   ]
  },
  {
   "cell_type": "code",
   "execution_count": null,
   "id": "50f234b7-96e5-4369-8305-3fcccc230861",
   "metadata": {},
   "outputs": [],
   "source": [
    "paraphrase_df_save(filtered_df, base_save_loc=\"../data/guardian_phi_chunked\", google_drive_main_folder=\"guardian_phi_chunked\")"
   ]
  }
 ],
 "metadata": {
  "kernelspec": {
   "display_name": "para_llm",
   "language": "python",
   "name": "para_llm"
  },
  "language_info": {
   "codemirror_mode": {
    "name": "ipython",
    "version": 3
   },
   "file_extension": ".py",
   "mimetype": "text/x-python",
   "name": "python",
   "nbconvert_exporter": "python",
   "pygments_lexer": "ipython3",
   "version": "3.12.3"
  }
 },
 "nbformat": 4,
 "nbformat_minor": 5
}
