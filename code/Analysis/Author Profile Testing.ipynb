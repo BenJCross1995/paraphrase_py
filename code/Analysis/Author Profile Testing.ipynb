{
 "cells": [
  {
   "cell_type": "code",
   "execution_count": 6,
   "id": "5a50c741",
   "metadata": {},
   "outputs": [
    {
     "name": "stdout",
     "output_type": "stream",
     "text": [
      "[Errno 2] No such file or directory: '../../code/'\n",
      "/Users/user/Documents/GitHub/paraphrase_py/code\n"
     ]
    },
    {
     "name": "stderr",
     "output_type": "stream",
     "text": [
      "/Users/user/Documents/GitHub/Video-from-Script/youtube_env/lib/python3.11/site-packages/IPython/core/magics/osm.py:393: UserWarning: This is now an optional IPython functionality, using bookmarks requires you to install the `pickleshare` library.\n",
      "  bkms = self.shell.db.get('bookmarks', {})\n"
     ]
    }
   ],
   "source": [
    "# 1) Set the location\n",
    "%cd ../../code/"
   ]
  },
  {
   "cell_type": "code",
   "execution_count": 7,
   "id": "74d6cff0",
   "metadata": {},
   "outputs": [
    {
     "name": "stdout",
     "output_type": "stream",
     "text": [
      "📄 Found existing known-author profile → /Volumes/BCross/datasets/author_verification/training/Wiki/known_profile.jsonl\n",
      "⚠️  Skipping impostor generation for authors (missing parascore files): Britmax, BrotherDarksoul, BullRangifer, Bulldog123, Caboga, Chanakyathegreat, Cla68, Classicjupiter2, Colin, Collect, Cosmos416, Cptnono, CyberAnth, D7G1DX~0, DIREKTOR, Danlaycock, David_Shankbone, Delicious_carbuncle, Dennis_Brown, DonaNobisPacem, Dricherby, Dweller, EEng, Ecelan, EdJohnston, Enemesis, Equanimous1, Eraserhead1, Erigu, Essjay, Exploding_Boy, Fakirbakir, Falcon9x5, Fipplet, Fixentries, Flamarande, Floquenbeam, Fragments_of_Jade, Fyunck(click), Garda40, George, Greg_L, Gtadoc, Gwen_Gale, Habap, Hamiltonstone, Hanlon1755, Happyme22, Hardyplants, Harlan_wilkerson, Haymaker, HeadleyDown, Hipocrite\n",
      "Author 1 out of 22 complete\n",
      "Author 2 out of 22 complete\n",
      "Author 3 out of 22 complete\n",
      "Author 4 out of 22 complete\n",
      "Author 5 out of 22 complete\n",
      "Author 6 out of 22 complete\n",
      "Author 7 out of 22 complete\n",
      "Author 8 out of 22 complete\n",
      "Author 9 out of 22 complete\n",
      "Author 10 out of 22 complete\n",
      "Author 11 out of 22 complete\n",
      "Author 12 out of 22 complete\n",
      "Author 13 out of 22 complete\n",
      "Author 14 out of 22 complete\n",
      "Author 15 out of 22 complete\n",
      "Author 16 out of 22 complete\n",
      "Author 17 out of 22 complete\n",
      "Author 18 out of 22 complete\n",
      "Author 19 out of 22 complete\n",
      "Author 20 out of 22 complete\n",
      "Author 21 out of 22 complete\n",
      "Author 22 out of 22 complete\n"
     ]
    }
   ],
   "source": [
    "!python author_profile.py \\\n",
    "    --known_loc /Volumes/BCross/datasets/author_verification/training/Wiki/known_raw.jsonl \\\n",
    "    --known_save_loc /Volumes/BCross/datasets/author_verification/training/Wiki/known_profile.jsonl \\\n",
    "    --parascore_dir /Volumes/BCross/datasets/author_verification/training/Wiki/Qwen_2.5_1.5B/parascore \\\n",
    "    --save_dir /Volumes/BCross/datasets/author_verification/training/Wiki/Qwen_2.5_1.5B/impostor_profile \\\n",
    "    --n 1000 \\\n",
    "    --seed 42"
   ]
  },
  {
   "cell_type": "code",
   "execution_count": null,
   "id": "4515e4ff",
   "metadata": {},
   "outputs": [],
   "source": []
  }
 ],
 "metadata": {
  "kernelspec": {
   "display_name": "“YouTube_Environment”",
   "language": "python",
   "name": "youtube_env"
  },
  "language_info": {
   "codemirror_mode": {
    "name": "ipython",
    "version": 3
   },
   "file_extension": ".py",
   "mimetype": "text/x-python",
   "name": "python",
   "nbconvert_exporter": "python",
   "pygments_lexer": "ipython3",
   "version": "3.11.7"
  }
 },
 "nbformat": 4,
 "nbformat_minor": 5
}
