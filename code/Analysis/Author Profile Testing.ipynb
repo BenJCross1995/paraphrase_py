{
 "cells": [
  {
   "cell_type": "code",
   "execution_count": 1,
   "id": "c7078149",
   "metadata": {},
   "outputs": [
    {
     "name": "stdout",
     "output_type": "stream",
     "text": [
      "/Users/user/Documents/GitHub/paraphrase_py/code\n"
     ]
    },
    {
     "name": "stderr",
     "output_type": "stream",
     "text": [
      "/Users/user/Documents/GitHub/Video-from-Script/youtube_env/lib/python3.11/site-packages/IPython/core/magics/osm.py:417: UserWarning: This is now an optional IPython functionality, setting dhist requires you to install the `pickleshare` library.\n",
      "  self.shell.db['dhist'] = compress_dhist(dhist)[-100:]\n"
     ]
    }
   ],
   "source": [
    "# 1) Set the location\n",
    "%cd ../../code/"
   ]
  },
  {
   "cell_type": "code",
   "execution_count": 2,
   "id": "850058b1",
   "metadata": {},
   "outputs": [
    {
     "name": "stdout",
     "output_type": "stream",
     "text": [
      "📄 Found existing known-author profile → /Volumes/BCross/datasets/author_verification/training/Wiki/known_profile.jsonl\n",
      "⚠️  Skipping impostor generation for authors (missing parascore files): Britmax, BrotherDarksoul, BullRangifer, Bulldog123, Caboga, Chanakyathegreat, Cla68, Classicjupiter2, Colin, Collect, Cosmos416, Cptnono, CyberAnth, D7G1DX~0, DIREKTOR, Danlaycock, David_Shankbone, Delicious_carbuncle, Dennis_Brown, DonaNobisPacem, Dricherby, Dweller, EEng, Ecelan, EdJohnston, Enemesis, Equanimous1, Eraserhead1, Erigu, Essjay, Exploding_Boy, Fakirbakir, Falcon9x5, Fipplet, Fixentries, Flamarande, Floquenbeam, Fragments_of_Jade, Fyunck(click), Garda40, George, Greg_L, Gtadoc, Gwen_Gale, Habap, Hamiltonstone, Hanlon1755, Happyme22, Hardyplants, Harlan_wilkerson, Haymaker, HeadleyDown, Hipocrite\n",
      "⏩  Skipping 142.196.88.228 – impostor profile already exists\n",
      "⏩  Skipping A_Man_In_Black – impostor profile already exists\n",
      "⏩  Skipping Aban1313 – impostor profile already exists\n",
      "⏩  Skipping Akuri – impostor profile already exists\n",
      "⏩  Skipping AlanBarnet – impostor profile already exists\n",
      "⏩  Skipping Alanyst – impostor profile already exists\n",
      "⏩  Skipping AlasdairGreen27 – impostor profile already exists\n",
      "⏩  Skipping Alienus – impostor profile already exists\n",
      "⏩  Skipping Amalthea – impostor profile already exists\n",
      "⏩  Skipping Amorrow – impostor profile already exists\n",
      "⏩  Skipping Anir1uph – impostor profile already exists\n",
      "⏩  Skipping Antidiskriminator – impostor profile already exists\n",
      "⏩  Skipping Atama – impostor profile already exists\n",
      "⏩  Skipping Athenean – impostor profile already exists\n",
      "⏩  Skipping Avraham – impostor profile already exists\n",
      "⏩  Skipping Bankhallbretherton – impostor profile already exists\n",
      "⏩  Skipping Bfigura – impostor profile already exists\n",
      "⏩  Skipping Bielle – impostor profile already exists\n",
      "⏩  Skipping Bigdaddy1981 – impostor profile already exists\n",
      "⏩  Skipping Bjenks – impostor profile already exists\n",
      "⏩  Skipping Bonewah – impostor profile already exists\n",
      "⏩  Skipping Boson – impostor profile already exists\n"
     ]
    }
   ],
   "source": [
    "!python author_profile.py \\\n",
    "    --known_loc /Volumes/BCross/datasets/author_verification/training/Wiki/known_raw.jsonl \\\n",
    "    --known_save_loc /Volumes/BCross/datasets/author_verification/training/Wiki/known_profile.jsonl \\\n",
    "    --parascore_dir /Volumes/BCross/datasets/author_verification/training/Wiki/Qwen_2.5_1.5B/parascore \\\n",
    "    --save_dir /Volumes/BCross/datasets/author_verification/training/Wiki/Qwen_2.5_1.5B/impostor_profile \\\n",
    "    --n 1000 \\\n",
    "    --seed 42"
   ]
  },
  {
   "cell_type": "code",
   "execution_count": null,
   "id": "d87610c6",
   "metadata": {},
   "outputs": [],
   "source": []
  }
 ],
 "metadata": {
  "kernelspec": {
   "display_name": "“YouTube_Environment”",
   "language": "python",
   "name": "youtube_env"
  },
  "language_info": {
   "codemirror_mode": {
    "name": "ipython",
    "version": 3
   },
   "file_extension": ".py",
   "mimetype": "text/x-python",
   "name": "python",
   "nbconvert_exporter": "python",
   "pygments_lexer": "ipython3",
   "version": "3.11.7"
  }
 },
 "nbformat": 4,
 "nbformat_minor": 5
}
