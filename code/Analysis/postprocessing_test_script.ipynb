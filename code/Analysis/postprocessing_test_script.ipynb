{
 "cells": [
  {
   "cell_type": "code",
   "execution_count": 1,
   "id": "38dd903f",
   "metadata": {},
   "outputs": [
    {
     "name": "stdout",
     "output_type": "stream",
     "text": [
      "/Users/user/Documents/GitHub/paraphrase_py/code\n"
     ]
    },
    {
     "name": "stderr",
     "output_type": "stream",
     "text": [
      "/Users/user/Documents/GitHub/Video-from-Script/youtube_env/lib/python3.11/site-packages/IPython/core/magics/osm.py:417: UserWarning: This is now an optional IPython functionality, setting dhist requires you to install the `pickleshare` library.\n",
      "  self.shell.db['dhist'] = compress_dhist(dhist)[-100:]\n"
     ]
    }
   ],
   "source": [
    "# 1) Set the location\n",
    "%cd ../../code/"
   ]
  },
  {
   "cell_type": "code",
   "execution_count": null,
   "id": "989d0a9b",
   "metadata": {},
   "outputs": [],
   "source": [
    "# 2) import the helpers\n",
    "from open_source_paraphrase_df_postprocessing import process_records\n",
    "# from read_and_write_docs import read_jsonl, write_jsonl"
   ]
  },
  {
   "cell_type": "code",
   "execution_count": null,
   "id": "296ba10a",
   "metadata": {},
   "outputs": [],
   "source": [
    "# 3) set file paths\n",
    "input_path  = \"/Users/user/Downloads/142_196_88_228_text_1.jsonl\"\n",
    "output_path = \"data/output_cleaned.jsonl\""
   ]
  },
  {
   "cell_type": "code",
   "execution_count": null,
   "id": "e63d7a9b",
   "metadata": {},
   "outputs": [],
   "source": [
    "# 4) read, process, and write\n",
    "df = read_jsonl(input_path)\n",
    "processed_df = process_records(df)"
   ]
  },
  {
   "cell_type": "code",
   "execution_count": null,
   "id": "ad2a7cb7",
   "metadata": {},
   "outputs": [],
   "source": [
    "processed_df"
   ]
  }
 ],
 "metadata": {
  "kernelspec": {
   "display_name": "“YouTube_Environment”",
   "language": "python",
   "name": "youtube_env"
  },
  "language_info": {
   "codemirror_mode": {
    "name": "ipython",
    "version": 3
   },
   "file_extension": ".py",
   "mimetype": "text/x-python",
   "name": "python",
   "nbconvert_exporter": "python",
   "pygments_lexer": "ipython3",
   "version": "3.11.7"
  }
 },
 "nbformat": 4,
 "nbformat_minor": 5
}
