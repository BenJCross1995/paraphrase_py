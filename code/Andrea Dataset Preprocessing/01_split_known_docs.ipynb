{
 "cells": [
  {
   "cell_type": "markdown",
   "id": "dfde9ae6-7bf3-43b4-ae03-ba80130508fd",
   "metadata": {},
   "source": [
    "# 01_split_known_docs\n",
    "\n",
    "Script to split the knownn corpus into seperate files allowing for parallel paraphrasing."
   ]
  },
  {
   "cell_type": "code",
   "execution_count": 42,
   "id": "fb36cb06-936b-4a85-8ff3-b7ae5564f1b4",
   "metadata": {},
   "outputs": [],
   "source": [
    "import json\n",
    "import os\n",
    "import re\n",
    "\n",
    "import pandas as pd"
   ]
  },
  {
   "cell_type": "code",
   "execution_count": 43,
   "id": "021f4073-0a60-45f6-be46-23af4c75ef6e",
   "metadata": {},
   "outputs": [],
   "source": [
    "data_type = \"training\"\n",
    "corpus = \"Wiki\"\n",
    "\n",
    "data_loc = f\"/Volumes/BCross/datasets/author_verification/{data_type}/{corpus}\"\n",
    "\n",
    "raw_data_loc = f\"/Volumes/BCross/datasets/author_verification/{data_type}/{corpus}/known_raw.jsonl\"\n",
    "\n",
    "save_loc = f\"{data_loc}/known_corpus_split/\"\n",
    "os.makedirs(save_loc, exist_ok=True)"
   ]
  },
  {
   "cell_type": "code",
   "execution_count": 44,
   "id": "e0f3942e-ce16-4306-804b-31fafd535f82",
   "metadata": {},
   "outputs": [],
   "source": [
    "def read_jsonl(file_path):\n",
    "    data = []\n",
    "    with open(file_path, 'r') as file:\n",
    "        for line in file:\n",
    "            # Parse the line as JSON\n",
    "            parsed_line = json.loads(line)\n",
    "            # If the line is a single-element list, extract the first element\n",
    "            if isinstance(parsed_line, list) and len(parsed_line) == 1:\n",
    "                data.append(parsed_line[0])\n",
    "            else:\n",
    "                data.append(parsed_line)\n",
    "    \n",
    "    # Convert to a DataFrame\n",
    "    data = pd.DataFrame(data)\n",
    "    return data\n",
    "\n",
    "def write_jsonl(data, output_file_path):\n",
    "    with open(output_file_path, 'w') as file:\n",
    "        for _, row in data.iterrows():\n",
    "            json.dump(row.to_dict(), file)\n",
    "            file.write('\\n')\n",
    "            \n",
    "def create_temp_doc_id(input_text):\n",
    "    # Extract everything between the brackets\n",
    "    match = re.search(r'\\[(.*?)\\]', input_text)\n",
    "    if match:\n",
    "        extracted_text = match.group(1)\n",
    "        # Replace all punctuation and spaces with \"_\"\n",
    "        cleaned_text = re.sub(r'[^\\w]', '_', extracted_text)\n",
    "        # Replace multiple underscores with a single \"_\"\n",
    "        final_text = re.sub(r'_{2,}', '_', cleaned_text)\n",
    "        return final_text.lower()\n",
    "    return None"
   ]
  },
  {
   "cell_type": "code",
   "execution_count": 45,
   "id": "8e63108d-396c-43e4-bd4c-3107065cad31",
   "metadata": {},
   "outputs": [],
   "source": [
    "df = read_jsonl(raw_data_loc)\n",
    "\n",
    "# Rename doc_id to orig_doc_id first\n",
    "df.rename(columns={'doc_id': 'orig_doc_id'}, inplace=True)\n",
    "\n",
    "# Create the new doc_id column directly\n",
    "df['doc_id'] = df['orig_doc_id'].apply(create_temp_doc_id)\n",
    "# Move the new doc_id column to the front\n",
    "cols = ['doc_id'] + [col for col in df.columns if col not in ['doc_id', 'text']] + ['text']\n",
    "\n",
    "df = df[cols]"
   ]
  },
  {
   "cell_type": "code",
   "execution_count": 46,
   "id": "fe33896c-4de1-407f-a25a-bcd5437b2a9a",
   "metadata": {},
   "outputs": [],
   "source": [
    "# Loop through unique doc_id values in the dataframe\n",
    "for doc_id in df['doc_id'].unique():\n",
    "    # Optionally, filter the dataframe rows for this doc_id\n",
    "    doc_df = df[df['doc_id'] == doc_id]\n",
    "    \n",
    "    # Build the file path using the doc_id\n",
    "    file_path = os.path.join(save_loc, f\"{doc_id}.jsonl\")\n",
    "    \n",
    "    # Write the data to a JSONL file using your function\n",
    "    write_jsonl(doc_df, file_path)"
   ]
  }
 ],
 "metadata": {
  "kernelspec": {
   "display_name": "paraphrase_llm",
   "language": "python",
   "name": "paraphrase_llm"
  },
  "language_info": {
   "codemirror_mode": {
    "name": "ipython",
    "version": 3
   },
   "file_extension": ".py",
   "mimetype": "text/x-python",
   "name": "python",
   "nbconvert_exporter": "python",
   "pygments_lexer": "ipython3",
   "version": "3.10.9"
  }
 },
 "nbformat": 4,
 "nbformat_minor": 5
}
