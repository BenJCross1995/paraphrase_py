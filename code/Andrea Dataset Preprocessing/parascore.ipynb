{
 "cells": [
  {
   "cell_type": "code",
   "execution_count": 19,
   "id": "85b911ff-93d3-4812-9cae-13085b3a3167",
   "metadata": {},
   "outputs": [],
   "source": [
    "import os\n",
    "import json\n",
    "\n",
    "import pandas as pd"
   ]
  },
  {
   "cell_type": "code",
   "execution_count": 20,
   "id": "f1b26893-94b6-48f4-9153-09d803a503fc",
   "metadata": {},
   "outputs": [],
   "source": [
    "%run \"../scorer.py\""
   ]
  },
  {
   "cell_type": "code",
   "execution_count": 21,
   "id": "627e5b58-6b78-4636-86e2-b523ad3b92d4",
   "metadata": {},
   "outputs": [],
   "source": [
    "credential_loc = \"../../credentials.json\"\n",
    "\n",
    "data_type = \"training\"\n",
    "corpus = \"TripAdvisor\"\n",
    "\n",
    "base_loc = f\"/Volumes/BCross/datasets/author_verification/\"\n",
    "data_loc = f\"{base_loc}{data_type}/{corpus}/\"\n",
    "\n",
    "raw_data_loc = f\"{data_loc}known_raw.jsonl\"\n",
    "processed_data_loc = f\"{data_loc}known_processed.jsonl\"\n",
    "batch_complete_loc = f\"{data_loc}batch_sentence_complete/\"\n",
    "post_process_loc = f\"{data_loc}batch_postprocessed/\"\n",
    "\n",
    "# ParaScore save location\n",
    "parascore_loc = f\"{data_loc}batch_parascore/\"\n",
    "os.makedirs(parascore_loc, exist_ok=True)\n",
    "\n",
    "# Phone number for WhatsApp notifications\n",
    "phone_number = \"+447756976114\""
   ]
  },
  {
   "cell_type": "code",
   "execution_count": 22,
   "id": "a7627dd4-8871-49e3-a0a3-73cc4a332c72",
   "metadata": {},
   "outputs": [],
   "source": [
    "def read_jsonl(file_path):\n",
    "    \"\"\"\n",
    "    Reads a JSONL file and converts it into a pandas DataFrame.\n",
    "\n",
    "    Parameters:\n",
    "    - file_path: Path to the JSONL file to read.\n",
    "\n",
    "    Returns:\n",
    "    - A pandas DataFrame containing the data from the JSONL file.\n",
    "    \"\"\"\n",
    "    data = []\n",
    "    with open(file_path, 'r') as file:\n",
    "        for line in file:\n",
    "            # Parse the line as JSON\n",
    "            parsed_line = json.loads(line)\n",
    "            # If the line is a single-element list, extract the first element\n",
    "            if isinstance(parsed_line, list) and len(parsed_line) == 1:\n",
    "                data.append(parsed_line[0])\n",
    "            else:\n",
    "                data.append(parsed_line)\n",
    "    \n",
    "    # Convert to a DataFrame\n",
    "    data = pd.DataFrame(data)\n",
    "    return data\n",
    "\n",
    "def write_jsonl(data, output_file_path):\n",
    "    with open(output_file_path, 'w') as file:\n",
    "        for _, row in data.iterrows():\n",
    "            json.dump(row.to_dict(), file)\n",
    "            file.write('\\n')"
   ]
  },
  {
   "cell_type": "code",
   "execution_count": 23,
   "id": "abd65bac-f753-42da-bc62-49f0c8be3322",
   "metadata": {},
   "outputs": [
    {
     "name": "stdout",
     "output_type": "stream",
     "text": [
      "Number of documents to process in raw data: 104\n",
      "Files Complete in Batch location: 103\n",
      "Files Post Processed: 103\n",
      "Files with Score: 43\n",
      "Files to be Processed: 60\n"
     ]
    }
   ],
   "source": [
    "raw_df = read_jsonl(raw_data_loc)\n",
    "\n",
    "batch_completed_files = [\n",
    "    f for f in os.listdir(batch_complete_loc)\n",
    "    if os.path.isfile(os.path.join(batch_complete_loc, f)) and f.endswith('.jsonl')\n",
    "]\n",
    "\n",
    "files_postprocessed = [\n",
    "    f for f in os.listdir(post_process_loc)\n",
    "    if os.path.isfile(os.path.join(post_process_loc, f)) and f.endswith('.jsonl')\n",
    "]\n",
    "\n",
    "# Replace \"batch_\" with \"doc_\" in each element of files_processed\n",
    "# files_postprocessed = [file.replace(\"doc_\", \"batch_\") for file in files_postprocessed]\n",
    "\n",
    "files_parascore_complete = [\n",
    "    f for f in os.listdir(parascore_loc)\n",
    "    if os.path.isfile(os.path.join(parascore_loc, f)) and f.endswith('.jsonl')\n",
    "]\n",
    "\n",
    "files_to_be_processed = list(set(files_postprocessed) - set(files_parascore_complete))\n",
    "files_to_be_processed = sorted(files_to_be_processed)\n",
    "\n",
    "print(f\"Number of documents to process in raw data: {len(raw_df['doc_id'])}\")\n",
    "print(f\"Files Complete in Batch location: {len(batch_completed_files)}\")\n",
    "print(f\"Files Post Processed: {len(files_postprocessed)}\")\n",
    "print(f\"Files with Score: {len(files_parascore_complete)}\")\n",
    "print(f\"Files to be Processed: {len(files_to_be_processed)}\")"
   ]
  },
  {
   "cell_type": "code",
   "execution_count": 24,
   "id": "4b3a643d-b34f-4391-895c-7c9c2af20590",
   "metadata": {},
   "outputs": [
    {
     "name": "stderr",
     "output_type": "stream",
     "text": [
      "/Users/user/my_env/lib/python3.10/site-packages/huggingface_hub/file_download.py:797: FutureWarning: `resume_download` is deprecated and will be removed in version 1.0.0. Downloads always resume when possible. If you want to force a new download, use `force_download=True`.\n",
      "  warnings.warn(\n"
     ]
    }
   ],
   "source": [
    "parascore_free = ParaphraseScorer(score_type='parascore_free', model_type='bert-base-uncased')"
   ]
  },
  {
   "cell_type": "code",
   "execution_count": null,
   "id": "d5c5b99b-a612-4bc1-96cc-2461c859a8ae",
   "metadata": {},
   "outputs": [
    {
     "name": "stdout",
     "output_type": "stream",
     "text": [
      "Processing 1 out of 60: doc_TripAdvisor_MaineIzzy.jsonl\n",
      "Processing 2 out of 60: doc_TripAdvisor_Mano40.jsonl\n",
      "Processing 3 out of 60: doc_TripAdvisor_Mark H.jsonl\n",
      "Processing 4 out of 60: doc_TripAdvisor_Michael C.jsonl\n",
      "Processing 5 out of 60: doc_TripAdvisor_MikeyBikey.jsonl\n",
      "Processing 6 out of 60: doc_TripAdvisor_Nicks_gal.jsonl\n",
      "Processing 7 out of 60: doc_TripAdvisor_PandEKew.jsonl\n",
      "Processing 8 out of 60: doc_TripAdvisor_Paul W.jsonl\n",
      "Processing 9 out of 60: doc_TripAdvisor_Peter G.jsonl\n",
      "Processing 10 out of 60: doc_TripAdvisor_Peter R.jsonl\n",
      "Processing 11 out of 60: doc_TripAdvisor_Peter W.jsonl\n",
      "Processing 12 out of 60: doc_TripAdvisor_Peter_Joan.jsonl\n",
      "Processing 13 out of 60: doc_TripAdvisor_Rachel_Whales.jsonl\n",
      "Processing 14 out of 60: doc_TripAdvisor_Rags2006.jsonl\n",
      "Processing 15 out of 60: doc_TripAdvisor_RallyMonkey.jsonl\n",
      "Processing 16 out of 60: doc_TripAdvisor_RedSox28.jsonl\n",
      "Processing 17 out of 60: doc_TripAdvisor_RoryMc.jsonl\n",
      "Processing 18 out of 60: doc_TripAdvisor_Samuel-D.jsonl\n",
      "Processing 19 out of 60: doc_TripAdvisor_Sauvarin.jsonl\n",
      "Processing 20 out of 60: doc_TripAdvisor_Scott M.jsonl\n",
      "Processing 21 out of 60: doc_TripAdvisor_SharonInAVolvo.jsonl\n",
      "Processing 22 out of 60: doc_TripAdvisor_Stephen B.jsonl\n",
      "Processing 23 out of 60: doc_TripAdvisor_Steve C.jsonl\n",
      "Processing 24 out of 60: doc_TripAdvisor_The_Mystic.jsonl\n",
      "Processing 25 out of 60: doc_TripAdvisor_Thomidog.jsonl\n",
      "Processing 26 out of 60: doc_TripAdvisor_Tomcod.jsonl\n",
      "Processing 27 out of 60: doc_TripAdvisor_acbw_8.jsonl\n"
     ]
    }
   ],
   "source": [
    "for idx, file in enumerate(files_to_be_processed):\n",
    "    \n",
    "    print(f\"Processing {idx + 1} out of {len(files_to_be_processed)}: {os.path.basename(file)}\")\n",
    "    output_file_loc = f\"{parascore_loc}{file}\"\n",
    "    \n",
    "    try:\n",
    "        \n",
    "        df = read_jsonl(f\"{post_process_loc}{file}\")\n",
    "\n",
    "        if 'original' not in df.columns:\n",
    "            df.rename(columns={\"original_sentence\": \"original\"}, inplace=True)\n",
    "\n",
    "        df_with_score = parascore_free.calculate_score(df)\n",
    "\n",
    "        write_jsonl(df_with_score, output_file_loc)\n",
    "        \n",
    "    except Exception as e:\n",
    "        print(f\"Error processing {file}: {e}\")\n",
    "        continue"
   ]
  },
  {
   "cell_type": "code",
   "execution_count": null,
   "id": "3c30f93b-5077-401c-990d-e5f0f45287d8",
   "metadata": {},
   "outputs": [],
   "source": []
  }
 ],
 "metadata": {
  "kernelspec": {
   "display_name": "paraphrase_llm",
   "language": "python",
   "name": "paraphrase_llm"
  },
  "language_info": {
   "codemirror_mode": {
    "name": "ipython",
    "version": 3
   },
   "file_extension": ".py",
   "mimetype": "text/x-python",
   "name": "python",
   "nbconvert_exporter": "python",
   "pygments_lexer": "ipython3",
   "version": "3.10.9"
  }
 },
 "nbformat": 4,
 "nbformat_minor": 5
}
