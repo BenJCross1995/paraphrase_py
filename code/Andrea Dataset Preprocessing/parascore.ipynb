{
 "cells": [
  {
   "cell_type": "code",
   "execution_count": 36,
   "id": "85b911ff-93d3-4812-9cae-13085b3a3167",
   "metadata": {},
   "outputs": [
    {
     "name": "stdout",
     "output_type": "stream",
     "text": [
      "The history saving thread hit an unexpected error (OperationalError('attempt to write a readonly database')).History will not be written to the database.\n"
     ]
    }
   ],
   "source": [
    "import os\n",
    "import json\n",
    "\n",
    "import pandas as pd"
   ]
  },
  {
   "cell_type": "code",
   "execution_count": 37,
   "id": "f1b26893-94b6-48f4-9153-09d803a503fc",
   "metadata": {},
   "outputs": [],
   "source": [
    "%run \"../scorer.py\""
   ]
  },
  {
   "cell_type": "code",
   "execution_count": 38,
   "id": "627e5b58-6b78-4636-86e2-b523ad3b92d4",
   "metadata": {},
   "outputs": [],
   "source": [
    "credential_loc = \"../../credentials.json\"\n",
    "\n",
    "data_type = \"training\"\n",
    "corpus = \"The Telegraph\"\n",
    "\n",
    "base_loc = f\"/Volumes/BCross/datasets/author_verification/\"\n",
    "data_loc = f\"{base_loc}{data_type}/{corpus}/\"\n",
    "\n",
    "raw_data_loc = f\"{data_loc}known_raw.jsonl\"\n",
    "processed_data_loc = f\"{data_loc}known_processed.jsonl\"\n",
    "batch_complete_loc = f\"{data_loc}batch_sentence_complete/\"\n",
    "post_process_loc = f\"{data_loc}batch_postprocessed/\"\n",
    "\n",
    "# ParaScore save location\n",
    "parascore_loc = f\"{data_loc}batch_parascore/\"\n",
    "os.makedirs(parascore_loc, exist_ok=True)\n",
    "\n",
    "# Phone number for WhatsApp notifications\n",
    "phone_number = \"+447756976114\""
   ]
  },
  {
   "cell_type": "code",
   "execution_count": 45,
   "id": "abd65bac-f753-42da-bc62-49f0c8be3322",
   "metadata": {},
   "outputs": [
    {
     "name": "stdout",
     "output_type": "stream",
     "text": [
      "Number of documents to process in raw data: 220\n",
      "Files Complete in Batch location: 220\n",
      "Files Post Processed: 205\n",
      "Files with Score: 133\n",
      "Files to be Processed: 72\n"
     ]
    }
   ],
   "source": [
    "raw_df = read_jsonl(raw_data_loc)\n",
    "\n",
    "batch_completed_files = [\n",
    "    f for f in os.listdir(batch_complete_loc)\n",
    "    if os.path.isfile(os.path.join(batch_complete_loc, f)) and f.endswith('.jsonl')\n",
    "]\n",
    "\n",
    "files_postprocessed = [\n",
    "    f for f in os.listdir(post_process_loc)\n",
    "    if os.path.isfile(os.path.join(post_process_loc, f)) and f.endswith('.jsonl')\n",
    "]\n",
    "\n",
    "# Replace \"batch_\" with \"doc_\" in each element of files_processed\n",
    "# files_postprocessed = [file.replace(\"doc_\", \"batch_\") for file in files_postprocessed]\n",
    "\n",
    "files_parascore_complete = [\n",
    "    f for f in os.listdir(parascore_loc)\n",
    "    if os.path.isfile(os.path.join(parascore_loc, f)) and f.endswith('.jsonl')\n",
    "]\n",
    "\n",
    "files_to_be_processed = list(set(files_postprocessed) - set(files_parascore_complete))\n",
    "files_to_be_processed = sorted(files_to_be_processed)\n",
    "\n",
    "print(f\"Number of documents to process in raw data: {len(raw_df['doc_id'])}\")\n",
    "print(f\"Files Complete in Batch location: {len(batch_completed_files)}\")\n",
    "print(f\"Files Post Processed: {len(files_postprocessed)}\")\n",
    "print(f\"Files with Score: {len(files_parascore_complete)}\")\n",
    "print(f\"Files to be Processed: {len(files_to_be_processed)}\")"
   ]
  },
  {
   "cell_type": "code",
   "execution_count": 46,
   "id": "4b3a643d-b34f-4391-895c-7c9c2af20590",
   "metadata": {},
   "outputs": [],
   "source": [
    "parascore_free = ParaphraseScorer(score_type='parascore_free', model_type='bert-base-uncased')"
   ]
  },
  {
   "cell_type": "code",
   "execution_count": 49,
   "id": "d5c5b99b-a612-4bc1-96cc-2461c859a8ae",
   "metadata": {},
   "outputs": [
    {
     "name": "stdout",
     "output_type": "stream",
     "text": [
      "Processing 1 out of 72: doc_alicevincent_text_3.jsonl\n",
      "Processing 2 out of 72: doc_allisonpearson_text_1.jsonl\n",
      "Processing 3 out of 72: doc_allisonpearson_text_2.jsonl\n",
      "Processing 4 out of 72: doc_ambroseevans_pritchard_text_2.jsonl\n",
      "Processing 5 out of 72: doc_andrewenglish_text_3.jsonl\n",
      "Processing 6 out of 72: doc_andrewmarszal_text_2.jsonl\n",
      "Processing 7 out of 72: doc_annatyzack_text_1.jsonl\n",
      "Processing 8 out of 72: doc_anthonyperegrine_text_1.jsonl\n",
      "Processing 9 out of 72: doc_beewilson_text_3.jsonl\n",
      "Processing 10 out of 72: doc_benfarmer_text_3.jsonl\n",
      "Processing 11 out of 72: doc_benfogle_text_2.jsonl\n",
      "Processing 12 out of 72: doc_benfogle_text_3.jsonl\n",
      "Processing 13 out of 72: doc_benlawrence_text_1.jsonl\n",
      "Processing 14 out of 72: doc_benlawrence_text_2.jsonl\n",
      "Processing 15 out of 72: doc_benmarlow_text_1.jsonl\n",
      "Processing 16 out of 72: doc_benmarlow_text_2.jsonl\n",
      "Processing 17 out of 72: doc_bernadettemcnulty_text_2.jsonl\n",
      "Processing 18 out of 72: doc_beverleyturner_text_1.jsonl\n",
      "Processing 19 out of 72: doc_beverleyturner_text_3.jsonl\n",
      "Processing 20 out of 72: doc_borisjohnson_text_2.jsonl\n",
      "Processing 21 out of 72: doc_cameronmacphail_text_3.jsonl\n",
      "Processing 22 out of 72: doc_carolinemcghie_text_3.jsonl\n",
      "Processing 23 out of 72: doc_carolynhart_text_1.jsonl\n",
      "Processing 24 out of 72: doc_carolynhart_text_2.jsonl\n",
      "Processing 25 out of 72: doc_catalinastogdon_text_1.jsonl\n",
      "Processing 26 out of 72: doc_catherinegee_text_2.jsonl\n",
      "Processing 27 out of 72: doc_charlesmoore_text_1.jsonl\n",
      "Processing 28 out of 72: doc_charlesmoore_text_2.jsonl\n",
      "Processing 29 out of 72: doc_charlesspencer_text_1.jsonl\n",
      "Processing 30 out of 72: doc_charlesspencer_text_2.jsonl\n",
      "Processing 31 out of 72: doc_charlottebeugge_text_1.jsonl\n",
      "Processing 32 out of 72: doc_charlottebeugge_text_3.jsonl\n",
      "Processing 33 out of 72: doc_charlotteruncie_text_1.jsonl\n",
      "Processing 34 out of 72: doc_charlotteruncie_text_3.jsonl\n",
      "Processing 35 out of 72: doc_chrisharvey_text_1.jsonl\n",
      "Processing 36 out of 72: doc_chrisharvey_text_3.jsonl\n",
      "Processing 37 out of 72: doc_chrisknapman_text_1.jsonl\n",
      "Processing 38 out of 72: doc_chrisknapman_text_2.jsonl\n",
      "Processing 39 out of 72: doc_christopherbooker_text_3.jsonl\n",
      "Processing 40 out of 72: doc_christopherhope_text_3.jsonl\n",
      "Processing 41 out of 72: doc_christophermiddleton_text_2.jsonl\n",
      "Processing 42 out of 72: doc_christophermiddleton_text_3.jsonl\n",
      "Processing 43 out of 72: doc_clairecarter_text_2.jsonl\n",
      "Processing 44 out of 72: doc_clairecohen_text_1.jsonl\n",
      "Processing 45 out of 72: doc_claireduffin_text_2.jsonl\n",
      "Processing 46 out of 72: doc_claireduffin_text_3.jsonl\n",
      "Processing 47 out of 72: doc_cliveaslet_text_1.jsonl\n",
      "Processing 48 out of 72: doc_clivejames_text_2.jsonl\n",
      "Processing 49 out of 72: doc_craigmclean_text_1.jsonl\n",
      "Processing 50 out of 72: doc_davidblair_text_2.jsonl\n",
      "Processing 51 out of 72: doc_davidgritten_text_2.jsonl\n",
      "Processing 52 out of 72: doc_deannelson_text_1.jsonl\n",
      "Processing 53 out of 72: doc_derekpringle_text_3.jsonl\n",
      "Processing 54 out of 72: doc_dianahenry_text_1.jsonl\n",
      "Processing 55 out of 72: doc_edcumming_text_1.jsonl\n",
      "Processing 56 out of 72: doc_edcumming_text_2.jsonl\n",
      "Processing 57 out of 72: doc_gabywood_text_1.jsonl\n",
      "Processing 58 out of 72: doc_gavinmairs_text_2.jsonl\n",
      "Processing 59 out of 72: doc_geoffreyboycott_text_1.jsonl\n",
      "Processing 60 out of 72: doc_geoffreylean_text_2.jsonl\n",
      "Processing 61 out of 72: doc_gilesmole_text_3.jsonl\n",
      "Processing 62 out of 72: doc_gordonrayner_text_1.jsonl\n",
      "Processing 63 out of 72: doc_gordonrayner_text_3.jsonl\n",
      "Processing 64 out of 72: doc_graemepaton_text_2.jsonl\n",
      "Processing 65 out of 72: doc_graemepaton_text_3.jsonl\n",
      "Processing 66 out of 72: doc_grahamnorton_text_1.jsonl\n",
      "Processing 67 out of 72: doc_grahamnorton_text_2.jsonl\n",
      "Processing 68 out of 72: doc_hannahstrange_text_1.jsonl\n",
      "Processing 69 out of 72: doc_harrietalexander_text_1.jsonl\n",
      "Processing 70 out of 72: doc_harrydequetteville_text_1.jsonl\n",
      "Processing 71 out of 72: doc_harrywallop_text_1.jsonl\n",
      "Processing 72 out of 72: doc_horatiaharrod_text_2.jsonl\n"
     ]
    }
   ],
   "source": [
    "for idx, file in enumerate(files_to_be_processed):\n",
    "    \n",
    "    print(f\"Processing {idx + 1} out of {len(files_to_be_processed)}: {os.path.basename(file)}\")\n",
    "    output_file_loc = f\"{parascore_loc}{file}\"\n",
    "    \n",
    "    try:\n",
    "        \n",
    "        df = read_jsonl(f\"{post_process_loc}{file}\")\n",
    "\n",
    "        if 'original' not in df.columns:\n",
    "            df.rename(columns={\"original_sentence\": \"original\"}, inplace=True)\n",
    "\n",
    "        df_with_score = parascore_free.calculate_score(df)\n",
    "\n",
    "        write_jsonl(df_with_score, output_file_loc)\n",
    "        \n",
    "    except Exception as e:\n",
    "        print(f\"Error processing {file}: {e}\")\n",
    "        continue"
   ]
  },
  {
   "cell_type": "code",
   "execution_count": null,
   "id": "d890aed6-e665-4eb1-b9b9-a58c0cae8a49",
   "metadata": {},
   "outputs": [],
   "source": []
  }
 ],
 "metadata": {
  "kernelspec": {
   "display_name": "paraphrase_llm",
   "language": "python",
   "name": "paraphrase_llm"
  },
  "language_info": {
   "codemirror_mode": {
    "name": "ipython",
    "version": 3
   },
   "file_extension": ".py",
   "mimetype": "text/x-python",
   "name": "python",
   "nbconvert_exporter": "python",
   "pygments_lexer": "ipython3",
   "version": "3.10.9"
  }
 },
 "nbformat": 4,
 "nbformat_minor": 5
}
