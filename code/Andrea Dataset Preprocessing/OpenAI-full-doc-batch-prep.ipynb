{
 "cells": [
  {
   "cell_type": "code",
   "execution_count": 1,
   "id": "e1645378-31c9-4c10-a4f8-d251feaaa941",
   "metadata": {},
   "outputs": [],
   "source": [
    "import pandas as pd\n",
    "import numpy as np\n",
    "import json\n",
    "import os\n",
    "\n",
    "from datetime import datetime"
   ]
  },
  {
   "cell_type": "code",
   "execution_count": 2,
   "id": "c64df5ef-b734-41fd-ab48-f6f766b8cdbc",
   "metadata": {},
   "outputs": [],
   "source": [
    "%run \"../read_and_write_docs.py\""
   ]
  },
  {
   "cell_type": "code",
   "execution_count": 4,
   "id": "83405597-8844-4bbe-933e-7442cb631c62",
   "metadata": {},
   "outputs": [
    {
     "name": "stdout",
     "output_type": "stream",
     "text": [
      "/Volumes/BCross/datasets/author_verification/training/\n"
     ]
    }
   ],
   "source": [
    "data_type = \"training\"\n",
    "data_loc = f\"/Volumes/BCross/datasets/author_verification/{data_type}/\"\n",
    "print(data_loc)"
   ]
  },
  {
   "cell_type": "code",
   "execution_count": 5,
   "id": "0c186247-4a75-468a-89fa-9c71493f8f1d",
   "metadata": {},
   "outputs": [],
   "source": [
    "system_prompt = \"\"\"You are a paraphrasing assistant.\n",
    "Your task is to generate a paraphrased version of an entire document that retains the original meaning, tone, and style but demonstrates maximum lexical and structural variety. \n",
    "\n",
    "Guidelines:\n",
    "- The paraphrased document should:\n",
    "  - Maintain coherence and logical flow throughout.\n",
    "  - Use distinct vocabulary and sentence structures, prioritizing as much lexical difference as possible.\n",
    "  - Preserve critical terms and names as they appear in the original, ensuring they remain unchanged unless otherwise instructed.\n",
    "- Use varied synonyms, alter phrasing, and experiment with different grammatical constructions to ensure the paraphrased document feels fresh and unique.\n",
    "- Examples of strategies to achieve this include: using metaphors or idioms, reordering clauses, shifting perspectives, and exploring different grammatical constructions.\n",
    "- Avoid repeating words or phrases across sentences unless they are critical to the document's meaning.\n",
    "- Ensure the paraphrased document stays true to the original intent and style without adding new information or changing the meaning.\n",
    "\n",
    "DO NOT INCLUDE ANY NOTE OR ADDITIONAL TEXT IN THE OUTPUT.\n",
    "\n",
    "Example Output: {\"new_document\": <rephrased document>}\n",
    "\"\"\""
   ]
  },
  {
   "cell_type": "code",
   "execution_count": null,
   "id": "898c3435-8e21-443b-9fa7-7bbd3fbc03c1",
   "metadata": {},
   "outputs": [],
   "source": []
  }
 ],
 "metadata": {
  "kernelspec": {
   "display_name": "paraphrase_llm",
   "language": "python",
   "name": "paraphrase_llm"
  },
  "language_info": {
   "codemirror_mode": {
    "name": "ipython",
    "version": 3
   },
   "file_extension": ".py",
   "mimetype": "text/x-python",
   "name": "python",
   "nbconvert_exporter": "python",
   "pygments_lexer": "ipython3",
   "version": "3.10.9"
  }
 },
 "nbformat": 4,
 "nbformat_minor": 5
}
