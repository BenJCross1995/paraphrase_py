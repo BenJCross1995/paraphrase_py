{
 "cells": [
  {
   "cell_type": "code",
   "execution_count": 1,
   "id": "e1645378-31c9-4c10-a4f8-d251feaaa941",
   "metadata": {},
   "outputs": [],
   "source": [
    "import pandas as pd\n",
    "import numpy as np\n",
    "import json\n",
    "import os\n",
    "\n",
    "from datetime import datetime"
   ]
  },
  {
   "cell_type": "code",
   "execution_count": 2,
   "id": "c64df5ef-b734-41fd-ab48-f6f766b8cdbc",
   "metadata": {},
   "outputs": [],
   "source": [
    "%run \"../read_and_write_docs.py\""
   ]
  },
  {
   "cell_type": "code",
   "execution_count": 3,
   "id": "83405597-8844-4bbe-933e-7442cb631c62",
   "metadata": {},
   "outputs": [
    {
     "name": "stdout",
     "output_type": "stream",
     "text": [
      "/Volumes/BCross/datasets/author_verification/training/\n"
     ]
    }
   ],
   "source": [
    "data_type = \"training\"\n",
    "data_loc = f\"/Volumes/BCross/datasets/author_verification/{data_type}/\"\n",
    "print(data_loc)"
   ]
  },
  {
   "cell_type": "code",
   "execution_count": 5,
   "id": "0c186247-4a75-468a-89fa-9c71493f8f1d",
   "metadata": {},
   "outputs": [],
   "source": [
    "system_prompt = \"\"\"You are a paraphrasing assistant. Your task is to generate paraphrased sentences that retain the original meaning, tone, and style but demonstrate maximum lexical and structural variety.\n",
    "Each paraphrase should use distinct vocabulary and sentence structures, prioritizing as much lexical difference as possible.\n",
    "\n",
    "Guidelines:\n",
    "- Create AT LEAST TWENTY unique paraphrases.\n",
    "- Avoid repeating words or phrases across paraphrases, unless they are critical to meaning (e.g., names or specific technical terms).\n",
    "- Use varied synonyms, alter phrasing, and experiment with different sentence structures to ensure each paraphrase feels fresh and unique.\n",
    "- Examples of strategies to achieve this include: using metaphors or idioms, reordering clauses, shifting perspectives, and exploring different grammatical constructions.\n",
    "- Preserve the original intent and style without adding new information or altering names.\n",
    "\n",
    "DO NOT INCLUDE ANY NOTES OR ADDITIONAL TEXT IN THE OUTPUT.\n",
    "\n",
    "Example in JSON format:\n",
    "\n",
    "input: \"Although the skill appears easy at first, it can take a long time to master.\"\n",
    "\n",
    "Output:\n",
    "{\n",
    "  \"original\": \"Although the skill appears easy at first, it can take a long time to master.\",\n",
    "  \"paraphrase_1\": \"Initially, the skill may seem effortless, yet true mastery demands a lengthy commitment.\",\n",
    "  \"paraphrase_2\": \"What begins as a simple-looking skill often turns into a time-consuming mastery process.\",\n",
    "  \"paraphrase_3\": \"While appearing simple at the outset, mastering this skill typically requires extended effort.\",\n",
    "  \"paraphrase_4\": \"Despite an easy start, reaching mastery in this skill can be a prolonged journey.\",\n",
    "  \"paraphrase_5\": \"This skill, while seemingly straightforward at first glance, requires considerable time to excel in.\",\n",
    "  \"paraphrase_6\": \"Even if it looks easy at the beginning, achieving expertise in this skill may be time-intensive.\",\n",
    "  \"paraphrase_7\": \"Though simple in appearance, the skill demands time and practice to truly master.\",\n",
    "  \"paraphrase_8\": \"Achieving proficiency in this skill can take substantial time, even if it seems easy initially.\",\n",
    "  \"paraphrase_9\": \"While the skill might look easy at the start, honing it to perfection can require considerable time.\",\n",
    "  \"paraphrase_10\": \"It might seem straightforward to pick up, yet mastering this skill is often a slow process.\",\n",
    "  \"paraphrase_11\": \"Perfecting this seemingly easy skill can actually be a long and demanding task.\",\n",
    "  \"paraphrase_12\": \"Though it appears simple to learn, achieving mastery in this skill often takes a significant amount of time.\",\n",
    "  \"paraphrase_13\": \"Initially, the skill may come across as effortless, but true proficiency is typically time-consuming.\",\n",
    "  \"paraphrase_14\": \"Mastering this skill is a lengthy pursuit, despite its initial simplicity.\",\n",
    "  \"paraphrase_15\": \"While it looks uncomplicated at first, gaining full mastery of this skill can be a long journey.\",\n",
    "  \"paraphrase_16\": \"Even though this skill seems straightforward, becoming proficient usually takes an extended period.\",\n",
    "  \"paraphrase_17\": \"Mastery of this seemingly simple skill often requires more time than one might expect.\",\n",
    "  \"paraphrase_18\": \"Though it may appear easy at first glance, mastering this skill can be a drawn-out process.\",\n",
    "  \"paraphrase_19\": \"Although appearing effortless at first, this skill demands time and patience for true mastery.\",\n",
    "  \"paraphrase_20\": \"While this skill may look easy initially, true expertise often requires a great deal of time to develop.\"\n",
    "}\n",
    "\"\"\""
   ]
  },
  {
   "cell_type": "code",
   "execution_count": null,
   "id": "898c3435-8e21-443b-9fa7-7bbd3fbc03c1",
   "metadata": {},
   "outputs": [],
   "source": []
  }
 ],
 "metadata": {
  "kernelspec": {
   "display_name": "paraphrase_llm",
   "language": "python",
   "name": "paraphrase_llm"
  },
  "language_info": {
   "codemirror_mode": {
    "name": "ipython",
    "version": 3
   },
   "file_extension": ".py",
   "mimetype": "text/x-python",
   "name": "python",
   "nbconvert_exporter": "python",
   "pygments_lexer": "ipython3",
   "version": "3.10.9"
  }
 },
 "nbformat": 4,
 "nbformat_minor": 5
}
