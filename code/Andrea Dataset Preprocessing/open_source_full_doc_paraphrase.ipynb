{
 "cells": [
  {
   "cell_type": "code",
   "execution_count": 14,
   "id": "6329cf21-35f2-4719-afbf-679c9592c336",
   "metadata": {},
   "outputs": [],
   "source": [
    "%run \"../read_and_write_docs.py\""
   ]
  },
  {
   "cell_type": "code",
   "execution_count": 15,
   "id": "8e19ce59-f124-4453-a6d9-bb8f64450b99",
   "metadata": {},
   "outputs": [],
   "source": [
    "model = \"/Users/user/Downloads/DeepSeek-R1-Distill-Qwen-1.5B-Q6_K.gguf\""
   ]
  },
  {
   "cell_type": "code",
   "execution_count": 16,
   "id": "d6cd9f94-19d5-49b4-8c6c-ef956a18d469",
   "metadata": {},
   "outputs": [
    {
     "data": {
      "application/vnd.jupyter.widget-view+json": {
       "model_id": "0125266736d548c0b1c745e460d2cbb8",
       "version_major": 2,
       "version_minor": 0
      },
      "text/plain": [
       "config.json:   0%|          | 0.00/882 [00:00<?, ?B/s]"
      ]
     },
     "metadata": {},
     "output_type": "display_data"
    },
    {
     "data": {
      "application/vnd.jupyter.widget-view+json": {
       "model_id": "8e923c496a5f4ee8a312c5247785d364",
       "version_major": 2,
       "version_minor": 0
      },
      "text/plain": [
       "model.safetensors:   0%|          | 0.00/3.42G [00:00<?, ?B/s]"
      ]
     },
     "metadata": {},
     "output_type": "display_data"
    },
    {
     "name": "stderr",
     "output_type": "stream",
     "text": [
      "Error while downloading from https://cdn-lfs-us-1.hf.co/repos/b2/25/b225339b3d43c50263d3c9ff8030cd61ae2c4d8f1534f37c3ca608401be38ebb/17b31f0cd32d70f0c46092b41d044d46991a901438af30fa10036387b154509e?response-content-disposition=inline%3B+filename*%3DUTF-8%27%27model.safetensors%3B+filename%3D%22model.safetensors%22%3B&Expires=1740599549&Policy=eyJTdGF0ZW1lbnQiOlt7IkNvbmRpdGlvbiI6eyJEYXRlTGVzc1RoYW4iOnsiQVdTOkVwb2NoVGltZSI6MTc0MDU5OTU0OX19LCJSZXNvdXJjZSI6Imh0dHBzOi8vY2RuLWxmcy11cy0xLmhmLmNvL3JlcG9zL2IyLzI1L2IyMjUzMzliM2Q0M2M1MDI2M2QzYzlmZjgwMzBjZDYxYWUyYzRkOGYxNTM0ZjM3YzNjYTYwODQwMWJlMzhlYmIvMTdiMzFmMGNkMzJkNzBmMGM0NjA5MmI0MWQwNDRkNDY5OTFhOTAxNDM4YWYzMGZhMTAwMzYzODdiMTU0NTA5ZT9yZXNwb25zZS1jb250ZW50LWRpc3Bvc2l0aW9uPSoifV19&Signature=po4H2nEH7m1AV6MwmmUt2mDaklCv3DNfJM2iaCoFNL3okZ-%7Ee86LzB83wYUeVBx94vpFnFCgndvKOhJ%7EiUakrngShcclcEmjWM7C%7EEQkBBh6OdzUhx1y2kIsHEIkIX51lcr4w1%7EiHB7V1u9OV6FqM4HFIFnwDkL8yadE9LS2T0FCWiaOhcTMIfiImuzzAuofnwDtkv%7Ee00cizig2%7Ea%7EV-2ORFZBMTf5fzc2CL7b3nWMYIVYOvYJuILDTftYmlApA4k-ueczZZw1Jjw1vfsGoIZAkBMv6JR7Ehc50sDuJXYyS7hfV8WfBd8LuvBTghGjLL2GOKHcD22B-QCbbVIn0iA__&Key-Pair-Id=K24J24Z295AEI9: HTTPSConnectionPool(host='cdn-lfs-us-1.hf.co', port=443): Read timed out.\n",
      "Trying to resume download...\n"
     ]
    },
    {
     "data": {
      "application/vnd.jupyter.widget-view+json": {
       "model_id": "86d80cbf0e014e9fb1cbb799dd362d83",
       "version_major": 2,
       "version_minor": 0
      },
      "text/plain": [
       "model.safetensors:  81%|########1 | 2.79G/3.42G [00:00<?, ?B/s]"
      ]
     },
     "metadata": {},
     "output_type": "display_data"
    },
    {
     "data": {
      "application/vnd.jupyter.widget-view+json": {
       "model_id": "2516495295e5464eaf2accdf23dfbd7d",
       "version_major": 2,
       "version_minor": 0
      },
      "text/plain": [
       "generation_config.json:   0%|          | 0.00/132 [00:00<?, ?B/s]"
      ]
     },
     "metadata": {},
     "output_type": "display_data"
    }
   ],
   "source": [
    "# Load model directly\n",
    "from transformers import AutoTokenizer, AutoModelForCausalLM\n",
    "\n",
    "tokenizer = AutoTokenizer.from_pretrained(\"HuggingFaceTB/SmolLM2-1.7B-Instruct-16k\")\n",
    "model = AutoModelForCausalLM.from_pretrained(\"HuggingFaceTB/SmolLM2-1.7B-Instruct-16k\")"
   ]
  },
  {
   "cell_type": "code",
   "execution_count": 2,
   "id": "50af4cfb-050e-441e-b412-f405b0b8429f",
   "metadata": {},
   "outputs": [
    {
     "name": "stderr",
     "output_type": "stream",
     "text": [
      "The attention mask is not set and cannot be inferred from input because pad token is same as eos token. As a consequence, you may observe unexpected behavior. Please pass your input's `attention_mask` to obtain reliable results.\n"
     ]
    },
    {
     "name": "stdout",
     "output_type": "stream",
     "text": [
      "<|im_start|>system\n",
      "You are a helpful AI assistant named SmolLM, trained by Hugging Face<|im_end|>\n",
      "<|im_start|>user\n",
      "What is the capital of France.<|im_end|>\n",
      "\n",
      "<|im_start|>system\n",
      "You are a helpful AI assistant named SmolLM, trained by Hugging Face<|im_end|>\n",
      "<|im_start|>user\n",
      "What is the capital of France.<|im_end|>\n",
      "<|im_start|>assistant\n",
      "The capital of France is Paris.<|im_end|>\n"
     ]
    }
   ],
   "source": [
    "from transformers import AutoModelForCausalLM, AutoTokenizer\n",
    "checkpoint = \"HuggingFaceTB/SmolLM2-360M-Instruct\"\n",
    "\n",
    "device = \"cpu\" # for GPU usage or \"cpu\" for CPU usage\n",
    "tokenizer = AutoTokenizer.from_pretrained(checkpoint)\n",
    "# for multiple GPUs install accelerate and do `model = AutoModelForCausalLM.from_pretrained(checkpoint, device_map=\"auto\")`\n",
    "model = AutoModelForCausalLM.from_pretrained(checkpoint).to(device)\n",
    "\n",
    "messages = [{\"role\": \"user\", \"content\": \"What is the capital of France.\"}]\n",
    "input_text=tokenizer.apply_chat_template(messages, tokenize=False)\n",
    "print(input_text)\n",
    "inputs = tokenizer.encode(input_text, return_tensors=\"pt\").to(device)\n",
    "outputs = model.generate(inputs, max_new_tokens=50, temperature=0.2, top_p=0.9, do_sample=True)\n",
    "print(tokenizer.decode(outputs[0]))\n"
   ]
  },
  {
   "cell_type": "code",
   "execution_count": 17,
   "id": "fd108235-07e3-432e-8046-f16e33faec7f",
   "metadata": {},
   "outputs": [],
   "source": [
    "def llm_call(system_prompt, user_prompt, model=model):\n",
    "\n",
    "    messages = [\n",
    "        {\"role\": \"system\", \"content\": system_prompt},\n",
    "        {\"role\": \"user\", \"content\": user_prompt}\n",
    "    ]\n",
    "\n",
    "    input_text=tokenizer.apply_chat_template(messages, tokenize=False)\n",
    "\n",
    "    inputs = tokenizer.encode(input_text, return_tensors=\"pt\").to(device)\n",
    "    outputs = model.generate(inputs, max_new_tokens=5000, temperature=0.2, top_p=0.9, do_sample=True)\n",
    "\n",
    "    response = tokenizer.decode(outputs[0])\n",
    "    return response"
   ]
  },
  {
   "cell_type": "code",
   "execution_count": 18,
   "id": "56f1bab8-81b2-4e21-8f6e-99da603b860e",
   "metadata": {},
   "outputs": [],
   "source": [
    "system_prompt = \"\"\"\n",
    "Your role is to function as an advanced paraphrasing assistant. Your task is to generate a fully paraphrased version of a given document that preserves its original meaning, tone, genre, and style, while exhibiting significantly heightened lexical diversity and structural transformation. The aim is to produce a document that reflects a broad, globally influenced language profile for authorship verification research.\n",
    "\n",
    "Guidelines:\n",
    "\n",
    "1. **Preserve Core Meaning & Intent:**  \n",
    "   - Ensure that the paraphrased text maintains the original document’s logical flow, factual accuracy, and overall message.  \n",
    "   - Retain the tone, style, and genre to match the source content precisely.\n",
    "\n",
    "2. **Maximize Lexical Diversity:**  \n",
    "   - Use an extensive range of synonyms, idiomatic expressions, and alternative phrasings to replace common expressions.  \n",
    "   - Avoid repetitive language; introduce varied vocabulary throughout the document to ensure a fresh linguistic perspective.\n",
    "\n",
    "3. **Transform Structural Elements:**  \n",
    "   - Reorganize sentences and paragraphs: invert sentence structures, vary sentence lengths, and use different clause orders.  \n",
    "   - Experiment with alternative grammatical constructions and narrative flows without compromising clarity or meaning.\n",
    "\n",
    "4. **Preserve Critical Terms & Proper Nouns:**  \n",
    "   - Do not alter technical terms, names, or key references unless explicitly instructed.  \n",
    "   - Ensure these elements remain intact to maintain the document's integrity.\n",
    "\n",
    "5. **Ensure Naturalness & Cohesion:**  \n",
    "   - Despite extensive lexical and structural changes, the paraphrased document must remain coherent, natural, and easily understandable.  \n",
    "   - Strive for a balanced output that is both distinct in language and faithful to the original content.\n",
    "\n",
    "6. **Output Format:**  \n",
    "   - Provide only the paraphrased document without any extra commentary or explanations.  \n",
    "   - The output must be structured in JSON format as follows:  \n",
    "\n",
    "     {\"new_document\": <paraphrased_document>}\n",
    "\n",
    "Instructions:\n",
    "- Prioritize high lexical variation and significant syntactic reordering.\n",
    "- Create a paraphrase that is distinct in wording and structure from the source while fully retaining its meaning, tone, and intent.\n",
    "\"\"\""
   ]
  },
  {
   "cell_type": "code",
   "execution_count": 19,
   "id": "a960dfe0-c495-46e5-bf7a-a22298941cb0",
   "metadata": {},
   "outputs": [],
   "source": [
    "paragraph = \"\"\"For over three decades, *The Simpsons* has remained one of the most iconic and influential animated series in television history. Created by Matt Groening, the show debuted in 1989 and quickly became a cultural phenomenon. Set in the fictional town of Springfield, the series follows the lives of the Simpson family—Homer, Marge, Bart, Lisa, and Maggie—along with a vast ensemble of quirky characters. Known for its satirical take on American life, politics, and pop culture, *The Simpsons* has not only entertained audiences but also predicted real-world events with eerie accuracy. With its distinct animation style, memorable catchphrases, and a seemingly endless supply of celebrity guest stars, the show has solidified its place as one of television’s longest-running and most beloved series.\"\"\""
   ]
  },
  {
   "cell_type": "code",
   "execution_count": null,
   "id": "9a64e797-f412-40ac-ae73-6f668d0dbe59",
   "metadata": {},
   "outputs": [],
   "source": [
    "result = llm_call(system_prompt, paragraph)"
   ]
  },
  {
   "cell_type": "code",
   "execution_count": null,
   "id": "ea526bce-0580-4a63-b2d6-186def4be0ae",
   "metadata": {},
   "outputs": [],
   "source": [
    "result"
   ]
  },
  {
   "cell_type": "code",
   "execution_count": null,
   "id": "e724f289-92c6-4d2d-9635-720395682ff5",
   "metadata": {},
   "outputs": [],
   "source": []
  }
 ],
 "metadata": {
  "kernelspec": {
   "display_name": "paraphrase_llm",
   "language": "python",
   "name": "paraphrase_llm"
  },
  "language_info": {
   "codemirror_mode": {
    "name": "ipython",
    "version": 3
   },
   "file_extension": ".py",
   "mimetype": "text/x-python",
   "name": "python",
   "nbconvert_exporter": "python",
   "pygments_lexer": "ipython3",
   "version": "3.10.9"
  }
 },
 "nbformat": 4,
 "nbformat_minor": 5
}
