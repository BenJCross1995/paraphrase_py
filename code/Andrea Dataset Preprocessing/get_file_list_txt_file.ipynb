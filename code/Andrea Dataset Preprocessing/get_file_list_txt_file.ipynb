{
 "cells": [
  {
   "cell_type": "code",
   "execution_count": 49,
   "id": "943eff9e-86d1-4f9c-a9cc-2164d98fc60f",
   "metadata": {},
   "outputs": [],
   "source": [
    "import json\n",
    "import os\n",
    "import re\n",
    "\n",
    "import pandas as pd"
   ]
  },
  {
   "cell_type": "code",
   "execution_count": 50,
   "id": "4b29c3fe-d7db-4dd0-8293-d2234ccecbf4",
   "metadata": {},
   "outputs": [],
   "source": [
    "data_type = \"training\"\n",
    "corpus = \"Enron\"\n",
    "\n",
    "base_loc = f\"/Volumes/BCross/datasets/author_verification/\"\n",
    "data_loc = f\"{base_loc}{data_type}/{corpus}\"\n",
    "\n",
    "raw_data_loc = f\"{data_loc}/known_raw.jsonl\"\n",
    "paraphrase_loc = f\"{data_loc}/full_doc_paraphrase\""
   ]
  },
  {
   "cell_type": "code",
   "execution_count": 51,
   "id": "2a90ffa2-ad23-46e9-bae8-18c54f9322b9",
   "metadata": {},
   "outputs": [],
   "source": [
    "def read_jsonl(file_path):\n",
    "    \"\"\"\n",
    "    Reads a JSONL file and converts it into a pandas DataFrame.\n",
    "\n",
    "    Parameters:\n",
    "    - file_path: Path to the JSONL file to read.\n",
    "\n",
    "    Returns:\n",
    "    - A pandas DataFrame containing the data from the JSONL file.\n",
    "    \"\"\"\n",
    "    data = []\n",
    "    with open(file_path, 'r') as file:\n",
    "        for line in file:\n",
    "            # Parse the line as JSON\n",
    "            parsed_line = json.loads(line)\n",
    "            # If the line is a single-element list, extract the first element\n",
    "            if isinstance(parsed_line, list) and len(parsed_line) == 1:\n",
    "                data.append(parsed_line[0])\n",
    "            else:\n",
    "                data.append(parsed_line)\n",
    "    \n",
    "    # Convert to a DataFrame\n",
    "    data = pd.DataFrame(data)\n",
    "    return data\n",
    "\n",
    "def create_temp_doc_id(input_text):\n",
    "    # Extract everything between the brackets\n",
    "    match = re.search(r'\\[(.*?)\\]', input_text)\n",
    "    if match:\n",
    "        extracted_text = match.group(1)\n",
    "        # Replace all punctuation and spaces with \"_\"\n",
    "        cleaned_text = re.sub(r'[^\\w]', '_', extracted_text)\n",
    "        # Replace multiple underscores with a single \"_\"\n",
    "        final_text = re.sub(r'_{2,}', '_', cleaned_text)\n",
    "        return final_text.lower()\n",
    "    return None"
   ]
  },
  {
   "cell_type": "markdown",
   "id": "63d3040c-0afd-4d2f-8e03-611e9b059d9a",
   "metadata": {},
   "source": [
    "## Get Document ID's from Raw Data"
   ]
  },
  {
   "cell_type": "code",
   "execution_count": 52,
   "id": "e8de8bdb-591f-4601-933d-0065b555327a",
   "metadata": {},
   "outputs": [],
   "source": [
    "raw_df = read_jsonl(raw_data_loc)\n",
    "\n",
    "# Rename doc_id to orig_doc_id first\n",
    "raw_df.rename(columns={'doc_id': 'orig_doc_id'}, inplace=True)\n",
    "\n",
    "# Create the new doc_id column directly\n",
    "raw_df['doc_id'] = raw_df['orig_doc_id'].apply(create_temp_doc_id)\n",
    "\n",
    "raw_doc_id = raw_df['doc_id']"
   ]
  },
  {
   "cell_type": "markdown",
   "id": "d9ad9ca0-f8a1-42fe-ba12-24ac8473d313",
   "metadata": {},
   "source": [
    "## Get Files in Paraphrase Location"
   ]
  },
  {
   "cell_type": "code",
   "execution_count": 53,
   "id": "f470148f-9c4a-4539-a059-ba51e8c65ebd",
   "metadata": {},
   "outputs": [],
   "source": [
    "files = os.listdir(paraphrase_loc)\n",
    "\n",
    "# Filter only .jsonl files\n",
    "jsonl_files = sorted([file for file in files if file.endswith(\".jsonl\")])"
   ]
  },
  {
   "cell_type": "markdown",
   "id": "2dbda2ca-8c32-4656-b318-3bbef87b373a",
   "metadata": {},
   "source": [
    "## Save List if None Missing"
   ]
  },
  {
   "cell_type": "code",
   "execution_count": 55,
   "id": "120c1f38-42b9-4d9d-acd8-4fa103539255",
   "metadata": {},
   "outputs": [
    {
     "name": "stdout",
     "output_type": "stream",
     "text": [
      "All files are present. Saved complete list to /Volumes/BCross/datasets/author_verification/training/Enron/parascore_files_list.txt\n",
      "Number of files for job script: 112\n"
     ]
    }
   ],
   "source": [
    "# Remove .jsonl extension from filenames in jsonl_files\n",
    "jsonl_ids = {file.replace(\".jsonl\", \"\") for file in jsonl_files}\n",
    "\n",
    "# Convert raw_doc_id to a set\n",
    "raw_doc_id_set = set(raw_doc_id)\n",
    "\n",
    "# Find missing elements in jsonl_files that are in raw_doc_id\n",
    "missing_ids = raw_doc_id_set - jsonl_ids\n",
    "\n",
    "# Store missing IDs as a variable\n",
    "missing_ids_list = sorted(missing_ids)\n",
    "\n",
    "# If no missing IDs, save the complete list to a .txt file\n",
    "if not missing_ids_list:\n",
    "    output_file = os.path.join(data_loc, \"parascore_files_list.txt\")\n",
    "    with open(output_file, \"w\") as f:\n",
    "        for file in sorted(jsonl_ids):\n",
    "            f.write(file + \"\\n\")\n",
    "    print(f\"All files are present. Saved complete list to {output_file}\")\n",
    "    print(f\"Number of files for job script: {len(jsonl_ids)}\")\n",
    "else:\n",
    "    print(\"Missing IDs:\", missing_ids_list)\n"
   ]
  }
 ],
 "metadata": {
  "kernelspec": {
   "display_name": "paraphrase_llm",
   "language": "python",
   "name": "paraphrase_llm"
  },
  "language_info": {
   "codemirror_mode": {
    "name": "ipython",
    "version": 3
   },
   "file_extension": ".py",
   "mimetype": "text/x-python",
   "name": "python",
   "nbconvert_exporter": "python",
   "pygments_lexer": "ipython3",
   "version": "3.10.9"
  }
 },
 "nbformat": 4,
 "nbformat_minor": 5
}
