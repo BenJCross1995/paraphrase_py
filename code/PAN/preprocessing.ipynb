{
 "cells": [
  {
   "cell_type": "markdown",
   "id": "93bf1233-1332-4743-86ec-eabdd9073714",
   "metadata": {},
   "source": [
    "## Boenninghoff Preprocessing Steps\n",
    "\n",
    "The following function was pulled from Boenninghoffs Preprocessing Code for PAN Data."
   ]
  },
  {
   "cell_type": "code",
   "execution_count": 89,
   "id": "62e21734-2754-4398-b6dc-f7930606d46c",
   "metadata": {},
   "outputs": [],
   "source": [
    "import pandas as pd\n",
    "import re"
   ]
  },
  {
   "cell_type": "code",
   "execution_count": 90,
   "id": "13b931b4-539a-40b8-82ce-d4f86ad5e291",
   "metadata": {},
   "outputs": [],
   "source": [
    "%run \"../read_and_write_docs.py\""
   ]
  },
  {
   "cell_type": "code",
   "execution_count": 91,
   "id": "3dda6191-c5d0-49a4-b464-46d773372019",
   "metadata": {},
   "outputs": [],
   "source": [
    "base_loc = \"../../../../datasets/PAN/PAN 21/\"\n",
    "known_loc = f\"{base_loc}pan21-known.jsonl\"\n",
    "known_preprocessed = f\"{base_loc}pan21-known-preprocessed.jsonl\"\n",
    "unknown_loc = f\"{base_loc}pan21-unknown.jsonl\"\n",
    "unknown_preprocessed = f\"{base_loc}pan21-unknown-preprocessed.jsonl\""
   ]
  },
  {
   "cell_type": "code",
   "execution_count": 92,
   "id": "1266a0bc-6933-4da2-bfec-cc4dba9701f7",
   "metadata": {},
   "outputs": [],
   "source": [
    "def preprocess_doc(doc):\n",
    "    \n",
    "    doc = re.sub('\\\"', '\\'', doc) # Replace double quotes with single quotes\n",
    "    doc = re.sub('\\'\\'+', ' \\' \\' ', doc) # Replace consecutive single quotes with a space-padded single quote\n",
    "    doc = re.sub('--+', ' -- ', doc) # Replace consecutive dashes with a space-padded dash\n",
    "    doc = re.sub('\\.\\.+', ' .. ', doc) # Replace consecutive dots with a space-padded double dot\n",
    "    doc = re.sub('!!+', ' !! ', doc) # Replace Multiple Exclamation Marks with Two Exclamation Marks Surrounded by Spaces\n",
    "    doc = re.sub(',,+', ' ,, ', doc) # Replace Multiple Commas with Two Commas Surrounded by Spaces\n",
    "    doc = re.sub(',\\'', ', \\'', doc) # Fix Comma Followed by Single Quote\n",
    "    doc = re.sub(',~~+', ' ~~ ', doc) # Replace Multiple Tildes with Two Tildes Surrounded by Spaces\n",
    "    doc = re.sub('/\\\\/\\\\+', ' /\\\\/\\\\ ', doc) # Replace Multiple Backslashes with a Single Backslash Surrounded by Spaces\n",
    "    doc = re.sub(\"((.)\\\\2{2})\\\\2+\", r\"\\1\", doc) # Collapse Repeated Characters\n",
    "    doc = re.sub(r\"([a-zA-Z])([!?\\-:,])([a-zA-Z])\", r\"\\1 \\2 \\3\", doc) # Add Spaces Around Certain Punctuation Marks\n",
    "    doc = re.sub(r\"([a-zA-Z])([!?.\\-:,\\(\\)])\", r\"\\1 \\2\", doc) # Add Space Before Certain Punctuation Marks\n",
    "    doc = re.sub(r\"([!?.\\-:,\\(\\)])([a-zA-Z])\", r\"\\1 \\2\", doc) # Add Space After Certain Punctuation Marks\n",
    "\n",
    "    return doc"
   ]
  },
  {
   "cell_type": "code",
   "execution_count": 93,
   "id": "2779d6f0-7e2f-4b13-8ac1-fcbd94b28eb7",
   "metadata": {},
   "outputs": [],
   "source": [
    "known_df = read_jsonl_file(known_loc)\n",
    "unknown_df = read_jsonl_file(unknown_loc)"
   ]
  },
  {
   "cell_type": "code",
   "execution_count": 94,
   "id": "7beee0a0-7fcc-49b4-a574-0fcd78cdaa5e",
   "metadata": {},
   "outputs": [],
   "source": [
    "# Apply the preprocessing function to the 'text' column\n",
    "known_df['text'] = known_df['text'].apply(preprocess_doc)\n",
    "unknown_df['text'] = unknown_df['text'].apply(preprocess_doc)"
   ]
  },
  {
   "cell_type": "code",
   "execution_count": 95,
   "id": "82d9303d-4d1b-4fa7-b7b4-a4c2cb820493",
   "metadata": {},
   "outputs": [],
   "source": [
    "save_as_jsonl(known_df, known_preprocessed)\n",
    "save_as_jsonl(unknown_df, unknown_preprocessed)"
   ]
  },
  {
   "cell_type": "code",
   "execution_count": 96,
   "id": "b2e4700a-6069-4ffb-be37-b5bafddc0ad8",
   "metadata": {},
   "outputs": [
    {
     "data": {
      "text/html": [
       "<div>\n",
       "<style scoped>\n",
       "    .dataframe tbody tr th:only-of-type {\n",
       "        vertical-align: middle;\n",
       "    }\n",
       "\n",
       "    .dataframe tbody tr th {\n",
       "        vertical-align: top;\n",
       "    }\n",
       "\n",
       "    .dataframe thead th {\n",
       "        text-align: right;\n",
       "    }\n",
       "</style>\n",
       "<table border=\"1\" class=\"dataframe\">\n",
       "  <thead>\n",
       "    <tr style=\"text-align: right;\">\n",
       "      <th></th>\n",
       "      <th>id</th>\n",
       "      <th>author</th>\n",
       "      <th>fandom</th>\n",
       "      <th>text</th>\n",
       "    </tr>\n",
       "  </thead>\n",
       "  <tbody>\n",
       "    <tr>\n",
       "      <th>0</th>\n",
       "      <td>c28e8b03-c02a-5184-b58a-12dd28b8ca74</td>\n",
       "      <td>2072507</td>\n",
       "      <td>Death Note</td>\n",
       "      <td>talk because they hadn't been exposed to commu...</td>\n",
       "    </tr>\n",
       "    <tr>\n",
       "      <th>1</th>\n",
       "      <td>b9326101-6352-56dd-9d1b-1f41466897b7</td>\n",
       "      <td>1404943</td>\n",
       "      <td>Samurai Deeper Kyo</td>\n",
       "      <td>Zazuki nodded his head and got to his feet , k...</td>\n",
       "    </tr>\n",
       "    <tr>\n",
       "      <th>2</th>\n",
       "      <td>e2ac4453-bf54-53f2-bf68-6caae6aacded</td>\n",
       "      <td>2406271</td>\n",
       "      <td>West Side Story</td>\n",
       "      <td>'Oh we did lots of special things . On Christm...</td>\n",
       "    </tr>\n",
       "    <tr>\n",
       "      <th>3</th>\n",
       "      <td>a5e9a289-0999-5764-b597-dc1bf8c21ede</td>\n",
       "      <td>189771</td>\n",
       "      <td>Get Backers</td>\n",
       "      <td>'Hey now , at least Shido brings home some mon...</td>\n",
       "    </tr>\n",
       "    <tr>\n",
       "      <th>4</th>\n",
       "      <td>cb4054b1-d422-58d6-a137-dcfc70100df6</td>\n",
       "      <td>965626</td>\n",
       "      <td>My Hero Academia/僕のヒーローアカデミア</td>\n",
       "      <td>It was a mere five minutes' walk from third ye...</td>\n",
       "    </tr>\n",
       "    <tr>\n",
       "      <th>...</th>\n",
       "      <td>...</td>\n",
       "      <td>...</td>\n",
       "      <td>...</td>\n",
       "      <td>...</td>\n",
       "    </tr>\n",
       "    <tr>\n",
       "      <th>19994</th>\n",
       "      <td>7b226a98-3d82-50c1-b6f3-ee682f580d27</td>\n",
       "      <td>2264834</td>\n",
       "      <td>Mentalist</td>\n",
       "      <td>They zipped through the formalities before fli...</td>\n",
       "    </tr>\n",
       "    <tr>\n",
       "      <th>19995</th>\n",
       "      <td>eed8a22b-c7cd-5adb-b530-88b9d5d30202</td>\n",
       "      <td>1144417</td>\n",
       "      <td>Janet Evanovich</td>\n",
       "      <td>'You're taking me to a spa ?' I asked eyeing h...</td>\n",
       "    </tr>\n",
       "    <tr>\n",
       "      <th>19996</th>\n",
       "      <td>07d9c529-6fd2-5cd1-b46f-bcfad1d58503</td>\n",
       "      <td>2733573</td>\n",
       "      <td>Skulduggery Pleasant series</td>\n",
       "      <td>Vanessa : Hahaa ! Shudder : Still here . This ...</td>\n",
       "    </tr>\n",
       "    <tr>\n",
       "      <th>19997</th>\n",
       "      <td>88066615-7a7a-5f5b-adb9-f8c67a4c59a6</td>\n",
       "      <td>787585</td>\n",
       "      <td>Jackie Chan Adventures</td>\n",
       "      <td>bountiful breasts pressed against his chest , ...</td>\n",
       "    </tr>\n",
       "    <tr>\n",
       "      <th>19998</th>\n",
       "      <td>a4b7b045-f0ff-5524-86af-c942e923bd42</td>\n",
       "      <td>2310029</td>\n",
       "      <td>Dragon Age</td>\n",
       "      <td>The plant was encouraged by the sound , slidin...</td>\n",
       "    </tr>\n",
       "  </tbody>\n",
       "</table>\n",
       "<p>19999 rows × 4 columns</p>\n",
       "</div>"
      ],
      "text/plain": [
       "                                         id   author  \\\n",
       "0      c28e8b03-c02a-5184-b58a-12dd28b8ca74  2072507   \n",
       "1      b9326101-6352-56dd-9d1b-1f41466897b7  1404943   \n",
       "2      e2ac4453-bf54-53f2-bf68-6caae6aacded  2406271   \n",
       "3      a5e9a289-0999-5764-b597-dc1bf8c21ede   189771   \n",
       "4      cb4054b1-d422-58d6-a137-dcfc70100df6   965626   \n",
       "...                                     ...      ...   \n",
       "19994  7b226a98-3d82-50c1-b6f3-ee682f580d27  2264834   \n",
       "19995  eed8a22b-c7cd-5adb-b530-88b9d5d30202  1144417   \n",
       "19996  07d9c529-6fd2-5cd1-b46f-bcfad1d58503  2733573   \n",
       "19997  88066615-7a7a-5f5b-adb9-f8c67a4c59a6   787585   \n",
       "19998  a4b7b045-f0ff-5524-86af-c942e923bd42  2310029   \n",
       "\n",
       "                             fandom  \\\n",
       "0                        Death Note   \n",
       "1                Samurai Deeper Kyo   \n",
       "2                   West Side Story   \n",
       "3                       Get Backers   \n",
       "4      My Hero Academia/僕のヒーローアカデミア   \n",
       "...                             ...   \n",
       "19994                     Mentalist   \n",
       "19995               Janet Evanovich   \n",
       "19996   Skulduggery Pleasant series   \n",
       "19997        Jackie Chan Adventures   \n",
       "19998                    Dragon Age   \n",
       "\n",
       "                                                    text  \n",
       "0      talk because they hadn't been exposed to commu...  \n",
       "1      Zazuki nodded his head and got to his feet , k...  \n",
       "2      'Oh we did lots of special things . On Christm...  \n",
       "3      'Hey now , at least Shido brings home some mon...  \n",
       "4      It was a mere five minutes' walk from third ye...  \n",
       "...                                                  ...  \n",
       "19994  They zipped through the formalities before fli...  \n",
       "19995  'You're taking me to a spa ?' I asked eyeing h...  \n",
       "19996  Vanessa : Hahaa ! Shudder : Still here . This ...  \n",
       "19997  bountiful breasts pressed against his chest , ...  \n",
       "19998  The plant was encouraged by the sound , slidin...  \n",
       "\n",
       "[19999 rows x 4 columns]"
      ]
     },
     "execution_count": 96,
     "metadata": {},
     "output_type": "execute_result"
    }
   ],
   "source": [
    "known_df"
   ]
  },
  {
   "cell_type": "code",
   "execution_count": null,
   "id": "e121f862-b911-4a6b-a317-e17b4102909b",
   "metadata": {},
   "outputs": [],
   "source": []
  }
 ],
 "metadata": {
  "kernelspec": {
   "display_name": "paraphrase_llm",
   "language": "python",
   "name": "paraphrase_llm"
  },
  "language_info": {
   "codemirror_mode": {
    "name": "ipython",
    "version": 3
   },
   "file_extension": ".py",
   "mimetype": "text/x-python",
   "name": "python",
   "nbconvert_exporter": "python",
   "pygments_lexer": "ipython3",
   "version": "3.10.9"
  }
 },
 "nbformat": 4,
 "nbformat_minor": 5
}
