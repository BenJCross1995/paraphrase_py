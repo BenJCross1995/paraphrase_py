{
 "cells": [
  {
   "cell_type": "code",
   "execution_count": 16,
   "id": "464c4a23-d466-494d-a6a6-e48f1c5d0c66",
   "metadata": {},
   "outputs": [],
   "source": [
    "import pandas as pd"
   ]
  },
  {
   "cell_type": "code",
   "execution_count": 17,
   "id": "8425ddad-5078-4a1e-8b2c-b25d405685f2",
   "metadata": {},
   "outputs": [],
   "source": [
    "%run \"../read_and_write_docs.py\""
   ]
  },
  {
   "cell_type": "code",
   "execution_count": 18,
   "id": "dd778353-3f5f-44d4-9665-4a234d532f7e",
   "metadata": {},
   "outputs": [],
   "source": [
    "base_loc = \"../../../../datasets/PAN/PAN 21/\"\n",
    "unknown_train_loc = f\"{base_loc}pan21-train-y.jsonl\"\n",
    "unknown_test_loc = f\"{base_loc}pan21-test-y.jsonl\"\n",
    "potential_impostor_loc = f\"{base_loc}pan21-potential-impostors.jsonl\"\n",
    "train_impostors_loc = f\"{base_loc}pan21-train-impostors.jsonl\"\n",
    "test_impostors_loc = f\"{base_loc}pan21-test-impostors.jsonl\""
   ]
  },
  {
   "cell_type": "code",
   "execution_count": 19,
   "id": "5c904a94-7d43-46b3-a990-9cb8c57d3b0c",
   "metadata": {},
   "outputs": [],
   "source": [
    "train = read_jsonl_file(unknown_train_loc)\n",
    "test = read_jsonl_file(unknown_test_loc)\n",
    "potential_impostors = read_jsonl_file(potential_impostor_loc)"
   ]
  },
  {
   "cell_type": "code",
   "execution_count": 21,
   "id": "ef4efa94-b7f0-44a0-9c1b-cf3ad2029bb8",
   "metadata": {},
   "outputs": [],
   "source": [
    "def create_samples(train, potential_impostors, n):\n",
    "    results = []\n",
    "\n",
    "    for sample_id in train['sample_id'].unique():\n",
    "        sample_row = train[train['sample_id'] == sample_id].iloc[0]\n",
    "        current_author = sample_row['author']\n",
    "        \n",
    "        # Exclude the current author from potential impostors\n",
    "        available_impostors = potential_impostors[potential_impostors['author'] != current_author].copy()\n",
    "        \n",
    "        for _ in range(n):\n",
    "            if available_impostors.empty:\n",
    "                break\n",
    "                \n",
    "            # Sample one row from available impostors\n",
    "            sampled_impostor = available_impostors.sample(n=1)\n",
    "            \n",
    "            # Add the result to the list\n",
    "            results.append({\n",
    "                'sample_id': sample_id,\n",
    "                'author': sampled_impostor['author'].values[0],\n",
    "                'fandom': sampled_impostor['fandom'].values[0],\n",
    "                'text': sampled_impostor['text'].values[0]\n",
    "            })\n",
    "            \n",
    "            # Exclude this author from future sampling\n",
    "            sampled_author = sampled_impostor['author'].values[0]\n",
    "            available_impostors = available_impostors[available_impostors['author'] != sampled_author]\n",
    "    \n",
    "    return pd.DataFrame(results)"
   ]
  },
  {
   "cell_type": "code",
   "execution_count": 22,
   "id": "970affa2-2988-4ccd-b72a-4df5890e1703",
   "metadata": {},
   "outputs": [],
   "source": [
    "train_imp = create_samples(train, potential_impostors, 50)\n",
    "test_imp = create_samples(test, potential_impostors, 50)"
   ]
  },
  {
   "cell_type": "code",
   "execution_count": 23,
   "id": "5b1e210f-5a10-4b7b-89db-763f2e1a1154",
   "metadata": {},
   "outputs": [],
   "source": [
    "save_as_jsonl(train_imp, train_impostors_loc)\n",
    "save_as_jsonl(test_imp, test_impostors_loc)"
   ]
  }
 ],
 "metadata": {
  "kernelspec": {
   "display_name": "paraphrase_llm",
   "language": "python",
   "name": "paraphrase_llm"
  },
  "language_info": {
   "codemirror_mode": {
    "name": "ipython",
    "version": 3
   },
   "file_extension": ".py",
   "mimetype": "text/x-python",
   "name": "python",
   "nbconvert_exporter": "python",
   "pygments_lexer": "ipython3",
   "version": "3.10.9"
  }
 },
 "nbformat": 4,
 "nbformat_minor": 5
}
