{
 "cells": [
  {
   "cell_type": "code",
   "execution_count": 88,
   "id": "774748f4-ec2c-4d9d-8ad9-879af195a419",
   "metadata": {},
   "outputs": [],
   "source": [
    "import pandas as pd\n",
    "import ast\n",
    "import json\n",
    "\n",
    "from lark import Lark, UnexpectedInput"
   ]
  },
  {
   "cell_type": "code",
   "execution_count": 89,
   "id": "ca164c7f-bced-44f1-995c-b8dfa426c3ff",
   "metadata": {},
   "outputs": [],
   "source": [
    "%run \"../read_and_write_docs.py\""
   ]
  },
  {
   "cell_type": "code",
   "execution_count": 170,
   "id": "bcf92436-a275-4b6d-bb9f-545a3440cd7e",
   "metadata": {},
   "outputs": [],
   "source": [
    "# g_drive_loc = \"/Users/user/Library/CloudStorage/GoogleDrive-benjcross1995@gmail.com/My Drive/\"\n",
    "# batch_complete_loc = f\"{g_drive_loc}datasets/blogger/batch_complete/\"\n",
    "batch_complete_loc = \"../../../../datasets/blogger/batch_complete/\"\n",
    "batch_save_loc = \"../../../../datasets/blogger/batch_4o/\"\n",
    "batch_fail_loc = \"../../../../datasets/blogger/batch_4o_fail/\""
   ]
  },
  {
   "cell_type": "code",
   "execution_count": 171,
   "id": "cbda0b5a-5a02-4285-a99f-2e2d8e8cf86f",
   "metadata": {},
   "outputs": [],
   "source": [
    "grammar_loc = \"../../grammars/list_enf_format.lark\""
   ]
  },
  {
   "cell_type": "code",
   "execution_count": 172,
   "id": "32ea6128-244c-41f8-9a54-594cd9cce5ce",
   "metadata": {},
   "outputs": [],
   "source": [
    "def validate_and_parse_response(df, grammar_file):\n",
    "    # Load the grammar\n",
    "    with open(grammar_file, 'r') as file:\n",
    "        grammar = file.read()\n",
    "    \n",
    "    parser = Lark(grammar, start='root', parser='earley')"
   ]
  },
  {
   "cell_type": "code",
   "execution_count": 173,
   "id": "02916639-3c9e-4786-8281-7806d61b7f12",
   "metadata": {},
   "outputs": [],
   "source": [
    "# Function to extract the desired parts\n",
    "def split_custon_id(custon_id):\n",
    "    parts = custon_id.split('_')\n",
    "    doc_id = parts[1]\n",
    "    chunk_id = parts[3]\n",
    "    repetition = parts[4]\n",
    "    return pd.Series([doc_id, chunk_id, repetition])"
   ]
  },
  {
   "cell_type": "code",
   "execution_count": 174,
   "id": "efe15461-919d-4098-83be-f4094146d8db",
   "metadata": {},
   "outputs": [],
   "source": [
    "def parse_response(response_str):\n",
    "    # Convert the JSON string to a Python dictionary\n",
    "    response_dict = json.loads(response_str)\n",
    "    \n",
    "    # Extract the 'original' sentence\n",
    "    original_sentence = response_dict.get('original', '')\n",
    "    \n",
    "    # Extract other keys and add them to the list with 'repetition_i' format\n",
    "    rephrased = []\n",
    "    for key, value in response_dict.items():\n",
    "        if key != 'original':\n",
    "            rephrased.append(value)\n",
    "    \n",
    "    return original_sentence, rephrased\n",
    "\n",
    "def process_dataframe(df):\n",
    "\n",
    "    df[['doc_id', 'chunk_id', 'repetition']] = df['custom_id'].apply(split_custon_id)\n",
    "    \n",
    "    # Apply the parse_response function to each row of the dataframe\n",
    "    df['original_sentence'], df['rephrased'] = zip(*df['response'].apply(parse_response))\n",
    "\n",
    "    df = df[['doc_id', 'chunk_id', 'original_sentence', 'rephrased']]\n",
    "    \n",
    "    return df"
   ]
  },
  {
   "cell_type": "code",
   "execution_count": 175,
   "id": "b198858c-a589-4fad-85f6-89e33f5ac383",
   "metadata": {},
   "outputs": [],
   "source": [
    "def combine_and_unique(group):\n",
    "    # Combine all lists in the 'rephrased' column into one list\n",
    "    combined_list = sum(group['rephrased'], [])\n",
    "    \n",
    "    # Remove duplicates by converting to a set and back to a list\n",
    "    unique_list = list(set(combined_list))\n",
    "    \n",
    "    # Return a DataFrame where each unique rephrased sentence is a new row\n",
    "    return pd.DataFrame({\n",
    "        'doc_id': group['doc_id'].iloc[0],\n",
    "        'chunk_id': group['chunk_id'].iloc[0],\n",
    "        'original': group['original_sentence'].iloc[0],\n",
    "        'rephrased': unique_list\n",
    "    })\n",
    "\n",
    "def process_rephrased_sentences(df):\n",
    "    # Group by 'doc_id' and 'chunk_id' and apply the combine_and_unique function\n",
    "    result_df = df.groupby(['doc_id', 'chunk_id']).apply(combine_and_unique).reset_index(drop=True)\n",
    "    return result_df"
   ]
  },
  {
   "cell_type": "code",
   "execution_count": 176,
   "id": "cc82156d-fd2d-4946-80fd-acda91b2550a",
   "metadata": {},
   "outputs": [],
   "source": [
    "def process_file_list(files, base_read_loc, base_write_loc, base_fail_loc):\n",
    "\n",
    "    for file in files:\n",
    "        \n",
    "        response = read_jsonl_file(f\"{base_read_loc}{file}\")\n",
    "        print(f\"{file} Loaded\")\n",
    "        \n",
    "        processed_dataframe = process_dataframe(response)\n",
    "        print(f\"{file} Processed\")\n",
    "\n",
    "        final_df = process_rephrased_sentences(processed_dataframe)\n",
    "        print(f\"{file} List Split\")\n",
    "        \n",
    "        save_loc = f\"{base_write_loc}{file.replace('batch', 'doc')}\"\n",
    "\n",
    "        save_as_jsonl(final_df, save_loc)"
   ]
  },
  {
   "cell_type": "code",
   "execution_count": 177,
   "id": "3aab26d9-9310-4d57-9f67-e51e7333c32c",
   "metadata": {},
   "outputs": [],
   "source": [
    "import os\n",
    "import shutil\n",
    "\n",
    "def process_file_list(files, base_read_loc, base_write_loc, base_fail_loc):\n",
    "    for file in files:\n",
    "        try:\n",
    "            # Step 1: Read the JSONL file\n",
    "            response = read_jsonl_file(f\"{base_read_loc}{file}\")\n",
    "            print(f\"{file} Loaded\")\n",
    "            \n",
    "            # Step 2: Process the DataFrame\n",
    "            processed_dataframe = process_dataframe(response)\n",
    "            print(f\"{file} Processed\")\n",
    "\n",
    "            # Step 3: Split the list into separate rows\n",
    "            final_df = process_rephrased_sentences(processed_dataframe)\n",
    "            print(f\"{file} List Split\")\n",
    "            \n",
    "            # Step 4: Save the processed DataFrame to a new location\n",
    "            save_loc = f\"{base_write_loc}{file.replace('batch', 'doc')}\"\n",
    "            save_as_jsonl(final_df, save_loc)\n",
    "            print(f\"{file} Saved to {save_loc}\")\n",
    "            \n",
    "        except Exception as e:\n",
    "            # Step 5: If any error occurs, save the file to the fail location\n",
    "            fail_loc = f\"{base_fail_loc}{file}\"\n",
    "            print(f\"Error processing {file}: {e}\")\n",
    "            shutil.move(f\"{base_read_loc}{file}\", fail_loc)\n",
    "            print(f\"{file} Moved to {fail_loc}\")\n",
    "            continue  # Move to the next file in case of an error\n",
    "        \n",
    "        # Step 6: Remove the original file from the read location if processing succeeds\n",
    "        os.remove(f\"{base_read_loc}{file}\")\n",
    "        print(f\"{file} Removed from {base_read_loc}\")"
   ]
  },
  {
   "cell_type": "code",
   "execution_count": 178,
   "id": "40492f0d-a529-4358-a0e8-dd06bca20613",
   "metadata": {},
   "outputs": [],
   "source": [
    "files_to_be_processed = [\n",
    "    f for f in os.listdir(batch_complete_loc)\n",
    "    if os.path.isfile(os.path.join(batch_complete_loc, f)) and f.endswith('.jsonl')\n",
    "]\n",
    "\n",
    "files_processed = [\n",
    "    f for f in os.listdir(batch_save_loc)\n",
    "    if os.path.isfile(os.path.join(batch_save_loc, f)) and f.endswith('.jsonl')\n",
    "]\n",
    "\n",
    "# Extracting the numeric part from files_processed and transforming it back to batch form\n",
    "processed_batches = {f\"batch_{file.split('_')[1]}\" for file in files_processed}\n",
    "processed_ids = {file.split('_')[1].split('.')[0] for file in files_processed}\n",
    "\n",
    "# Finding files in files_to_be_processed that are not in processed_batches\n",
    "files_not_processed = [file for file in files_to_be_processed if file.split('_')[1].split('.')[0] not in processed_ids]"
   ]
  },
  {
   "cell_type": "code",
   "execution_count": 179,
   "id": "19a2d691-6a92-4464-b2a7-32fd71453e5d",
   "metadata": {},
   "outputs": [
    {
     "data": {
      "text/plain": [
       "100"
      ]
     },
     "execution_count": 179,
     "metadata": {},
     "output_type": "execute_result"
    }
   ],
   "source": [
    "len(files_not_processed)"
   ]
  },
  {
   "cell_type": "code",
   "execution_count": 180,
   "id": "9002f700-cf12-42f2-8508-7593da6ca8d7",
   "metadata": {},
   "outputs": [
    {
     "name": "stdout",
     "output_type": "stream",
     "text": [
      "batch_617540.jsonl Loaded\n",
      "batch_617540.jsonl Processed\n",
      "batch_617540.jsonl List Split\n"
     ]
    },
    {
     "name": "stderr",
     "output_type": "stream",
     "text": [
      "/var/folders/xx/hy496x3x5sn4hy9gy1fk19lw0000gp/T/ipykernel_59736/2181975156.py:18: DeprecationWarning: DataFrameGroupBy.apply operated on the grouping columns. This behavior is deprecated, and in a future version of pandas the grouping columns will be excluded from the operation. Either pass `include_groups=False` to exclude the groupings or explicitly select the grouping columns after groupby to silence this warning.\n",
      "  result_df = df.groupby(['doc_id', 'chunk_id']).apply(combine_and_unique).reset_index(drop=True)\n"
     ]
    },
    {
     "name": "stdout",
     "output_type": "stream",
     "text": [
      "batch_617540.jsonl Saved to ../../../../datasets/blogger/batch_4o/doc_617540.jsonl\n",
      "batch_617540.jsonl Removed from ../../../../datasets/blogger/batch_complete/\n",
      "batch_579188.jsonl Loaded\n",
      "batch_579188.jsonl Processed\n",
      "batch_579188.jsonl List Split\n",
      "batch_579188.jsonl Saved to ../../../../datasets/blogger/batch_4o/doc_579188.jsonl\n",
      "batch_579188.jsonl Removed from ../../../../datasets/blogger/batch_complete/\n",
      "batch_448015.jsonl Loaded\n",
      "batch_448015.jsonl Processed\n"
     ]
    },
    {
     "name": "stderr",
     "output_type": "stream",
     "text": [
      "/var/folders/xx/hy496x3x5sn4hy9gy1fk19lw0000gp/T/ipykernel_59736/2181975156.py:18: DeprecationWarning: DataFrameGroupBy.apply operated on the grouping columns. This behavior is deprecated, and in a future version of pandas the grouping columns will be excluded from the operation. Either pass `include_groups=False` to exclude the groupings or explicitly select the grouping columns after groupby to silence this warning.\n",
      "  result_df = df.groupby(['doc_id', 'chunk_id']).apply(combine_and_unique).reset_index(drop=True)\n",
      "/var/folders/xx/hy496x3x5sn4hy9gy1fk19lw0000gp/T/ipykernel_59736/2181975156.py:18: DeprecationWarning: DataFrameGroupBy.apply operated on the grouping columns. This behavior is deprecated, and in a future version of pandas the grouping columns will be excluded from the operation. Either pass `include_groups=False` to exclude the groupings or explicitly select the grouping columns after groupby to silence this warning.\n",
      "  result_df = df.groupby(['doc_id', 'chunk_id']).apply(combine_and_unique).reset_index(drop=True)\n"
     ]
    },
    {
     "name": "stdout",
     "output_type": "stream",
     "text": [
      "batch_448015.jsonl List Split\n",
      "batch_448015.jsonl Saved to ../../../../datasets/blogger/batch_4o/doc_448015.jsonl\n",
      "batch_448015.jsonl Removed from ../../../../datasets/blogger/batch_complete/\n",
      "batch_671397.jsonl Loaded\n",
      "batch_671397.jsonl Processed\n",
      "batch_671397.jsonl List Split\n"
     ]
    },
    {
     "name": "stderr",
     "output_type": "stream",
     "text": [
      "/var/folders/xx/hy496x3x5sn4hy9gy1fk19lw0000gp/T/ipykernel_59736/2181975156.py:18: DeprecationWarning: DataFrameGroupBy.apply operated on the grouping columns. This behavior is deprecated, and in a future version of pandas the grouping columns will be excluded from the operation. Either pass `include_groups=False` to exclude the groupings or explicitly select the grouping columns after groupby to silence this warning.\n",
      "  result_df = df.groupby(['doc_id', 'chunk_id']).apply(combine_and_unique).reset_index(drop=True)\n"
     ]
    },
    {
     "name": "stdout",
     "output_type": "stream",
     "text": [
      "batch_671397.jsonl Saved to ../../../../datasets/blogger/batch_4o/doc_671397.jsonl\n",
      "batch_671397.jsonl Removed from ../../../../datasets/blogger/batch_complete/\n",
      "batch_543206.jsonl Loaded\n",
      "batch_543206.jsonl Processed\n",
      "batch_543206.jsonl List Split\n",
      "batch_543206.jsonl Saved to ../../../../datasets/blogger/batch_4o/doc_543206.jsonl\n",
      "batch_543206.jsonl Removed from ../../../../datasets/blogger/batch_complete/\n"
     ]
    },
    {
     "name": "stderr",
     "output_type": "stream",
     "text": [
      "/var/folders/xx/hy496x3x5sn4hy9gy1fk19lw0000gp/T/ipykernel_59736/2181975156.py:18: DeprecationWarning: DataFrameGroupBy.apply operated on the grouping columns. This behavior is deprecated, and in a future version of pandas the grouping columns will be excluded from the operation. Either pass `include_groups=False` to exclude the groupings or explicitly select the grouping columns after groupby to silence this warning.\n",
      "  result_df = df.groupby(['doc_id', 'chunk_id']).apply(combine_and_unique).reset_index(drop=True)\n",
      "/var/folders/xx/hy496x3x5sn4hy9gy1fk19lw0000gp/T/ipykernel_59736/2181975156.py:18: DeprecationWarning: DataFrameGroupBy.apply operated on the grouping columns. This behavior is deprecated, and in a future version of pandas the grouping columns will be excluded from the operation. Either pass `include_groups=False` to exclude the groupings or explicitly select the grouping columns after groupby to silence this warning.\n",
      "  result_df = df.groupby(['doc_id', 'chunk_id']).apply(combine_and_unique).reset_index(drop=True)\n"
     ]
    },
    {
     "name": "stdout",
     "output_type": "stream",
     "text": [
      "batch_17850.jsonl Loaded\n",
      "batch_17850.jsonl Processed\n",
      "batch_17850.jsonl List Split\n",
      "batch_17850.jsonl Saved to ../../../../datasets/blogger/batch_4o/doc_17850.jsonl\n",
      "batch_17850.jsonl Removed from ../../../../datasets/blogger/batch_complete/\n",
      "batch_429760.jsonl Loaded\n",
      "batch_429760.jsonl Processed\n",
      "batch_429760.jsonl List Split\n"
     ]
    },
    {
     "name": "stderr",
     "output_type": "stream",
     "text": [
      "/var/folders/xx/hy496x3x5sn4hy9gy1fk19lw0000gp/T/ipykernel_59736/2181975156.py:18: DeprecationWarning: DataFrameGroupBy.apply operated on the grouping columns. This behavior is deprecated, and in a future version of pandas the grouping columns will be excluded from the operation. Either pass `include_groups=False` to exclude the groupings or explicitly select the grouping columns after groupby to silence this warning.\n",
      "  result_df = df.groupby(['doc_id', 'chunk_id']).apply(combine_and_unique).reset_index(drop=True)\n"
     ]
    },
    {
     "name": "stdout",
     "output_type": "stream",
     "text": [
      "batch_429760.jsonl Saved to ../../../../datasets/blogger/batch_4o/doc_429760.jsonl\n",
      "batch_429760.jsonl Removed from ../../../../datasets/blogger/batch_complete/\n",
      "batch_357437.jsonl Loaded\n",
      "batch_357437.jsonl Processed\n",
      "batch_357437.jsonl List Split\n"
     ]
    },
    {
     "name": "stderr",
     "output_type": "stream",
     "text": [
      "/var/folders/xx/hy496x3x5sn4hy9gy1fk19lw0000gp/T/ipykernel_59736/2181975156.py:18: DeprecationWarning: DataFrameGroupBy.apply operated on the grouping columns. This behavior is deprecated, and in a future version of pandas the grouping columns will be excluded from the operation. Either pass `include_groups=False` to exclude the groupings or explicitly select the grouping columns after groupby to silence this warning.\n",
      "  result_df = df.groupby(['doc_id', 'chunk_id']).apply(combine_and_unique).reset_index(drop=True)\n"
     ]
    },
    {
     "name": "stdout",
     "output_type": "stream",
     "text": [
      "batch_357437.jsonl Saved to ../../../../datasets/blogger/batch_4o/doc_357437.jsonl\n",
      "batch_357437.jsonl Removed from ../../../../datasets/blogger/batch_complete/\n",
      "batch_445957.jsonl Loaded\n",
      "batch_445957.jsonl Processed\n",
      "batch_445957.jsonl List Split\n"
     ]
    },
    {
     "name": "stderr",
     "output_type": "stream",
     "text": [
      "/var/folders/xx/hy496x3x5sn4hy9gy1fk19lw0000gp/T/ipykernel_59736/2181975156.py:18: DeprecationWarning: DataFrameGroupBy.apply operated on the grouping columns. This behavior is deprecated, and in a future version of pandas the grouping columns will be excluded from the operation. Either pass `include_groups=False` to exclude the groupings or explicitly select the grouping columns after groupby to silence this warning.\n",
      "  result_df = df.groupby(['doc_id', 'chunk_id']).apply(combine_and_unique).reset_index(drop=True)\n"
     ]
    },
    {
     "name": "stdout",
     "output_type": "stream",
     "text": [
      "batch_445957.jsonl Saved to ../../../../datasets/blogger/batch_4o/doc_445957.jsonl\n",
      "batch_445957.jsonl Removed from ../../../../datasets/blogger/batch_complete/\n",
      "batch_349665.jsonl Loaded\n",
      "batch_349665.jsonl Processed\n",
      "batch_349665.jsonl List Split\n"
     ]
    },
    {
     "name": "stderr",
     "output_type": "stream",
     "text": [
      "/var/folders/xx/hy496x3x5sn4hy9gy1fk19lw0000gp/T/ipykernel_59736/2181975156.py:18: DeprecationWarning: DataFrameGroupBy.apply operated on the grouping columns. This behavior is deprecated, and in a future version of pandas the grouping columns will be excluded from the operation. Either pass `include_groups=False` to exclude the groupings or explicitly select the grouping columns after groupby to silence this warning.\n",
      "  result_df = df.groupby(['doc_id', 'chunk_id']).apply(combine_and_unique).reset_index(drop=True)\n"
     ]
    },
    {
     "name": "stdout",
     "output_type": "stream",
     "text": [
      "batch_349665.jsonl Saved to ../../../../datasets/blogger/batch_4o/doc_349665.jsonl\n",
      "batch_349665.jsonl Removed from ../../../../datasets/blogger/batch_complete/\n",
      "batch_323518.jsonl Loaded\n",
      "batch_323518.jsonl Processed\n",
      "batch_323518.jsonl List Split\n",
      "batch_323518.jsonl Saved to ../../../../datasets/blogger/batch_4o/doc_323518.jsonl\n",
      "batch_323518.jsonl Removed from ../../../../datasets/blogger/batch_complete/\n",
      "batch_214228.jsonl Loaded\n",
      "batch_214228.jsonl Processed\n",
      "batch_214228.jsonl List Split\n"
     ]
    },
    {
     "name": "stderr",
     "output_type": "stream",
     "text": [
      "/var/folders/xx/hy496x3x5sn4hy9gy1fk19lw0000gp/T/ipykernel_59736/2181975156.py:18: DeprecationWarning: DataFrameGroupBy.apply operated on the grouping columns. This behavior is deprecated, and in a future version of pandas the grouping columns will be excluded from the operation. Either pass `include_groups=False` to exclude the groupings or explicitly select the grouping columns after groupby to silence this warning.\n",
      "  result_df = df.groupby(['doc_id', 'chunk_id']).apply(combine_and_unique).reset_index(drop=True)\n",
      "/var/folders/xx/hy496x3x5sn4hy9gy1fk19lw0000gp/T/ipykernel_59736/2181975156.py:18: DeprecationWarning: DataFrameGroupBy.apply operated on the grouping columns. This behavior is deprecated, and in a future version of pandas the grouping columns will be excluded from the operation. Either pass `include_groups=False` to exclude the groupings or explicitly select the grouping columns after groupby to silence this warning.\n",
      "  result_df = df.groupby(['doc_id', 'chunk_id']).apply(combine_and_unique).reset_index(drop=True)\n"
     ]
    },
    {
     "name": "stdout",
     "output_type": "stream",
     "text": [
      "batch_214228.jsonl Saved to ../../../../datasets/blogger/batch_4o/doc_214228.jsonl\n",
      "batch_214228.jsonl Removed from ../../../../datasets/blogger/batch_complete/\n",
      "batch_526719.jsonl Loaded\n",
      "batch_526719.jsonl Processed\n",
      "batch_526719.jsonl List Split\n"
     ]
    },
    {
     "name": "stderr",
     "output_type": "stream",
     "text": [
      "/var/folders/xx/hy496x3x5sn4hy9gy1fk19lw0000gp/T/ipykernel_59736/2181975156.py:18: DeprecationWarning: DataFrameGroupBy.apply operated on the grouping columns. This behavior is deprecated, and in a future version of pandas the grouping columns will be excluded from the operation. Either pass `include_groups=False` to exclude the groupings or explicitly select the grouping columns after groupby to silence this warning.\n",
      "  result_df = df.groupby(['doc_id', 'chunk_id']).apply(combine_and_unique).reset_index(drop=True)\n"
     ]
    },
    {
     "name": "stdout",
     "output_type": "stream",
     "text": [
      "batch_526719.jsonl Saved to ../../../../datasets/blogger/batch_4o/doc_526719.jsonl\n",
      "batch_526719.jsonl Removed from ../../../../datasets/blogger/batch_complete/\n",
      "batch_350617.jsonl Loaded\n",
      "batch_350617.jsonl Processed\n",
      "batch_350617.jsonl List Split\n",
      "batch_350617.jsonl Saved to ../../../../datasets/blogger/batch_4o/doc_350617.jsonl\n",
      "batch_350617.jsonl Removed from ../../../../datasets/blogger/batch_complete/\n",
      "batch_184355.jsonl Loaded\n",
      "batch_184355.jsonl Processed\n",
      "batch_184355.jsonl List Split\n"
     ]
    },
    {
     "name": "stderr",
     "output_type": "stream",
     "text": [
      "/var/folders/xx/hy496x3x5sn4hy9gy1fk19lw0000gp/T/ipykernel_59736/2181975156.py:18: DeprecationWarning: DataFrameGroupBy.apply operated on the grouping columns. This behavior is deprecated, and in a future version of pandas the grouping columns will be excluded from the operation. Either pass `include_groups=False` to exclude the groupings or explicitly select the grouping columns after groupby to silence this warning.\n",
      "  result_df = df.groupby(['doc_id', 'chunk_id']).apply(combine_and_unique).reset_index(drop=True)\n",
      "/var/folders/xx/hy496x3x5sn4hy9gy1fk19lw0000gp/T/ipykernel_59736/2181975156.py:18: DeprecationWarning: DataFrameGroupBy.apply operated on the grouping columns. This behavior is deprecated, and in a future version of pandas the grouping columns will be excluded from the operation. Either pass `include_groups=False` to exclude the groupings or explicitly select the grouping columns after groupby to silence this warning.\n",
      "  result_df = df.groupby(['doc_id', 'chunk_id']).apply(combine_and_unique).reset_index(drop=True)\n"
     ]
    },
    {
     "name": "stdout",
     "output_type": "stream",
     "text": [
      "batch_184355.jsonl Saved to ../../../../datasets/blogger/batch_4o/doc_184355.jsonl\n",
      "batch_184355.jsonl Removed from ../../../../datasets/blogger/batch_complete/\n",
      "batch_202213.jsonl Loaded\n",
      "batch_202213.jsonl Processed\n",
      "batch_202213.jsonl List Split\n"
     ]
    },
    {
     "name": "stderr",
     "output_type": "stream",
     "text": [
      "/var/folders/xx/hy496x3x5sn4hy9gy1fk19lw0000gp/T/ipykernel_59736/2181975156.py:18: DeprecationWarning: DataFrameGroupBy.apply operated on the grouping columns. This behavior is deprecated, and in a future version of pandas the grouping columns will be excluded from the operation. Either pass `include_groups=False` to exclude the groupings or explicitly select the grouping columns after groupby to silence this warning.\n",
      "  result_df = df.groupby(['doc_id', 'chunk_id']).apply(combine_and_unique).reset_index(drop=True)\n"
     ]
    },
    {
     "name": "stdout",
     "output_type": "stream",
     "text": [
      "batch_202213.jsonl Saved to ../../../../datasets/blogger/batch_4o/doc_202213.jsonl\n",
      "batch_202213.jsonl Removed from ../../../../datasets/blogger/batch_complete/\n",
      "batch_334376.jsonl Loaded\n",
      "batch_334376.jsonl Processed\n",
      "batch_334376.jsonl List Split\n",
      "batch_334376.jsonl Saved to ../../../../datasets/blogger/batch_4o/doc_334376.jsonl\n",
      "batch_334376.jsonl Removed from ../../../../datasets/blogger/batch_complete/\n",
      "batch_530975.jsonl Loaded\n",
      "batch_530975.jsonl Processed\n"
     ]
    },
    {
     "name": "stderr",
     "output_type": "stream",
     "text": [
      "/var/folders/xx/hy496x3x5sn4hy9gy1fk19lw0000gp/T/ipykernel_59736/2181975156.py:18: DeprecationWarning: DataFrameGroupBy.apply operated on the grouping columns. This behavior is deprecated, and in a future version of pandas the grouping columns will be excluded from the operation. Either pass `include_groups=False` to exclude the groupings or explicitly select the grouping columns after groupby to silence this warning.\n",
      "  result_df = df.groupby(['doc_id', 'chunk_id']).apply(combine_and_unique).reset_index(drop=True)\n",
      "/var/folders/xx/hy496x3x5sn4hy9gy1fk19lw0000gp/T/ipykernel_59736/2181975156.py:18: DeprecationWarning: DataFrameGroupBy.apply operated on the grouping columns. This behavior is deprecated, and in a future version of pandas the grouping columns will be excluded from the operation. Either pass `include_groups=False` to exclude the groupings or explicitly select the grouping columns after groupby to silence this warning.\n",
      "  result_df = df.groupby(['doc_id', 'chunk_id']).apply(combine_and_unique).reset_index(drop=True)\n"
     ]
    },
    {
     "name": "stdout",
     "output_type": "stream",
     "text": [
      "batch_530975.jsonl List Split\n",
      "batch_530975.jsonl Saved to ../../../../datasets/blogger/batch_4o/doc_530975.jsonl\n",
      "batch_530975.jsonl Removed from ../../../../datasets/blogger/batch_complete/\n",
      "batch_341238.jsonl Loaded\n",
      "batch_341238.jsonl Processed\n",
      "batch_341238.jsonl List Split\n"
     ]
    },
    {
     "name": "stderr",
     "output_type": "stream",
     "text": [
      "/var/folders/xx/hy496x3x5sn4hy9gy1fk19lw0000gp/T/ipykernel_59736/2181975156.py:18: DeprecationWarning: DataFrameGroupBy.apply operated on the grouping columns. This behavior is deprecated, and in a future version of pandas the grouping columns will be excluded from the operation. Either pass `include_groups=False` to exclude the groupings or explicitly select the grouping columns after groupby to silence this warning.\n",
      "  result_df = df.groupby(['doc_id', 'chunk_id']).apply(combine_and_unique).reset_index(drop=True)\n"
     ]
    },
    {
     "name": "stdout",
     "output_type": "stream",
     "text": [
      "batch_341238.jsonl Saved to ../../../../datasets/blogger/batch_4o/doc_341238.jsonl\n",
      "batch_341238.jsonl Removed from ../../../../datasets/blogger/batch_complete/\n",
      "batch_678838.jsonl Loaded\n",
      "batch_678838.jsonl Processed\n",
      "batch_678838.jsonl List Split\n"
     ]
    },
    {
     "name": "stderr",
     "output_type": "stream",
     "text": [
      "/var/folders/xx/hy496x3x5sn4hy9gy1fk19lw0000gp/T/ipykernel_59736/2181975156.py:18: DeprecationWarning: DataFrameGroupBy.apply operated on the grouping columns. This behavior is deprecated, and in a future version of pandas the grouping columns will be excluded from the operation. Either pass `include_groups=False` to exclude the groupings or explicitly select the grouping columns after groupby to silence this warning.\n",
      "  result_df = df.groupby(['doc_id', 'chunk_id']).apply(combine_and_unique).reset_index(drop=True)\n"
     ]
    },
    {
     "name": "stdout",
     "output_type": "stream",
     "text": [
      "batch_678838.jsonl Saved to ../../../../datasets/blogger/batch_4o/doc_678838.jsonl\n",
      "batch_678838.jsonl Removed from ../../../../datasets/blogger/batch_complete/\n",
      "batch_144356.jsonl Loaded\n",
      "Error processing batch_144356.jsonl: Unterminated string starting at: line 21 column 20 (char 23204)\n",
      "batch_144356.jsonl Moved to ../../../../datasets/blogger/batch_4o_fail/batch_144356.jsonl\n",
      "batch_297972.jsonl Loaded\n",
      "batch_297972.jsonl Processed\n",
      "batch_297972.jsonl List Split\n",
      "batch_297972.jsonl Saved to ../../../../datasets/blogger/batch_4o/doc_297972.jsonl\n"
     ]
    },
    {
     "name": "stderr",
     "output_type": "stream",
     "text": [
      "/var/folders/xx/hy496x3x5sn4hy9gy1fk19lw0000gp/T/ipykernel_59736/2181975156.py:18: DeprecationWarning: DataFrameGroupBy.apply operated on the grouping columns. This behavior is deprecated, and in a future version of pandas the grouping columns will be excluded from the operation. Either pass `include_groups=False` to exclude the groupings or explicitly select the grouping columns after groupby to silence this warning.\n",
      "  result_df = df.groupby(['doc_id', 'chunk_id']).apply(combine_and_unique).reset_index(drop=True)\n"
     ]
    },
    {
     "name": "stdout",
     "output_type": "stream",
     "text": [
      "batch_297972.jsonl Removed from ../../../../datasets/blogger/batch_complete/\n",
      "batch_481359.jsonl Loaded\n",
      "batch_481359.jsonl Processed\n",
      "batch_481359.jsonl List Split\n"
     ]
    },
    {
     "name": "stderr",
     "output_type": "stream",
     "text": [
      "/var/folders/xx/hy496x3x5sn4hy9gy1fk19lw0000gp/T/ipykernel_59736/2181975156.py:18: DeprecationWarning: DataFrameGroupBy.apply operated on the grouping columns. This behavior is deprecated, and in a future version of pandas the grouping columns will be excluded from the operation. Either pass `include_groups=False` to exclude the groupings or explicitly select the grouping columns after groupby to silence this warning.\n",
      "  result_df = df.groupby(['doc_id', 'chunk_id']).apply(combine_and_unique).reset_index(drop=True)\n"
     ]
    },
    {
     "name": "stdout",
     "output_type": "stream",
     "text": [
      "batch_481359.jsonl Saved to ../../../../datasets/blogger/batch_4o/doc_481359.jsonl\n",
      "batch_481359.jsonl Removed from ../../../../datasets/blogger/batch_complete/\n",
      "batch_343349.jsonl Loaded\n",
      "batch_343349.jsonl Processed\n",
      "batch_343349.jsonl List Split\n",
      "batch_343349.jsonl Saved to ../../../../datasets/blogger/batch_4o/doc_343349.jsonl\n",
      "batch_343349.jsonl Removed from ../../../../datasets/blogger/batch_complete/\n",
      "batch_175880.jsonl Loaded\n",
      "batch_175880.jsonl Processed\n"
     ]
    },
    {
     "name": "stderr",
     "output_type": "stream",
     "text": [
      "/var/folders/xx/hy496x3x5sn4hy9gy1fk19lw0000gp/T/ipykernel_59736/2181975156.py:18: DeprecationWarning: DataFrameGroupBy.apply operated on the grouping columns. This behavior is deprecated, and in a future version of pandas the grouping columns will be excluded from the operation. Either pass `include_groups=False` to exclude the groupings or explicitly select the grouping columns after groupby to silence this warning.\n",
      "  result_df = df.groupby(['doc_id', 'chunk_id']).apply(combine_and_unique).reset_index(drop=True)\n",
      "/var/folders/xx/hy496x3x5sn4hy9gy1fk19lw0000gp/T/ipykernel_59736/2181975156.py:18: DeprecationWarning: DataFrameGroupBy.apply operated on the grouping columns. This behavior is deprecated, and in a future version of pandas the grouping columns will be excluded from the operation. Either pass `include_groups=False` to exclude the groupings or explicitly select the grouping columns after groupby to silence this warning.\n",
      "  result_df = df.groupby(['doc_id', 'chunk_id']).apply(combine_and_unique).reset_index(drop=True)\n"
     ]
    },
    {
     "name": "stdout",
     "output_type": "stream",
     "text": [
      "batch_175880.jsonl List Split\n",
      "batch_175880.jsonl Saved to ../../../../datasets/blogger/batch_4o/doc_175880.jsonl\n",
      "batch_175880.jsonl Removed from ../../../../datasets/blogger/batch_complete/\n",
      "batch_18516.jsonl Loaded\n",
      "batch_18516.jsonl Processed\n",
      "batch_18516.jsonl List Split\n"
     ]
    },
    {
     "name": "stderr",
     "output_type": "stream",
     "text": [
      "/var/folders/xx/hy496x3x5sn4hy9gy1fk19lw0000gp/T/ipykernel_59736/2181975156.py:18: DeprecationWarning: DataFrameGroupBy.apply operated on the grouping columns. This behavior is deprecated, and in a future version of pandas the grouping columns will be excluded from the operation. Either pass `include_groups=False` to exclude the groupings or explicitly select the grouping columns after groupby to silence this warning.\n",
      "  result_df = df.groupby(['doc_id', 'chunk_id']).apply(combine_and_unique).reset_index(drop=True)\n"
     ]
    },
    {
     "name": "stdout",
     "output_type": "stream",
     "text": [
      "batch_18516.jsonl Saved to ../../../../datasets/blogger/batch_4o/doc_18516.jsonl\n",
      "batch_18516.jsonl Removed from ../../../../datasets/blogger/batch_complete/\n",
      "batch_57262.jsonl Loaded\n",
      "batch_57262.jsonl Processed\n",
      "batch_57262.jsonl List Split\n"
     ]
    },
    {
     "name": "stderr",
     "output_type": "stream",
     "text": [
      "/var/folders/xx/hy496x3x5sn4hy9gy1fk19lw0000gp/T/ipykernel_59736/2181975156.py:18: DeprecationWarning: DataFrameGroupBy.apply operated on the grouping columns. This behavior is deprecated, and in a future version of pandas the grouping columns will be excluded from the operation. Either pass `include_groups=False` to exclude the groupings or explicitly select the grouping columns after groupby to silence this warning.\n",
      "  result_df = df.groupby(['doc_id', 'chunk_id']).apply(combine_and_unique).reset_index(drop=True)\n"
     ]
    },
    {
     "name": "stdout",
     "output_type": "stream",
     "text": [
      "batch_57262.jsonl Saved to ../../../../datasets/blogger/batch_4o/doc_57262.jsonl\n",
      "batch_57262.jsonl Removed from ../../../../datasets/blogger/batch_complete/\n",
      "batch_542822.jsonl Loaded\n",
      "batch_542822.jsonl Processed\n",
      "batch_542822.jsonl List Split\n"
     ]
    },
    {
     "name": "stderr",
     "output_type": "stream",
     "text": [
      "/var/folders/xx/hy496x3x5sn4hy9gy1fk19lw0000gp/T/ipykernel_59736/2181975156.py:18: DeprecationWarning: DataFrameGroupBy.apply operated on the grouping columns. This behavior is deprecated, and in a future version of pandas the grouping columns will be excluded from the operation. Either pass `include_groups=False` to exclude the groupings or explicitly select the grouping columns after groupby to silence this warning.\n",
      "  result_df = df.groupby(['doc_id', 'chunk_id']).apply(combine_and_unique).reset_index(drop=True)\n",
      "/var/folders/xx/hy496x3x5sn4hy9gy1fk19lw0000gp/T/ipykernel_59736/2181975156.py:18: DeprecationWarning: DataFrameGroupBy.apply operated on the grouping columns. This behavior is deprecated, and in a future version of pandas the grouping columns will be excluded from the operation. Either pass `include_groups=False` to exclude the groupings or explicitly select the grouping columns after groupby to silence this warning.\n",
      "  result_df = df.groupby(['doc_id', 'chunk_id']).apply(combine_and_unique).reset_index(drop=True)\n"
     ]
    },
    {
     "name": "stdout",
     "output_type": "stream",
     "text": [
      "batch_542822.jsonl Saved to ../../../../datasets/blogger/batch_4o/doc_542822.jsonl\n",
      "batch_542822.jsonl Removed from ../../../../datasets/blogger/batch_complete/\n",
      "batch_288775.jsonl Loaded\n",
      "batch_288775.jsonl Processed\n",
      "batch_288775.jsonl List Split\n",
      "batch_288775.jsonl Saved to ../../../../datasets/blogger/batch_4o/doc_288775.jsonl\n",
      "batch_288775.jsonl Removed from ../../../../datasets/blogger/batch_complete/\n",
      "batch_306438.jsonl Loaded\n",
      "batch_306438.jsonl Processed\n",
      "batch_306438.jsonl List Split\n"
     ]
    },
    {
     "name": "stderr",
     "output_type": "stream",
     "text": [
      "/var/folders/xx/hy496x3x5sn4hy9gy1fk19lw0000gp/T/ipykernel_59736/2181975156.py:18: DeprecationWarning: DataFrameGroupBy.apply operated on the grouping columns. This behavior is deprecated, and in a future version of pandas the grouping columns will be excluded from the operation. Either pass `include_groups=False` to exclude the groupings or explicitly select the grouping columns after groupby to silence this warning.\n",
      "  result_df = df.groupby(['doc_id', 'chunk_id']).apply(combine_and_unique).reset_index(drop=True)\n"
     ]
    },
    {
     "name": "stdout",
     "output_type": "stream",
     "text": [
      "batch_306438.jsonl Saved to ../../../../datasets/blogger/batch_4o/doc_306438.jsonl\n",
      "batch_306438.jsonl Removed from ../../../../datasets/blogger/batch_complete/\n",
      "batch_125908.jsonl Loaded\n",
      "batch_125908.jsonl Processed\n",
      "batch_125908.jsonl List Split\n"
     ]
    },
    {
     "name": "stderr",
     "output_type": "stream",
     "text": [
      "/var/folders/xx/hy496x3x5sn4hy9gy1fk19lw0000gp/T/ipykernel_59736/2181975156.py:18: DeprecationWarning: DataFrameGroupBy.apply operated on the grouping columns. This behavior is deprecated, and in a future version of pandas the grouping columns will be excluded from the operation. Either pass `include_groups=False` to exclude the groupings or explicitly select the grouping columns after groupby to silence this warning.\n",
      "  result_df = df.groupby(['doc_id', 'chunk_id']).apply(combine_and_unique).reset_index(drop=True)\n"
     ]
    },
    {
     "name": "stdout",
     "output_type": "stream",
     "text": [
      "batch_125908.jsonl Saved to ../../../../datasets/blogger/batch_4o/doc_125908.jsonl\n",
      "batch_125908.jsonl Removed from ../../../../datasets/blogger/batch_complete/\n",
      "batch_207710.jsonl Loaded\n",
      "batch_207710.jsonl Processed\n",
      "batch_207710.jsonl List Split\n",
      "batch_207710.jsonl Saved to ../../../../datasets/blogger/batch_4o/doc_207710.jsonl\n",
      "batch_207710.jsonl Removed from ../../../../datasets/blogger/batch_complete/\n"
     ]
    },
    {
     "name": "stderr",
     "output_type": "stream",
     "text": [
      "/var/folders/xx/hy496x3x5sn4hy9gy1fk19lw0000gp/T/ipykernel_59736/2181975156.py:18: DeprecationWarning: DataFrameGroupBy.apply operated on the grouping columns. This behavior is deprecated, and in a future version of pandas the grouping columns will be excluded from the operation. Either pass `include_groups=False` to exclude the groupings or explicitly select the grouping columns after groupby to silence this warning.\n",
      "  result_df = df.groupby(['doc_id', 'chunk_id']).apply(combine_and_unique).reset_index(drop=True)\n",
      "/var/folders/xx/hy496x3x5sn4hy9gy1fk19lw0000gp/T/ipykernel_59736/2181975156.py:18: DeprecationWarning: DataFrameGroupBy.apply operated on the grouping columns. This behavior is deprecated, and in a future version of pandas the grouping columns will be excluded from the operation. Either pass `include_groups=False` to exclude the groupings or explicitly select the grouping columns after groupby to silence this warning.\n",
      "  result_df = df.groupby(['doc_id', 'chunk_id']).apply(combine_and_unique).reset_index(drop=True)\n"
     ]
    },
    {
     "name": "stdout",
     "output_type": "stream",
     "text": [
      "batch_124522.jsonl Loaded\n",
      "batch_124522.jsonl Processed\n",
      "batch_124522.jsonl List Split\n",
      "batch_124522.jsonl Saved to ../../../../datasets/blogger/batch_4o/doc_124522.jsonl\n",
      "batch_124522.jsonl Removed from ../../../../datasets/blogger/batch_complete/\n",
      "batch_506923.jsonl Loaded\n",
      "batch_506923.jsonl Processed\n",
      "batch_506923.jsonl List Split\n"
     ]
    },
    {
     "name": "stderr",
     "output_type": "stream",
     "text": [
      "/var/folders/xx/hy496x3x5sn4hy9gy1fk19lw0000gp/T/ipykernel_59736/2181975156.py:18: DeprecationWarning: DataFrameGroupBy.apply operated on the grouping columns. This behavior is deprecated, and in a future version of pandas the grouping columns will be excluded from the operation. Either pass `include_groups=False` to exclude the groupings or explicitly select the grouping columns after groupby to silence this warning.\n",
      "  result_df = df.groupby(['doc_id', 'chunk_id']).apply(combine_and_unique).reset_index(drop=True)\n"
     ]
    },
    {
     "name": "stdout",
     "output_type": "stream",
     "text": [
      "batch_506923.jsonl Saved to ../../../../datasets/blogger/batch_4o/doc_506923.jsonl\n",
      "batch_506923.jsonl Removed from ../../../../datasets/blogger/batch_complete/\n",
      "batch_37303.jsonl Loaded\n",
      "batch_37303.jsonl Processed\n",
      "batch_37303.jsonl List Split\n"
     ]
    },
    {
     "name": "stderr",
     "output_type": "stream",
     "text": [
      "/var/folders/xx/hy496x3x5sn4hy9gy1fk19lw0000gp/T/ipykernel_59736/2181975156.py:18: DeprecationWarning: DataFrameGroupBy.apply operated on the grouping columns. This behavior is deprecated, and in a future version of pandas the grouping columns will be excluded from the operation. Either pass `include_groups=False` to exclude the groupings or explicitly select the grouping columns after groupby to silence this warning.\n",
      "  result_df = df.groupby(['doc_id', 'chunk_id']).apply(combine_and_unique).reset_index(drop=True)\n"
     ]
    },
    {
     "name": "stdout",
     "output_type": "stream",
     "text": [
      "batch_37303.jsonl Saved to ../../../../datasets/blogger/batch_4o/doc_37303.jsonl\n",
      "batch_37303.jsonl Removed from ../../../../datasets/blogger/batch_complete/\n",
      "batch_402496.jsonl Loaded\n",
      "Error processing batch_402496.jsonl: Unterminated string starting at: line 20 column 20 (char 18698)\n",
      "batch_402496.jsonl Moved to ../../../../datasets/blogger/batch_4o_fail/batch_402496.jsonl\n",
      "batch_560732.jsonl Loaded\n",
      "batch_560732.jsonl Processed\n",
      "batch_560732.jsonl List Split\n"
     ]
    },
    {
     "name": "stderr",
     "output_type": "stream",
     "text": [
      "/var/folders/xx/hy496x3x5sn4hy9gy1fk19lw0000gp/T/ipykernel_59736/2181975156.py:18: DeprecationWarning: DataFrameGroupBy.apply operated on the grouping columns. This behavior is deprecated, and in a future version of pandas the grouping columns will be excluded from the operation. Either pass `include_groups=False` to exclude the groupings or explicitly select the grouping columns after groupby to silence this warning.\n",
      "  result_df = df.groupby(['doc_id', 'chunk_id']).apply(combine_and_unique).reset_index(drop=True)\n"
     ]
    },
    {
     "name": "stdout",
     "output_type": "stream",
     "text": [
      "batch_560732.jsonl Saved to ../../../../datasets/blogger/batch_4o/doc_560732.jsonl\n",
      "batch_560732.jsonl Removed from ../../../../datasets/blogger/batch_complete/\n",
      "batch_621278.jsonl Loaded\n",
      "batch_621278.jsonl Processed\n",
      "batch_621278.jsonl List Split\n",
      "batch_621278.jsonl Saved to ../../../../datasets/blogger/batch_4o/doc_621278.jsonl\n",
      "batch_621278.jsonl Removed from ../../../../datasets/blogger/batch_complete/\n",
      "batch_397139.jsonl Loaded\n",
      "batch_397139.jsonl Processed\n",
      "batch_397139.jsonl List Split\n"
     ]
    },
    {
     "name": "stderr",
     "output_type": "stream",
     "text": [
      "/var/folders/xx/hy496x3x5sn4hy9gy1fk19lw0000gp/T/ipykernel_59736/2181975156.py:18: DeprecationWarning: DataFrameGroupBy.apply operated on the grouping columns. This behavior is deprecated, and in a future version of pandas the grouping columns will be excluded from the operation. Either pass `include_groups=False` to exclude the groupings or explicitly select the grouping columns after groupby to silence this warning.\n",
      "  result_df = df.groupby(['doc_id', 'chunk_id']).apply(combine_and_unique).reset_index(drop=True)\n",
      "/var/folders/xx/hy496x3x5sn4hy9gy1fk19lw0000gp/T/ipykernel_59736/2181975156.py:18: DeprecationWarning: DataFrameGroupBy.apply operated on the grouping columns. This behavior is deprecated, and in a future version of pandas the grouping columns will be excluded from the operation. Either pass `include_groups=False` to exclude the groupings or explicitly select the grouping columns after groupby to silence this warning.\n",
      "  result_df = df.groupby(['doc_id', 'chunk_id']).apply(combine_and_unique).reset_index(drop=True)\n"
     ]
    },
    {
     "name": "stdout",
     "output_type": "stream",
     "text": [
      "batch_397139.jsonl Saved to ../../../../datasets/blogger/batch_4o/doc_397139.jsonl\n",
      "batch_397139.jsonl Removed from ../../../../datasets/blogger/batch_complete/\n",
      "batch_99088.jsonl Loaded\n",
      "batch_99088.jsonl Processed\n",
      "batch_99088.jsonl List Split\n",
      "batch_99088.jsonl Saved to ../../../../datasets/blogger/batch_4o/doc_99088.jsonl\n",
      "batch_99088.jsonl Removed from ../../../../datasets/blogger/batch_complete/\n",
      "batch_16188.jsonl Loaded\n",
      "batch_16188.jsonl Processed\n"
     ]
    },
    {
     "name": "stderr",
     "output_type": "stream",
     "text": [
      "/var/folders/xx/hy496x3x5sn4hy9gy1fk19lw0000gp/T/ipykernel_59736/2181975156.py:18: DeprecationWarning: DataFrameGroupBy.apply operated on the grouping columns. This behavior is deprecated, and in a future version of pandas the grouping columns will be excluded from the operation. Either pass `include_groups=False` to exclude the groupings or explicitly select the grouping columns after groupby to silence this warning.\n",
      "  result_df = df.groupby(['doc_id', 'chunk_id']).apply(combine_and_unique).reset_index(drop=True)\n",
      "/var/folders/xx/hy496x3x5sn4hy9gy1fk19lw0000gp/T/ipykernel_59736/2181975156.py:18: DeprecationWarning: DataFrameGroupBy.apply operated on the grouping columns. This behavior is deprecated, and in a future version of pandas the grouping columns will be excluded from the operation. Either pass `include_groups=False` to exclude the groupings or explicitly select the grouping columns after groupby to silence this warning.\n",
      "  result_df = df.groupby(['doc_id', 'chunk_id']).apply(combine_and_unique).reset_index(drop=True)\n"
     ]
    },
    {
     "name": "stdout",
     "output_type": "stream",
     "text": [
      "batch_16188.jsonl List Split\n",
      "batch_16188.jsonl Saved to ../../../../datasets/blogger/batch_4o/doc_16188.jsonl\n",
      "batch_16188.jsonl Removed from ../../../../datasets/blogger/batch_complete/\n",
      "batch_597056.jsonl Loaded\n",
      "batch_597056.jsonl Processed\n",
      "batch_597056.jsonl List Split\n"
     ]
    },
    {
     "name": "stderr",
     "output_type": "stream",
     "text": [
      "/var/folders/xx/hy496x3x5sn4hy9gy1fk19lw0000gp/T/ipykernel_59736/2181975156.py:18: DeprecationWarning: DataFrameGroupBy.apply operated on the grouping columns. This behavior is deprecated, and in a future version of pandas the grouping columns will be excluded from the operation. Either pass `include_groups=False` to exclude the groupings or explicitly select the grouping columns after groupby to silence this warning.\n",
      "  result_df = df.groupby(['doc_id', 'chunk_id']).apply(combine_and_unique).reset_index(drop=True)\n"
     ]
    },
    {
     "name": "stdout",
     "output_type": "stream",
     "text": [
      "batch_597056.jsonl Saved to ../../../../datasets/blogger/batch_4o/doc_597056.jsonl\n",
      "batch_597056.jsonl Removed from ../../../../datasets/blogger/batch_complete/\n",
      "batch_110133.jsonl Loaded\n",
      "batch_110133.jsonl Processed\n",
      "batch_110133.jsonl List Split\n"
     ]
    },
    {
     "name": "stderr",
     "output_type": "stream",
     "text": [
      "/var/folders/xx/hy496x3x5sn4hy9gy1fk19lw0000gp/T/ipykernel_59736/2181975156.py:18: DeprecationWarning: DataFrameGroupBy.apply operated on the grouping columns. This behavior is deprecated, and in a future version of pandas the grouping columns will be excluded from the operation. Either pass `include_groups=False` to exclude the groupings or explicitly select the grouping columns after groupby to silence this warning.\n",
      "  result_df = df.groupby(['doc_id', 'chunk_id']).apply(combine_and_unique).reset_index(drop=True)\n"
     ]
    },
    {
     "name": "stdout",
     "output_type": "stream",
     "text": [
      "batch_110133.jsonl Saved to ../../../../datasets/blogger/batch_4o/doc_110133.jsonl\n",
      "batch_110133.jsonl Removed from ../../../../datasets/blogger/batch_complete/\n",
      "batch_274759.jsonl Loaded\n",
      "batch_274759.jsonl Processed\n",
      "batch_274759.jsonl List Split\n"
     ]
    },
    {
     "name": "stderr",
     "output_type": "stream",
     "text": [
      "/var/folders/xx/hy496x3x5sn4hy9gy1fk19lw0000gp/T/ipykernel_59736/2181975156.py:18: DeprecationWarning: DataFrameGroupBy.apply operated on the grouping columns. This behavior is deprecated, and in a future version of pandas the grouping columns will be excluded from the operation. Either pass `include_groups=False` to exclude the groupings or explicitly select the grouping columns after groupby to silence this warning.\n",
      "  result_df = df.groupby(['doc_id', 'chunk_id']).apply(combine_and_unique).reset_index(drop=True)\n"
     ]
    },
    {
     "name": "stdout",
     "output_type": "stream",
     "text": [
      "batch_274759.jsonl Saved to ../../../../datasets/blogger/batch_4o/doc_274759.jsonl\n",
      "batch_274759.jsonl Removed from ../../../../datasets/blogger/batch_complete/\n",
      "batch_483447.jsonl Loaded\n",
      "batch_483447.jsonl Processed\n",
      "batch_483447.jsonl List Split\n"
     ]
    },
    {
     "name": "stderr",
     "output_type": "stream",
     "text": [
      "/var/folders/xx/hy496x3x5sn4hy9gy1fk19lw0000gp/T/ipykernel_59736/2181975156.py:18: DeprecationWarning: DataFrameGroupBy.apply operated on the grouping columns. This behavior is deprecated, and in a future version of pandas the grouping columns will be excluded from the operation. Either pass `include_groups=False` to exclude the groupings or explicitly select the grouping columns after groupby to silence this warning.\n",
      "  result_df = df.groupby(['doc_id', 'chunk_id']).apply(combine_and_unique).reset_index(drop=True)\n"
     ]
    },
    {
     "name": "stdout",
     "output_type": "stream",
     "text": [
      "batch_483447.jsonl Saved to ../../../../datasets/blogger/batch_4o/doc_483447.jsonl\n",
      "batch_483447.jsonl Removed from ../../../../datasets/blogger/batch_complete/\n",
      "batch_452954.jsonl Loaded\n",
      "batch_452954.jsonl Processed\n",
      "batch_452954.jsonl List Split\n"
     ]
    },
    {
     "name": "stderr",
     "output_type": "stream",
     "text": [
      "/var/folders/xx/hy496x3x5sn4hy9gy1fk19lw0000gp/T/ipykernel_59736/2181975156.py:18: DeprecationWarning: DataFrameGroupBy.apply operated on the grouping columns. This behavior is deprecated, and in a future version of pandas the grouping columns will be excluded from the operation. Either pass `include_groups=False` to exclude the groupings or explicitly select the grouping columns after groupby to silence this warning.\n",
      "  result_df = df.groupby(['doc_id', 'chunk_id']).apply(combine_and_unique).reset_index(drop=True)\n"
     ]
    },
    {
     "name": "stdout",
     "output_type": "stream",
     "text": [
      "batch_452954.jsonl Saved to ../../../../datasets/blogger/batch_4o/doc_452954.jsonl\n",
      "batch_452954.jsonl Removed from ../../../../datasets/blogger/batch_complete/\n",
      "batch_67056.jsonl Loaded\n",
      "batch_67056.jsonl Processed\n",
      "batch_67056.jsonl List Split\n"
     ]
    },
    {
     "name": "stderr",
     "output_type": "stream",
     "text": [
      "/var/folders/xx/hy496x3x5sn4hy9gy1fk19lw0000gp/T/ipykernel_59736/2181975156.py:18: DeprecationWarning: DataFrameGroupBy.apply operated on the grouping columns. This behavior is deprecated, and in a future version of pandas the grouping columns will be excluded from the operation. Either pass `include_groups=False` to exclude the groupings or explicitly select the grouping columns after groupby to silence this warning.\n",
      "  result_df = df.groupby(['doc_id', 'chunk_id']).apply(combine_and_unique).reset_index(drop=True)\n",
      "/var/folders/xx/hy496x3x5sn4hy9gy1fk19lw0000gp/T/ipykernel_59736/2181975156.py:18: DeprecationWarning: DataFrameGroupBy.apply operated on the grouping columns. This behavior is deprecated, and in a future version of pandas the grouping columns will be excluded from the operation. Either pass `include_groups=False` to exclude the groupings or explicitly select the grouping columns after groupby to silence this warning.\n",
      "  result_df = df.groupby(['doc_id', 'chunk_id']).apply(combine_and_unique).reset_index(drop=True)\n"
     ]
    },
    {
     "name": "stdout",
     "output_type": "stream",
     "text": [
      "batch_67056.jsonl Saved to ../../../../datasets/blogger/batch_4o/doc_67056.jsonl\n",
      "batch_67056.jsonl Removed from ../../../../datasets/blogger/batch_complete/\n",
      "batch_623524.jsonl Loaded\n",
      "batch_623524.jsonl Processed\n",
      "batch_623524.jsonl List Split\n",
      "batch_623524.jsonl Saved to ../../../../datasets/blogger/batch_4o/doc_623524.jsonl\n",
      "batch_623524.jsonl Removed from ../../../../datasets/blogger/batch_complete/\n",
      "batch_207833.jsonl Loaded\n",
      "batch_207833.jsonl Processed\n",
      "batch_207833.jsonl List Split\n"
     ]
    },
    {
     "name": "stderr",
     "output_type": "stream",
     "text": [
      "/var/folders/xx/hy496x3x5sn4hy9gy1fk19lw0000gp/T/ipykernel_59736/2181975156.py:18: DeprecationWarning: DataFrameGroupBy.apply operated on the grouping columns. This behavior is deprecated, and in a future version of pandas the grouping columns will be excluded from the operation. Either pass `include_groups=False` to exclude the groupings or explicitly select the grouping columns after groupby to silence this warning.\n",
      "  result_df = df.groupby(['doc_id', 'chunk_id']).apply(combine_and_unique).reset_index(drop=True)\n"
     ]
    },
    {
     "name": "stdout",
     "output_type": "stream",
     "text": [
      "batch_207833.jsonl Saved to ../../../../datasets/blogger/batch_4o/doc_207833.jsonl\n",
      "batch_207833.jsonl Removed from ../../../../datasets/blogger/batch_complete/\n",
      "batch_26252.jsonl Loaded\n",
      "batch_26252.jsonl Processed\n",
      "batch_26252.jsonl List Split\n",
      "batch_26252.jsonl Saved to ../../../../datasets/blogger/batch_4o/doc_26252.jsonl\n",
      "batch_26252.jsonl Removed from ../../../../datasets/blogger/batch_complete/\n",
      "batch_544873.jsonl Loaded\n",
      "Error processing batch_544873.jsonl: Unterminated string starting at: line 1 column 3465 (char 3464)\n"
     ]
    },
    {
     "name": "stderr",
     "output_type": "stream",
     "text": [
      "/var/folders/xx/hy496x3x5sn4hy9gy1fk19lw0000gp/T/ipykernel_59736/2181975156.py:18: DeprecationWarning: DataFrameGroupBy.apply operated on the grouping columns. This behavior is deprecated, and in a future version of pandas the grouping columns will be excluded from the operation. Either pass `include_groups=False` to exclude the groupings or explicitly select the grouping columns after groupby to silence this warning.\n",
      "  result_df = df.groupby(['doc_id', 'chunk_id']).apply(combine_and_unique).reset_index(drop=True)\n"
     ]
    },
    {
     "name": "stdout",
     "output_type": "stream",
     "text": [
      "batch_544873.jsonl Moved to ../../../../datasets/blogger/batch_4o_fail/batch_544873.jsonl\n",
      "batch_317636.jsonl Loaded\n",
      "batch_317636.jsonl Processed\n",
      "batch_317636.jsonl List Split\n"
     ]
    },
    {
     "name": "stderr",
     "output_type": "stream",
     "text": [
      "/var/folders/xx/hy496x3x5sn4hy9gy1fk19lw0000gp/T/ipykernel_59736/2181975156.py:18: DeprecationWarning: DataFrameGroupBy.apply operated on the grouping columns. This behavior is deprecated, and in a future version of pandas the grouping columns will be excluded from the operation. Either pass `include_groups=False` to exclude the groupings or explicitly select the grouping columns after groupby to silence this warning.\n",
      "  result_df = df.groupby(['doc_id', 'chunk_id']).apply(combine_and_unique).reset_index(drop=True)\n"
     ]
    },
    {
     "name": "stdout",
     "output_type": "stream",
     "text": [
      "batch_317636.jsonl Saved to ../../../../datasets/blogger/batch_4o/doc_317636.jsonl\n",
      "batch_317636.jsonl Removed from ../../../../datasets/blogger/batch_complete/\n",
      "batch_433589.jsonl Loaded\n",
      "batch_433589.jsonl Processed\n",
      "batch_433589.jsonl List Split\n"
     ]
    },
    {
     "name": "stderr",
     "output_type": "stream",
     "text": [
      "/var/folders/xx/hy496x3x5sn4hy9gy1fk19lw0000gp/T/ipykernel_59736/2181975156.py:18: DeprecationWarning: DataFrameGroupBy.apply operated on the grouping columns. This behavior is deprecated, and in a future version of pandas the grouping columns will be excluded from the operation. Either pass `include_groups=False` to exclude the groupings or explicitly select the grouping columns after groupby to silence this warning.\n",
      "  result_df = df.groupby(['doc_id', 'chunk_id']).apply(combine_and_unique).reset_index(drop=True)\n"
     ]
    },
    {
     "name": "stdout",
     "output_type": "stream",
     "text": [
      "batch_433589.jsonl Saved to ../../../../datasets/blogger/batch_4o/doc_433589.jsonl\n",
      "batch_433589.jsonl Removed from ../../../../datasets/blogger/batch_complete/\n",
      "batch_505205.jsonl Loaded\n",
      "batch_505205.jsonl Processed\n",
      "batch_505205.jsonl List Split\n"
     ]
    },
    {
     "name": "stderr",
     "output_type": "stream",
     "text": [
      "/var/folders/xx/hy496x3x5sn4hy9gy1fk19lw0000gp/T/ipykernel_59736/2181975156.py:18: DeprecationWarning: DataFrameGroupBy.apply operated on the grouping columns. This behavior is deprecated, and in a future version of pandas the grouping columns will be excluded from the operation. Either pass `include_groups=False` to exclude the groupings or explicitly select the grouping columns after groupby to silence this warning.\n",
      "  result_df = df.groupby(['doc_id', 'chunk_id']).apply(combine_and_unique).reset_index(drop=True)\n"
     ]
    },
    {
     "name": "stdout",
     "output_type": "stream",
     "text": [
      "batch_505205.jsonl Saved to ../../../../datasets/blogger/batch_4o/doc_505205.jsonl\n",
      "batch_505205.jsonl Removed from ../../../../datasets/blogger/batch_complete/\n",
      "batch_425775.jsonl Loaded\n",
      "batch_425775.jsonl Processed\n",
      "batch_425775.jsonl List Split\n"
     ]
    },
    {
     "name": "stderr",
     "output_type": "stream",
     "text": [
      "/var/folders/xx/hy496x3x5sn4hy9gy1fk19lw0000gp/T/ipykernel_59736/2181975156.py:18: DeprecationWarning: DataFrameGroupBy.apply operated on the grouping columns. This behavior is deprecated, and in a future version of pandas the grouping columns will be excluded from the operation. Either pass `include_groups=False` to exclude the groupings or explicitly select the grouping columns after groupby to silence this warning.\n",
      "  result_df = df.groupby(['doc_id', 'chunk_id']).apply(combine_and_unique).reset_index(drop=True)\n"
     ]
    },
    {
     "name": "stdout",
     "output_type": "stream",
     "text": [
      "batch_425775.jsonl Saved to ../../../../datasets/blogger/batch_4o/doc_425775.jsonl\n",
      "batch_425775.jsonl Removed from ../../../../datasets/blogger/batch_complete/\n",
      "batch_49343.jsonl Loaded\n",
      "batch_49343.jsonl Processed\n",
      "batch_49343.jsonl List Split\n"
     ]
    },
    {
     "name": "stderr",
     "output_type": "stream",
     "text": [
      "/var/folders/xx/hy496x3x5sn4hy9gy1fk19lw0000gp/T/ipykernel_59736/2181975156.py:18: DeprecationWarning: DataFrameGroupBy.apply operated on the grouping columns. This behavior is deprecated, and in a future version of pandas the grouping columns will be excluded from the operation. Either pass `include_groups=False` to exclude the groupings or explicitly select the grouping columns after groupby to silence this warning.\n",
      "  result_df = df.groupby(['doc_id', 'chunk_id']).apply(combine_and_unique).reset_index(drop=True)\n"
     ]
    },
    {
     "name": "stdout",
     "output_type": "stream",
     "text": [
      "batch_49343.jsonl Saved to ../../../../datasets/blogger/batch_4o/doc_49343.jsonl\n",
      "batch_49343.jsonl Removed from ../../../../datasets/blogger/batch_complete/\n",
      "batch_490831.jsonl Loaded\n",
      "batch_490831.jsonl Processed\n",
      "batch_490831.jsonl List Split\n"
     ]
    },
    {
     "name": "stderr",
     "output_type": "stream",
     "text": [
      "/var/folders/xx/hy496x3x5sn4hy9gy1fk19lw0000gp/T/ipykernel_59736/2181975156.py:18: DeprecationWarning: DataFrameGroupBy.apply operated on the grouping columns. This behavior is deprecated, and in a future version of pandas the grouping columns will be excluded from the operation. Either pass `include_groups=False` to exclude the groupings or explicitly select the grouping columns after groupby to silence this warning.\n",
      "  result_df = df.groupby(['doc_id', 'chunk_id']).apply(combine_and_unique).reset_index(drop=True)\n"
     ]
    },
    {
     "name": "stdout",
     "output_type": "stream",
     "text": [
      "batch_490831.jsonl Saved to ../../../../datasets/blogger/batch_4o/doc_490831.jsonl\n",
      "batch_490831.jsonl Removed from ../../../../datasets/blogger/batch_complete/\n",
      "batch_183047.jsonl Loaded\n",
      "batch_183047.jsonl Processed\n",
      "batch_183047.jsonl List Split\n"
     ]
    },
    {
     "name": "stderr",
     "output_type": "stream",
     "text": [
      "/var/folders/xx/hy496x3x5sn4hy9gy1fk19lw0000gp/T/ipykernel_59736/2181975156.py:18: DeprecationWarning: DataFrameGroupBy.apply operated on the grouping columns. This behavior is deprecated, and in a future version of pandas the grouping columns will be excluded from the operation. Either pass `include_groups=False` to exclude the groupings or explicitly select the grouping columns after groupby to silence this warning.\n",
      "  result_df = df.groupby(['doc_id', 'chunk_id']).apply(combine_and_unique).reset_index(drop=True)\n"
     ]
    },
    {
     "name": "stdout",
     "output_type": "stream",
     "text": [
      "batch_183047.jsonl Saved to ../../../../datasets/blogger/batch_4o/doc_183047.jsonl\n",
      "batch_183047.jsonl Removed from ../../../../datasets/blogger/batch_complete/\n",
      "batch_669029.jsonl Loaded\n",
      "batch_669029.jsonl Processed\n",
      "batch_669029.jsonl List Split\n"
     ]
    },
    {
     "name": "stderr",
     "output_type": "stream",
     "text": [
      "/var/folders/xx/hy496x3x5sn4hy9gy1fk19lw0000gp/T/ipykernel_59736/2181975156.py:18: DeprecationWarning: DataFrameGroupBy.apply operated on the grouping columns. This behavior is deprecated, and in a future version of pandas the grouping columns will be excluded from the operation. Either pass `include_groups=False` to exclude the groupings or explicitly select the grouping columns after groupby to silence this warning.\n",
      "  result_df = df.groupby(['doc_id', 'chunk_id']).apply(combine_and_unique).reset_index(drop=True)\n"
     ]
    },
    {
     "name": "stdout",
     "output_type": "stream",
     "text": [
      "batch_669029.jsonl Saved to ../../../../datasets/blogger/batch_4o/doc_669029.jsonl\n",
      "batch_669029.jsonl Removed from ../../../../datasets/blogger/batch_complete/\n",
      "batch_270402.jsonl Loaded\n",
      "batch_270402.jsonl Processed\n",
      "batch_270402.jsonl List Split\n"
     ]
    },
    {
     "name": "stderr",
     "output_type": "stream",
     "text": [
      "/var/folders/xx/hy496x3x5sn4hy9gy1fk19lw0000gp/T/ipykernel_59736/2181975156.py:18: DeprecationWarning: DataFrameGroupBy.apply operated on the grouping columns. This behavior is deprecated, and in a future version of pandas the grouping columns will be excluded from the operation. Either pass `include_groups=False` to exclude the groupings or explicitly select the grouping columns after groupby to silence this warning.\n",
      "  result_df = df.groupby(['doc_id', 'chunk_id']).apply(combine_and_unique).reset_index(drop=True)\n"
     ]
    },
    {
     "name": "stdout",
     "output_type": "stream",
     "text": [
      "batch_270402.jsonl Saved to ../../../../datasets/blogger/batch_4o/doc_270402.jsonl\n",
      "batch_270402.jsonl Removed from ../../../../datasets/blogger/batch_complete/\n",
      "batch_148224.jsonl Loaded\n",
      "batch_148224.jsonl Processed\n",
      "batch_148224.jsonl List Split\n"
     ]
    },
    {
     "name": "stderr",
     "output_type": "stream",
     "text": [
      "/var/folders/xx/hy496x3x5sn4hy9gy1fk19lw0000gp/T/ipykernel_59736/2181975156.py:18: DeprecationWarning: DataFrameGroupBy.apply operated on the grouping columns. This behavior is deprecated, and in a future version of pandas the grouping columns will be excluded from the operation. Either pass `include_groups=False` to exclude the groupings or explicitly select the grouping columns after groupby to silence this warning.\n",
      "  result_df = df.groupby(['doc_id', 'chunk_id']).apply(combine_and_unique).reset_index(drop=True)\n"
     ]
    },
    {
     "name": "stdout",
     "output_type": "stream",
     "text": [
      "batch_148224.jsonl Saved to ../../../../datasets/blogger/batch_4o/doc_148224.jsonl\n",
      "batch_148224.jsonl Removed from ../../../../datasets/blogger/batch_complete/\n",
      "batch_488822.jsonl Loaded\n",
      "batch_488822.jsonl Processed\n",
      "batch_488822.jsonl List Split\n"
     ]
    },
    {
     "name": "stderr",
     "output_type": "stream",
     "text": [
      "/var/folders/xx/hy496x3x5sn4hy9gy1fk19lw0000gp/T/ipykernel_59736/2181975156.py:18: DeprecationWarning: DataFrameGroupBy.apply operated on the grouping columns. This behavior is deprecated, and in a future version of pandas the grouping columns will be excluded from the operation. Either pass `include_groups=False` to exclude the groupings or explicitly select the grouping columns after groupby to silence this warning.\n",
      "  result_df = df.groupby(['doc_id', 'chunk_id']).apply(combine_and_unique).reset_index(drop=True)\n"
     ]
    },
    {
     "name": "stdout",
     "output_type": "stream",
     "text": [
      "batch_488822.jsonl Saved to ../../../../datasets/blogger/batch_4o/doc_488822.jsonl\n",
      "batch_488822.jsonl Removed from ../../../../datasets/blogger/batch_complete/\n",
      "batch_398279.jsonl Loaded\n",
      "batch_398279.jsonl Processed\n",
      "batch_398279.jsonl List Split\n"
     ]
    },
    {
     "name": "stderr",
     "output_type": "stream",
     "text": [
      "/var/folders/xx/hy496x3x5sn4hy9gy1fk19lw0000gp/T/ipykernel_59736/2181975156.py:18: DeprecationWarning: DataFrameGroupBy.apply operated on the grouping columns. This behavior is deprecated, and in a future version of pandas the grouping columns will be excluded from the operation. Either pass `include_groups=False` to exclude the groupings or explicitly select the grouping columns after groupby to silence this warning.\n",
      "  result_df = df.groupby(['doc_id', 'chunk_id']).apply(combine_and_unique).reset_index(drop=True)\n"
     ]
    },
    {
     "name": "stdout",
     "output_type": "stream",
     "text": [
      "batch_398279.jsonl Saved to ../../../../datasets/blogger/batch_4o/doc_398279.jsonl\n",
      "batch_398279.jsonl Removed from ../../../../datasets/blogger/batch_complete/\n",
      "batch_178480.jsonl Loaded\n",
      "batch_178480.jsonl Processed\n",
      "batch_178480.jsonl List Split\n"
     ]
    },
    {
     "name": "stderr",
     "output_type": "stream",
     "text": [
      "/var/folders/xx/hy496x3x5sn4hy9gy1fk19lw0000gp/T/ipykernel_59736/2181975156.py:18: DeprecationWarning: DataFrameGroupBy.apply operated on the grouping columns. This behavior is deprecated, and in a future version of pandas the grouping columns will be excluded from the operation. Either pass `include_groups=False` to exclude the groupings or explicitly select the grouping columns after groupby to silence this warning.\n",
      "  result_df = df.groupby(['doc_id', 'chunk_id']).apply(combine_and_unique).reset_index(drop=True)\n"
     ]
    },
    {
     "name": "stdout",
     "output_type": "stream",
     "text": [
      "batch_178480.jsonl Saved to ../../../../datasets/blogger/batch_4o/doc_178480.jsonl\n",
      "batch_178480.jsonl Removed from ../../../../datasets/blogger/batch_complete/\n",
      "batch_279772.jsonl Loaded\n",
      "batch_279772.jsonl Processed\n",
      "batch_279772.jsonl List Split\n"
     ]
    },
    {
     "name": "stderr",
     "output_type": "stream",
     "text": [
      "/var/folders/xx/hy496x3x5sn4hy9gy1fk19lw0000gp/T/ipykernel_59736/2181975156.py:18: DeprecationWarning: DataFrameGroupBy.apply operated on the grouping columns. This behavior is deprecated, and in a future version of pandas the grouping columns will be excluded from the operation. Either pass `include_groups=False` to exclude the groupings or explicitly select the grouping columns after groupby to silence this warning.\n",
      "  result_df = df.groupby(['doc_id', 'chunk_id']).apply(combine_and_unique).reset_index(drop=True)\n"
     ]
    },
    {
     "name": "stdout",
     "output_type": "stream",
     "text": [
      "batch_279772.jsonl Saved to ../../../../datasets/blogger/batch_4o/doc_279772.jsonl\n",
      "batch_279772.jsonl Removed from ../../../../datasets/blogger/batch_complete/\n",
      "batch_509577.jsonl Loaded\n",
      "batch_509577.jsonl Processed\n",
      "batch_509577.jsonl List Split\n"
     ]
    },
    {
     "name": "stderr",
     "output_type": "stream",
     "text": [
      "/var/folders/xx/hy496x3x5sn4hy9gy1fk19lw0000gp/T/ipykernel_59736/2181975156.py:18: DeprecationWarning: DataFrameGroupBy.apply operated on the grouping columns. This behavior is deprecated, and in a future version of pandas the grouping columns will be excluded from the operation. Either pass `include_groups=False` to exclude the groupings or explicitly select the grouping columns after groupby to silence this warning.\n",
      "  result_df = df.groupby(['doc_id', 'chunk_id']).apply(combine_and_unique).reset_index(drop=True)\n"
     ]
    },
    {
     "name": "stdout",
     "output_type": "stream",
     "text": [
      "batch_509577.jsonl Saved to ../../../../datasets/blogger/batch_4o/doc_509577.jsonl\n",
      "batch_509577.jsonl Removed from ../../../../datasets/blogger/batch_complete/\n",
      "batch_325534.jsonl Loaded\n",
      "batch_325534.jsonl Processed\n",
      "batch_325534.jsonl List Split\n",
      "batch_325534.jsonl Saved to ../../../../datasets/blogger/batch_4o/doc_325534.jsonl\n",
      "batch_325534.jsonl Removed from ../../../../datasets/blogger/batch_complete/\n",
      "batch_116471.jsonl Loaded\n",
      "batch_116471.jsonl Processed\n"
     ]
    },
    {
     "name": "stderr",
     "output_type": "stream",
     "text": [
      "/var/folders/xx/hy496x3x5sn4hy9gy1fk19lw0000gp/T/ipykernel_59736/2181975156.py:18: DeprecationWarning: DataFrameGroupBy.apply operated on the grouping columns. This behavior is deprecated, and in a future version of pandas the grouping columns will be excluded from the operation. Either pass `include_groups=False` to exclude the groupings or explicitly select the grouping columns after groupby to silence this warning.\n",
      "  result_df = df.groupby(['doc_id', 'chunk_id']).apply(combine_and_unique).reset_index(drop=True)\n",
      "/var/folders/xx/hy496x3x5sn4hy9gy1fk19lw0000gp/T/ipykernel_59736/2181975156.py:18: DeprecationWarning: DataFrameGroupBy.apply operated on the grouping columns. This behavior is deprecated, and in a future version of pandas the grouping columns will be excluded from the operation. Either pass `include_groups=False` to exclude the groupings or explicitly select the grouping columns after groupby to silence this warning.\n",
      "  result_df = df.groupby(['doc_id', 'chunk_id']).apply(combine_and_unique).reset_index(drop=True)\n"
     ]
    },
    {
     "name": "stdout",
     "output_type": "stream",
     "text": [
      "batch_116471.jsonl List Split\n",
      "batch_116471.jsonl Saved to ../../../../datasets/blogger/batch_4o/doc_116471.jsonl\n",
      "batch_116471.jsonl Removed from ../../../../datasets/blogger/batch_complete/\n",
      "batch_274492.jsonl Loaded\n",
      "batch_274492.jsonl Processed\n",
      "batch_274492.jsonl List Split\n"
     ]
    },
    {
     "name": "stderr",
     "output_type": "stream",
     "text": [
      "/var/folders/xx/hy496x3x5sn4hy9gy1fk19lw0000gp/T/ipykernel_59736/2181975156.py:18: DeprecationWarning: DataFrameGroupBy.apply operated on the grouping columns. This behavior is deprecated, and in a future version of pandas the grouping columns will be excluded from the operation. Either pass `include_groups=False` to exclude the groupings or explicitly select the grouping columns after groupby to silence this warning.\n",
      "  result_df = df.groupby(['doc_id', 'chunk_id']).apply(combine_and_unique).reset_index(drop=True)\n"
     ]
    },
    {
     "name": "stdout",
     "output_type": "stream",
     "text": [
      "batch_274492.jsonl Saved to ../../../../datasets/blogger/batch_4o/doc_274492.jsonl\n",
      "batch_274492.jsonl Removed from ../../../../datasets/blogger/batch_complete/\n",
      "batch_222624.jsonl Loaded\n",
      "batch_222624.jsonl Processed\n",
      "batch_222624.jsonl List Split\n"
     ]
    },
    {
     "name": "stderr",
     "output_type": "stream",
     "text": [
      "/var/folders/xx/hy496x3x5sn4hy9gy1fk19lw0000gp/T/ipykernel_59736/2181975156.py:18: DeprecationWarning: DataFrameGroupBy.apply operated on the grouping columns. This behavior is deprecated, and in a future version of pandas the grouping columns will be excluded from the operation. Either pass `include_groups=False` to exclude the groupings or explicitly select the grouping columns after groupby to silence this warning.\n",
      "  result_df = df.groupby(['doc_id', 'chunk_id']).apply(combine_and_unique).reset_index(drop=True)\n"
     ]
    },
    {
     "name": "stdout",
     "output_type": "stream",
     "text": [
      "batch_222624.jsonl Saved to ../../../../datasets/blogger/batch_4o/doc_222624.jsonl\n",
      "batch_222624.jsonl Removed from ../../../../datasets/blogger/batch_complete/\n",
      "batch_155142.jsonl Loaded\n",
      "batch_155142.jsonl Processed\n",
      "batch_155142.jsonl List Split\n"
     ]
    },
    {
     "name": "stderr",
     "output_type": "stream",
     "text": [
      "/var/folders/xx/hy496x3x5sn4hy9gy1fk19lw0000gp/T/ipykernel_59736/2181975156.py:18: DeprecationWarning: DataFrameGroupBy.apply operated on the grouping columns. This behavior is deprecated, and in a future version of pandas the grouping columns will be excluded from the operation. Either pass `include_groups=False` to exclude the groupings or explicitly select the grouping columns after groupby to silence this warning.\n",
      "  result_df = df.groupby(['doc_id', 'chunk_id']).apply(combine_and_unique).reset_index(drop=True)\n"
     ]
    },
    {
     "name": "stdout",
     "output_type": "stream",
     "text": [
      "batch_155142.jsonl Saved to ../../../../datasets/blogger/batch_4o/doc_155142.jsonl\n",
      "batch_155142.jsonl Removed from ../../../../datasets/blogger/batch_complete/\n",
      "batch_512026.jsonl Loaded\n",
      "batch_512026.jsonl Processed\n",
      "batch_512026.jsonl List Split\n",
      "batch_512026.jsonl Saved to ../../../../datasets/blogger/batch_4o/doc_512026.jsonl\n",
      "batch_512026.jsonl Removed from ../../../../datasets/blogger/batch_complete/\n",
      "batch_174699.jsonl Loaded\n",
      "batch_174699.jsonl Processed\n",
      "batch_174699.jsonl List Split\n"
     ]
    },
    {
     "name": "stderr",
     "output_type": "stream",
     "text": [
      "/var/folders/xx/hy496x3x5sn4hy9gy1fk19lw0000gp/T/ipykernel_59736/2181975156.py:18: DeprecationWarning: DataFrameGroupBy.apply operated on the grouping columns. This behavior is deprecated, and in a future version of pandas the grouping columns will be excluded from the operation. Either pass `include_groups=False` to exclude the groupings or explicitly select the grouping columns after groupby to silence this warning.\n",
      "  result_df = df.groupby(['doc_id', 'chunk_id']).apply(combine_and_unique).reset_index(drop=True)\n",
      "/var/folders/xx/hy496x3x5sn4hy9gy1fk19lw0000gp/T/ipykernel_59736/2181975156.py:18: DeprecationWarning: DataFrameGroupBy.apply operated on the grouping columns. This behavior is deprecated, and in a future version of pandas the grouping columns will be excluded from the operation. Either pass `include_groups=False` to exclude the groupings or explicitly select the grouping columns after groupby to silence this warning.\n",
      "  result_df = df.groupby(['doc_id', 'chunk_id']).apply(combine_and_unique).reset_index(drop=True)\n"
     ]
    },
    {
     "name": "stdout",
     "output_type": "stream",
     "text": [
      "batch_174699.jsonl Saved to ../../../../datasets/blogger/batch_4o/doc_174699.jsonl\n",
      "batch_174699.jsonl Removed from ../../../../datasets/blogger/batch_complete/\n",
      "batch_114599.jsonl Loaded\n",
      "batch_114599.jsonl Processed\n",
      "batch_114599.jsonl List Split\n"
     ]
    },
    {
     "name": "stderr",
     "output_type": "stream",
     "text": [
      "/var/folders/xx/hy496x3x5sn4hy9gy1fk19lw0000gp/T/ipykernel_59736/2181975156.py:18: DeprecationWarning: DataFrameGroupBy.apply operated on the grouping columns. This behavior is deprecated, and in a future version of pandas the grouping columns will be excluded from the operation. Either pass `include_groups=False` to exclude the groupings or explicitly select the grouping columns after groupby to silence this warning.\n",
      "  result_df = df.groupby(['doc_id', 'chunk_id']).apply(combine_and_unique).reset_index(drop=True)\n"
     ]
    },
    {
     "name": "stdout",
     "output_type": "stream",
     "text": [
      "batch_114599.jsonl Saved to ../../../../datasets/blogger/batch_4o/doc_114599.jsonl\n",
      "batch_114599.jsonl Removed from ../../../../datasets/blogger/batch_complete/\n",
      "batch_122748.jsonl Loaded\n",
      "batch_122748.jsonl Processed\n",
      "batch_122748.jsonl List Split\n",
      "batch_122748.jsonl Saved to ../../../../datasets/blogger/batch_4o/doc_122748.jsonl\n",
      "batch_122748.jsonl Removed from ../../../../datasets/blogger/batch_complete/\n",
      "batch_198223.jsonl Loaded\n"
     ]
    },
    {
     "name": "stderr",
     "output_type": "stream",
     "text": [
      "/var/folders/xx/hy496x3x5sn4hy9gy1fk19lw0000gp/T/ipykernel_59736/2181975156.py:18: DeprecationWarning: DataFrameGroupBy.apply operated on the grouping columns. This behavior is deprecated, and in a future version of pandas the grouping columns will be excluded from the operation. Either pass `include_groups=False` to exclude the groupings or explicitly select the grouping columns after groupby to silence this warning.\n",
      "  result_df = df.groupby(['doc_id', 'chunk_id']).apply(combine_and_unique).reset_index(drop=True)\n",
      "/var/folders/xx/hy496x3x5sn4hy9gy1fk19lw0000gp/T/ipykernel_59736/2181975156.py:18: DeprecationWarning: DataFrameGroupBy.apply operated on the grouping columns. This behavior is deprecated, and in a future version of pandas the grouping columns will be excluded from the operation. Either pass `include_groups=False` to exclude the groupings or explicitly select the grouping columns after groupby to silence this warning.\n",
      "  result_df = df.groupby(['doc_id', 'chunk_id']).apply(combine_and_unique).reset_index(drop=True)\n"
     ]
    },
    {
     "name": "stdout",
     "output_type": "stream",
     "text": [
      "batch_198223.jsonl Processed\n",
      "batch_198223.jsonl List Split\n",
      "batch_198223.jsonl Saved to ../../../../datasets/blogger/batch_4o/doc_198223.jsonl\n",
      "batch_198223.jsonl Removed from ../../../../datasets/blogger/batch_complete/\n",
      "batch_517663.jsonl Loaded\n",
      "batch_517663.jsonl Processed\n",
      "batch_517663.jsonl List Split\n"
     ]
    },
    {
     "name": "stderr",
     "output_type": "stream",
     "text": [
      "/var/folders/xx/hy496x3x5sn4hy9gy1fk19lw0000gp/T/ipykernel_59736/2181975156.py:18: DeprecationWarning: DataFrameGroupBy.apply operated on the grouping columns. This behavior is deprecated, and in a future version of pandas the grouping columns will be excluded from the operation. Either pass `include_groups=False` to exclude the groupings or explicitly select the grouping columns after groupby to silence this warning.\n",
      "  result_df = df.groupby(['doc_id', 'chunk_id']).apply(combine_and_unique).reset_index(drop=True)\n"
     ]
    },
    {
     "name": "stdout",
     "output_type": "stream",
     "text": [
      "batch_517663.jsonl Saved to ../../../../datasets/blogger/batch_4o/doc_517663.jsonl\n",
      "batch_517663.jsonl Removed from ../../../../datasets/blogger/batch_complete/\n",
      "batch_386133.jsonl Loaded\n",
      "batch_386133.jsonl Processed\n",
      "batch_386133.jsonl List Split\n",
      "batch_386133.jsonl Saved to ../../../../datasets/blogger/batch_4o/doc_386133.jsonl\n",
      "batch_386133.jsonl Removed from ../../../../datasets/blogger/batch_complete/\n",
      "batch_546588.jsonl Loaded\n",
      "batch_546588.jsonl Processed\n"
     ]
    },
    {
     "name": "stderr",
     "output_type": "stream",
     "text": [
      "/var/folders/xx/hy496x3x5sn4hy9gy1fk19lw0000gp/T/ipykernel_59736/2181975156.py:18: DeprecationWarning: DataFrameGroupBy.apply operated on the grouping columns. This behavior is deprecated, and in a future version of pandas the grouping columns will be excluded from the operation. Either pass `include_groups=False` to exclude the groupings or explicitly select the grouping columns after groupby to silence this warning.\n",
      "  result_df = df.groupby(['doc_id', 'chunk_id']).apply(combine_and_unique).reset_index(drop=True)\n",
      "/var/folders/xx/hy496x3x5sn4hy9gy1fk19lw0000gp/T/ipykernel_59736/2181975156.py:18: DeprecationWarning: DataFrameGroupBy.apply operated on the grouping columns. This behavior is deprecated, and in a future version of pandas the grouping columns will be excluded from the operation. Either pass `include_groups=False` to exclude the groupings or explicitly select the grouping columns after groupby to silence this warning.\n",
      "  result_df = df.groupby(['doc_id', 'chunk_id']).apply(combine_and_unique).reset_index(drop=True)\n"
     ]
    },
    {
     "name": "stdout",
     "output_type": "stream",
     "text": [
      "batch_546588.jsonl List Split\n",
      "batch_546588.jsonl Saved to ../../../../datasets/blogger/batch_4o/doc_546588.jsonl\n",
      "batch_546588.jsonl Removed from ../../../../datasets/blogger/batch_complete/\n",
      "batch_676573.jsonl Loaded\n",
      "batch_676573.jsonl Processed\n",
      "batch_676573.jsonl List Split\n"
     ]
    },
    {
     "name": "stderr",
     "output_type": "stream",
     "text": [
      "/var/folders/xx/hy496x3x5sn4hy9gy1fk19lw0000gp/T/ipykernel_59736/2181975156.py:18: DeprecationWarning: DataFrameGroupBy.apply operated on the grouping columns. This behavior is deprecated, and in a future version of pandas the grouping columns will be excluded from the operation. Either pass `include_groups=False` to exclude the groupings or explicitly select the grouping columns after groupby to silence this warning.\n",
      "  result_df = df.groupby(['doc_id', 'chunk_id']).apply(combine_and_unique).reset_index(drop=True)\n",
      "/var/folders/xx/hy496x3x5sn4hy9gy1fk19lw0000gp/T/ipykernel_59736/2181975156.py:18: DeprecationWarning: DataFrameGroupBy.apply operated on the grouping columns. This behavior is deprecated, and in a future version of pandas the grouping columns will be excluded from the operation. Either pass `include_groups=False` to exclude the groupings or explicitly select the grouping columns after groupby to silence this warning.\n",
      "  result_df = df.groupby(['doc_id', 'chunk_id']).apply(combine_and_unique).reset_index(drop=True)\n"
     ]
    },
    {
     "name": "stdout",
     "output_type": "stream",
     "text": [
      "batch_676573.jsonl Saved to ../../../../datasets/blogger/batch_4o/doc_676573.jsonl\n",
      "batch_676573.jsonl Removed from ../../../../datasets/blogger/batch_complete/\n",
      "batch_306449.jsonl Loaded\n",
      "batch_306449.jsonl Processed\n",
      "batch_306449.jsonl List Split\n",
      "batch_306449.jsonl Saved to ../../../../datasets/blogger/batch_4o/doc_306449.jsonl\n",
      "batch_306449.jsonl Removed from ../../../../datasets/blogger/batch_complete/\n",
      "batch_607120.jsonl Loaded\n",
      "batch_607120.jsonl Processed\n",
      "batch_607120.jsonl List Split\n"
     ]
    },
    {
     "name": "stderr",
     "output_type": "stream",
     "text": [
      "/var/folders/xx/hy496x3x5sn4hy9gy1fk19lw0000gp/T/ipykernel_59736/2181975156.py:18: DeprecationWarning: DataFrameGroupBy.apply operated on the grouping columns. This behavior is deprecated, and in a future version of pandas the grouping columns will be excluded from the operation. Either pass `include_groups=False` to exclude the groupings or explicitly select the grouping columns after groupby to silence this warning.\n",
      "  result_df = df.groupby(['doc_id', 'chunk_id']).apply(combine_and_unique).reset_index(drop=True)\n"
     ]
    },
    {
     "name": "stdout",
     "output_type": "stream",
     "text": [
      "batch_607120.jsonl Saved to ../../../../datasets/blogger/batch_4o/doc_607120.jsonl\n",
      "batch_607120.jsonl Removed from ../../../../datasets/blogger/batch_complete/\n",
      "batch_272513.jsonl Loaded\n",
      "batch_272513.jsonl Processed\n",
      "batch_272513.jsonl List Split\n",
      "batch_272513.jsonl Saved to ../../../../datasets/blogger/batch_4o/doc_272513.jsonl\n",
      "batch_272513.jsonl Removed from ../../../../datasets/blogger/batch_complete/\n"
     ]
    },
    {
     "name": "stderr",
     "output_type": "stream",
     "text": [
      "/var/folders/xx/hy496x3x5sn4hy9gy1fk19lw0000gp/T/ipykernel_59736/2181975156.py:18: DeprecationWarning: DataFrameGroupBy.apply operated on the grouping columns. This behavior is deprecated, and in a future version of pandas the grouping columns will be excluded from the operation. Either pass `include_groups=False` to exclude the groupings or explicitly select the grouping columns after groupby to silence this warning.\n",
      "  result_df = df.groupby(['doc_id', 'chunk_id']).apply(combine_and_unique).reset_index(drop=True)\n"
     ]
    },
    {
     "name": "stdout",
     "output_type": "stream",
     "text": [
      "batch_496050.jsonl Loaded\n",
      "batch_496050.jsonl Processed\n",
      "batch_496050.jsonl List Split\n"
     ]
    },
    {
     "name": "stderr",
     "output_type": "stream",
     "text": [
      "/var/folders/xx/hy496x3x5sn4hy9gy1fk19lw0000gp/T/ipykernel_59736/2181975156.py:18: DeprecationWarning: DataFrameGroupBy.apply operated on the grouping columns. This behavior is deprecated, and in a future version of pandas the grouping columns will be excluded from the operation. Either pass `include_groups=False` to exclude the groupings or explicitly select the grouping columns after groupby to silence this warning.\n",
      "  result_df = df.groupby(['doc_id', 'chunk_id']).apply(combine_and_unique).reset_index(drop=True)\n"
     ]
    },
    {
     "name": "stdout",
     "output_type": "stream",
     "text": [
      "batch_496050.jsonl Saved to ../../../../datasets/blogger/batch_4o/doc_496050.jsonl\n",
      "batch_496050.jsonl Removed from ../../../../datasets/blogger/batch_complete/\n",
      "batch_82243.jsonl Loaded\n",
      "batch_82243.jsonl Processed\n",
      "batch_82243.jsonl List Split\n"
     ]
    },
    {
     "name": "stderr",
     "output_type": "stream",
     "text": [
      "/var/folders/xx/hy496x3x5sn4hy9gy1fk19lw0000gp/T/ipykernel_59736/2181975156.py:18: DeprecationWarning: DataFrameGroupBy.apply operated on the grouping columns. This behavior is deprecated, and in a future version of pandas the grouping columns will be excluded from the operation. Either pass `include_groups=False` to exclude the groupings or explicitly select the grouping columns after groupby to silence this warning.\n",
      "  result_df = df.groupby(['doc_id', 'chunk_id']).apply(combine_and_unique).reset_index(drop=True)\n"
     ]
    },
    {
     "name": "stdout",
     "output_type": "stream",
     "text": [
      "batch_82243.jsonl Saved to ../../../../datasets/blogger/batch_4o/doc_82243.jsonl\n",
      "batch_82243.jsonl Removed from ../../../../datasets/blogger/batch_complete/\n",
      "batch_183886.jsonl Loaded\n",
      "batch_183886.jsonl Processed\n",
      "batch_183886.jsonl List Split\n"
     ]
    },
    {
     "name": "stderr",
     "output_type": "stream",
     "text": [
      "/var/folders/xx/hy496x3x5sn4hy9gy1fk19lw0000gp/T/ipykernel_59736/2181975156.py:18: DeprecationWarning: DataFrameGroupBy.apply operated on the grouping columns. This behavior is deprecated, and in a future version of pandas the grouping columns will be excluded from the operation. Either pass `include_groups=False` to exclude the groupings or explicitly select the grouping columns after groupby to silence this warning.\n",
      "  result_df = df.groupby(['doc_id', 'chunk_id']).apply(combine_and_unique).reset_index(drop=True)\n"
     ]
    },
    {
     "name": "stdout",
     "output_type": "stream",
     "text": [
      "batch_183886.jsonl Saved to ../../../../datasets/blogger/batch_4o/doc_183886.jsonl\n",
      "batch_183886.jsonl Removed from ../../../../datasets/blogger/batch_complete/\n",
      "batch_363388.jsonl Loaded\n",
      "batch_363388.jsonl Processed\n",
      "batch_363388.jsonl List Split\n"
     ]
    },
    {
     "name": "stderr",
     "output_type": "stream",
     "text": [
      "/var/folders/xx/hy496x3x5sn4hy9gy1fk19lw0000gp/T/ipykernel_59736/2181975156.py:18: DeprecationWarning: DataFrameGroupBy.apply operated on the grouping columns. This behavior is deprecated, and in a future version of pandas the grouping columns will be excluded from the operation. Either pass `include_groups=False` to exclude the groupings or explicitly select the grouping columns after groupby to silence this warning.\n",
      "  result_df = df.groupby(['doc_id', 'chunk_id']).apply(combine_and_unique).reset_index(drop=True)\n"
     ]
    },
    {
     "name": "stdout",
     "output_type": "stream",
     "text": [
      "batch_363388.jsonl Saved to ../../../../datasets/blogger/batch_4o/doc_363388.jsonl\n",
      "batch_363388.jsonl Removed from ../../../../datasets/blogger/batch_complete/\n",
      "batch_219981.jsonl Loaded\n",
      "batch_219981.jsonl Processed\n",
      "batch_219981.jsonl List Split\n"
     ]
    },
    {
     "name": "stderr",
     "output_type": "stream",
     "text": [
      "/var/folders/xx/hy496x3x5sn4hy9gy1fk19lw0000gp/T/ipykernel_59736/2181975156.py:18: DeprecationWarning: DataFrameGroupBy.apply operated on the grouping columns. This behavior is deprecated, and in a future version of pandas the grouping columns will be excluded from the operation. Either pass `include_groups=False` to exclude the groupings or explicitly select the grouping columns after groupby to silence this warning.\n",
      "  result_df = df.groupby(['doc_id', 'chunk_id']).apply(combine_and_unique).reset_index(drop=True)\n"
     ]
    },
    {
     "name": "stdout",
     "output_type": "stream",
     "text": [
      "batch_219981.jsonl Saved to ../../../../datasets/blogger/batch_4o/doc_219981.jsonl\n",
      "batch_219981.jsonl Removed from ../../../../datasets/blogger/batch_complete/\n",
      "batch_394143.jsonl Loaded\n",
      "batch_394143.jsonl Processed\n",
      "batch_394143.jsonl List Split\n",
      "batch_394143.jsonl Saved to ../../../../datasets/blogger/batch_4o/doc_394143.jsonl\n",
      "batch_394143.jsonl Removed from ../../../../datasets/blogger/batch_complete/\n"
     ]
    },
    {
     "name": "stderr",
     "output_type": "stream",
     "text": [
      "/var/folders/xx/hy496x3x5sn4hy9gy1fk19lw0000gp/T/ipykernel_59736/2181975156.py:18: DeprecationWarning: DataFrameGroupBy.apply operated on the grouping columns. This behavior is deprecated, and in a future version of pandas the grouping columns will be excluded from the operation. Either pass `include_groups=False` to exclude the groupings or explicitly select the grouping columns after groupby to silence this warning.\n",
      "  result_df = df.groupby(['doc_id', 'chunk_id']).apply(combine_and_unique).reset_index(drop=True)\n"
     ]
    },
    {
     "name": "stdout",
     "output_type": "stream",
     "text": [
      "batch_579184.jsonl Loaded\n",
      "batch_579184.jsonl Processed\n",
      "batch_579184.jsonl List Split\n"
     ]
    },
    {
     "name": "stderr",
     "output_type": "stream",
     "text": [
      "/var/folders/xx/hy496x3x5sn4hy9gy1fk19lw0000gp/T/ipykernel_59736/2181975156.py:18: DeprecationWarning: DataFrameGroupBy.apply operated on the grouping columns. This behavior is deprecated, and in a future version of pandas the grouping columns will be excluded from the operation. Either pass `include_groups=False` to exclude the groupings or explicitly select the grouping columns after groupby to silence this warning.\n",
      "  result_df = df.groupby(['doc_id', 'chunk_id']).apply(combine_and_unique).reset_index(drop=True)\n"
     ]
    },
    {
     "name": "stdout",
     "output_type": "stream",
     "text": [
      "batch_579184.jsonl Saved to ../../../../datasets/blogger/batch_4o/doc_579184.jsonl\n",
      "batch_579184.jsonl Removed from ../../../../datasets/blogger/batch_complete/\n",
      "batch_331546.jsonl Loaded\n",
      "batch_331546.jsonl Processed\n",
      "batch_331546.jsonl List Split\n",
      "batch_331546.jsonl Saved to ../../../../datasets/blogger/batch_4o/doc_331546.jsonl\n",
      "batch_331546.jsonl Removed from ../../../../datasets/blogger/batch_complete/\n",
      "batch_291125.jsonl Loaded\n",
      "batch_291125.jsonl Processed\n"
     ]
    },
    {
     "name": "stderr",
     "output_type": "stream",
     "text": [
      "/var/folders/xx/hy496x3x5sn4hy9gy1fk19lw0000gp/T/ipykernel_59736/2181975156.py:18: DeprecationWarning: DataFrameGroupBy.apply operated on the grouping columns. This behavior is deprecated, and in a future version of pandas the grouping columns will be excluded from the operation. Either pass `include_groups=False` to exclude the groupings or explicitly select the grouping columns after groupby to silence this warning.\n",
      "  result_df = df.groupby(['doc_id', 'chunk_id']).apply(combine_and_unique).reset_index(drop=True)\n",
      "/var/folders/xx/hy496x3x5sn4hy9gy1fk19lw0000gp/T/ipykernel_59736/2181975156.py:18: DeprecationWarning: DataFrameGroupBy.apply operated on the grouping columns. This behavior is deprecated, and in a future version of pandas the grouping columns will be excluded from the operation. Either pass `include_groups=False` to exclude the groupings or explicitly select the grouping columns after groupby to silence this warning.\n",
      "  result_df = df.groupby(['doc_id', 'chunk_id']).apply(combine_and_unique).reset_index(drop=True)\n"
     ]
    },
    {
     "name": "stdout",
     "output_type": "stream",
     "text": [
      "batch_291125.jsonl List Split\n",
      "batch_291125.jsonl Saved to ../../../../datasets/blogger/batch_4o/doc_291125.jsonl\n",
      "batch_291125.jsonl Removed from ../../../../datasets/blogger/batch_complete/\n",
      "batch_611550.jsonl Loaded\n",
      "batch_611550.jsonl Processed\n",
      "batch_611550.jsonl List Split\n"
     ]
    },
    {
     "name": "stderr",
     "output_type": "stream",
     "text": [
      "/var/folders/xx/hy496x3x5sn4hy9gy1fk19lw0000gp/T/ipykernel_59736/2181975156.py:18: DeprecationWarning: DataFrameGroupBy.apply operated on the grouping columns. This behavior is deprecated, and in a future version of pandas the grouping columns will be excluded from the operation. Either pass `include_groups=False` to exclude the groupings or explicitly select the grouping columns after groupby to silence this warning.\n",
      "  result_df = df.groupby(['doc_id', 'chunk_id']).apply(combine_and_unique).reset_index(drop=True)\n"
     ]
    },
    {
     "name": "stdout",
     "output_type": "stream",
     "text": [
      "batch_611550.jsonl Saved to ../../../../datasets/blogger/batch_4o/doc_611550.jsonl\n",
      "batch_611550.jsonl Removed from ../../../../datasets/blogger/batch_complete/\n",
      "batch_327604.jsonl Loaded\n",
      "batch_327604.jsonl Processed\n",
      "batch_327604.jsonl List Split\n"
     ]
    },
    {
     "name": "stderr",
     "output_type": "stream",
     "text": [
      "/var/folders/xx/hy496x3x5sn4hy9gy1fk19lw0000gp/T/ipykernel_59736/2181975156.py:18: DeprecationWarning: DataFrameGroupBy.apply operated on the grouping columns. This behavior is deprecated, and in a future version of pandas the grouping columns will be excluded from the operation. Either pass `include_groups=False` to exclude the groupings or explicitly select the grouping columns after groupby to silence this warning.\n",
      "  result_df = df.groupby(['doc_id', 'chunk_id']).apply(combine_and_unique).reset_index(drop=True)\n"
     ]
    },
    {
     "name": "stdout",
     "output_type": "stream",
     "text": [
      "batch_327604.jsonl Saved to ../../../../datasets/blogger/batch_4o/doc_327604.jsonl\n",
      "batch_327604.jsonl Removed from ../../../../datasets/blogger/batch_complete/\n",
      "batch_552933.jsonl Loaded\n",
      "batch_552933.jsonl Processed\n",
      "batch_552933.jsonl List Split\n"
     ]
    },
    {
     "name": "stderr",
     "output_type": "stream",
     "text": [
      "/var/folders/xx/hy496x3x5sn4hy9gy1fk19lw0000gp/T/ipykernel_59736/2181975156.py:18: DeprecationWarning: DataFrameGroupBy.apply operated on the grouping columns. This behavior is deprecated, and in a future version of pandas the grouping columns will be excluded from the operation. Either pass `include_groups=False` to exclude the groupings or explicitly select the grouping columns after groupby to silence this warning.\n",
      "  result_df = df.groupby(['doc_id', 'chunk_id']).apply(combine_and_unique).reset_index(drop=True)\n"
     ]
    },
    {
     "name": "stdout",
     "output_type": "stream",
     "text": [
      "batch_552933.jsonl Saved to ../../../../datasets/blogger/batch_4o/doc_552933.jsonl\n",
      "batch_552933.jsonl Removed from ../../../../datasets/blogger/batch_complete/\n",
      "batch_585356.jsonl Loaded\n",
      "batch_585356.jsonl Processed\n",
      "batch_585356.jsonl List Split\n"
     ]
    },
    {
     "name": "stderr",
     "output_type": "stream",
     "text": [
      "/var/folders/xx/hy496x3x5sn4hy9gy1fk19lw0000gp/T/ipykernel_59736/2181975156.py:18: DeprecationWarning: DataFrameGroupBy.apply operated on the grouping columns. This behavior is deprecated, and in a future version of pandas the grouping columns will be excluded from the operation. Either pass `include_groups=False` to exclude the groupings or explicitly select the grouping columns after groupby to silence this warning.\n",
      "  result_df = df.groupby(['doc_id', 'chunk_id']).apply(combine_and_unique).reset_index(drop=True)\n"
     ]
    },
    {
     "name": "stdout",
     "output_type": "stream",
     "text": [
      "batch_585356.jsonl Saved to ../../../../datasets/blogger/batch_4o/doc_585356.jsonl\n",
      "batch_585356.jsonl Removed from ../../../../datasets/blogger/batch_complete/\n",
      "batch_551652.jsonl Loaded\n",
      "batch_551652.jsonl Processed\n",
      "batch_551652.jsonl List Split\n"
     ]
    },
    {
     "name": "stderr",
     "output_type": "stream",
     "text": [
      "/var/folders/xx/hy496x3x5sn4hy9gy1fk19lw0000gp/T/ipykernel_59736/2181975156.py:18: DeprecationWarning: DataFrameGroupBy.apply operated on the grouping columns. This behavior is deprecated, and in a future version of pandas the grouping columns will be excluded from the operation. Either pass `include_groups=False` to exclude the groupings or explicitly select the grouping columns after groupby to silence this warning.\n",
      "  result_df = df.groupby(['doc_id', 'chunk_id']).apply(combine_and_unique).reset_index(drop=True)\n"
     ]
    },
    {
     "name": "stdout",
     "output_type": "stream",
     "text": [
      "batch_551652.jsonl Saved to ../../../../datasets/blogger/batch_4o/doc_551652.jsonl\n",
      "batch_551652.jsonl Removed from ../../../../datasets/blogger/batch_complete/\n",
      "batch_491687.jsonl Loaded\n",
      "batch_491687.jsonl Processed\n",
      "batch_491687.jsonl List Split\n"
     ]
    },
    {
     "name": "stderr",
     "output_type": "stream",
     "text": [
      "/var/folders/xx/hy496x3x5sn4hy9gy1fk19lw0000gp/T/ipykernel_59736/2181975156.py:18: DeprecationWarning: DataFrameGroupBy.apply operated on the grouping columns. This behavior is deprecated, and in a future version of pandas the grouping columns will be excluded from the operation. Either pass `include_groups=False` to exclude the groupings or explicitly select the grouping columns after groupby to silence this warning.\n",
      "  result_df = df.groupby(['doc_id', 'chunk_id']).apply(combine_and_unique).reset_index(drop=True)\n"
     ]
    },
    {
     "name": "stdout",
     "output_type": "stream",
     "text": [
      "batch_491687.jsonl Saved to ../../../../datasets/blogger/batch_4o/doc_491687.jsonl\n",
      "batch_491687.jsonl Removed from ../../../../datasets/blogger/batch_complete/\n",
      "batch_463289.jsonl Loaded\n",
      "batch_463289.jsonl Processed\n",
      "batch_463289.jsonl List Split\n",
      "batch_463289.jsonl Saved to ../../../../datasets/blogger/batch_4o/doc_463289.jsonl\n",
      "batch_463289.jsonl Removed from ../../../../datasets/blogger/batch_complete/\n",
      "batch_171105.jsonl Loaded\n",
      "batch_171105.jsonl Processed\n",
      "batch_171105.jsonl List Split\n"
     ]
    },
    {
     "name": "stderr",
     "output_type": "stream",
     "text": [
      "/var/folders/xx/hy496x3x5sn4hy9gy1fk19lw0000gp/T/ipykernel_59736/2181975156.py:18: DeprecationWarning: DataFrameGroupBy.apply operated on the grouping columns. This behavior is deprecated, and in a future version of pandas the grouping columns will be excluded from the operation. Either pass `include_groups=False` to exclude the groupings or explicitly select the grouping columns after groupby to silence this warning.\n",
      "  result_df = df.groupby(['doc_id', 'chunk_id']).apply(combine_and_unique).reset_index(drop=True)\n",
      "/var/folders/xx/hy496x3x5sn4hy9gy1fk19lw0000gp/T/ipykernel_59736/2181975156.py:18: DeprecationWarning: DataFrameGroupBy.apply operated on the grouping columns. This behavior is deprecated, and in a future version of pandas the grouping columns will be excluded from the operation. Either pass `include_groups=False` to exclude the groupings or explicitly select the grouping columns after groupby to silence this warning.\n",
      "  result_df = df.groupby(['doc_id', 'chunk_id']).apply(combine_and_unique).reset_index(drop=True)\n"
     ]
    },
    {
     "name": "stdout",
     "output_type": "stream",
     "text": [
      "batch_171105.jsonl Saved to ../../../../datasets/blogger/batch_4o/doc_171105.jsonl\n",
      "batch_171105.jsonl Removed from ../../../../datasets/blogger/batch_complete/\n"
     ]
    }
   ],
   "source": [
    "process_file_list(files_not_processed, batch_complete_loc, batch_save_loc, batch_fail_loc)"
   ]
  },
  {
   "cell_type": "code",
   "execution_count": 166,
   "id": "6eac5644-b6a9-4faf-961a-9c8fc264eb17",
   "metadata": {},
   "outputs": [
    {
     "ename": "JSONDecodeError",
     "evalue": "Unterminated string starting at: line 21 column 20 (char 23204)",
     "output_type": "error",
     "traceback": [
      "\u001b[0;31m---------------------------------------------------------------------------\u001b[0m",
      "\u001b[0;31mJSONDecodeError\u001b[0m                           Traceback (most recent call last)",
      "Cell \u001b[0;32mIn[166], line 2\u001b[0m\n\u001b[1;32m      1\u001b[0m fail_test \u001b[38;5;241m=\u001b[39mread_jsonl_file(\u001b[38;5;124mf\u001b[39m\u001b[38;5;124m\"\u001b[39m\u001b[38;5;132;01m{\u001b[39;00mbatch_complete_loc\u001b[38;5;132;01m}\u001b[39;00m\u001b[38;5;124mbatch_144356.jsonl\u001b[39m\u001b[38;5;124m\"\u001b[39m)\n\u001b[0;32m----> 2\u001b[0m processed_dataframe \u001b[38;5;241m=\u001b[39m \u001b[43mprocess_dataframe\u001b[49m\u001b[43m(\u001b[49m\u001b[43mfail_test\u001b[49m\u001b[43m)\u001b[49m\n\u001b[1;32m      3\u001b[0m final_df \u001b[38;5;241m=\u001b[39m process_rephrased_sentences(processed_dataframe)\n",
      "Cell \u001b[0;32mIn[105], line 21\u001b[0m, in \u001b[0;36mprocess_dataframe\u001b[0;34m(df)\u001b[0m\n\u001b[1;32m     18\u001b[0m df[[\u001b[38;5;124m'\u001b[39m\u001b[38;5;124mdoc_id\u001b[39m\u001b[38;5;124m'\u001b[39m, \u001b[38;5;124m'\u001b[39m\u001b[38;5;124mchunk_id\u001b[39m\u001b[38;5;124m'\u001b[39m, \u001b[38;5;124m'\u001b[39m\u001b[38;5;124mrepetition\u001b[39m\u001b[38;5;124m'\u001b[39m]] \u001b[38;5;241m=\u001b[39m df[\u001b[38;5;124m'\u001b[39m\u001b[38;5;124mcustom_id\u001b[39m\u001b[38;5;124m'\u001b[39m]\u001b[38;5;241m.\u001b[39mapply(split_custon_id)\n\u001b[1;32m     20\u001b[0m \u001b[38;5;66;03m# Apply the parse_response function to each row of the dataframe\u001b[39;00m\n\u001b[0;32m---> 21\u001b[0m df[\u001b[38;5;124m'\u001b[39m\u001b[38;5;124moriginal_sentence\u001b[39m\u001b[38;5;124m'\u001b[39m], df[\u001b[38;5;124m'\u001b[39m\u001b[38;5;124mrephrased\u001b[39m\u001b[38;5;124m'\u001b[39m] \u001b[38;5;241m=\u001b[39m \u001b[38;5;28mzip\u001b[39m(\u001b[38;5;241m*\u001b[39m\u001b[43mdf\u001b[49m\u001b[43m[\u001b[49m\u001b[38;5;124;43m'\u001b[39;49m\u001b[38;5;124;43mresponse\u001b[39;49m\u001b[38;5;124;43m'\u001b[39;49m\u001b[43m]\u001b[49m\u001b[38;5;241;43m.\u001b[39;49m\u001b[43mapply\u001b[49m\u001b[43m(\u001b[49m\u001b[43mparse_response\u001b[49m\u001b[43m)\u001b[49m)\n\u001b[1;32m     23\u001b[0m df \u001b[38;5;241m=\u001b[39m df[[\u001b[38;5;124m'\u001b[39m\u001b[38;5;124mdoc_id\u001b[39m\u001b[38;5;124m'\u001b[39m, \u001b[38;5;124m'\u001b[39m\u001b[38;5;124mchunk_id\u001b[39m\u001b[38;5;124m'\u001b[39m, \u001b[38;5;124m'\u001b[39m\u001b[38;5;124moriginal_sentence\u001b[39m\u001b[38;5;124m'\u001b[39m, \u001b[38;5;124m'\u001b[39m\u001b[38;5;124mrephrased\u001b[39m\u001b[38;5;124m'\u001b[39m]]\n\u001b[1;32m     25\u001b[0m \u001b[38;5;28;01mreturn\u001b[39;00m df\n",
      "File \u001b[0;32m~/my_env/lib/python3.10/site-packages/pandas/core/series.py:4915\u001b[0m, in \u001b[0;36mSeries.apply\u001b[0;34m(self, func, convert_dtype, args, by_row, **kwargs)\u001b[0m\n\u001b[1;32m   4780\u001b[0m \u001b[38;5;28;01mdef\u001b[39;00m \u001b[38;5;21mapply\u001b[39m(\n\u001b[1;32m   4781\u001b[0m     \u001b[38;5;28mself\u001b[39m,\n\u001b[1;32m   4782\u001b[0m     func: AggFuncType,\n\u001b[0;32m   (...)\u001b[0m\n\u001b[1;32m   4787\u001b[0m     \u001b[38;5;241m*\u001b[39m\u001b[38;5;241m*\u001b[39mkwargs,\n\u001b[1;32m   4788\u001b[0m ) \u001b[38;5;241m-\u001b[39m\u001b[38;5;241m>\u001b[39m DataFrame \u001b[38;5;241m|\u001b[39m Series:\n\u001b[1;32m   4789\u001b[0m \u001b[38;5;250m    \u001b[39m\u001b[38;5;124;03m\"\"\"\u001b[39;00m\n\u001b[1;32m   4790\u001b[0m \u001b[38;5;124;03m    Invoke function on values of Series.\u001b[39;00m\n\u001b[1;32m   4791\u001b[0m \n\u001b[0;32m   (...)\u001b[0m\n\u001b[1;32m   4906\u001b[0m \u001b[38;5;124;03m    dtype: float64\u001b[39;00m\n\u001b[1;32m   4907\u001b[0m \u001b[38;5;124;03m    \"\"\"\u001b[39;00m\n\u001b[1;32m   4908\u001b[0m     \u001b[38;5;28;01mreturn\u001b[39;00m \u001b[43mSeriesApply\u001b[49m\u001b[43m(\u001b[49m\n\u001b[1;32m   4909\u001b[0m \u001b[43m        \u001b[49m\u001b[38;5;28;43mself\u001b[39;49m\u001b[43m,\u001b[49m\n\u001b[1;32m   4910\u001b[0m \u001b[43m        \u001b[49m\u001b[43mfunc\u001b[49m\u001b[43m,\u001b[49m\n\u001b[1;32m   4911\u001b[0m \u001b[43m        \u001b[49m\u001b[43mconvert_dtype\u001b[49m\u001b[38;5;241;43m=\u001b[39;49m\u001b[43mconvert_dtype\u001b[49m\u001b[43m,\u001b[49m\n\u001b[1;32m   4912\u001b[0m \u001b[43m        \u001b[49m\u001b[43mby_row\u001b[49m\u001b[38;5;241;43m=\u001b[39;49m\u001b[43mby_row\u001b[49m\u001b[43m,\u001b[49m\n\u001b[1;32m   4913\u001b[0m \u001b[43m        \u001b[49m\u001b[43margs\u001b[49m\u001b[38;5;241;43m=\u001b[39;49m\u001b[43margs\u001b[49m\u001b[43m,\u001b[49m\n\u001b[1;32m   4914\u001b[0m \u001b[43m        \u001b[49m\u001b[43mkwargs\u001b[49m\u001b[38;5;241;43m=\u001b[39;49m\u001b[43mkwargs\u001b[49m\u001b[43m,\u001b[49m\n\u001b[0;32m-> 4915\u001b[0m \u001b[43m    \u001b[49m\u001b[43m)\u001b[49m\u001b[38;5;241;43m.\u001b[39;49m\u001b[43mapply\u001b[49m\u001b[43m(\u001b[49m\u001b[43m)\u001b[49m\n",
      "File \u001b[0;32m~/my_env/lib/python3.10/site-packages/pandas/core/apply.py:1427\u001b[0m, in \u001b[0;36mSeriesApply.apply\u001b[0;34m(self)\u001b[0m\n\u001b[1;32m   1424\u001b[0m     \u001b[38;5;28;01mreturn\u001b[39;00m \u001b[38;5;28mself\u001b[39m\u001b[38;5;241m.\u001b[39mapply_compat()\n\u001b[1;32m   1426\u001b[0m \u001b[38;5;66;03m# self.func is Callable\u001b[39;00m\n\u001b[0;32m-> 1427\u001b[0m \u001b[38;5;28;01mreturn\u001b[39;00m \u001b[38;5;28;43mself\u001b[39;49m\u001b[38;5;241;43m.\u001b[39;49m\u001b[43mapply_standard\u001b[49m\u001b[43m(\u001b[49m\u001b[43m)\u001b[49m\n",
      "File \u001b[0;32m~/my_env/lib/python3.10/site-packages/pandas/core/apply.py:1507\u001b[0m, in \u001b[0;36mSeriesApply.apply_standard\u001b[0;34m(self)\u001b[0m\n\u001b[1;32m   1501\u001b[0m \u001b[38;5;66;03m# row-wise access\u001b[39;00m\n\u001b[1;32m   1502\u001b[0m \u001b[38;5;66;03m# apply doesn't have a `na_action` keyword and for backward compat reasons\u001b[39;00m\n\u001b[1;32m   1503\u001b[0m \u001b[38;5;66;03m# we need to give `na_action=\"ignore\"` for categorical data.\u001b[39;00m\n\u001b[1;32m   1504\u001b[0m \u001b[38;5;66;03m# TODO: remove the `na_action=\"ignore\"` when that default has been changed in\u001b[39;00m\n\u001b[1;32m   1505\u001b[0m \u001b[38;5;66;03m#  Categorical (GH51645).\u001b[39;00m\n\u001b[1;32m   1506\u001b[0m action \u001b[38;5;241m=\u001b[39m \u001b[38;5;124m\"\u001b[39m\u001b[38;5;124mignore\u001b[39m\u001b[38;5;124m\"\u001b[39m \u001b[38;5;28;01mif\u001b[39;00m \u001b[38;5;28misinstance\u001b[39m(obj\u001b[38;5;241m.\u001b[39mdtype, CategoricalDtype) \u001b[38;5;28;01melse\u001b[39;00m \u001b[38;5;28;01mNone\u001b[39;00m\n\u001b[0;32m-> 1507\u001b[0m mapped \u001b[38;5;241m=\u001b[39m \u001b[43mobj\u001b[49m\u001b[38;5;241;43m.\u001b[39;49m\u001b[43m_map_values\u001b[49m\u001b[43m(\u001b[49m\n\u001b[1;32m   1508\u001b[0m \u001b[43m    \u001b[49m\u001b[43mmapper\u001b[49m\u001b[38;5;241;43m=\u001b[39;49m\u001b[43mcurried\u001b[49m\u001b[43m,\u001b[49m\u001b[43m \u001b[49m\u001b[43mna_action\u001b[49m\u001b[38;5;241;43m=\u001b[39;49m\u001b[43maction\u001b[49m\u001b[43m,\u001b[49m\u001b[43m \u001b[49m\u001b[43mconvert\u001b[49m\u001b[38;5;241;43m=\u001b[39;49m\u001b[38;5;28;43mself\u001b[39;49m\u001b[38;5;241;43m.\u001b[39;49m\u001b[43mconvert_dtype\u001b[49m\n\u001b[1;32m   1509\u001b[0m \u001b[43m\u001b[49m\u001b[43m)\u001b[49m\n\u001b[1;32m   1511\u001b[0m \u001b[38;5;28;01mif\u001b[39;00m \u001b[38;5;28mlen\u001b[39m(mapped) \u001b[38;5;129;01mand\u001b[39;00m \u001b[38;5;28misinstance\u001b[39m(mapped[\u001b[38;5;241m0\u001b[39m], ABCSeries):\n\u001b[1;32m   1512\u001b[0m     \u001b[38;5;66;03m# GH#43986 Need to do list(mapped) in order to get treated as nested\u001b[39;00m\n\u001b[1;32m   1513\u001b[0m     \u001b[38;5;66;03m#  See also GH#25959 regarding EA support\u001b[39;00m\n\u001b[1;32m   1514\u001b[0m     \u001b[38;5;28;01mreturn\u001b[39;00m obj\u001b[38;5;241m.\u001b[39m_constructor_expanddim(\u001b[38;5;28mlist\u001b[39m(mapped), index\u001b[38;5;241m=\u001b[39mobj\u001b[38;5;241m.\u001b[39mindex)\n",
      "File \u001b[0;32m~/my_env/lib/python3.10/site-packages/pandas/core/base.py:921\u001b[0m, in \u001b[0;36mIndexOpsMixin._map_values\u001b[0;34m(self, mapper, na_action, convert)\u001b[0m\n\u001b[1;32m    918\u001b[0m \u001b[38;5;28;01mif\u001b[39;00m \u001b[38;5;28misinstance\u001b[39m(arr, ExtensionArray):\n\u001b[1;32m    919\u001b[0m     \u001b[38;5;28;01mreturn\u001b[39;00m arr\u001b[38;5;241m.\u001b[39mmap(mapper, na_action\u001b[38;5;241m=\u001b[39mna_action)\n\u001b[0;32m--> 921\u001b[0m \u001b[38;5;28;01mreturn\u001b[39;00m \u001b[43malgorithms\u001b[49m\u001b[38;5;241;43m.\u001b[39;49m\u001b[43mmap_array\u001b[49m\u001b[43m(\u001b[49m\u001b[43marr\u001b[49m\u001b[43m,\u001b[49m\u001b[43m \u001b[49m\u001b[43mmapper\u001b[49m\u001b[43m,\u001b[49m\u001b[43m \u001b[49m\u001b[43mna_action\u001b[49m\u001b[38;5;241;43m=\u001b[39;49m\u001b[43mna_action\u001b[49m\u001b[43m,\u001b[49m\u001b[43m \u001b[49m\u001b[43mconvert\u001b[49m\u001b[38;5;241;43m=\u001b[39;49m\u001b[43mconvert\u001b[49m\u001b[43m)\u001b[49m\n",
      "File \u001b[0;32m~/my_env/lib/python3.10/site-packages/pandas/core/algorithms.py:1743\u001b[0m, in \u001b[0;36mmap_array\u001b[0;34m(arr, mapper, na_action, convert)\u001b[0m\n\u001b[1;32m   1741\u001b[0m values \u001b[38;5;241m=\u001b[39m arr\u001b[38;5;241m.\u001b[39mastype(\u001b[38;5;28mobject\u001b[39m, copy\u001b[38;5;241m=\u001b[39m\u001b[38;5;28;01mFalse\u001b[39;00m)\n\u001b[1;32m   1742\u001b[0m \u001b[38;5;28;01mif\u001b[39;00m na_action \u001b[38;5;129;01mis\u001b[39;00m \u001b[38;5;28;01mNone\u001b[39;00m:\n\u001b[0;32m-> 1743\u001b[0m     \u001b[38;5;28;01mreturn\u001b[39;00m \u001b[43mlib\u001b[49m\u001b[38;5;241;43m.\u001b[39;49m\u001b[43mmap_infer\u001b[49m\u001b[43m(\u001b[49m\u001b[43mvalues\u001b[49m\u001b[43m,\u001b[49m\u001b[43m \u001b[49m\u001b[43mmapper\u001b[49m\u001b[43m,\u001b[49m\u001b[43m \u001b[49m\u001b[43mconvert\u001b[49m\u001b[38;5;241;43m=\u001b[39;49m\u001b[43mconvert\u001b[49m\u001b[43m)\u001b[49m\n\u001b[1;32m   1744\u001b[0m \u001b[38;5;28;01melse\u001b[39;00m:\n\u001b[1;32m   1745\u001b[0m     \u001b[38;5;28;01mreturn\u001b[39;00m lib\u001b[38;5;241m.\u001b[39mmap_infer_mask(\n\u001b[1;32m   1746\u001b[0m         values, mapper, mask\u001b[38;5;241m=\u001b[39misna(values)\u001b[38;5;241m.\u001b[39mview(np\u001b[38;5;241m.\u001b[39muint8), convert\u001b[38;5;241m=\u001b[39mconvert\n\u001b[1;32m   1747\u001b[0m     )\n",
      "File \u001b[0;32mlib.pyx:2972\u001b[0m, in \u001b[0;36mpandas._libs.lib.map_infer\u001b[0;34m()\u001b[0m\n",
      "Cell \u001b[0;32mIn[105], line 3\u001b[0m, in \u001b[0;36mparse_response\u001b[0;34m(response_str)\u001b[0m\n\u001b[1;32m      1\u001b[0m \u001b[38;5;28;01mdef\u001b[39;00m \u001b[38;5;21mparse_response\u001b[39m(response_str):\n\u001b[1;32m      2\u001b[0m     \u001b[38;5;66;03m# Convert the JSON string to a Python dictionary\u001b[39;00m\n\u001b[0;32m----> 3\u001b[0m     response_dict \u001b[38;5;241m=\u001b[39m \u001b[43mjson\u001b[49m\u001b[38;5;241;43m.\u001b[39;49m\u001b[43mloads\u001b[49m\u001b[43m(\u001b[49m\u001b[43mresponse_str\u001b[49m\u001b[43m)\u001b[49m\n\u001b[1;32m      5\u001b[0m     \u001b[38;5;66;03m# Extract the 'original' sentence\u001b[39;00m\n\u001b[1;32m      6\u001b[0m     original_sentence \u001b[38;5;241m=\u001b[39m response_dict\u001b[38;5;241m.\u001b[39mget(\u001b[38;5;124m'\u001b[39m\u001b[38;5;124moriginal\u001b[39m\u001b[38;5;124m'\u001b[39m, \u001b[38;5;124m'\u001b[39m\u001b[38;5;124m'\u001b[39m)\n",
      "File \u001b[0;32m~/anaconda3/lib/python3.10/json/__init__.py:346\u001b[0m, in \u001b[0;36mloads\u001b[0;34m(s, cls, object_hook, parse_float, parse_int, parse_constant, object_pairs_hook, **kw)\u001b[0m\n\u001b[1;32m    341\u001b[0m     s \u001b[38;5;241m=\u001b[39m s\u001b[38;5;241m.\u001b[39mdecode(detect_encoding(s), \u001b[38;5;124m'\u001b[39m\u001b[38;5;124msurrogatepass\u001b[39m\u001b[38;5;124m'\u001b[39m)\n\u001b[1;32m    343\u001b[0m \u001b[38;5;28;01mif\u001b[39;00m (\u001b[38;5;28mcls\u001b[39m \u001b[38;5;129;01mis\u001b[39;00m \u001b[38;5;28;01mNone\u001b[39;00m \u001b[38;5;129;01mand\u001b[39;00m object_hook \u001b[38;5;129;01mis\u001b[39;00m \u001b[38;5;28;01mNone\u001b[39;00m \u001b[38;5;129;01mand\u001b[39;00m\n\u001b[1;32m    344\u001b[0m         parse_int \u001b[38;5;129;01mis\u001b[39;00m \u001b[38;5;28;01mNone\u001b[39;00m \u001b[38;5;129;01mand\u001b[39;00m parse_float \u001b[38;5;129;01mis\u001b[39;00m \u001b[38;5;28;01mNone\u001b[39;00m \u001b[38;5;129;01mand\u001b[39;00m\n\u001b[1;32m    345\u001b[0m         parse_constant \u001b[38;5;129;01mis\u001b[39;00m \u001b[38;5;28;01mNone\u001b[39;00m \u001b[38;5;129;01mand\u001b[39;00m object_pairs_hook \u001b[38;5;129;01mis\u001b[39;00m \u001b[38;5;28;01mNone\u001b[39;00m \u001b[38;5;129;01mand\u001b[39;00m \u001b[38;5;129;01mnot\u001b[39;00m kw):\n\u001b[0;32m--> 346\u001b[0m     \u001b[38;5;28;01mreturn\u001b[39;00m \u001b[43m_default_decoder\u001b[49m\u001b[38;5;241;43m.\u001b[39;49m\u001b[43mdecode\u001b[49m\u001b[43m(\u001b[49m\u001b[43ms\u001b[49m\u001b[43m)\u001b[49m\n\u001b[1;32m    347\u001b[0m \u001b[38;5;28;01mif\u001b[39;00m \u001b[38;5;28mcls\u001b[39m \u001b[38;5;129;01mis\u001b[39;00m \u001b[38;5;28;01mNone\u001b[39;00m:\n\u001b[1;32m    348\u001b[0m     \u001b[38;5;28mcls\u001b[39m \u001b[38;5;241m=\u001b[39m JSONDecoder\n",
      "File \u001b[0;32m~/anaconda3/lib/python3.10/json/decoder.py:337\u001b[0m, in \u001b[0;36mJSONDecoder.decode\u001b[0;34m(self, s, _w)\u001b[0m\n\u001b[1;32m    332\u001b[0m \u001b[38;5;28;01mdef\u001b[39;00m \u001b[38;5;21mdecode\u001b[39m(\u001b[38;5;28mself\u001b[39m, s, _w\u001b[38;5;241m=\u001b[39mWHITESPACE\u001b[38;5;241m.\u001b[39mmatch):\n\u001b[1;32m    333\u001b[0m \u001b[38;5;250m    \u001b[39m\u001b[38;5;124;03m\"\"\"Return the Python representation of ``s`` (a ``str`` instance\u001b[39;00m\n\u001b[1;32m    334\u001b[0m \u001b[38;5;124;03m    containing a JSON document).\u001b[39;00m\n\u001b[1;32m    335\u001b[0m \n\u001b[1;32m    336\u001b[0m \u001b[38;5;124;03m    \"\"\"\u001b[39;00m\n\u001b[0;32m--> 337\u001b[0m     obj, end \u001b[38;5;241m=\u001b[39m \u001b[38;5;28;43mself\u001b[39;49m\u001b[38;5;241;43m.\u001b[39;49m\u001b[43mraw_decode\u001b[49m\u001b[43m(\u001b[49m\u001b[43ms\u001b[49m\u001b[43m,\u001b[49m\u001b[43m \u001b[49m\u001b[43midx\u001b[49m\u001b[38;5;241;43m=\u001b[39;49m\u001b[43m_w\u001b[49m\u001b[43m(\u001b[49m\u001b[43ms\u001b[49m\u001b[43m,\u001b[49m\u001b[43m \u001b[49m\u001b[38;5;241;43m0\u001b[39;49m\u001b[43m)\u001b[49m\u001b[38;5;241;43m.\u001b[39;49m\u001b[43mend\u001b[49m\u001b[43m(\u001b[49m\u001b[43m)\u001b[49m\u001b[43m)\u001b[49m\n\u001b[1;32m    338\u001b[0m     end \u001b[38;5;241m=\u001b[39m _w(s, end)\u001b[38;5;241m.\u001b[39mend()\n\u001b[1;32m    339\u001b[0m     \u001b[38;5;28;01mif\u001b[39;00m end \u001b[38;5;241m!=\u001b[39m \u001b[38;5;28mlen\u001b[39m(s):\n",
      "File \u001b[0;32m~/anaconda3/lib/python3.10/json/decoder.py:353\u001b[0m, in \u001b[0;36mJSONDecoder.raw_decode\u001b[0;34m(self, s, idx)\u001b[0m\n\u001b[1;32m    344\u001b[0m \u001b[38;5;250m\u001b[39m\u001b[38;5;124;03m\"\"\"Decode a JSON document from ``s`` (a ``str`` beginning with\u001b[39;00m\n\u001b[1;32m    345\u001b[0m \u001b[38;5;124;03ma JSON document) and return a 2-tuple of the Python\u001b[39;00m\n\u001b[1;32m    346\u001b[0m \u001b[38;5;124;03mrepresentation and the index in ``s`` where the document ended.\u001b[39;00m\n\u001b[0;32m   (...)\u001b[0m\n\u001b[1;32m    350\u001b[0m \n\u001b[1;32m    351\u001b[0m \u001b[38;5;124;03m\"\"\"\u001b[39;00m\n\u001b[1;32m    352\u001b[0m \u001b[38;5;28;01mtry\u001b[39;00m:\n\u001b[0;32m--> 353\u001b[0m     obj, end \u001b[38;5;241m=\u001b[39m \u001b[38;5;28;43mself\u001b[39;49m\u001b[38;5;241;43m.\u001b[39;49m\u001b[43mscan_once\u001b[49m\u001b[43m(\u001b[49m\u001b[43ms\u001b[49m\u001b[43m,\u001b[49m\u001b[43m \u001b[49m\u001b[43midx\u001b[49m\u001b[43m)\u001b[49m\n\u001b[1;32m    354\u001b[0m \u001b[38;5;28;01mexcept\u001b[39;00m \u001b[38;5;167;01mStopIteration\u001b[39;00m \u001b[38;5;28;01mas\u001b[39;00m err:\n\u001b[1;32m    355\u001b[0m     \u001b[38;5;28;01mraise\u001b[39;00m JSONDecodeError(\u001b[38;5;124m\"\u001b[39m\u001b[38;5;124mExpecting value\u001b[39m\u001b[38;5;124m\"\u001b[39m, s, err\u001b[38;5;241m.\u001b[39mvalue) \u001b[38;5;28;01mfrom\u001b[39;00m \u001b[38;5;28;01mNone\u001b[39;00m\n",
      "\u001b[0;31mJSONDecodeError\u001b[0m: Unterminated string starting at: line 21 column 20 (char 23204)"
     ]
    }
   ],
   "source": [
    "fail_test =read_jsonl_file(f\"{batch_complete_loc}batch_144356.jsonl\")\n",
    "processed_dataframe = process_dataframe(fail_test)\n",
    "final_df = process_rephrased_sentences(processed_dataframe)"
   ]
  },
  {
   "cell_type": "code",
   "execution_count": 169,
   "id": "ac950801-e372-46f7-9657-0ace66bb9ad8",
   "metadata": {},
   "outputs": [
    {
     "data": {
      "text/html": [
       "<div>\n",
       "<style scoped>\n",
       "    .dataframe tbody tr th:only-of-type {\n",
       "        vertical-align: middle;\n",
       "    }\n",
       "\n",
       "    .dataframe tbody tr th {\n",
       "        vertical-align: top;\n",
       "    }\n",
       "\n",
       "    .dataframe thead th {\n",
       "        text-align: right;\n",
       "    }\n",
       "</style>\n",
       "<table border=\"1\" class=\"dataframe\">\n",
       "  <thead>\n",
       "    <tr style=\"text-align: right;\">\n",
       "      <th></th>\n",
       "      <th>id</th>\n",
       "      <th>custom_id</th>\n",
       "      <th>response</th>\n",
       "      <th>doc_id</th>\n",
       "      <th>chunk_id</th>\n",
       "      <th>repetition</th>\n",
       "    </tr>\n",
       "  </thead>\n",
       "  <tbody>\n",
       "    <tr>\n",
       "      <th>0</th>\n",
       "      <td>batch_req_iwJgunTo81E2QukR0O3D8s0X</td>\n",
       "      <td>doc_144356_chunk_1_1</td>\n",
       "      <td>{\"original\": \"Almost the end of July.&amp;nbsp; Ho...</td>\n",
       "      <td>144356</td>\n",
       "      <td>1</td>\n",
       "      <td>1</td>\n",
       "    </tr>\n",
       "    <tr>\n",
       "      <th>1</th>\n",
       "      <td>batch_req_koOWaGvqW0AZCglgHlo6eYuX</td>\n",
       "      <td>doc_144356_chunk_1_2</td>\n",
       "      <td>{\"original\": \"Almost the end of July. How is y...</td>\n",
       "      <td>144356</td>\n",
       "      <td>1</td>\n",
       "      <td>2</td>\n",
       "    </tr>\n",
       "    <tr>\n",
       "      <th>2</th>\n",
       "      <td>batch_req_1O2H6cY6YRsBEgm8is5IFz1T</td>\n",
       "      <td>doc_144356_chunk_1_3</td>\n",
       "      <td>{\"original\": \"Almost the end of July.&amp;nbsp; Ho...</td>\n",
       "      <td>144356</td>\n",
       "      <td>1</td>\n",
       "      <td>3</td>\n",
       "    </tr>\n",
       "    <tr>\n",
       "      <th>3</th>\n",
       "      <td>batch_req_yZOdBE93nNZWRBhDRyt3CTEn</td>\n",
       "      <td>doc_144356_chunk_1_4</td>\n",
       "      <td>{\"original\": \"Almost the end of July. How is y...</td>\n",
       "      <td>144356</td>\n",
       "      <td>1</td>\n",
       "      <td>4</td>\n",
       "    </tr>\n",
       "    <tr>\n",
       "      <th>4</th>\n",
       "      <td>batch_req_VSe2v2S3Uay1xbhZ5PQRHsZK</td>\n",
       "      <td>doc_144356_chunk_1_5</td>\n",
       "      <td>{\"original\": \"Almost the end of July. How is y...</td>\n",
       "      <td>144356</td>\n",
       "      <td>1</td>\n",
       "      <td>5</td>\n",
       "    </tr>\n",
       "    <tr>\n",
       "      <th>5</th>\n",
       "      <td>batch_req_HBUp6qGcAlzxNsStFhJ3GBKM</td>\n",
       "      <td>doc_144356_chunk_1_6</td>\n",
       "      <td>{\"original\": \"Almost the end of July. How is y...</td>\n",
       "      <td>144356</td>\n",
       "      <td>1</td>\n",
       "      <td>6</td>\n",
       "    </tr>\n",
       "    <tr>\n",
       "      <th>6</th>\n",
       "      <td>batch_req_9mU0h5BHyqXpIUUcRO5fRrSl</td>\n",
       "      <td>doc_144356_chunk_1_7</td>\n",
       "      <td>{\"original\": \"Almost the end of July. How is y...</td>\n",
       "      <td>144356</td>\n",
       "      <td>1</td>\n",
       "      <td>7</td>\n",
       "    </tr>\n",
       "    <tr>\n",
       "      <th>7</th>\n",
       "      <td>batch_req_YdgXrNdRcMia0ZcPmjrTtexP</td>\n",
       "      <td>doc_144356_chunk_1_8</td>\n",
       "      <td>{\"original\": \"Almost the end of July. How is y...</td>\n",
       "      <td>144356</td>\n",
       "      <td>1</td>\n",
       "      <td>8</td>\n",
       "    </tr>\n",
       "    <tr>\n",
       "      <th>8</th>\n",
       "      <td>batch_req_tTzKiCFDvn4Xle2jAweFI0Mb</td>\n",
       "      <td>doc_144356_chunk_1_9</td>\n",
       "      <td>{\"original\": \"Almost the end of July.&amp;nbsp; Ho...</td>\n",
       "      <td>144356</td>\n",
       "      <td>1</td>\n",
       "      <td>9</td>\n",
       "    </tr>\n",
       "    <tr>\n",
       "      <th>9</th>\n",
       "      <td>batch_req_rZsjSdN4BpyHC9tsTtOzhPup</td>\n",
       "      <td>doc_144356_chunk_1_10</td>\n",
       "      <td>{\"original\": \"Almost the end of July. How is y...</td>\n",
       "      <td>144356</td>\n",
       "      <td>1</td>\n",
       "      <td>10</td>\n",
       "    </tr>\n",
       "    <tr>\n",
       "      <th>10</th>\n",
       "      <td>batch_req_auUQpZTzQadNhhxwA1kXSeeY</td>\n",
       "      <td>doc_144356_chunk_2_1</td>\n",
       "      <td>{\"original\": \"However, thankfully my computer ...</td>\n",
       "      <td>144356</td>\n",
       "      <td>2</td>\n",
       "      <td>1</td>\n",
       "    </tr>\n",
       "    <tr>\n",
       "      <th>11</th>\n",
       "      <td>batch_req_OsyVtQrf3QNQkHWYNUY0MkBe</td>\n",
       "      <td>doc_144356_chunk_2_2</td>\n",
       "      <td>{\"original\": \"However, thankfully my computer ...</td>\n",
       "      <td>144356</td>\n",
       "      <td>2</td>\n",
       "      <td>2</td>\n",
       "    </tr>\n",
       "    <tr>\n",
       "      <th>12</th>\n",
       "      <td>batch_req_1KamsM6HacRMTShXEoJroyQv</td>\n",
       "      <td>doc_144356_chunk_2_3</td>\n",
       "      <td>{\"original\": \"However, thankfully my computer ...</td>\n",
       "      <td>144356</td>\n",
       "      <td>2</td>\n",
       "      <td>3</td>\n",
       "    </tr>\n",
       "    <tr>\n",
       "      <th>13</th>\n",
       "      <td>batch_req_9Bo6QHjkvIQnZcMC4KWQV6Im</td>\n",
       "      <td>doc_144356_chunk_2_4</td>\n",
       "      <td>{\"original\": \"However, thankfully my computer ...</td>\n",
       "      <td>144356</td>\n",
       "      <td>2</td>\n",
       "      <td>4</td>\n",
       "    </tr>\n",
       "    <tr>\n",
       "      <th>14</th>\n",
       "      <td>batch_req_gjcV2vBoroZYX9L1btWqxMaC</td>\n",
       "      <td>doc_144356_chunk_2_5</td>\n",
       "      <td>{\"original\": \"However, thankfully my computer ...</td>\n",
       "      <td>144356</td>\n",
       "      <td>2</td>\n",
       "      <td>5</td>\n",
       "    </tr>\n",
       "    <tr>\n",
       "      <th>15</th>\n",
       "      <td>batch_req_VBkkVrZ6puZB7D2vnLkIg682</td>\n",
       "      <td>doc_144356_chunk_2_6</td>\n",
       "      <td>{\"original\": \"However, thankfully my computer ...</td>\n",
       "      <td>144356</td>\n",
       "      <td>2</td>\n",
       "      <td>6</td>\n",
       "    </tr>\n",
       "    <tr>\n",
       "      <th>16</th>\n",
       "      <td>batch_req_a7CcgqWRUVKCReeCKrrjisqb</td>\n",
       "      <td>doc_144356_chunk_2_7</td>\n",
       "      <td>{\"original\": \"However, thankfully my computer ...</td>\n",
       "      <td>144356</td>\n",
       "      <td>2</td>\n",
       "      <td>7</td>\n",
       "    </tr>\n",
       "    <tr>\n",
       "      <th>17</th>\n",
       "      <td>batch_req_YP2im0tJ7V7xfMh56eYbJdNL</td>\n",
       "      <td>doc_144356_chunk_2_8</td>\n",
       "      <td>{\"original\": \"However, thankfully my computer ...</td>\n",
       "      <td>144356</td>\n",
       "      <td>2</td>\n",
       "      <td>8</td>\n",
       "    </tr>\n",
       "    <tr>\n",
       "      <th>18</th>\n",
       "      <td>batch_req_KEe1V6ZNDFTiczwQ4yrbTU0j</td>\n",
       "      <td>doc_144356_chunk_2_9</td>\n",
       "      <td>{\"original\": \"However, thankfully my computer ...</td>\n",
       "      <td>144356</td>\n",
       "      <td>2</td>\n",
       "      <td>9</td>\n",
       "    </tr>\n",
       "    <tr>\n",
       "      <th>19</th>\n",
       "      <td>batch_req_1x5zGI79aNEkCio5pdnrd2JE</td>\n",
       "      <td>doc_144356_chunk_2_10</td>\n",
       "      <td>{\"original\": \"However, thankfully my computer ...</td>\n",
       "      <td>144356</td>\n",
       "      <td>2</td>\n",
       "      <td>10</td>\n",
       "    </tr>\n",
       "    <tr>\n",
       "      <th>20</th>\n",
       "      <td>batch_req_9JgikcZhHr9o2eiaYWAjXwep</td>\n",
       "      <td>doc_144356_chunk_3_1</td>\n",
       "      <td>{\"original\": \"they simply ignored it. They did...</td>\n",
       "      <td>144356</td>\n",
       "      <td>3</td>\n",
       "      <td>1</td>\n",
       "    </tr>\n",
       "    <tr>\n",
       "      <th>21</th>\n",
       "      <td>batch_req_xyPph4ptVndx7DUnNrvviSUD</td>\n",
       "      <td>doc_144356_chunk_3_2</td>\n",
       "      <td>{\"original\": \"they simply ignored it.&amp;nbsp; Th...</td>\n",
       "      <td>144356</td>\n",
       "      <td>3</td>\n",
       "      <td>2</td>\n",
       "    </tr>\n",
       "    <tr>\n",
       "      <th>22</th>\n",
       "      <td>batch_req_JZ8HRMiopAhjc4a7XmAUC7C3</td>\n",
       "      <td>doc_144356_chunk_3_3</td>\n",
       "      <td>{\"original\": \"they simply ignored it.&amp;nbsp; Th...</td>\n",
       "      <td>144356</td>\n",
       "      <td>3</td>\n",
       "      <td>3</td>\n",
       "    </tr>\n",
       "    <tr>\n",
       "      <th>23</th>\n",
       "      <td>batch_req_1s5uuEJ2JDfP7dwzAShfQvjg</td>\n",
       "      <td>doc_144356_chunk_3_4</td>\n",
       "      <td>{\"original\": \"they simply ignored it. They did...</td>\n",
       "      <td>144356</td>\n",
       "      <td>3</td>\n",
       "      <td>4</td>\n",
       "    </tr>\n",
       "    <tr>\n",
       "      <th>24</th>\n",
       "      <td>batch_req_JcyQQH41aJ5wZImeaUmVeRmQ</td>\n",
       "      <td>doc_144356_chunk_3_5</td>\n",
       "      <td>{\"original\": \"they simply ignored it. They did...</td>\n",
       "      <td>144356</td>\n",
       "      <td>3</td>\n",
       "      <td>5</td>\n",
       "    </tr>\n",
       "    <tr>\n",
       "      <th>25</th>\n",
       "      <td>batch_req_eq1eAwF62lN1j9EJfEGdlfTL</td>\n",
       "      <td>doc_144356_chunk_3_6</td>\n",
       "      <td>{\"original\": \"they simply ignored it. They did...</td>\n",
       "      <td>144356</td>\n",
       "      <td>3</td>\n",
       "      <td>6</td>\n",
       "    </tr>\n",
       "    <tr>\n",
       "      <th>26</th>\n",
       "      <td>batch_req_mw4zgvb2rrOXy2ojHaQaSXYZ</td>\n",
       "      <td>doc_144356_chunk_3_7</td>\n",
       "      <td>{\"original\": \"they simply ignored it.&amp;nbsp; Th...</td>\n",
       "      <td>144356</td>\n",
       "      <td>3</td>\n",
       "      <td>7</td>\n",
       "    </tr>\n",
       "    <tr>\n",
       "      <th>27</th>\n",
       "      <td>batch_req_UUQh5ymE740Y8Droero7ubnR</td>\n",
       "      <td>doc_144356_chunk_3_8</td>\n",
       "      <td>{\"original\": \"they simply ignored it.&amp;nbsp; Th...</td>\n",
       "      <td>144356</td>\n",
       "      <td>3</td>\n",
       "      <td>8</td>\n",
       "    </tr>\n",
       "    <tr>\n",
       "      <th>28</th>\n",
       "      <td>batch_req_Ty8iwUua3zs7nSWhIk6roAmQ</td>\n",
       "      <td>doc_144356_chunk_3_9</td>\n",
       "      <td>{\"original\": \"they simply ignored it.&amp;nbsp; Th...</td>\n",
       "      <td>144356</td>\n",
       "      <td>3</td>\n",
       "      <td>9</td>\n",
       "    </tr>\n",
       "    <tr>\n",
       "      <th>29</th>\n",
       "      <td>batch_req_XOJ5pVhLO8Ijoe3dIpl90mGF</td>\n",
       "      <td>doc_144356_chunk_3_10</td>\n",
       "      <td>{\"original\": \"they simply ignored it.&amp;nbsp; Th...</td>\n",
       "      <td>144356</td>\n",
       "      <td>3</td>\n",
       "      <td>10</td>\n",
       "    </tr>\n",
       "  </tbody>\n",
       "</table>\n",
       "</div>"
      ],
      "text/plain": [
       "                                    id              custom_id  \\\n",
       "0   batch_req_iwJgunTo81E2QukR0O3D8s0X   doc_144356_chunk_1_1   \n",
       "1   batch_req_koOWaGvqW0AZCglgHlo6eYuX   doc_144356_chunk_1_2   \n",
       "2   batch_req_1O2H6cY6YRsBEgm8is5IFz1T   doc_144356_chunk_1_3   \n",
       "3   batch_req_yZOdBE93nNZWRBhDRyt3CTEn   doc_144356_chunk_1_4   \n",
       "4   batch_req_VSe2v2S3Uay1xbhZ5PQRHsZK   doc_144356_chunk_1_5   \n",
       "5   batch_req_HBUp6qGcAlzxNsStFhJ3GBKM   doc_144356_chunk_1_6   \n",
       "6   batch_req_9mU0h5BHyqXpIUUcRO5fRrSl   doc_144356_chunk_1_7   \n",
       "7   batch_req_YdgXrNdRcMia0ZcPmjrTtexP   doc_144356_chunk_1_8   \n",
       "8   batch_req_tTzKiCFDvn4Xle2jAweFI0Mb   doc_144356_chunk_1_9   \n",
       "9   batch_req_rZsjSdN4BpyHC9tsTtOzhPup  doc_144356_chunk_1_10   \n",
       "10  batch_req_auUQpZTzQadNhhxwA1kXSeeY   doc_144356_chunk_2_1   \n",
       "11  batch_req_OsyVtQrf3QNQkHWYNUY0MkBe   doc_144356_chunk_2_2   \n",
       "12  batch_req_1KamsM6HacRMTShXEoJroyQv   doc_144356_chunk_2_3   \n",
       "13  batch_req_9Bo6QHjkvIQnZcMC4KWQV6Im   doc_144356_chunk_2_4   \n",
       "14  batch_req_gjcV2vBoroZYX9L1btWqxMaC   doc_144356_chunk_2_5   \n",
       "15  batch_req_VBkkVrZ6puZB7D2vnLkIg682   doc_144356_chunk_2_6   \n",
       "16  batch_req_a7CcgqWRUVKCReeCKrrjisqb   doc_144356_chunk_2_7   \n",
       "17  batch_req_YP2im0tJ7V7xfMh56eYbJdNL   doc_144356_chunk_2_8   \n",
       "18  batch_req_KEe1V6ZNDFTiczwQ4yrbTU0j   doc_144356_chunk_2_9   \n",
       "19  batch_req_1x5zGI79aNEkCio5pdnrd2JE  doc_144356_chunk_2_10   \n",
       "20  batch_req_9JgikcZhHr9o2eiaYWAjXwep   doc_144356_chunk_3_1   \n",
       "21  batch_req_xyPph4ptVndx7DUnNrvviSUD   doc_144356_chunk_3_2   \n",
       "22  batch_req_JZ8HRMiopAhjc4a7XmAUC7C3   doc_144356_chunk_3_3   \n",
       "23  batch_req_1s5uuEJ2JDfP7dwzAShfQvjg   doc_144356_chunk_3_4   \n",
       "24  batch_req_JcyQQH41aJ5wZImeaUmVeRmQ   doc_144356_chunk_3_5   \n",
       "25  batch_req_eq1eAwF62lN1j9EJfEGdlfTL   doc_144356_chunk_3_6   \n",
       "26  batch_req_mw4zgvb2rrOXy2ojHaQaSXYZ   doc_144356_chunk_3_7   \n",
       "27  batch_req_UUQh5ymE740Y8Droero7ubnR   doc_144356_chunk_3_8   \n",
       "28  batch_req_Ty8iwUua3zs7nSWhIk6roAmQ   doc_144356_chunk_3_9   \n",
       "29  batch_req_XOJ5pVhLO8Ijoe3dIpl90mGF  doc_144356_chunk_3_10   \n",
       "\n",
       "                                             response  doc_id chunk_id  \\\n",
       "0   {\"original\": \"Almost the end of July.&nbsp; Ho...  144356        1   \n",
       "1   {\"original\": \"Almost the end of July. How is y...  144356        1   \n",
       "2   {\"original\": \"Almost the end of July.&nbsp; Ho...  144356        1   \n",
       "3   {\"original\": \"Almost the end of July. How is y...  144356        1   \n",
       "4   {\"original\": \"Almost the end of July. How is y...  144356        1   \n",
       "5   {\"original\": \"Almost the end of July. How is y...  144356        1   \n",
       "6   {\"original\": \"Almost the end of July. How is y...  144356        1   \n",
       "7   {\"original\": \"Almost the end of July. How is y...  144356        1   \n",
       "8   {\"original\": \"Almost the end of July.&nbsp; Ho...  144356        1   \n",
       "9   {\"original\": \"Almost the end of July. How is y...  144356        1   \n",
       "10  {\"original\": \"However, thankfully my computer ...  144356        2   \n",
       "11  {\"original\": \"However, thankfully my computer ...  144356        2   \n",
       "12  {\"original\": \"However, thankfully my computer ...  144356        2   \n",
       "13  {\"original\": \"However, thankfully my computer ...  144356        2   \n",
       "14  {\"original\": \"However, thankfully my computer ...  144356        2   \n",
       "15  {\"original\": \"However, thankfully my computer ...  144356        2   \n",
       "16  {\"original\": \"However, thankfully my computer ...  144356        2   \n",
       "17  {\"original\": \"However, thankfully my computer ...  144356        2   \n",
       "18  {\"original\": \"However, thankfully my computer ...  144356        2   \n",
       "19  {\"original\": \"However, thankfully my computer ...  144356        2   \n",
       "20  {\"original\": \"they simply ignored it. They did...  144356        3   \n",
       "21  {\"original\": \"they simply ignored it.&nbsp; Th...  144356        3   \n",
       "22  {\"original\": \"they simply ignored it.&nbsp; Th...  144356        3   \n",
       "23  {\"original\": \"they simply ignored it. They did...  144356        3   \n",
       "24  {\"original\": \"they simply ignored it. They did...  144356        3   \n",
       "25  {\"original\": \"they simply ignored it. They did...  144356        3   \n",
       "26  {\"original\": \"they simply ignored it.&nbsp; Th...  144356        3   \n",
       "27  {\"original\": \"they simply ignored it.&nbsp; Th...  144356        3   \n",
       "28  {\"original\": \"they simply ignored it.&nbsp; Th...  144356        3   \n",
       "29  {\"original\": \"they simply ignored it.&nbsp; Th...  144356        3   \n",
       "\n",
       "   repetition  \n",
       "0           1  \n",
       "1           2  \n",
       "2           3  \n",
       "3           4  \n",
       "4           5  \n",
       "5           6  \n",
       "6           7  \n",
       "7           8  \n",
       "8           9  \n",
       "9          10  \n",
       "10          1  \n",
       "11          2  \n",
       "12          3  \n",
       "13          4  \n",
       "14          5  \n",
       "15          6  \n",
       "16          7  \n",
       "17          8  \n",
       "18          9  \n",
       "19         10  \n",
       "20          1  \n",
       "21          2  \n",
       "22          3  \n",
       "23          4  \n",
       "24          5  \n",
       "25          6  \n",
       "26          7  \n",
       "27          8  \n",
       "28          9  \n",
       "29         10  "
      ]
     },
     "execution_count": 169,
     "metadata": {},
     "output_type": "execute_result"
    }
   ],
   "source": [
    "fail_test"
   ]
  },
  {
   "cell_type": "code",
   "execution_count": 168,
   "id": "a108abe6-fd86-4169-af48-c79a1a4977ac",
   "metadata": {},
   "outputs": [
    {
     "name": "stdout",
     "output_type": "stream",
     "text": [
      "Error parsing JSON in row 1: {\"original\": \"Almost the end of July. How is your summer going? Yesterday I visited some Blogs on the Internet and picked up a nasty adware or spyware virus, which has disabled my Internet browser, closes open windows automatically, opens up pop-up advertising windows indiscriminately, and seems to keep reinstalling itself, despite my best attempts to delete any foreign files that I find in my operating system. Mind you, I am such an inept technophobe that I couldn’t differentiate a malicious virus from a harmless bug. None the less, as I am not the administrator of my computer at work, I have to wait until he comes back on Monday to access my computer remote, and reboot it after, hopefully, isolating and decontaminating my hard drive. What a nuisance. I was doubly surprised to find out that my networked PC did not even have any anti-virus software on it, thereby making it a perfect roaming target for this adware or spyware to attach itself to my computer, as I casually surfed the Internet. Apparently, the IT gurus in Moscow felt that the firewall on the server was safe enough. These days you don’t want to leave home without a little added protection. Eh, nudge, nudge, wink, wink.\",\n",
      "  \"paraphrase_1\": \"It's nearly the end of July. How's your summer treating you? Just yesterday, I checked out some Blogs online and ended up catching a nasty adware or spyware virus, which has rendered my Internet browser useless, makes my open windows close automatically, and opens random pop-up ads without warning, all while it seems to keep reinstalling itself, despite my efforts to remove any suspicious files from my operating system. Just to clarify, I’m such a tech novice that I can't tell a harmful virus apart from a harmless bug. However, since I’m not the computer administrator at work, I have to wait until he returns on Monday to remote into my computer and reboot it afterwards, hoping to isolate and clean my hard drive. What an annoyance. I was shocked to discover that my networked PC lacked any anti-virus software, making it the perfect target for this adware or spyware while I was casually browsing the web. It seems that the IT experts in Moscow believed the server's firewall was sufficient. Nowadays, you really shouldn’t go online without a bit of extra protection. Eh, nudge, nudge, wink, wink.\",\n",
      "  \"paraphrase_2\": \"July is almost over. How has your summer been? Yesterday, I stumbled upon some Blogs on the Internet and unfortunately downloaded a nasty adware or spyware virus that disabled my browser, automatically closes open windows, and indiscriminately opens pop-up ads while seemingly reinstalling itself despite my best efforts to eradicate any unwanted files from my system. To be honest, I’m so clueless about technology that I can’t even tell the difference between a dangerous virus and a harmless bug. Regardless, since I’m not the administrator for my work computer, I’ll have to wait until he returns on Monday to remotely access my machine and reboot it afterward, hoping to isolate and clean my hard drive. What a hassle. I was further surprised to learn that my networked PC didn't even have anti-virus software, making it an easy target for this adware or spyware while I casually surfed the web. Apparently, the IT specialists in Moscow thought the server's firewall was adequate. In these times, you want to ensure you have some sort of protection before going online. Eh, nudge, nudge, wink, wink.\",\n",
      "  \"paraphrase_3\": \"It's almost the end of July. How's your summer faring? I checked out some Blogs online yesterday and ended up catching a nasty piece of adware or spyware that has disabled my Internet browser, causes my open windows to close on their own, and endlessly opens pop-up ads while it keeps reinstalling itself no matter how many times I attempt to delete unfamiliar files from my operating system. I have to admit, I'm so technically challenged that I can hardly distinguish between a malicious virus and a harmless bug. Nevertheless, because I'm not the administrator of my workplace computer, I must wait for him to return on Monday to access it remotely and perform a reboot afterward, with hopes of isolating and cleaning my hard drive. What a pain! It surprised me even more to find out that there’s no anti-virus software on my networked PC, making it a prime target for this adware or spyware as I idly surfed the web. Evidently, the IT professionals in Moscow believed the firewall on the server was sufficient. Nowadays, you definitely want to have some additional protection before going online. Eh, nudge, nudge, wink, wink.\",\n",
      "  \"paraphrase_4\": \"As July draws to a close, how is your summer going? Just yesterday, I explored some Blogs on the Internet and unfortunately ended up picking up a malicious adware or spyware virus that has rendered my Internet browser nonfunctional, shuts my open windows automatically, launches pop-up advertisements without restraint, and appears to keep reinstalling itself no matter how hard I try to wipe off any suspicious files from my OS. To be honest, I’m such a tech-phobe that I cannot even tell the difference between a harmful virus and a benign bug. Despite this, since I'm not the admin of my work computer, I have to hold off until he’s back on Monday to access my computer remotely, and perform a reboot with any luck in isolating and cleaning my hard drive. What a pain! I was doubly shocked to find that my networked PC doesn't even have any anti-virus software, making it an easy target for adware or spyware while I browse the net mindlessly. Apparently, the IT experts in Moscow thought the server's firewall was sufficient. In this day and age, it’s unwise to venture online without some sort of protection. Eh, nudge, nudge, wink, wink.\",\n",
      "  \"paraphrase_5\": \"We're nearing the end of July. How has your summer been so far? I visited some Blogs yesterday on the Internet and unfortunately picked up a troublesome adware or spyware virus that has disabled my Internet browser, automatically closes my open windows, and opens pop-up ads randomly, all while seeming to reinstall itself despite my efforts to erase any foreign files from my system. I must admit I’m a bit of a tech novice and can’t tell a malicious virus from a benign bug. Nonetheless, since I'm not the one who administers my work computer, I’ll have to wait until he returns on Monday to gain remote access and reboot my system afterward, while hoping to isolate and cleanse my hard drive. What an inconvenience! I was quite surprised to discover that my networked computer lacked any anti-virus software, making it a vulnerable target for this adware or spyware as I casually surfed online. Evidently, the IT gurus in Moscow believed the server's firewall was enough protection. These days, you really don’t want to go online without some added security measures. Eh, nudge, nudge, wink, wink.\",\n",
      "  \"paraphrase_6\": \"It's nearly the end of July now. How's your summer going? I spent some time visiting Blogs online yesterday and ended up infecting my system with a nasty adware or spyware, which has completely disabled my Internet browser, causes my open windows to close automatically, and opens pop-up ads at random while appearing to reinstall itself, despite my attempts to remove any suspicious files from my OS. I have to confess that I am such a hopeless technophobe that I can’t tell a harmful virus from a harmless bug. Still, being that I'm not the administrator of my computer at the office, I’ll have to wait for him to come back on Monday to access my computer remotely and reboot it afterward, while hopefully isolating and cleaning my hard drive. It’s a real nuisance! I was even more surprised to find out that my networked PC had no anti-virus software installed, making it an easy target for adware or spyware as I carelessly surfed the Internet. Apparently, the IT specialists in Moscow thought the firewall on the server would suffice. These days, you shouldn’t go onto the Internet without a bit of extra protection. Eh, nudge, nudge, wink, wink.\",\n",
      "  \"paraphrase_7\": \"As July comes to a close, how’s your summer treating you? I checked some Blogs online yesterday and ended up downloading an obnoxious adware or spyware virus, which has disabled my Internet browser, closes open windows unexpectedly, opens pop-up ads without any warning, and seems to continuously reinstall itself regardless of my efforts to remove any foreign files from my operating system. Considering my ineptitude in technology, I can’t even tell the difference between a malicious virus and a harmless bug. However, since I am not the computer administrator at my workplace, I must wait until he returns on Monday to remotely access my computer and reboot it after, with hopes of isolating and decontaminating my hard drive. What an annoyance! I was doubly shocked to discover that my networked PC didn’t have any anti-virus software installed, making it a prime target for this adware or spyware as I casually surfed online. It seems that the IT experts in Moscow assumed that the server's firewall was enough protection. These days, you definitely want to ensure you have some form of additional protection before heading online. Eh, nudge, nudge, wink, wink.\",\n",
      "  \"paraphrase_8\": \"The end of July is nearly upon us. How has your summer been? Just yesterday, while browsing some Blogs on the Internet, I accidentally downloaded a nasty adware or spyware virus, which has disabled my browser, makes my open windows close automatically, and opens pop-up ads indiscriminately. It even appears to keep reinstalling itself despite my best efforts to delete any foreign files in my operating system. To put it mildly, I’m such a tech novice that I can't even tell the difference between a harmful virus and a harmless bug. Nevertheless, since I’m not the administrator of my workplace computer, I need to wait for my coworker to return on Monday to remotely access my computer and reboot it afterward in hopes of successfully isolating and cleaning my hard drive. Such a nuisance! I was very surprised to learn that my networked computer didn’t even have anti-virus software, making it a sitting duck for this adware or spyware while I idly surfed the Internet. Apparently, the IT team in Moscow expected the server’s firewall to be adequate. These days, you don’t really want to venture online without some added protection. Eh, nudge, nudge, wink, wink.\",\n",
      "  \"paraphrase_9\": \"It's almost the end of July. How is your summer shaping up? Yesterday, I browsed some Blogs on the Internet and picked up a nasty adware or spyware virus that has disabled my Internet browser, causes my open windows to unexpectedly close, and opens pop-up ads at random while seeming to reinstall itself regardless of my attempts to delete any foreign files in my OS. To be frank, I’m such a technology-impaired person that I can’t distinguish between a malicious virus and a harmless bug. Nonetheless, because I’m not the administrator of my work computer, I must wait for him to come back on Monday to remotely access my machine and reboot it afterward, hopefully isolating and cleaning my hard drive in the process. What a drag! I was also astonished to find that my networked PC lacked any anti-virus protection, making it a prime target for adware or spyware while I carelessly surfed the web. Apparently, the IT gurus in Moscow considered the server firewall to be sufficient. In today's world, one definitely should not venture out online without a little extra security. Eh, nudge, nudge, wink, wink.\",\n",
      "  \"paraphrase_10\": \"As July nearly wraps up, how is your summer progressing? Yesterday, I checked out some Blogs online and inadvertently picked up a nasty adware or spyware virus, which has rendered my Internet browser inoperable, closes open windows automatically, and indiscriminately opens pop-up ads, all while apparently reinstalling itself no matter my attempts to remove any unfamiliar files from my operating system. I admit that I’m so tech-inept I can’t even tell a dangerous virus from a harmless bug. Nevertheless, since I’m not the computer admin at my workplace, I must await my coworker's return on Monday to access my computer remotely and reboot it, hopefully isolating and cleaning my hard drive as a result. What a hassle! I was twice as shocked to discover my networked PC had no anti-virus software, making it a perfect target for this adware or spyware as I casually surfed the net. Apparently, the IT team in Moscow felt the server's firewall was good enough. Nowadays, you really don’t want to go online without a bit of added protection. Eh, nudge, nudge, wink, wink.\",\n",
      "  \"paraphrase_11\": \"July is coming to an end. How has your summer been going? Just yesterday, I browsed through some Blogs on the Internet and unfortunately picked up a nasty adware or spyware virus, which has disabled my Internet browser, shuts down my open windows automatically, and opens pop-up advertising windows seemingly at random, as it keeps reinstalling itself despite my best efforts to delete any suspicious files that I come across in my operating system. It’s worth mentioning that I am such a clueless technophobe that I can’t even tell the difference between a malicious virus and a harmless bug. Nevertheless, since I’m not the administrator of my workplace computer, I have to wait until Monday for my coworker to come back and access my computer remotely, and reboot it afterward, hoping to isolate and clean my hard drive in the process. What a bother! I was even more surprised to find out that my networked PC didn’t have any anti-virus software installed, which made it a perfect target for adware or spyware as I casually surfed the web. Apparently, the IT professionals in Moscow felt the server's firewall was adequate enough. Nowadays, you don’t want to go online without some added protection. Eh, nudge, nudge, wink, wink.\",\n",
      "  \"paraphrase_12\": \"We're just about at the end of July. How is your summer treating you? Yesterday, I explored some Blogs online and unfortunately picked up an annoying adware or spyware virus that has disabled my Internet browser, closes open windows automatically, and pops up ads at random, while it seems to keep reinstalling itself no matter how much I attempt to wipe out the foreign files in my operating system. To be truthful, I am such a tech-phobe that I can’t even differentiate between a harmful virus and a harmless bug. Still, since I’m not the administrator for my workplace computer, I must wait for him to return on Monday to access my computer remotely and reboot it afterward, hoping to isolate and detoxify my hard drive. What a hassle! I was taken aback to discover that my networked PC didn't have any anti-virus software, making it a prime target for this adware or spyware as I surfed the Internet casually. Apparently, the IT folks in Moscow thought the server’s firewall was safe enough. Nowadays, you want to ensure you have some form of added security before going online. Eh, nudge, nudge, wink, wink.\",\n",
      "  \"paraphrase_13\": \"We're nearing the end of July. How has your summer been? I browsed some Blogs yesterday on the Internet and, regrettably, picked up a nasty adware or spyware virus that has disabled my browser, closes open windows automatically, and pops open ads indiscriminately while appearing to reinstall itself despite my efforts to eliminate any unwanted files from my operating system. To be honest, I’m such a technology dunce that I can’t distinguish between a dangerous virus and a harmless bug. Regardless, since I'm not the computer administrator at work, I must wait until Monday for him to return to access my computer remotely, reboot it afterward, and, hopefully, isolate and cleanse my hard drive. It’s quite the nuisance! I was also surprised to find out that my networked PC didn’t even have any anti-virus software installed, making it an inviting target for this spyware or adware while I casually browsed the net. Apparently, the IT experts in Moscow believed the firewall on the server was enough security. In today’s world, you certainly don’t want to go online without extra precautions. Eh, nudge, nudge, wink, wink.\",\n",
      "  \"paraphrase_14\": \"July is almost over. How is your summer treating you? I visited some Blogs on the Internet yesterday and ended up inadvertently downloading a nasty adware or spyware virus that has rendered my Internet browser useless, closes open windows on its own, and opens pop-up ads randomly, while continuing to reinstall itself despite my best efforts to delete any foreign files that I find on my operating system. I must admit, I’m such a technophobe that I can’t tell a harmful virus from a harmless bug. Nevertheless, I’m not the administrator of my computer at work, so I have to wait for him to come back on Monday to remotely access my machine and reboot it after, hopefully isolating and cleaning my hard drive. What a nuisance! I was also shocked to learn that my networked PC had no anti-virus software on it, which made it an easy target for this adware or spyware while I casually surfed the web. Apparently, the IT crew in Moscow thought the firewall on the server was sufficient protection. Nowadays, you shouldn’t browse the Internet without some additional safety measures. Eh, nudge, nudge, wink, wink.\",\n",
      "  \"paraphrase_15\": \"It's almost the end of July. How's your summer coming along? I explored some Blogs online yesterday and accidentally picked up a nasty adware or spyware virus that has rendered my Internet browser nonfunctional, closes open windows unexpectedly, and opens pop-up ads randomly while it appears to reinstall itself no matter how hard I try to erase any unfamiliar files from my OS. To be clear, I'm so inept with technology that I can’t even tell a malicious virus from a harmless bug. However, since I'm not the administrator for my work computer, I have to wait until Monday for him to return so he can remotely access my machine and reboot it afterward, with hopes of isolating and cleaning my hard drive. What a pain! I was doubly surprised to find that my networked computer didn't even have anti-virus software installed, which made it a prime target for adware or spyware while I casually surfed the net. Apparently, the IT experts in Moscow thought the server's firewall was enough protection. Today, you shouldn’t go online without some extra precautions. Eh, nudge, nudge, wink, wink.\",\n",
      "  \"paraphrase_16\": \"July is almost at an end. How has your summer treated you? Yesterday, I browsed some Blogs on the Internet and unfortunately caught a nasty adware or spyware virus that has compromised my Internet browser, shuts open windows automatically, and randomly pops up advertising windows, all while it seems to reinstall itself despite my efforts to delete any unusual files in my operating system. To be honest, I am so inept with technology that I can't discern a harmful virus from a harmless bug. Nevertheless, since I am not the administrator of my work computer, I must wait until Monday for my coworker to return to remotely access my computer and reboot it afterward, hopefully isolating and cleaning my hard drive in the process. What an inconvenience! I was quite shocked to discover that my networked PC didn’t even have any anti-virus software, making it a perfect target for this adware or spyware while I casually surfed online. It seems that the IT professionals in Moscow considered the firewall on the server to be sufficient. Nowadays, it’s a given that you shouldn’t venture online without some added protection. Eh, nudge, nudge, wink, wink.\",\n",
      "  \"paraphrase_17\": \"We're nearing the end of July. How is your summer going so far? Yesterday, I wandered through some Blogs on the Internet and regrettably picked up a troublesome adware or spyware virus that disabled my Internet browser, causes my open windows to close on their own, and opens random pop-up advertisements while continuing to reinstall itself despite my best attempts to remove any foreign files from my operating system. Honestly, I’m such a tech-phobe that I can hardly tell the difference between a malicious virus and a harmless bug. Nevertheless, because I’m not the administrator of my work computer, I have to wait until Monday when he’ll return to access my computer remotely and reboot it afterward, hopefully isolating and cleaning my hard drive. What a headache! I was also surprised to find that my networked PC lacked any anti-virus software, making it a prime candidate for adware or spyware while I casually browsed the Internet. Apparently, the IT crew in Moscow believed the server’s firewall was sufficient. In today’s world, you should never go online without some extra layers of protection. Eh, nudge, nudge, wink, wink.\",\n",
      "  \"paraphrase_18\": \"July is nearly over. How has your summer been treating you? Yesterday, I explored some Blogs online and, unfortunately, ended up downloading a nasty adware or spyware virus that has crippled my Internet browser, shuts my open windows down automatically, and indiscriminately opens up pop-up ads, all while seemingly reinstalling itself regardless of my attempts to delete any suspicious files from my operating system. I must confess that I am such a tech novice that I can barely tell a malevolent virus from an innocent bug. Since I'm not the administrator of my workplace compute, I will need to wait until Monday for him to return and access my computer remotely to reboot it afterward, hopefully isolating and cleansing my hard drive in the process. What an irritation! I was particularly shocked to learn that my networked PC didn't even have any anti-virus software installed, making it an easy target for this adware or spyware as I meandered about the web. Apparently, the IT experts in Moscow considered the server's firewall suitable enough. Nowadays, one definitely should make sure to have added protection before venturing online. Eh, nudge, nudge, wink, wink.\",\n",
      "  \"paraphrase_19\": \"As July draws to a close, how is your summer faring? Yesterday, I visited some Blogs on the Internet and unfortunately stumbled upon a nasty adware or spyware virus that has rendered my Internet browser inoperative, closes open windows automatically, and opens pop-up ads at random, while it appears to reinstall itself despite my best efforts to erase any unwanted files from my operating system. To be frank, I’m such a technology-challenged person that I can hardly discern a dangerous virus from a harmless bug. Nevertheless, since I am not the administrator of my work computer, I must wait until my coworker returns on Monday to remotely access my machine and reboot it afterward, hopefully isolating and deleting any harmful files in my hard drive. What a bother! I was also taken aback to discover that my networked PC had no anti-virus software, making it a perfect target for this adware or spyware while I mindlessly browsed the Internet. It seems that the IT professionals in Moscow thought the firewall on the server was adequate protection. Nowadays, it’s certainly unwise to venture online without some added precautions. Eh, nudge, nudge, wink, wink.\",\n",
      "  \"paraphrase_20\": \"We're almost at the end of July. How has your summer been so far? Yesterday, I checked out some Blogs on the Internet and inadvertently downloaded an annoying adware or spyware virus that has incapacitated my Internet browser, closes open windows unexpectedly, and opens pop-up advertisements randomly, while continuously reinstalling itself no matter how hard I try to eliminate any foreign files in my operating system. I must admit I’m such a tech-illiterate person that I can’t distinguish a harmful virus from a benign bug. Regardless, since I’m not the administrator of my work computer, I need to wait until Monday for my coworker to come back and remotely access my system to reboot it afterward, hopefully isolating and purging my\n",
      "Error parsing JSON in row 4: {\"original\": \"Almost the end of July. How is your summer going? Yesterday I visited some Blogs on the Internet and picked up a nasty adware or spyware virus, which has disabled my Internet browser, closes open windows automatically, opens up pop-up advertising windows indiscriminately, and seems to keep reinstalling itself, despite my best attempts to delete any foreign files that I find in my operating system. Mind you, I am such an inept technophobe that I couldn’t differentiate a malicious virus from a harmless bug. None the less, as I am not the administrator of my computer at work, I have to wait until he comes back on Monday to access my computer remote, and reboot it after, hopefully, isolating and decontaminating my hard drive. What a nuisance. I was doubly surprised to find out that my networked PC did not even have any anti-virus software on it, thereby making it a perfect roaming target for this adware or spyware to attach itself to my computer, as I casually surfed the Internet. Apparently, the IT gurus in Moscow felt that the firewall on the server was safe enough. These days you don’t want to leave home without a little added protection. Eh, nudge, nudge, wink, wink.\",\n",
      "  \"paraphrase_1\": \"We're nearly at the end of July. How's your summer treating you? Just yesterday, I was browsing some blogs online and ended up picking up a nasty adware or spyware virus, which has rendered my Internet browser useless, automatically closes open windows, opens annoying pop-up ads randomly, and seems to keep reinstalling itself no matter how hard I try to remove foreign files from my system. Just so you know, I'm such a clueless technophobe that I can't tell a harmful virus from a harmless bug. Still, since I'm not the administrator of my work computer, I’ll have to wait until Monday when he returns to remotely access my computer and hopefully reboot it after isolating and cleaning my hard drive. What an inconvenience! I was also shocked to discover that my networked PC lacked any anti-virus software, making it an easy target for this adware and spyware while I casually browsed the Internet. It appears the IT experts in Moscow believed the server's firewall was sufficient. In today’s world, it’s essential not to go out without some extra protection. Eh, nudge, nudge, wink, wink.\",\n",
      "  \"paraphrase_2\": \"It's almost the end of July. How has your summer been? I visited some blogs yesterday and accidentally picked up a troublesome adware or spyware virus that has completely disabled my browser, randomly closes open windows, opens multiple pop-up ads, and seems to keep reinstalling itself, despite my efforts to delete any strange files from my OS. Just so you know, I'm such a tech-challenged person that I can't differentiate between a harmful virus and a harmless bug. Nonetheless, since I’m not the one in charge of my work computer, I’ll have to wait until my administrator returns on Monday so he can access my computer remotely and reboot it, hopefully isolating and cleaning my hard drive afterward. What a hassle! I was also surprised to learn that my networked computer didn't have any anti-virus software installed, which made it a prime target for this adware and spyware while I casually browsed online. Apparently, the IT team in Moscow thought the firewall on the server was secure enough. Nowadays, you really shouldn’t leave home without some additional protection. Eh, nudge, nudge, wink, wink.\",\n",
      "  \"paraphrase_3\": \"It's nearly the end of July. How is your summer going? Yesterday, I found myself browsing some blogs on the Internet and accidentally picked up a nasty adware or spyware virus that has disabled my Internet browser, randomly closes my open windows, opens up annoying pop-up advertisements without my consent, and seems to be reinstalling itself despite my attempts to clean out any suspicious files from my operating system. Let me clarify, I'm such a technology novice that I can't tell a dangerous virus from an innocent bug. However, since I'm not the computer administrator at my workplace, I have to wait until Monday when he comes back to remotely access my machine and hopefully reboot it after isolating and cleaning my hard drive. What an annoyance! To my surprise, I discovered that my network PC didn't even have any anti-virus software installed, making it a prime target for this adware or spyware while I was casually browsing the net. It seems the IT specialists in Moscow thought that the firewall on the server was secure enough. These days, you really shouldn't go out without some extra protection. Eh, nudge, nudge, wink, wink.\",\n",
      "  \"paraphrase_4\": \"As we approach the end of July, how is your summer? Just yesterday, I was looking through some blogs online and ended up picking up an aggressive adware or spyware virus that has shut down my Internet browser, closes open windows at random, pops up ads without warning, and appears to be reinstalling itself in spite of my best efforts to delete incongruous files from my operating system. Keep in mind that I am such a tech-inept person that I cannot tell a malicious virus apart from a benign bug. Nevertheless, as I do not have administrative rights to my work computer, I will need to wait until my administrator returns on Monday to remotely access my device and, hopefully, reboot it while isolating and detoxifying my hard drive. What an inconvenience! Surprisingly, I found that my networked computer lacked any anti-virus software, thus making it an easy target for adware or spyware to latch onto as I browsed the web. Apparently, the IT team in Moscow deemed that the firewall on the server was ample protection. In today's world, you shouldn’t leave home without some extra security. Eh, nudge, nudge, wink, wink.\",\n",
      "  \"paraphrase_5\": \"We're almost through with July. How’s your summer experience been? Yesterday, I was browsing some blogs online and inadvertently picked up a nasty adware or spyware virus that has crippled my Internet browser, closes open windows unexpectedly, opens pop-up advertisements at random, and seems to reinstall itself no matter how I attempt to clear foreign files from my operating system. Just to give you an idea, I'm such a tech-phobic that I can't distinguish a harmful virus from an innocuous bug. Regardless, as I'm not the administrator for my workplace computer, I must wait until Monday for him to come back and access my desktop remotely, reboot it, and hopefully be able to isolate and clean my hard drive afterwards. What a nuisance this is! I was also so surprised to find out that my networked computer didn't even have anti-virus protections installed, making it an easy target for adware and spyware while I surfed online. Apparently, the IT professionals in Moscow thought the firewall was sufficient. In this day and age, you cannot go out without having extra security. Eh, nudge, nudge, wink, wink.\",\n",
      "  \"paraphrase_6\": \"As we near the end of July, how has your summer been treating you? Yesterday, I explored some blogs on the Internet and ended up contracting a nasty piece of adware or spyware that has shut down my Internet browser, closes windows as if possessed, throws random pop-up ads at me, and seems to reinstall itself no matter how hard I try to eradicate unidentified files from my operating system. To be fair, I'm such a technophobe that I can’t tell a harmful virus from a harmless one. However, I am not the one who manages my work computer, so I’ll need to wait until Monday for the administrator to return to remotely access my machine, reboot it, and hopefully eliminate the problem while isolating and decontaminating my hard drive. What a troublesome situation! I was also quite shocked to discover that there was no anti-virus software on my networked computer, making it an easy target for the adware or spyware to attach itself while I casually browsed the web. Apparently, our IT experts in Moscow thought the server's firewall was sufficient protection. In this day and age, you really shouldn’t go out without some added security. Eh, nudge, nudge, wink, wink.\",\n",
      "  \"paraphrase_7\": \"We're almost at the end of July. How has your summer been? I spent some time yesterday browsing various blogs online and unfortunately picked up a nasty spyware or adware virus that has crippled my Internet browser, closes open windows unexpectedly, opens malicious pop-up ads indiscriminately, and appears to reinstall itself no matter how much I try to clear foreign files from my operating system. To be honest, I am such a tech-inept person that I can’t distinguish between a harmful virus and a harmless bug. Regardless, since I'm not the computer administrator at my workplace, I have to wait until Monday for him to come back and remotely access my computer, rebooting it afterward with the hope of isolating and cleansing my hard drive. What a pain! Additionally, I was taken aback to discover that my networked PC didn’t even have any kind of anti-virus software on it, making it a ripe target for this adware or spyware while I enjoyable surfed the web. Apparently, the IT folks in Moscow thought the firewall on the server was adequate. These days, it’s wise not to step outside without a little extra protection. Eh, nudge, nudge, wink, wink.\",\n",
      "  \"paraphrase_8\": \"It's nearing the end of July. How's your summer going thus far? Just yesterday, I was perusing some blogs on the Internet and unfortunately caught a pesky adware or spyware virus that has disabled my browser, closes open windows by itself, opens various pop-up ads indiscriminately, and seems to be persistently reinstalling itself despite my best attempts to delete any weird files from my operating system. To be frank, I'm such a technology dunce that I can't differentiate a harmful virus from an innocent bug. Nevertheless, since I'm not the administrator of my work computer, I’ll have to wait until my administrator is back on Monday to gain remote access to my machine, reboot it, and hopefully cleanse and isolate my hard drive. What an inconvenience! I was also really surprised to learn that my networked PC didn’t have any anti-virus software installed, making it an easy target for adware or spyware as I leisurely surfed the Internet. Apparently, the IT specialists in Moscow believed the firewall on the server was good enough. These days you really shouldn’t go out without extra security in place. Eh, nudge, nudge, wink, wink.\",\n",
      "  \"paraphrase_9\": \"As we approach the end of July, how has your summer been? Yesterday, I visited some blogs on the Internet and unfortunately picked up a nasty adware or spyware virus which has disabled my Internet browser, closes my open windows randomly, opens pop-up ads indiscriminately, and seems to reinstall itself despite my attempts to delete any strange files in my operating system. I must admit, I am such a technology-challenged person that I cannot tell the difference between a harmful virus and an innocent bug. Nonetheless, since I’m not the administrator of my work computer, I have to wait until Monday for him to come back and remotely access my machine, rebooting it after hopefully isolating and cleaning up my hard drive. What a bother it is! To my dismay, I found that my work PC lacked any anti-virus software, making it a prime target for this adware or spyware as I casually browsed the web. Apparently, the IT experts in Moscow figured that the server’s firewall provided enough safety. In our current world, you certainly shouldn’t leave home without a bit of added protection. Eh, nudge, nudge, wink, wink.\",\n",
      "  \"paraphrase_10\": \"It’s almost the end of July. How is your summer treating you so far? Yesterday, I was reading some blogs on the Internet and unfortunately caught a nasty adware or spyware virus that has disabled my Internet browser, causing it to close windows automatically, opening random pop-up ads, and seems to be reinstalling itself no matter how much I try to delete any unfamiliar files in my operating system. I should mention that I am such a technology-inept person that I can’t tell a dangerous virus from a harmless bug. Nonetheless, as I do not have administrative rights to my work computer, I must wait until Monday for him to return and access my computer remotely, and subsequently reboot, while ideally isolating and cleaning my hard drive. What a hassle! I was also quite shocked to discover that my networked PC didn’t even have any anti-virus software, thus making it a perfect candidate for this adware or spyware while I casually browsed the Internet. Evidently, the IT specialists in Moscow have decided the firewall is enough protection. Nowadays, it’s crucial not to leave home without some security in place. Eh, nudge, nudge, wink, wink.\",\n",
      "  \"paraphrase_11\": \"July is almost over. How has your summer been? Yesterday I found myself checking out some blogs online and unfortunately contracted a nasty adware or spyware virus, which has disabled my Internet browser, closes open windows without cause, indiscriminately opens pop-up ads, and appears to continuously reinstall itself, no matter how hard I try to eradicate any foreign files from my operating system. It's worth noting that I am quite the technophobe and can't tell a malicious virus from an innocuous bug. Regardless, I'm not the administrator of my work computer,meaning I will have to wait until Monday for him to return so he can remotely access my computer and hopefully reboot it, isolating and cleaning my hard drive afterward. What a nuisance this has turned out to be! To top it off, I was surprised to find out that my networked PC had no anti-virus software at all, making it a perfect target for adware and spyware to latch onto while I casually surfed the web. Apparently, the IT guys in Moscow figured the server's firewall was adequate. In today's world, it is wise to never leave home without some added protection. Eh, nudge, nudge, wink, wink.\",\n",
      "  \"paraphrase_12\": \"With July nearing its end, how is your summer coming along? I browsed some blogs online yesterday and unfortunately caught some nasty adware or spyware that has taken over my Internet browser, closing my open windows automatically, opening random pop-up advertisements, and seemingly reinstalling itself despite my best efforts to eliminate any odd files in my operating system. Just as a side note, I’m such a tech-inept person that I can’t tell the difference between a harmful virus and an innocent bug. Nevertheless, not being the administrator of my work computer means I have to wait until Monday for him to return so that he can remotely check my computer and reboot it afterwards, ideally isolating and cleansing my hard drive. What a hassle! I was equally shocked to discover that my networked PC had no anti-virus software, making it an easy target for adware and spyware while I casually surfed the Internet. Apparently, the IT experts in Moscow thought the server's firewall would suffice. In this day and age, you definitely want to take extra precautions before venturing out. Eh, nudge, nudge, wink, wink.\",\n",
      "  \"paraphrase_13\": \"As we approach the end of July, how has your summer been thus far? Yesterday, I perused some blogs on the Internet and somehow picked up a nasty spyware or adware virus that has rendered my Internet browser useless, closed open windows at random, opened pop-up ads indiscriminately, and seems to be reinstalling itself despite my diligent attempts to remove any unwanted files from my operating system. To my dismay, I’m so inept with technology that I can’t tell a harmful virus from an innocuous bug. Nevertheless, since I’m not in charge of my work computer, I’ll have to wait until Monday for my administrator to return so he can access my computer remotely, reboot it, and hopefully isolate and cleanse my hard drive afterward. What a nuisance! Additionally, I was quite surprised to learn that my networked computer didn’t have any anti-virus software installed, creating a perfect opportunity for this adware or spyware to attach itself while I idly surfed the web. Apparently, the IT professionals in Moscow believed that the firewall on the server was sufficient. These days, you should definitely not go out without some added protection. Eh, nudge, nudge, wink, wink.\",\n",
      "  \"paraphrase_14\": \"We're almost at the end of July. How's your summer going? I spent part of yesterday reading some blogs online and unfortunately caught a nasty adware or spyware virus that has disabled my Internet browser, randomly closes open windows, and indiscriminately opens pop-up advertising windows while reinstalling itself no matter how hard I try to remove foreign files from my operating system. I should mention that I’m not very tech-savvy and can hardly tell a malicious virus from a harmless bug. Regardless of that, since I'm not the one managing my work computer, I’ll have to wait until Monday for my administrator to return and access my system remotely, rebooting it afterward while ideally isolating and cleaning my hard drive. What an inconvenience! I was also quite shocked to learn that my networked computer had no anti-virus software, making it a prime target for this adware or spyware as I casually surfed the Internet. Apparently, the IT guys in Moscow felt the firewall on our server was adequate. In these times, it's essential to not leave home without some extra precautions in place. Eh, nudge, nudge, wink, wink.\",\n",
      "  \"paraphrase_15\": \"As July nears its close, how is your summer treating you? Yesterday, I found myself browsing some blogs on the Internet and unfortunately ended up with a nasty adware or spyware virus, which has incapacitated my Internet browser, closes my open windows on its own, and opens various pop-up ads indiscriminately, seeming to constantly reinstall itself regardless of my attempts to clear away any unwanted files from my system. Just to clarify, I'm such a tech-phobic individual that distinguishing a harmful virus from an innocuous bug is nearly impossible for me. However, since I'm not the administrator of my work computer, I will have to wait until my administrator comes back on Monday to remotely access my device, reboot it, and hopefully manage to isolate and clean up my hard drive. What a nuisance! I was also alarmed to discover that my networked PC has no anti-virus software, thus making it a prime target for adware or spyware during my casual web browsing. Apparently, the IT experts in Moscow thought the server's firewall was sufficient protection. These days, it’s essential to ensure you have a little extra protection before heading out. Eh, nudge, nudge, wink, wink.\",\n",
      "  \"paraphrase_16\": \"It's almost the end of July. How's your summer going? Just yesterday, I browsed through some blogs online and ended up picking up a nasty adware or spyware virus, which has disabled my Internet browser, closes opened windows unexpectedly, opens pop-up advertisements without warning, and seems to keep reinstalling itself, no matter what I do to delete any unwanted files in my operating system. To be honest, I'm such a technophobic person that distinguishing a harmful virus from a harmless bug is beyond my capability. Regardless, not being the administrator of my work computer means I have to wait until Monday for him to return so he can remotely access my computer and reboot it, ideally isolating and cleaning my hard drive afterward. What a headache! I was shocked to find that my networked PC has no anti-virus software, making it a prime target for adware or spyware while I casually surfed the web. Apparently, the IT professionals in Moscow deemed the server's firewall adequate. These days, it’s wise not to leave home without some form of extra protection. Eh, nudge, nudge, wink, wink.\",\n",
      "  \"paraphrase_17\": \"We're almost at the end of July. How is your summer so far? Yesterday, I visited a few blogs on the Internet and unfortunately picked up a nasty adware or spyware virus that has completely disabled my Internet browser, causes my open windows to close automatically, opens annoying pop-up ads indiscriminately, and seems to reinstall itself despite my best efforts to remove any strange files on my operating system. To be fair, I am such a tech-inept person that I can't differentiate a harmful virus from a harmless bug. Nonetheless, since I'm not the administrator of my office computer, I have to wait until Monday for him to return to deal with the situation remotely and reboot it after hopefully isolating and cleaning my hard drive. What a mess! I was also surprised to find out that my networked PC did not have any anti-virus software on it, thus making it a perfect target for adware or spyware to attach itself while I casually browsed the Internet. Apparently, the IT professionals in Moscow felt that the firewall setup on the server was adequate. Nowadays, it's smart to have some extra protection before heading out. Eh, nudge, nudge, wink, wink.\",\n",
      "  \"paraphrase_18\": \"As we near the end of July, how’s your summer going? Just yesterday, I browsed a few blogs online and unfortunately picked up a nasty adware or spyware virus, which has disabled my Internet browser, closes my open windows on its own, indiscriminately opens pop-up ads, and seems to be reinstalling itself despite my efforts to erase any suspicious files in my operating system. I should mention that I am such a technology-averse person that I can’t differentiate between a harmful virus and an innocuous bug. Nonetheless, as I'm not the administrator of my work computer, I’ll have to wait until Monday for him to return and remotely access my machine and reboot it while ideally isolating and cleaning my hard drive. What an inconvenience! I was also quite shocked to learn that my networked PC had no anti-virus software installed, making it a prime target for this adware or spyware as I casually surfed online. Apparently, the IT department in Moscow thought the firewall on the server was sufficient security. Nowadays, you really shouldn't go out without some added protection. Eh, nudge, nudge, wink, wink.\",\n",
      "  \"paraphrase_19\": \"As July draws to a close, how is your summer treating you? yesterday, I visited some blogs online and unfortunately came across a nasty adware or spyware virus that has disabled my Internet browser, closes my open windows randomly, opens pop-up ads at will, and continues to reinstall itself despite my attempts to eradicate any suspicious files from my operating system. Just to clarify, I'm such a tech-inept individual that discerning a harmful virus from a harmless bug is something I struggle with. Nonetheless, as I'm not the administrator of my work computer, I'll have to wait until Monday for him to come back to handle this situation remotely and reboot the computer after, ideally isolating and cleaning my hard drive. What a bother! I was also taken aback to discover that my networked computer didn't have any anti-virus software, making it an ideal target for adware or spyware to latch onto while I casually surfed the Internet. Apparently, the IT folks in Moscow thought the firewall on the server was good enough protection. It’s prudent these days not to venture out without extra security. Eh, nudge, nudge, wink, wink.\",\n",
      "  \"paraphrase_20\": \"We're almost at the end of July now. How is your summer going? Yesterday, I explored a few blogs on the Internet and inadvertently picked up a nasty adware or spyware virus that has completely altered my Internet browser, automatically closing open windows, generating unwanted pop-up ads at random, and appears to keep reinstalling itself despite my best efforts to delete any suspicious files in my operating system. Keep in mind, I am such a technology-averse person that I cannot differentiate between a harmful virus and a benign bug. However, since I'm not the admin of my work computer, I’m forced to wait until my computer administrator comes back on Monday to remotely access my machine and, hopefully, reboot it after\n",
      "Error parsing JSON in row 6: {\"original\": \"Almost the end of July. How is your summer going? Yesterday I visited some Blogs on the Internet and picked up a nasty adware or spyware virus, which has disabled my Internet browser, closes open windows automatically, opens up pop-up advertising windows indiscriminately, and seems to keep reinstalling itself, despite my best attempts to delete any foreign files that I find in my operating system. Mind you, I am such an inept technophobe that I couldn’t differentiate a malicious virus from a harmless bug. None the less, as I am not the administrator of my computer at work, I have to wait until he comes back on Monday to access my computer remote, and reboot it after, hopefully, isolating and decontaminating my hard drive. What a nuisance. I was doubly surprised to find out that my networked PC did not even have any anti-virus software on it, thereby making it a perfect roaming target for this adware or spyware to attach itself to my computer, as I casually surfed the Internet. Apparently, the IT gurus in Moscow felt that the firewall on the server was safe enough. These days you don’t want to leave home without a little added protection. Eh, nudge, nudge, wink, wink.\",\n",
      "  \"paraphrase_1\": \"It's almost the end of July. How's your summer going? I visited some blogs online yesterday and ended up getting a horrible adware or spyware virus that has disabled my Internet browser, makes open windows close automatically, opens intrusive pop-up ads randomly, and appears to keep reinstalling itself, no matter how hard I try to delete suspicious files from my operating system. To be honest, I'm such a poor technophile that I can't even tell the difference between a harmful virus and a harmless bug. Nevertheless, since I'm not the admin of my work computer, I have to wait for him to return on Monday to access my system remotely and reboot it after, hopefully isolating and cleaning up my hard drive. What a hassle. I was really surprised to learn that my networked PC didn’t have any antivirus software on it, which made it an ideal target for this adware or spyware to attach itself while I casually browsed the Internet. Apparently, the IT experts in Moscow believed that the server's firewall was adequate. These days, it's essential to have a little extra protection before you step out. Eh, nudge, nudge, wink, wink.\",\n",
      "  \"paraphrase_2\": \"July is almost over. How's your summer treating you? Just yesterday, I stumbled upon some blogs online and unfortunately caught a terrible adware or spyware virus that has rendered my Internet browser useless, forces open windows to close on their own, spams me with pop-up ads freely, and seems to constantly reinstall itself despite my attempts to remove any suspicious files from my system. To be honest, I’m such a technology novice that I wouldn’t know a malicious virus from a harmless glitch. Still, since I'm not the person in charge of my work computer, I'll have to wait until he returns on Monday to connect to my PC remotely and restart it afterward, hopefully isolating and purging my hard drive of any contaminants. What a pain. I was taken aback to discover that there was no antivirus program installed on my networked PC, making it a perfect target for this adware or spyware while I casually surfed the web. It seems the tech-savvy people in Moscow thought the server's firewall was sufficient. Nowadays, you certainly don't want to head out without some extra protection. Eh, nudge, nudge, wink, wink.\",\n",
      "  \"paraphrase_3\": \"With July nearly finished, how is your summer going? Yesterday, I browsed some blogs on the Internet and ended up contracting a nasty adware or spyware virus that has disabled my Internet browser, shuts open windows by itself, opens pop-up ads indiscriminately, and appears to keep reappearing regardless of my diligent efforts to delete unfamiliar files within my operating system. To put it lightly, I’m such a technological klutz that I can’t distinguish a harmful virus from a harmless bug. Regardless, I'm not the admin of my office computer, so I must wait until he gets back on Monday to remotely access my computer, restart it, and hopefully isolate and clean my hard drive. What an inconvenience. I was quite shocked to find out that my networked computer lacked any antivirus software, which made it an optimal target for this adware or spyware to latch on to while I was browsing the Internet casually. From what I gather, the IT whizzes in Moscow thought the firewall on the server was secure enough. These days, going out without a bit of extra security is not wise. Eh, nudge, nudge, wink, wink.\",\n",
      "  \"paraphrase_4\": \"We're nearing the end of July. How's your summer treating you? I visited some blogs on the Internet yesterday and accidentally downloaded a nasty adware or spyware virus that disabled my browser, closes windows on its own, opens unwanted pop-up ads at random, and seems to reinstall itself despite my attempts to remove any foreign files I can find on my operating system. Honestly, I'm such a technology novice that I can’t tell the difference between a harmful virus and a harmless software glitch. However, since I'm not the computer administrator at work, I need to wait for him to return on Monday before he can remotely access my computer, reboot it, and hopefully isolate and clean my hard drive. Such a nuisance! I was also quite surprised to learn that my networked PC didn’t even have any antivirus protection, which made it an ideal target for this adware or spyware as I surfed the Internet. Apparently, the IT experts in Moscow believed that the firewall protecting the server was enough. Nowadays, it's important to have some additional protection before heading out. Eh, nudge, nudge, wink, wink.\",\n",
      "  \"paraphrase_5\": \"We're almost at the end of July. How's your summer going? Yesterday, I came across some blogs on the Internet and picked up a nasty adware or spyware virus that has disabled my Internet browser, closes open windows automatically, opens pop-up ads at random, and keeps reinstalling itself, no matter what I do to remove foreign files from my system. To be frank, I’m such a tech-inept person that I can’t tell a malicious virus from an innocuous bug. Nevertheless, since I don't have administrative access to my work computer, I have to bide my time until he returns on Monday to remotely access my computer and reboot it, ideally isolating and cleaning my hard drive afterward. What a hassle. I was rather shocked to find out that my networked PC didn't have any anti-virus software, rendering it a prime target for this adware or spyware while I was casually browsing the web. Apparently, the IT specialists in Moscow thought the server's firewall was sufficient. In these times, you don't want to leave your home without a bit more security. Eh, nudge, nudge, wink, wink.\",\n",
      "  \"paraphrase_6\": \"It's nearly the end of July. How has your summer been? I happened to visit several blogs on the Internet yesterday and inadvertently picked up a nasty adware or spyware infection that has rendered my Internet browser unusable, closes windows on its own, opens pop-up ads indiscriminately, and appears to keep reinstalling itself regardless of my efforts to get rid of any suspicious files in my operating system. Given that I'm pretty clueless about technology, distinguishing a harmful virus from a harmless glitch is beyond me. However, since I’m not the administrator of my work computer, I will have to wait until Monday when he returns to remotely fix my computer and reboot it afterward, hopefully isolating and cleaning my hard drive. It's quite a nuisance. I was surprised to discover my networked PC had no antivirus software, making it a perfect target for this adware or spyware while I browsed the Internet casually. Apparently, the IT team in Moscow felt that the server's firewall was robust enough. These days, it’s crucial to have some extra protection before venturing out. Eh, nudge, nudge, wink, wink.\",\n",
      "  \"paraphrase_7\": \"As we approach the end of July, how is your summer progressing? Yesterday, I visited some blogs on the Internet and ended up catching a nasty adware or spyware virus which has crippled my Internet browser, automatically closes any open windows, opens up pop-up advertisements randomly, and seems to continuously reinstall itself no matter how many foreign files I try to remove from my operating system. I must admit, I’m such a tech-inept person that differentiating between a malicious virus and a harmless bug is beyond me. Nonetheless, because I'm not the administrator of my work computer, I will have to wait until he returns on Monday to remotely access my computer and reboot it afterward, in hopes of isolating and sanitizing my hard drive. What a real bother. To my surprise, I found out that my networked PC didn't even have antivirus software, which made it an inviting target for this adware or spyware while I was nonchalantly browsing the Internet. It seems the IT specialists in Moscow deemed the server's firewall to be secure enough. It’s crucial these days to have some additional security before leaving the house. Eh, nudge, nudge, wink, wink.\",\n",
      "  \"paraphrase_8\": \"July is almost coming to a close. How's your summer going? Yesterday, I perused some blogs on the Internet and picked up a pretty nasty adware or spyware virus which has rendered my Internet browser useless, forces open windows to close, randomly opens pop-up ads, and appears to keep reinstalling itself despite my efforts to eliminate foreign files in my operating system. I admit, I am such a tech-phobic that I can’t tell a harmful virus from a harmless bug. Nevertheless, not being the administrator for my work computer means I have to wait until he gets back on Monday to access my computer remotely, restart it, and hopefully isolate and clean my hard drive. What an inconvenience! I was also shocked to find that my networked PC lacked any antivirus software, making it a prime target for this adware or spyware while I surfed the Internet casually. Apparently, IT experts in Moscow felt that the firewall was secure enough. Nowadays, leaving home without extra protection is ill-advised. Eh, nudge, nudge, wink, wink.\",\n",
      "  \"paraphrase_9\": \"We're nearly done with July. How has your summer been? Just yesterday, I explored some blogs online and picked up a troublesome adware or spyware virus that has disabled my Internet browser, causes open windows to close unexpectedly, opens pop-up ads indiscriminately, and seems to keep reinstalling itself no matter how hard I try to remove any unfamiliar files in my operating system. Honestly, I’m so inept with technology that I can’t discern a malicious virus from a benign bug. Nonetheless, given that I am not the person who administers my work computer, I must wait for him to return on Monday to remotely access my computer and reboot it afterward, possibly isolating and decontaminating my hard drive. What an annoyance! I was particularly surprised when I discovered that there was no antivirus software on my networked PC, making it an inviting target for this adware or spyware while I ambled around the Internet. Apparently, the IT specialists in Moscow believed that the firewall on the server was robust enough. These days, it's wise to have some added security before heading out. Eh, nudge, nudge, wink, wink.\",\n",
      "  \"paraphrase_10\": \"As July draws to a close, how has your summer been? Yesterday, I stumbled upon a few blogs online and inadvertently caught a nasty adware or spyware virus, which has rendered my Internet browser inoperable, automatically closes open windows, opens pop-up ads randomly, and seems to reinstall itself regardless of my extensive efforts to delete any suspicious files from my operating system. Frankly speaking, I’m such a tech novice that I can’t tell a malignant virus from a harmless bug. Despite this, since I do not have administrative rights to my computer at work, I will have to wait until Monday for the administrator to return and remotely access my PC to reboot it, hopefully isolating and cleansing my hard drive in the process. What an irritating situation! I was shocked to learn that there was absolutely no antivirus protection on my networked PC, which made it a perfect target for this adware or spyware while I casually surfed the web. Apparently, the IT crew in Moscow thought the server's firewall was sufficient. These days, it's critical to not step out without some additional security. Eh, nudge, nudge, wink, wink.\",\n",
      "  \"paraphrase_11\": \"We're nearing the end of July. How is your summer treating you? Yesterday, I visited a few blogs online and unfortunately contracted a nasty adware or spyware virus that has disabled my Internet browser, caused my open windows to close by themselves, unleashed pop-up ads indiscriminately, and seems to keep reinstalling itself despite my best efforts to remove any rogue files from my operating system. Truth be told, I am such a technology phobic that I can't distinguish a harmful virus from a benign bug. Regardless, since I am not the administrator of my work computer, I must wait for him to return on Monday in order to access my computer remotely, reboot it, and hopefully isolate and cleanse my hard drive. Such a nuisance! I was rather taken aback to discover that my networked PC lacked any antivirus software, making it an enticing target for this adware or spyware while I casually surfed the web. Evidently, the IT experts in Moscow felt that the server's firewall was secure enough. In today's world, it’s prudent not to go out without some extra security. Eh, nudge, nudge, wink, wink.\",\n",
      "  \"paraphrase_12\": \"As the end of July approaches, how has your summer treated you? Yesterday, I browsed through some blogs on the Internet and picked up an annoying adware or spyware virus that has shut down my Internet browser, causes open windows to close arbitrarily, presents pop-up ads at random, and appears to keep reinstalling itself despite my persistent attempts to rid my operating system of any foreign files. I must confess that I’m such a tech-incompetent that I can’t tell the difference between a dangerous virus and an innocuous bug. However, since I’m not the one in charge of my work computer, I will have to wait until the administrator returns on Monday to remotely resolve the issue and reboot my computer, ideally isolating and eradicating any threats from my hard drive. What a hassle! I was taken aback to learn that my networked computer had no antivirus software, rendering it a prime target for this adware or spyware during my casual Internet browsing. Apparently, the IT specialists in Moscow deemed the server's firewall to be enough protection. Nowadays, you definitely don’t want to head out without a bit more security. Eh, nudge, nudge, wink, wink.\",\n",
      "  \"paraphrase_13\": \"July is almost concluding. How is your summer going? Just yesterday, I explored a couple of blogs online and unintentionally got a nasty adware or spyware virus that has disabled my Internet browser, makes open windows close automatically, opens numerous pop-up advertisements at will, and seems to keep reinstalling itself despite my attempts to delete any questionable files from my operating system. To be frank, I am such a technology phobic that I wouldn’t be able to differentiate a harmful virus from a non-threatening bug. Regardless, as I am not the computer administrator at my workplace, I have to wait for him to come back on Monday so he can access my computer remotely, restart it, and hopefully quarantine and sanitize my hard drive. What a bothersome situation. I was quite surprised to find that my networked PC had no antivirus software, making it a vulnerable target for this adware or spyware while I was casually browsing the web. Apparently, the IT people in Moscow believed the firewall on the server was secure enough. Today, leaving home without any additional protection is a risky endeavor. Eh, nudge, nudge, wink, wink.\",\n",
      "  \"paraphrase_14\": \"As July nears its end, how is your summer progressing? Yesterday, I checked out several blogs on the Internet and unwittingly downloaded a troublesome adware or spyware virus that has disabled my Internet browser, closes open windows at random, opens up pop-up ads without warning, and seems to keep reinstalling itself regardless of the steps I take to remove any foreign files from my system. Honestly, I’m quite a tech-savvy novice and can’t tell a harmful virus from a harmless bug. Anyway, since I do not have administrative access to my work computer, I will need to wait for the administrator to return on Monday to remotely access my computer, reboot it, and, if lucky, isolate and disinfect my hard drive. What an annoyance this has turned out to be! I was really shocked to find that my networked PC lacked any antivirus software, rendering it a prime target for this adware or spyware as I casually browsed the Internet. Evidently, the IT professionals in Moscow felt the server's firewall was sufficient. Nowadays, you really shouldn’t go out without a bit of extra security. Eh, nudge, nudge, wink, wink.\",\n",
      "  \"paraphrase_15\": \"As we approach the end of July, how is your summer so far? Yesterday, I came across some blogs on the Internet and accidentally contracted a nasty adware or spyware virus that has rendered my Internet browser inoperative, makes open windows close by themselves, opens pop-up adverts at will, and appears to continuously reinstall itself no matter my efforts to delete any foreign files in my operating system. Simply put, I’m such a tech inept that I can’t tell the difference between a malicious virus and a harmless glitch. However, without administrative access to my work computer, I need to wait until the administrator returns on Monday to remotely connect to my PC and reboot it, hoping to isolate and cleanse my hard drive afterward. It has certainly become an inconvenience! I was astonished to find out that there was no antivirus software installed on my networked PC, easily making it a target for this adware or spyware during my casual web surf. Apparently, those in the IT department in Moscow thought the firewall provided adequate protection. Nowadays, it’s wise to have some extra protection before stepping out. Eh, nudge, nudge, wink, wink.\",\n",
      "  \"paraphrase_16\": \"We're approaching the end of July. How's your summer going? Yesterday, I browsed a few blogs online and inadvertently picked up a nasty adware or spyware virus that has disabled my browser, automatically closes open windows, opens pop-up ads indiscriminately, and seems to keep reinstalling itself despite all my attempts to remove any harmful files from my operating system. Admittedly, I am rather a tech-phobe and can’t differentiate between a dangerous virus and a harmless bug. Nevertheless, not having administrative rights on my work computer means I will have to wait until the administrator is back on Monday to remotely fix my computer and reboot it, hopefully isolating and cleaning my hard drive as well. Such a nuisance! I was pay attention when I learned that my networked PC had no antivirus software, rendering it an ideal target for this adware or spyware while I casually surfed the Internet. Apparently, the IT specialists in Moscow deemed the server's firewall to be sufficient. These days, it’s always advisable to have an added layer of protection before going out. Eh, nudge, nudge, wink, wink.\",\n",
      "  \"paraphrase_17\": \"Approaching the end of July, how is everything with your summer? I visited some blogs on the Internet yesterday and unfortunately picked up a nasty adware or spyware virus that has disabled my Internet browser, closes open windows on its own, indiscriminately opens pop-up ads, and seems to keep reinstalling itself no matter what measures I take to eliminate any unwanted files in my operating system. Honestly, I’m such a tech-inept person that I can’t distinguish a harmful virus from an innocuous bug. Nevertheless, I’m not the administrator of my work computer, so I will have to wait for him to return on Monday to remotely access my PC to reboot it, in hopes of isolating and sanitizing my hard drive afterward. What an annoyance! I was shocked to discover my networked PC didn’t even have antivirus software, which made it a perfect target for this adware or spyware while I casually browsed the web. Apparently, the IT experts in Moscow thought the firewall on the server was adequate. Nowadays, it is crucial not to leave home without some added protection. Eh, nudge, nudge, wink, wink.\",\n",
      "  \"paraphrase_18\": \"It's nearing the end of July. How has your summer been going? I checked out some blogs on the Internet yesterday and inadvertently caught a nasty adware or spyware virus, which has incapacitated my Internet browser, automatically closing open windows, opening pop-up ads at random, and seems to keep reinstalling itself despite my attempts to erase any foreign files I find in my operating system. Quite frankly, I'm such a technology-phobic person that I can't distinguish between a malicious virus and a harmless bug. Nevertheless, because I am not the administrator of my office computer, I have to wait until he returns on Monday to remotely access it, restart it, and hopefully isolate and clean my hard drive afterward. What a massive inconvenience! It’s also shocking to learn that my networked PC has no antivirus protection at all, rendering it a prime target for this adware or spyware while I browse casually. Apparently, the IT professionals in Moscow believed that the server's firewall was secure. Therefore, these days, you definitely do not want to set out without an extra layer of protection. Eh, nudge, nudge, wink, wink.\",\n",
      "  \"paraphrase_19\": \"We're approaching the end of July. How is your summer shaping up? Just yesterday, I browsed through some blogs online and unfortunately picked up a nasty adware or spyware virus that has disabled my Internet browser, automatically closes windows, opens pop-up advertisements indiscriminately, and seems to keep reinstalling itself regardless of my best efforts to delete any suspicious files from my operating system. I admit I’m quite a technology novice and can’t discern a harmful virus from a harmless bug. Nonetheless, since I'm not the administrator of my work computer, I will have to wait until he returns on Monday to remotely access my computer, reboot it afterward, and hopefully isolate and cleanse my hard drive. What an irritating situation! I was also struck by the fact that my networked PC had no antivirus software at all, making it an ideal target for this adware or spyware while I was casually browsing. Evidently, the IT experts in Moscow believed the server's firewall was enough protection. Nowadays, it's crucial not to go out without some extra security. Eh, nudge, nudge, wink, wink.\",\n",
      "  \"paraphrase_20\": \"As we near the end of July, how is your summer progressing? Yesterday, I visited some blogs on the Internet and inadvertently caught a nasty adware or spyware virus that has rendered my Internet browser useless, automatically closes open windows, opens up unsolicited pop-up ads, and seems to keep reinstalling itself regardless of my attempts to eliminate any foreign files from my operating system. To put it plainly, I know so little about technology that I can’t differentiate a harmful virus from a harmless glitch. Despite that, since I’m not the one who administers my work computer, I must wait for him to return on Monday to remotely address the issue and reboot the system afterward, hopefully isolating and decontaminating my hard drive as well. Such a headache! I was also surprised to find out that my networked PC didn’t have any antivirus software, which made it a vulnerable target for this adware or spyware while I casually surfed the web. Apparently, the IT team in Moscow considered the server's firewall to be sufficient. Nowadays, it's essential to have a bit of extra\n",
      "Error parsing JSON in row 8: {\"original\": \"Almost the end of July.&nbsp; How is your summer going?&nbsp;   Yesterday I visited some Blogs on the Internet and picked up a nasty adware or spyware virus, which has disabled my Internet browser, closes open windows automatically, opens up pop-up advertising windows indiscriminately, and seems to keep reinstalling itself, despite my best attempts to delete any foreign files that I find in my operating system.&nbsp; Mind you, I am such an inept technophobe that I couldn’t differentiate a malicious virus from a harmless bug.&nbsp; None the less, as I am not the administrator of my computer at work, I have to wait until he comes back on Monday to access my computer remote, and reboot it after, hopefully, isolating and decontaminating my hard drive.&nbsp; What a nuisance.&nbsp; I was doubly surprised to find out that my networked PC did not even have any anti-virus software on it, thereby making it a perfect roaming target for this adware or spyware to attach itself to my computer, as I casually surfed the Internet.&nbsp; Apparently, the IT gurus in Moscow felt that the firewall on the server was safe enough.&nbsp; These days you don’t want to leave home without a little added protection.&nbsp; Eh, nudge, nudge, wink, wink.\",\"paraphrase_1\": \"It's nearly the end of July. How's your summer treating you? Yesterday, I browsed through some blogs online and inadvertently picked up a nasty adware or spyware virus, which has rendered my Internet browser unusable, automatically closes windows I have open, indiscriminately opens pop-up ads, and seems to reinstall itself even when I try to delete any suspicious files in my system. To give you an idea, I’m such a tech novice that I can't even tell a harmful virus from a benign bug. Regardless, since I'm not the admin of my work computer, I'll have to wait until Monday for him to return to remotely access my computer and hopefully reboot it after isolating and cleaning up my hard drive. What a hassle. I was also shocked to discover that my networked PC lacked any antivirus software, making it an ideal target for this adware or spyware while I surfed the net casually. It seems the IT experts in Moscow believed the firewall on the server was sufficient. Nowadays, you really shouldn’t venture online without some extra protection. Eh, nudge, nudge, wink, wink.\",\"paraphrase_2\": \"We're almost at the end of July. How’s your summer going? Just yesterday, I visited some blogs online and ended up with a nasty adware or spyware virus that has disabled my Internet browser, causes my open windows to close automatically, opens unwanted advertising pop-ups, and seems to continue reinstalling itself despite my efforts to eliminate any unfamiliar files in my operating system. You should know, I’m such a technology-phobic that I can’t differentiate between a harmful virus and a benign bug. Nevertheless, since I’m not the one in charge of the computer at work, I’ll have to wait for him to get back on Monday to remotely access my system and hopefully reboot it after isolating and cleaning my hard drive. What an inconvenience. I was even more surprised to learn that my networked PC didn’t have any antivirus software, making it a prime target for this adware or spyware while I casually surfed the web. Apparently, the IT specialists in Moscow thought the firewall on the server was enough. These days, you shouldn’t go online without a little added protection. Eh, nudge, nudge, wink, wink.\",\"paraphrase_3\": \"It’s nearly the end of July. How is your summer progressing? I happened to look at some blogs on the Internet yesterday and ended up acquiring a nasty adware or spyware virus that has crippled my Internet browser, closes my open windows on its own, opens pop-up ads without warning, and seems to keep reinstalling itself no matter how hard I try to remove unfamiliar files from my operating system. Just so you know, I’m so technology-inept that I can’t even tell a malicious virus apart from an innocuous bug. Nonetheless, since I am not the administrator of my work computer, I will have to wait for him to return on Monday to remotely access my PC and reboot it in hopes of isolating and cleaning my hard drive. What an annoyance. I was doubly taken aback to find that my networked PC didn't even have any antivirus software, which made it an ideal target for this adware or spyware as I casually browsed the Internet. Apparently, the IT people in Moscow believed the server’s firewall was secure enough. Nowadays, you definitely want to have some added protection when you go online. Eh, nudge, nudge, wink, wink.\",\"paraphrase_4\": \"We’re almost at the end of July. How’s your summer shaping up? Yesterday, I visited some blogs online and unfortunately picked up a nasty adware or spyware virus that has disabled my Internet browser, closes my open windows unsolicited, opens random pop-up ads, and appears to be reinstalling itself despite my best efforts to eliminate any suspicious files I find in my operating system. Just to mention, I’m such a tech-phobe that I wouldn’t know how to differentiate a harmful virus from a harmless bug. Even so, since I’m not the administrator for the computer at work, I must wait until Monday for him to return so he can remotely access my computer and hopefully reboot it, after isolating and cleaning my hard drive. What a frustrating situation. I was quite shocked to discover my networked PC didn’t even have antivirus software, making it a perfect target for this adware or spyware while I surfed the internet carelessly. Apparently, the IT experts in Moscow thought the server’s firewall was sufficient. In this day and age, you definitely want to have a little extra protection when going online. Eh, nudge, nudge, wink, wink.\",\"paraphrase_5\": \"As we near the end of July, how is your summer going? Just yesterday, I explored some blogs online and ended up with a pesky adware or spyware virus that has disrupted my Internet browser, closes my current windows automatically, opens pop-up ads at random, and seems to reinstall itself regardless of my attempts to eliminate any suspicious files in my operating system. Truthfully, I’m such a technological phobic that I can’t distinguish a dangerous virus from an innocuous bug. Nevertheless, since I do not have admin rights on my work computer, I’ll need to wait until Monday for him to return so that he can remotely access my computer and hopefully reboot it after isolating and cleaning my hard drive. What a nuisance! I was really surprised to find out that my networked PC didn’t even have any antivirus software installed, making it an ideal target for this adware or spyware as I casually browsed the web. Apparently, the IT specialists in Moscow deemed the firewall on the server to be adequate. These days, it’s crucial to have some form of added protection when you go online. Eh, nudge, nudge, wink, wink.\",\"paraphrase_6\": \"There’s only a little bit of July left. How is your summer treating you? Yesterday, I was browsing various blogs online and ended up picking up a nasty adware or spyware virus that's completely disabled my Internet browser, closes my open windows on its own, opens pop-up ads indiscriminately, and keeps reinstalling itself no matter how hard I try to remove any foreign files from my system. Just to give you an idea, I’m such a tech phobic that I can’t tell the difference between a harmful virus and a harmless bug. Still, since I’m not the administrator of my work computer, I’ll have to wait for him to return on Monday so he can access my computer remotely and hopefully reboot it after isolating and cleaning my hard drive. What a major hassle. I was astounded to learn that my networked PC lacked any antivirus software, which has made it an easy target for this adware or spyware to attach itself to my computer while I casually surfed the Internet. Apparently, the IT experts in Moscow felt that the server firewall was sufficient. In today's world, you really want to make sure you have extra protection when surfing online. Eh, nudge, nudge, wink, wink.\",\"paraphrase_7\": \"With July almost over, how is your summer going? Just yesterday, I browsed some blogs on the Internet and encountered a nasty adware or spyware virus that disabled my Internet browser, automatically closes my open windows, and opens multiple pop-up ads, and it seems to reinstall itself no matter how hard I attempt to rid my system of any suspicious files. You might find this amusing, but I’m such a poor tech user that I can’t even tell a dangerous virus from a harmless bug. Regardless, since I’m not the one administrating my work computer, I’ll need to wait until he’s back on Monday to remotely access it and hopefully reboot it after isolating and cleaning my hard drive. What an annoyance. I was also surprised to discover my networked PC had no antivirus software, making it a prime target for this adware or spyware while I casually surfed the web. Evidently, the IT folks in Moscow thought the firewall on the server was sufficient. In this day and age, you really should ensure you have a bit of extra protection when online. Eh, nudge, nudge, wink, wink.\",\"paraphrase_8\": \"Almost the end of July—how's your summer going? Yesterday, I stumbled upon some blogs online and accidentally acquired a nasty adware or spyware virus that has disabled my Internet browser, causes open windows to close on their own, opens random pop-up advertising windows, and seems to be relentlessly reinstalling itself despite my best attempts to delete any unfamiliar files from my system. Just to clarify, I'm such a technology novice that I'm unable to tell a dangerous virus apart from a harmless bug. Nevertheless, since I'm not the administrator of my work computer, I'll have to wait until Monday for him to return so he can remotely access my computer and hopefully reboot it after isolating and cleaning my hard drive. What a hassle! I was especially surprised to find my networked PC lacked antivirus software, making it a perfect target for this adware or spyware while I casually surfed the web. Apparently, the IT experts in Moscow deemed the firewall on the server adequate. These days, it’s essential to have some extra protection whenever you venture online. Eh, nudge, nudge, wink, wink.\",\"paraphrase_9\": \"It's nearly the end of July. How is your summer going? Just yesterday, I checked out some blogs on the Internet and ended up with a nasty adware or spyware virus that has disabled my Internet browser, automatically closes open windows, indiscriminately opens pop-up advertisements, and seems to keep reinstalling itself despite my attempts to delete suspicious files from my operating system. To be honest, I’m so inept with technology that I couldn’t tell a malicious virus from a harmless bug. Regardless, since I do not have admin control over my work computer, I will need to wait until Monday for him to return so he can access my computer remotely and hopefully reboot it after attempting to isolate and clean my hard drive. What a nuisance! I was also shocked to learn that my networked PC did not have any antivirus software, rendering it an easy target for this adware or spyware as I casually surfed the web. Apparently, the IT specialists in Moscow believe that the server’s firewall was safe enough. Nowadays, it is wise to ensure you have some added protection before going online. Eh, nudge, nudge, wink, wink.\",\"paraphrase_10\": \"As July comes to a close, how is your summer progressing? Yesterday, I explored some blogs online and inadvertently picked up a nasty adware or spyware virus, which has rendered my Internet browser unusable, closes my open windows spontaneously, opens unwanted pop-up ads, and appears to be reinstalling itself no matter how hard I try to delete any suspicious files from my system. I must confess, I’m such a technology-phobic that I can’t distinguish a harmful virus from an innocent bug. Nevertheless, since I don’t hold the admin rights to my work computer, I’ll have to wait until Monday for him to return to remotely access it and hopefully reboot it after cleaning up my hard drive. What a frustration! I was also very surprised to find out my networked PC didn’t even have antivirus software installed, making it a prime target for this adware or spyware while I casually browsed online. Apparently, the IT people in Moscow believed the firewall on the server would suffice. In today’s world, you really shouldn’t go online without some extra protection. Eh, nudge, nudge, wink, wink.\",\"paraphrase_11\": \"Here we are at the end of July. How is your summer treating you? Just yesterday, I ventured into some blogs on the Internet and picked up a nasty adware or spyware virus that has completely disabled my Internet browser. It closes open windows too automatically, opens pop-up ads without discretion, and even seems to reinstall itself despite my numerous efforts to delete any foreign files found in my operating system. By the way, I’m so inept with technology that I can rarely tell a malicious virus from an innocuous bug. Nevertheless, since I am not the admin of my work computer, I’ll need to wait until he comes back on Monday to access my computer remotely and after that, hopefully reboot it in an effort to isolate and sanitize my hard drive. What a hassle! I was doubly surprised to learn that my networked PC didn’t even have antivirus software on it, thus making it a perfect target for this adware or spyware while I casually surfed. Apparently, the IT specialists in Moscow thought the server’s firewall was enough. These days, it really is necessary to have additional protection when surfing online. Eh, nudge, nudge, wink, wink.\",\"paraphrase_12\": \"As July nears its end, how is your summer unfolding? Yesterday, I browsed through some blogs on the Internet and unfortunately stumbled upon a nasty adware or spyware virus that has incapacitated my Internet browser, closes open windows automatically, opens unwarranted pop-up ads, and seems to continuously reinstall itself even after my best efforts to delete any suspicious files in my operating system. Just so you know, I’m so technically challenged that I can hardly differentiate between a harmful virus and a harmless bug. Nonetheless, as I don’t have administrative privileges on my work computer, I have to wait until Monday for him to come back so he can remotely access my system and hopefully reboot it after isolating and decontaminating my hard drive. Such an inconvenience! I was even more surprised to find out that my networked PC didn't contain any antivirus software, making it a perfect target for this adware or spyware while I casually surfed the web. Apparently, the IT team in Moscow assumed that the firewall on the server was sufficient. In today’s world, you certainly don’t want to go online without some extra protection. Eh, nudge, nudge, wink, wink.\",\"paraphrase_13\": \"Almost the end of July, how is your summer going? Just yesterday, I was browsing through some blogs online and accidentally got hit with a nasty adware or spyware virus that has rendered my Internet browser useless, automatically closes open windows, indiscriminately opens up pop-up ads, and seems to reinstall itself despite my attempts to delete any unidentified files in my system. Just to clarify, I’m such a poor tech user that distinguishing a harmful virus from an innocuous bug is beyond me. Nonetheless, since I’m not the administrator of my computer at work, I have to wait until Monday for him to return so that he can remotely access my computer and hopefully reboot it after attempting to isolate and clean my hard drive. What an annoyance! I was utterly shocked to find that my networked PC didn't have any antivirus software, making it an easy target for this adware or spyware while I casually surfed online. Apparently, the IT experts in Moscow thought the server's firewall would suffice. These days the necessity for additional protection when going online can’t be overstated. Eh, nudge, nudge, wink, wink.\",\"paraphrase_14\": \"With July drawing to a close, how is your summer treating you? Yesterday, I checked out some blogs on the Internet and accidentally picked up a nasty adware or spyware virus that has disabled my Internet browser, closes open windows on its own, opens random advertising pop-ups, and continues to reinstall itself regardless of my attempts to delete any strange files found in my operating system. Just so you know, I’m such a technology-inept person that I can’t tell a malicious virus from a harmless bug. However, since I'm not the administrator of my computers at work, I have to wait until Monday when he returns to access my computer remotely and hopefully reboot it after isolating and cleaning my hard drive. What a pain! I was really surprised to learn my networked PC lacked antivirus software, which positioned it perfectly for this adware or spyware to latch onto while I casually browsed the Internet. Apparently, the IT folks in Moscow thought the firewall was enough protection. These days, you really want to have some sort of extra safeguarding when you surf online. Eh, nudge, nudge, wink, wink.\",\"paraphrase_15\": \"As we near the end of July, how has your summer been? Just yesterday, I perused some blogs online and inadvertently caught a nasty adware or spyware virus, which has incapacitated my Internet browser, automatically closes windows I have open, opens unsolicited pop-up advertisements, and seems to reinstall itself despite my best efforts to eradicate foreign files I discover in my operating system. Honestly, I’m such a technological novice that I’m inept at distinguishing a harmful virus from an innocent bug. Regardless, since I don’t have admin rights on my work computer, I have to wait until he gets back on Monday to remotely access my computer and hopefully reboot it after isolating and disinfecting my hard drive. What a bother! I was quite shocked to find that my networked PC lacked any virus protection, thus making it an ideal target for this adware or spyware while I casually browsed online. Apparently, the IT experts in Moscow were under the impression that the server’s firewall was adequate. In today's world, you absolutely want to ensure you have some additional protection when you’re online. Eh, nudge, nudge, wink, wink.\",\"paraphrase_16\": \"As July comes to a close, how has your summer been so far? Yesterday, I checked out some blogs on the Internet and unintentionally picked up a nasty adware or spyware virus, which has rendered my Internet browser inoperative, closes open windows automatically, opens pop-up advertisements without me asking, and appears to be reinstalling itself despite my attempts to eliminate any suspicious files in my operating system. Just to clarify, I’m not very tech-savvy, and I can’t tell a dangerous virus from a harmless bug. Nevertheless, since I’m not the one with administrative rights to my work computer, I must wait until Monday for him to return so that he can remotely access it and hopefully reboot it after isolating and cleaning my hard drive. What a hassle! I was genuinely surprised to discover that my networked PC had no antivirus software whatsoever, making it a prime target for this adware or spyware while I idly surfed the Internet. Apparently, the IT team in Moscow was convinced that the firewall on the server was secure enough. These days, you definitely should ensure that you have some added protection when browsing online. Eh, nudge, nudge, wink, wink.\",\"paraphrase_17\": \"With July almost over, how has your summer been? I visited some blogs on the Internet yesterday and picked up quite a nasty adware or spyware virus. It has taken over my Internet browser, automatically closing open windows and displaying random pop-up ads while reinstalling itself no matter how much I try to delete suspicious files on my operating system. Just for the record, I’m not very good with technology and can’t differentiate a malicious virus from a harmless bug. However, since I don’t have administrative rights on my work computer, I’ll have to wait until Monday for him to get back to remotely access my computer and hopefully reboot it in order to isolate and disinfect my hard drive. What a hassle! I was very surprised to find out that my networked PC didn’t have any antivirus software, making it an easy target for this adware or spyware while I casually surfed the Internet. Apparently, the IT experts in Moscow believed that the firewall on the server was safe enough. Nowadays, you should always have some extra protection when you go online. Eh, nudge, nudge, wink, wink.\",\"paraphrase_18\": \"It's almost the end of July. How has your summer been treating you? Yesterday, I was checking out some blogs on the Internet and inadvertently acquired a nasty adware or spyware virus. It has completely disabled my Internet browser, closes my open windows on its own, and keeps opening pop-up ads seemingly at random, all while reinstalling itself despite my best efforts to delete any foreign files from my operating system. I must admit, I’m quite inept when it comes to tech, as I can’t even tell a harmful virus from a harmless bug. Still, because I don’t have administrative control over my work computer, I’ll need to wait until Monday for him to come back and remotely access it so he can hopefully reboot it after isolating and cleaning my hard drive. What an inconvenience! I was very shocked to find out that my networked PC didn't even have antivirus software, making it a prime target for this adware or spyware as I casually browsed the Internet. It seems the IT guys in Moscow figured the server’s firewall was enough. In today's Internet landscape, you really ought to have some extra protection when you go online. Eh, nudge, nudge, wink, wink.\",\"paraphrase_19\": \"As July comes to a close, how has your summer been? Yesterday, I visited a few blogs on the Internet and accidentally picked up a nasty adware or spyware virus that has disabled my Internet browser, automatically closing the windows I have open, indiscriminately opening pop-up ads, and looks like it's reinstalling itself despite my attempts to remove any foreign files I stumble upon in my operating system. Just so you know, I'm such a tech-phobe that distinguishing a harmful virus from an innocent bug is beyond me. However, since I don't manage the computer at work, I must wait until Monday for him to come back to remotely access my system and reboot it, hopefully isolating and disinfecting my hard drive afterward. What a nuisance! I was also quite surprised to wake up and find that my networked PC had no antivirus software, making it an easy target for this adware or spyware while browsing the Internet casually. Apparently, the IT people in Moscow felt the firewall on the server was safe enough. Nowadays, you really don't want to go online without a bit of added protection. Eh, nudge, nudge, wink, wink.\",\"paraphrase_20\": \"We're almost at the end of July. How’s your summer going? Yesterday, I checked out a few blogs on the Internet and ended up picking up a pesky adware or spyware virus that has taken over my Internet browser, closing open windows automatically, opening pop-up ads at random, and seems to be constantly reinstalling itself even when I try to delete any suspicious files in my operating system. I should mention that I'm so inept with technology that I can barely tell a dangerous virus from a harmless bug. Regardless, since I'm not the administrator of my work computer, I have to wait until he comes back on Monday to access my system remotely and hopefully reboot it, after cleaning and isolating my hard drive. What a hassle! I was quite surprised to learn that my networked PC did not even have antivirus software, making it a prime target for this adware or spyware while I casually surf\n",
      "Error parsing JSON in row 9: {\"original\": \"Almost the end of July. How is your summer going? Yesterday I visited some Blogs on the Internet and picked up a nasty adware or spyware virus, which has disabled my Internet browser, closes open windows automatically, opens up pop-up advertising windows indiscriminately, and seems to keep reinstalling itself, despite my best attempts to delete any foreign files that I find in my operating system. Mind you, I am such an inept technophobe that I couldn’t differentiate a malicious virus from a harmless bug. None the less, as I am not the administrator of my computer at work, I have to wait until he comes back on Monday to access my computer remote, and reboot it after, hopefully, isolating and decontaminating my hard drive. What a nuisance. I was doubly surprised to find out that my networked PC did not even have any anti-virus software on it, thereby making it a perfect roaming target for this adware or spyware to attach itself to my computer, as I casually surfed the Internet. Apparently, the IT gurus in Moscow felt that the firewall on the server was safe enough. These days you don’t want to leave home without a little added protection. Eh, nudge, nudge, wink, wink.\",\n",
      "  \"paraphrase_1\": \"We’re nearly at the end of July. How is your summer treating you? I checked out some blogs online yesterday and ended up picking up a nasty adware or spyware virus that has rendered my Internet browser useless, closes my open windows on its own, opens random pop-up ads, and keeps reinstalling itself no matter how hard I try to remove any unwanted files I find. To be honest, I’m such a hopeless technophobe that I can’t even tell a dangerous virus apart from a benign bug. Regardless, since I am not the administrator of my work computer, I have to wait for him to return on Monday. Then, he’ll access my computer remotely and hopefully reboot it, isolating and cleaning my hard drive. What an inconvenience! It’s ridiculous that my networked PC didn’t even have anti-virus software installed, making it an easy target for this adware or spyware while I casually browsed the Internet. Apparently, the IT experts in Moscow thought the server’s firewall was sufficient. Nowadays, you really shouldn’t leave home without a bit of extra security. Eh, nudge, nudge, wink, wink.\",\n",
      "  \"paraphrase_2\": \"July is almost over. How has your summer been? Yesterday, I browsed through some blogs on the Internet and picked up a nasty adware or spyware virus that has messed up my Internet browser, closes my windows automatically, opens unsolicited pop-up ads, and seems to reinstall itself despite my attempts to delete any foreign files on my computer. Honestly, I’m such a tech inept that I can’t distinguish a harmful virus from a harmless bug. However, since I’m not the administrator of my computer at work, I’ll have to wait until he gets back on Monday to remotely access my computer and reboot it after, hopefully isolating and cleaning my hard drive. What a pain! I was quite shocked to learn that my networked PC didn’t even have an anti-virus program installed, making it an ideal target for this adware or spyware as I casually surfed the web. Apparently, the IT experts in Moscow thought the server firewall was secure enough. In today’s world, you certainly don’t want to leave home without some extra protection. Eh, nudge, nudge, wink, wink.\",\n",
      "  \"paraphrase_3\": \"We're nearing the end of July. How's your summer going? Just yesterday, I visited some blogs online and unknowingly picked up a nasty adware or spyware virus that has incapacitated my Internet browser, automatically closes active windows, opens unsolicited pop-ups, and seems to keep reappearing even though I'm trying to delete any strange files I find in my system. Honestly, I'm such a technology novice that I can't tell a malicious virus from an innocent bug. Nevertheless, since I’m not the administrator for my work computer, I’ll have to wait for him to return on Monday to remotely access the computer and reboot it afterward, in hopes of isolating and cleaning my hard drive. It’s such a nuisance! I was surprised to discover that my networked PC lacked any anti-virus protection, thus becoming a prime target for this adware or spyware while I was leisurely browsing online. Apparently, the IT specialists in Moscow believed the server’s firewall was sufficient. Nowadays, you really can’t go out without a little extra security. Eh, nudge, nudge, wink, wink.\",\n",
      "  \"paraphrase_4\": \"July is almost finished. How has your summer been treating you? Yesterday, while exploring some blogs on the Internet, I ended up catching a troublesome adware or spyware virus, which has rendered my Internet browser inoperable, closes my open windows randomly, pops up unwanted advertisements, and seems to reinstall itself regardless of how much I try to eliminate any foreign files in my system. To be honest, I'm such a tech-challenged person that I can't really tell a harmful virus from a harmless bug. Nonetheless, since I'm not the admin of my work computer, I'll have to wait until he returns on Monday to assist me remotely, rebooting it afterward in hopes of isolating and purging my hard drive. What an annoyance! I was even more surprised to find out that my networked PC lacked any form of anti-virus software, making it an easy target for this spyware or adware while I carelessly browsed the Internet. Evidently, the IT folks in Moscow thought the server's firewall would suffice. These days, you're wise to make sure you have a little extra protection before heading out. Eh, nudge, nudge, wink, wink.\",\n",
      "  \"paraphrase_5\": \"It’s nearly the end of July. How is your summer treating you? Just yesterday, I was visiting some blogs online and ended up with an unpleasant adware or spyware virus that has disabled my Internet browser, closes open windows automatically, opens random pop-up ads, and seems to keep reinstalling itself, despite my efforts to erase any unwanted files from my computer. I must admit that I’m quite inept with technology, so I can’t really tell a harmful virus from a harmless bug. Unfortunately, because I’m not the administrator of my work computer, I’ll need to wait for him to come back on Monday so he can access my computer remotely and restart it after trying to isolate and clean my hard drive. What a hassle! I was amazed to discover that my networked PC had no anti-virus software installed, making it a sitting duck for this adware or spyware to latch onto while I casually surfed the web. Apparently, the IT experts in Moscow considered the server’s firewall safe enough. These days, you definitely shouldn’t leave home without some extra security. Eh, nudge, nudge, wink, wink.\",\n",
      "  \"paraphrase_6\": \"July is almost at an end. How is your summer going? I visited a few blogs online yesterday and unfortunately caught an aggressive adware or spyware virus, which has rendered my Internet browser useless, closes active windows suddenly, opens annoying pop-up ads, and appears to keep reinstalling itself no matter how hard I try to remove any unfamiliar files I find. I should point out that I'm so inept with technology that I often can’t tell the difference between a harmful virus and a harmless bug. Anyway, since I'm not the one in charge of my work computer, I have to wait for the administrator to return on Monday to remotely fix it, rebooting afterwards and hopefully clearing any issues on my hard drive. What a pain! I was stunned to discover that my networked PC didn't even have anti-virus software on it, making it a perfect target for this adware or spyware while I was lazily browsing the Internet. Apparently, the IT techs in Moscow believed the server’s firewall was more than enough protection. These days, it’s wise to never leave home without a little extra security. Eh, nudge, nudge, wink, wink.\",\n",
      "  \"paraphrase_7\": \"It's almost the end of July. How's your summer been? Yesterday, I checked out some blogs on the Internet and unfortunately picked up a troublesome adware or spyware virus, which has rendered my Internet browser useless, automatically closes open windows, opens pop-up advertising windows without my consent, and seems to keep reinstalling itself despite my attempts to delete any suspicious files in my operating system. I must admit, I'm such a tech illiterate that I can't tell a dangerous virus from a harmless bug. Nevertheless, as I'm not the administrator of my work computer, I’ll have to wait for him to come back on Monday so he can remotely access my computer and reboot it after, hopefully isolating and cleaning my hard drive. What a bother! I was absolutely shocked to find out that my networked PC didn’t even have any anti-virus software, which made it an ideal target for this adware or spyware as I casually surfed the web. Evidently, the IT professionals in Moscow thought the firewall on the server was adequate. These days, it's essential to have a little extra protection before heading out. Eh, nudge, nudge, wink, wink.\",\n",
      "  \"paraphrase_8\": \"We're almost at the end of July. How's your summer treating you? Yesterday, I visited various blogs on the Internet and inadvertently picked up a nasty adware or spyware virus that has affected my Internet browser, closes open windows on its own, opens pop-up ads indiscriminately, and appears to keep reinstalling itself, regardless of my efforts to eliminate any foreign files I find in my operating system. I should mention that I'm such a technology phobic that distinguishing a harmful virus from an innocuous bug is beyond me. Still, since I’m not the administrator of my office computer, I'll need to wait for him to return on Monday to access my computer remotely, and reboot it afterward, hopefully isolating and cleaning my hard drive. What a hassle! I was astonished to learn my networked PC didn’t even have anti-virus software, turning it into a perfect target for this adware or spyware to latch onto as I casually surfed the Internet. Apparently, the IT experts in Moscow believed the server’s firewall was enough security. In today’s world, it’s unwise to leave home without a bit of extra protection. Eh, nudge, nudge, wink, wink.\",\n",
      "  \"paraphrase_9\": \"July is nearly coming to a close. How is your summer going? Just yesterday, I browsed through a couple of blogs online and unfortunately caught a nasty adware or spyware virus, which has disabled my Internet browser, closes windows automatically, opens up pop-up ads randomly, and seems to be reinstalling itself, despite my best efforts to delete any foreign files from my system. I really am such a techno-phobe that I can’t even tell the difference between a malicious virus and a harmless bug. That said, since I’m not the admin of my work computer, I’ll have to wait until Monday when he returns to remotely access my computer and reboot it after, hopefully isolating and cleaning my hard drive. What an inconvenience! I was even more surprised to learn that my networked PC had no anti-virus software installed, thus making it an easy target for this adware or spyware as I casually cruised the Internet. Apparently, the IT team in Moscow thought the firewall on the server was secure enough. These days, you really don’t want to leave home without a little extra security. Eh, nudge, nudge, wink, wink.\",\n",
      "  \"paraphrase_10\": \"We're almost at the end of July. How has your summer been? Just yesterday, I visited some blogs on the Internet and unfortunately picked up a troublesome adware or spyware virus that has disabled my Internet browser, closes my open windows on its own, opens pop-up advertising windows indiscriminately, and seems to keep reinstalling itself despite my best efforts to remove any foreign files I can find in my system. Honestly, I am such a tech novice that I can’t distinguish a harmful virus from a harmless bug. Nevertheless, since I’m not the administrator of my computer at work, I'll need to wait for him to come back on Monday to access my computer remotely and reboot it afterward, hopefully isolating and cleaning my hard drive. What a nuisance! I was shocked to discover that my networked PC didn’t even have any anti-virus protection, making it an ideal target for this adware or spyware as I casually surfed online. Apparently, the IT experts in Moscow believed the firewall on the server was sufficient. In today's world, you definitely don’t want to leave home without some kind of added security. Eh, nudge, nudge, wink, wink.\",\n",
      "  \"paraphrase_11\": \"It’s nearly the close of July. How is your summer treating you? I browsed several blogs on the Internet yesterday and picked up an unpleasant adware or spyware virus, which has disabled my Internet browser, closes open windows on its own, opens random pop-ups, and seems to reinstall itself regardless of my attempts to remove any unwanted files from my system. I have to admit, I’m such a techno-phobe that I can’t tell a dangerous virus from a harmless bug. Regardless, I am not the administrator of my work computer, so I'll have to wait until he returns on Monday to remotely fix my computer and, hopefully, reboot and clean my hard drive afterward. What a hassle! I was shocked to learn that my networked PC didn't have any anti-virus software, making it an absolute target for this adware or spyware while I casually surfed the web. Apparently, the IT personnel in Moscow deemed the server firewall safe enough. Nowadays, it’s wise to ensure you have some extra protection whenever you step out. Eh, nudge, nudge, wink, wink.\",\n",
      "  \"paraphrase_12\": \"We're approaching the closing of July. How's summer going for you? Just yesterday, I visited some blogs online and stumbled upon a nasty adware or spyware virus that has disabled my Internet browser, interrupts by closing open windows automatically, and indiscriminately opens pop-up ads. It seems like it keeps reinstalling itself, despite my efforts to delete any strange files in my operating system. I must confess that I'm such a technology-phobic person that I can’t differentiate between a virus that’s harmful and one that's harmless. Not to mention, since I’m not the admin of my work computer, I must wait until my supervisor returns on Monday to remotely access my computer and reboot it in hopes of isolating and cleaning my hard drive. What a nuisance! I was shocked to learn that my networked PC lacked any anti-virus software, making it a perfect target for this adware or spyware while I casually surfed online. Apparently, the IT department in Moscow thought the server firewall was good enough. These days, you really shouldn’t step out without some extra layer of protection. Eh, nudge, nudge, wink, wink.\",\n",
      "  \"paraphrase_13\": \"As July comes to a close, how is your summer going? Yesterday, I browsed some blogs on the Internet and, unfortunately, caught a nasty adware or spyware virus that has compromised my Internet browser, randomly closes windows, opens pop-up ads without consent, and seems to reinstall itself despite my best efforts to get rid of any suspicious files in my operating system. To be blunt, I am so inept with technology that I can’t tell a malicious virus from a harmless bug. Regardless, since I’m not the one who manages my work computer, I have to wait for him to return on Monday to access my computer remotely and hopefully reboot and clean my hard drive. What a pain! I was also surprised to find that my networked PC didn’t have any form of anti-virus software, making it an easy target for this adware or spyware while I casually surfed the web. Apparently, the IT team in Moscow deemed the server’s firewall adequate. Nowadays, you really should never leave home without some extra protection. Eh, nudge, nudge, wink, wink.\",\n",
      "  \"paraphrase_14\": \"It’s almost the end of July. How has your summer been so far? Yesterday, I was browsing some blogs online and sadly picked up an ugly adware or spyware virus that has rendered my Internet browser completely inoperable, closes open windows by itself, opens random pop-up advertisements, and seems to keep reinstalling itself despite all my best efforts to delete foreign files from my operating system. I’ll admit, I’m quite the inept technophobe because I can hardly tell a dangerous virus apart from a harmless bug. Regardless, since I'm not the administrator of the computer at my workplace, I’ll have to wait for him to get back on Monday to access my computer remotely and reboot it, hoping to isolate and cleanse my hard drive afterward. What a bother! I was taken aback to learn that my networked PC didn’t even have any anti-virus software installed, which made it a prime target for this adware or spyware while I carelessly browsed the Internet. Apparently, the IT specialists in Moscow thought the firewall on the server was adequate. These days, you really shouldn’t venture out without a bit of added protection. Eh, nudge, nudge, wink, wink.\",\n",
      "  \"paraphrase_15\": \"As we near the end of July, how is your summer going so far? Yesterday, I found myself visiting some blogs online and, unfortunately, caught a nasty adware or spyware virus. This virus has disabled my Internet browser, closes open windows without warning, opens unsolicited pop-up ads, and seems to keep reinstalling itself despite my continuous efforts to delete any strange files I come across in my system. I have to admit, I’m a complete tech novice and can’t tell a dangerous virus from a harmless bug. Nevertheless, since I'm not the admin of my work computer, I’ll have to wait for my supervisor to return on Monday so he can remotely access my computer and restart it after trying to isolate and clean my hard drive. What a hassle! I was also quite surprised to discover that my networked PC didn’t have anti-virus software, leaving it vulnerable to this adware or spyware as I casually surfed the Internet. Apparently, the IT team in Moscow considered the server's firewall to be sufficient. Nowadays, you just can’t leave home without a little extra security. Eh, nudge, nudge, wink, wink.\",\n",
      "  \"paraphrase_16\": \"It’s nearly the end of July. How has your summer been? Just yesterday, I visited various blogs on the Internet and unfortunately ended up with a nasty adware or spyware virus, which has caused my Internet browser to malfunction, closes windows suddenly, opens unsolicited pop-up windows, and seems to keep reinstating itself despite my efforts to remove any foreign files I encounter. I must honestly say that I’m such a technology inept that distinguishing a harmful virus from a benign bug seems impossible. Notably, as I do not hold the admin privileges on my work computer, I’ll have to wait until my supervisor’s return on Monday to remotely access my computer and reboot it in hopes of isolating and cleansing my hard drive. What a nuisance that is! I was taken aback to realize that my networked PC did not even feature any anti-virus software, rendering it a perfect target for this adware or spyware while I casually browsed online. Evidently, the IT experts in Moscow believed that the server firewall was adequate. Today, it’s wise to take some extra precautions before heading out into the world. Eh, nudge, nudge, wink, wink.\",\n",
      "  \"paraphrase_17\": \"July is almost over. How’s your summer been so far? Yesterday, I was perusing through various blogs online and sadly ended up with a troublesome adware or spyware virus that has compromised my Internet browser, closes open windows automatically, pops up ads out of the blue, and keeps reinstalling itself, regardless of my attempts to rid my system of any malicious files I find. I must admit, I am so poor with technology that I often can’t tell a harmful virus from a harmless bug. Unfortunately, since I am not the administrator of my work computer, I will have to wait for him to come back on Monday so that he can remotely access my computer and reboot it after hopefully cleaning my hard drive. How frustrating! Additionally, I was surprised to find out that my networked PC had no anti-virus protection whatsoever, thereby making it an easy prey for this adware or spyware while I casually wander through the Internet. Apparently, the IT personnel in Moscow figured that the firewall on the server was safe enough. Nowadays, you really want to ensure you have extra protection before you go out. Eh, nudge, nudge, wink, wink.\",\n",
      "  \"paraphrase_18\": \"We’re almost at the end of July. How has your summer been treating you? Just yesterday, I was browsing some blogs on the Internet and picked up a nasty adware or spyware virus that has rendered my Internet browser useless, closes open windows unexpectedly, opens pop-up ads at random, and seems to reinstall itself regardless of my attempts to erase any suspicious files. To be honest, I’m such a technology phobic that I struggle to distinguish a harmful virus from a harmless bug. Regardless, since I'm not the admin of my computer at work, I’ll have to wait until my supervisor gets back on Monday to access my computer remotely and reboot it afterward. Hopefully, this will allow him to isolate and cleanse my hard drive. What a bother! I was especially shocked to discover that my networked PC had no anti-virus software at all, putting it at perfect risk for this adware or spyware to attach itself to my system while I casually surfed the Internet. Apparently, the IT guys in Moscow thought that the firewall protecting the server was enough. Nowadays, you definitely should not step out without a little extra security. Eh, nudge, nudge, wink, wink.\",\n",
      "  \"paraphrase_19\": \"The end of July is almost here. How's your summer going? Yesterday, I popped into some blogs online and unfortunately picked up a nasty adware or spyware virus that has disabled my Internet browser, closes my windows unexpectedly, opens random pop-up advertisements, and seems to keep reinstalling no matter how hard I try to delete any foreign files in my system. I admit, I am such a tech amateur that I can’t tell the difference between a harmful virus and a harmless bug. Nevertheless, since I’m not the administrator of my work computer, I have to wait till he returns on Monday to access my computer remotely and reboot it afterward, hopefully cleaning and isolating my hard drive. What a hassle! I also found it shocking that my networked PC did not have any anti-virus protection installed, making it an ideal target for this adware or spyware to attach itself while I was mindlessly surfing the web. Apparently, the IT specialists in Moscow felt that the firewall of the server was sufficient. Nowadays, you surely want to make sure you have a little extra protection before stepping out. Eh, nudge, nudge, wink, wink.\",\n",
      "  \"paraphrase_20\": \"It's just about the end of July. How's your summer going? Yesterday, I checked out some blogs on the Internet and inadvertently acquired a nasty adware or spyware virus, which has disrupted my Internet browser, closes my open windows spontaneously, opens pop-up ads indiscriminately, and seems to reinstall itself each time I try to erase any odd files from my OS. I'm aware that I’m such a tech phobic that I can’t discern a dangerous virus from a benign bug. Nonetheless, since I'm not the administrator at work, I need to wait until my supervisor returns on Monday to help me access my computer remotely and reboot it, aiming to isolate and clean my hard drive afterward. What a nuisance this has turned out to be! I was notably surprised to find my networked PC was lacking any anti-virus software, making it a prime target for this adware or spyware as I casually surf the Internet.\n",
      "Error parsing JSON in row 10: {\"original\": \"However, thankfully my computer is still running, so I am able to keep on working on this bright and sunny Friday afternoon. Last weekend we took a cruise to Beirut and had a really great time with our Dutch friends. This weekend, my Russian colleague and his girlfriend and I will drive first to Nicosia, and then depending on our luck, we will pass through the main check point onto the Turkish side of the island and then proceed to the famous Famagusta Beach on the East side of the island. You cannot drive there directly, and Greek Cypriots and visitors have only recently been allowed to cross over onto the Turkish side. I hope I do not need a visa, being a Canadian? I know that I need one to visit Turkey? We shall see. However, assuming I do not have any problems, it should be fun to see that side of the island. If I do, I will, of course, take some good pictures, with my amazing reappearing camera. As you may remember, my apartment was robbed in Moscow. The thieves ram-sacked my apartment, turning all things upside down, looking for my loot, which they found, of course. First of all they found everything, and then they stole everything, that is, except for my new digital camera. The camera was inside my old rucksack. That knapsack is so beat up and weathered that I am sure they thought there would be nothing of value inside it and therefore\", \n",
      "  \"paraphrase_1\": \"Fortunately, my computer is still operational, allowing me to continue working on this sunny and bright Friday afternoon. Last weekend, we enjoyed a cruise to Beirut where we had a fantastic time with our Dutch friends. This weekend, my Russian coworker, his girlfriend, and I are planning to drive to Nicosia first, and then, depending on our luck, we might cross through the main checkpoint to the Turkish side of the island, eventually heading to the famous Famagusta Beach on the eastern part of the island. Direct access is not possible, and Greek Cypriots along with visitors have only recently been permitted to move to the Turkish side. I'm wondering if I will need a visa as a Canadian? I know I require one to enter Turkey? We'll find out. Assuming no issues arise, it should be exciting to explore that part of the island. Should any problems occur, I will definitely capture some great photos with my remarkable reappearing camera. As you may recall, my apartment got robbed in Moscow. The intruders ransacked my space, turning everything upside down as they searched for valuables, which they, of course, found. They found everything, and then they took it all—except my new digital camera. The camera was tucked away inside my old backpack. That bag is so worn out and tattered that I am sure they assumed there was nothing valuable inside and thus\", \n",
      "  \"paraphrase_2\": \"Thank goodness my computer keeps running smoothly, so I can keep working on this vibrant and sunny Friday afternoon. We took a cruise to Beirut last weekend and enjoyed a wonderful time with our Dutch friends. This weekend, my Russian coworker, his girlfriend, and I are driving first to Nicosia; depending on our luck, we may cross through the main checkpoint to the Turkish side of the island and head to the renowned Famagusta Beach located on the east coast. There is no direct route for driving there, and it's only recently that Greek Cypriots and visitors have been granted permission to cross to the Turkish side. I’m curious if I will require a visa as a Canadian? I am aware that I need one for Turkey? We will see how it goes. Assuming everything goes well, it ought to be enjoyable to visit that side of the island. In the event of any issues, I will certainly take good photographs with my incredible reappearing camera. Remember my apartment was burglarized in Moscow? The thieves ransacked it, flipping everything upside down in search of my valuables, which they ultimately found. They discovered everything and stole all of it, except for my new digital camera. It was hidden in my old backpack. That knapsack is so worn down and battered that I’m certain they thought nothing of value could be inside and therefore\", \n",
      "  \"paraphrase_3\": \"Luckily, my computer is functioning well, enabling me to continue my work on this bright and sunny Friday afternoon. Last weekend, we went on a cruise to Beirut and had a delightful time with our Dutch friends. This weekend, my Russian colleague, his girlfriend, and I are planning to drive to Nicosia first, then depending on our fortune, we might cross at the main checkpoint to get to the Turkish side of the island and then head over to the famous Famagusta Beach on the east side. You can’t drive straight there, and Greek Cypriots and visitors have only recently been allowed to access the Turkish side. I wonder if I’ll need a visa as a Canadian? I know I must have one to travel to Turkey? We’ll have to see. However, assuming there are no hitches, it should be a fun experience to explore that area of the island. If there are issues, I will definitely capture some lovely pictures with my fantastic reappearing camera. As you may recall, my apartment was robbed in Moscow. The robbers completely ransacked my place, turning everything upside down in search of my valuables, which they, of course, found. They discovered everything first, then took all my possessions except my new digital camera. That camera was inside my old rucksack. That bag is so worn and scruffy that I’m pretty sure they thought it contained nothing of value and thus\", \n",
      "  \"paraphrase_4\": \"I’m thankful that my computer remains operational, allowing me to continue working through this bright and sunny Friday afternoon. Last weekend, we had a great time on a cruise to Beirut with our Dutch friends. This weekend, my Russian colleague and his girlfriend, along with me, will drive to Nicosia first and then, if luck permits, we’ll cross through the main checkpoint to the Turkish side of the island and make our way to the well-known Famagusta Beach on the eastern coast. There is no direct route to drive there, and Greek Cypriots and visitors were only recently granted permission to enter the Turkish side. I wonder if I will need a visa since I'm Canadian? I understand that I need one to enter Turkey? We shall find out. If everything goes smoothly, it should be exciting to check out that part of the island. If any issues arise, I’ll make sure to take some beautiful pictures with my amazing reappearing camera. You might remember that my apartment was broken into in Moscow. The thieves ransacked the place, turning it upside down as they searched for my valuables, which they inevitably found. They found and stole everything, except my new digital camera. The camera was stored in my old backpack. That backpack is so old and battered that I suspect they assumed there was nothing valuable within it and thus\", \n",
      "  \"paraphrase_5\": \"I am grateful that my computer continues to operate, which allows me to keep working on this sunny and bright Friday afternoon. Last weekend, we enjoyed a cruise to Beirut and had a fantastic time with our Dutch friends. This weekend, my Russian colleague, his girlfriend, and I will first drive to Nicosia, and then depending on our fortune, we might cross the main checkpoint to the Turkish side of the island and proceed to the famous Famagusta Beach on its eastern shore. Access is not direct, and Greek Cypriots along with visitors have only recently been allowed to cross over to the Turkish side. I’m hopeful I won’t need a visa, considering I am Canadian? I understand I require one to visit Turkey? We shall see how it goes. Hopefully, if there are no complications, it will be fun to explore that side of the island. If there are issues, I'll, of course, take some nice photographs with my amazing reappearing camera. As you may know, my apartment was burgled in Moscow. The thieves completely ransacked my apartment, turning everything upside down while searching for my valuables, which they, of course, located. They found everything and then stole all, except for my new digital camera. It was inside my old rucksack. That knapsack is so worn and tattered that I believe they thought nothing of value could be contained within it, and thus\", \n",
      "  \"paraphrase_6\": \"I’m relieved that my computer is still functioning, as it lets me continue working on this bright and cheerful Friday afternoon. We had a lovely time on a cruise to Beirut last weekend with our Dutch friends. This weekend, my Russian colleague and his girlfriend along with myself will first head to Nicosia, and then if luck is on our side, we’ll manage to pass through the main checkpoint to the Turkish area of the island and then make our way to the famous Famagusta Beach on the eastern side. You can’t drive there directly, and only recently have Greek Cypriots and visitors been allowed to cross into the Turkish side. I hope I won’t need a visa since I’m Canadian? I know I’ll need one for Turkey? We’ll have to wait and see. Assuming all goes well, it should be a wonderful experience to see that part of the island. Should problems arise, I’ll certainly take some fantastic pictures with my marvelous reappearing camera. As you might recall, my apartment was invaded in Moscow. The thieves completely turned it inside out, looking for valuables, which they undoubtedly found. They found and stole everything they could, except my new digital camera. The camera was tucked away in my old backpack. That backpack is so damaged and worn that I doubt they believed it held anything of worth and therefore\", \n",
      "  \"paraphrase_7\": \"I’m grateful that my computer is still operational, enabling me to carry on working during this bright and sunny Friday afternoon. Last weekend, we enjoyed a splendid cruise to Beirut with our Dutch friends. This weekend, my Russian colleague, his girlfriend, and I will first drive to Nicosia, and then, if we’re lucky, we will cross through the main checkpoint to the Turkish side of the island and head towards the famous Famagusta Beach located on the east side. Driving there directly isn’t an option, and only recently have Greek Cypriots and visitors been allowed to enter the Turkish side. I hope I don’t need a visa, being a Canadian? I understand that I will need one for Turkey? We’ll see how that pans out. Assuming I face no difficulties, it should be enjoyable to explore that part of the island. If I do run into problems, I will, of course, take beautiful pictures using my amazing reappearing camera. As you might recall, I experienced a robbery in my apartment in Moscow. The thieves ransacked my home, turning everything upside down while searching for my valuables, which they eventually found. They uncovered everything, stealing it all except for my new digital camera. The camera was hidden inside my old rucksack. That bag is so frayed and worn that I’m quite certain they assumed it held nothing of value and therefore\", \n",
      "  \"paraphrase_8\": \"However, it's fortunate that my computer is still functioning, allowing me to continue working on this bright and lovely Friday afternoon. Last weekend, we had a fantastic cruise to Beirut and enjoyed our time with Dutch friends. This weekend, my Russian colleague, his girlfriend, and I are planning to drive first to Nicosia, and then if luck permits, we'll go through the main checkpoint to reach the Turkish side of the island then proceed to the famous Famagusta Beach on the eastern side of the island. Direct driving there isn't allowed, and it’s only been recently that Greek Cypriots and visitors were permitted to cross onto the Turkish side. I hope I don’t need a visa as a Canadian? I know I require one for Turkey, right? We shall see how it turns out. However, if all goes smoothly, it should be a wonderful experience to check out that part of the island. If I encounter any problems, I will surely take some great pictures with my fantastic reappearing camera. As you might remember, my apartment was robbed back in Moscow. The burglars went through everything, turning my apartment upside down as they hunted for my treasures, which they, of course, discovered. They ended up finding everything and stealing all except my new digital camera. It was in my old rucksack. That backpack is so worn out that I'm pretty sure they thought nothing of value could be hidden inside it and therefore\", \n",
      "  \"paraphrase_9\": \"Thankfully, my computer is still up and running, which means I can continue my work on this sunny and cheerful Friday afternoon. Over the past weekend, we took a cruise to Beirut and had an excellent time with our Dutch friends. This weekend, my Russian colleague, his girlfriend, and I will first drive to Nicosia and then, depending on our luck, we might cross the main checkpoint into the Turkish side of the island and then head to the famous Famagusta Beach on the eastern side. There’s no direct driving path, and only recently have Greek Cypriots and visitors been able to cross over to the Turkish side. I really hope I don’t need a visa since I’m Canadian? I believe a visa is necessary for Turkey, right? We’ll see how it goes. Assuming I encounter no difficulties, it ought to be a thrilling experience to explore that side of the island. If I do face problems, I’ll certainly take quality photographs with my fantastic reappearing camera. As you might recall, I had a robbery incident in my Moscow apartment. The thieves thoroughly ransacked my place, turning everything upside down while searching for my possessions, which they naturally found. They discovered everything and took off with all of it, except for my new digital camera. The camera was tucked away inside my old backpack. That bag is so worn and dilapidated that I believe they thought nothing valuable could possibly be inside it and therefore\", \n",
      "  \"paraphrase_10\": \"I’m fortunate that my computer is still operational, allowing me to continue working on this bright and cheerful Friday afternoon. Last weekend, we enjoyed a wonderful cruise to Beirut along with our Dutch friends. This weekend, my Russian colleague and his girlfriend, alongside me, will drive to Nicosia first, and depending on our luck, we will cross through the main checkpoint onto the Turkish side of the island and progress to the well-known Famagusta Beach on the east side. You cannot drive directly there, and only recently have Greek Cypriots and visitors been permitted to enter the Turkish side. I hope I don’t need a visa being a Canadian? I know I require one for Turkey, right? We will see how that works out. Assuming I don't run into any issues, it should be a delightful experience to visit that side of the island. If any problems do arise, I will certainly capture some wonderful images with my incredible reappearing camera. You might remember that my apartment was burglarized in Moscow. The intruders left everything in disarray, searching for valuables, which they found, of course. They found everything and stole all except for my new digital camera. That camera was stored in my old rucksack. That backpack is so worn and beaten up that I’m confident they thought there was nothing of worth in it and therefore\", \n",
      "  \"paraphrase_11\": \"I’m relieved that my computer is still working, allowing me to continue my work on this bright and sunny Friday afternoon. Last weekend, we took a lovely cruise to Beirut and had a tremendous time with our Dutch friends. This weekend, my Russian colleague and his girlfriend and I will drive to Nicosia first, and then depending on our luck, we will cross through the main checkpoint onto the Turkish side of the island, then head to the famous Famagusta Beach on the island's east coast. There is no direct way to drive there, and it has only been recently that Greek Cypriots and visitors have been allowed passage onto the Turkish side. I wonder if I’ll need a visa, being Canadian? I know that a visa is required for Turkey, correct? We'll find out soon enough. However, if there are no issues, it would be fun to explore that part of the island. If issues do arise, I will of course take pictures with my amazing reappearing camera. You may recall that my apartment in Moscow was robbed. The thieves completely turned my place upside down, searching for valuables, which they of course found. They uncovered everything and took it all except my new digital camera. That camera was inside my old rucksack. That bag is so worn and battered that I’m quite certain they thought nothing of value was in it and therefore\", \n",
      "  \"paraphrase_12\": \"However, it's a relief that my computer is still running, allowing me to keep working during this bright and sunny Friday afternoon. Last weekend, we had an enjoyable cruise to Beirut with our Dutch friends. This weekend, my Russian colleague and his girlfriend, along with me, will drive first to Nicosia, and then depending on our luck, we’ll cross the main checkpoint to get onto the Turkish side of the island and afterward go to the famous Famagusta Beach on the eastern side of the island. There is no direct route for driving there, and Greek Cypriots as well as visitors were only recently allowed to go to the Turkish side. I wonder if I’ll need a visa, being Canadian? I know I’ll definitely need one to visit Turkey? We'll find out soon. However, assuming no issues come up, it should be enjoyable to explore that side of the island. If I do run into any problems, I will, of course, make sure to take nice pictures with my incredible reappearing camera. You may remember that I was a victim of a robbery in my Moscow apartment. The thieves ransacked my apartment, turning everything upside down in their quest for valuables, which they, of course, located. They found everything and stole it all, except my new digital camera. It was in my old rucksack. That knapsack is so worn and tattered that I suspect they thought there was nothing valuable inside it and thus\", \n",
      "  \"paraphrase_13\": \"However, I'm pleased that my computer is still working, so I can keep on working on this bright and sunny Friday afternoon. Last weekend, we enjoyed a cruise to Beirut, having a great time with our Dutch friends. This weekend, my Russian colleague, his girlfriend, and I will first drive to Nicosia, and then depending on our luck, we will cross the main checkpoint to the Turkish side of the island and then proceed to the popular Famagusta Beach located on the eastern coastline of the island. Direct access for driving there is prohibited, and Greek Cypriots and visitors have only recently been given permission to cross into the Turkish side. I hope I won’t need a visa, being Canadian? I understand I need one for Turkey, right? We shall see. Assuming no issues come up, it should be a thrill to explore that part of the island. Should I run into problems, I will certainly capture some great photographs with my remarkable reappearing camera. You may recall that my apartment was looted in Moscow. The thieves completely ransacked my living space, searching for valuables, which they indeed found. They uncovered everything and stole everything except my new digital camera. That camera was stashed away in my old rucksack. That backpack is so worn and old that I’m certain they assumed nothing valuable could be inside it and therefore\", \n",
      "  \"paraphrase_14\": \"I’m fortunate that my computer is still functioning, enabling me to continue working on this bright and sunny Friday afternoon. Last weekend, we had a wonderful cruise to Beirut, making the most of our time with our Dutch friends. This weekend, my Russian colleague, his girlfriend, and I will first drive to Nicosia, and then, if luck permits, we will cross through the main checkpoint onto the Turkish side of the island before heading to the famous Famagusta Beach on the eastern side of the island. You cannot drive directly there, and Greek Cypriots along with visitors have only recently been allowed to enter the Turkish side. I wonder if I will require a visa as a Canadian? I know one is necessary for Turkey? We shall see how that develops. However, assuming I encounter no difficulties, it should be fun exploring that part of the island. If difficulties do occur, I will make sure to take lovely photographs with my exceptional reappearing camera. You may recall that my apartment in Moscow was the target of a burglary. The thieves ransacked my apartment, tossing everything around as they searched for valuables, which they ultimately found. They found everything, stealing all except my new digital camera. The camera was securely inside my old rucksack. That rucksack is so dilapidated and worn that I’m confident they thought it bore nothing of value and therefore\", \n",
      "  \"paraphrase_15\": \"I'm relieved that my computer remains operational, allowing me to keep working on this bright and sunny Friday afternoon. Last weekend, we enjoyed a cruise to Beirut where we had a fantastic time with our Dutch friends. This weekend, my Russian colleague and his girlfriend, along with me, will first drive to Nicosia, and then, depending on our luck, we will attempt to cross the main checkpoint to the Turkish side of the island to then visit the famous Famagusta Beach on the eastern shoreline of the island. Driving there directly isn’t permitted, and Greek Cypriots along with visitors have only recently been granted passage to the Turkish side. I hope I won’t need a visa as a Canadian? I understand I will definitely need one to enter Turkey? We shall see how it turns out. Assuming I don't face any issues, it should be an exciting experience to explore that area of the island. If I do encounter problems, I will certainly take some nice photos using my remarkable reappearing camera. You might remember that my apartment was burglarized while I was in Moscow. The robbers left my space completely ransacked, searching for valuables, which of course they found. They found everything and took off with everything except for my new digital camera. The camera was located inside my old backpack. That bag is so worn down and scruffy that I suspect they thought there was nothing of value inside it and thus\", \n",
      "  \"paraphrase_16\": \"Thankfully, my computer is still in working order, which allows me to continue working on this bright and sunny Friday afternoon. Last weekend, we had a delightful time on a cruise to Beirut with our Dutch friends. This weekend, my Russian colleague and his girlfriend, along with me, will first drive to Nicosia, then depending on our luck, we may be able to cross through the checkpoint to the Turkish side of the island and then proceed to the well-renowned Famagusta Beach situated on the east coast of the island. You cannot drive there directly, and Greek Cypriots and visitors have only recently been permitted to access the Turkish side. I hope I won’t need a visa since I'm a Canadian? I know a visa is necessary for Turkey, right? We'll find out soon enough. However, assuming I run into no issues, it should be enjoyable to see that part of the island. Should I encounter any issues, I will certainly take quality photographs with my incredible reappearing camera. As you might recall, my apartment was robbed in Moscow. The robbers completely turned my home upside down, looking for valuables, which they inevitably found. They discovered everything and took off with all my possessions except for my new digital camera. It was safely kept in my old rucksack. That bag is so frayed and worn that I’m confident they thought nothing of value was hidden inside it and therefore\", \n",
      "  \"paraphrase_17\": \"I’m pleased that my computer is still functioning, enabling me to continue my work during this bright and sunny Friday afternoon. Last weekend, we enjoyed a wonderful cruise to Beirut with our Dutch friends and had\n",
      "Error parsing JSON in row 11: {\"original\": \"However, thankfully my computer is still running, so I am able to keep on working on this bright and sunny Friday afternoon. Last weekend we took a cruise to Beirut and had a really great time with our Dutch friends. This weekend, my Russian colleague and his girlfriend and I will drive first to Nicosia, and then depending on our luck, we will pass through the main check point onto the Turkish side of the island and then proceed to the famous Famagusta Beach on the East side of the island. You cannot drive there directly, and Greek Cypriots and visitors have only recently been allowed to cross over onto the Turkish side. I hope I do not need a visa, being a Canadian? I know that I need one to visit Turkey? We shall see. However, assuming I do not have any problems, it should be fun to see that side of the island. If I do, I will, of course, take some good pictures, with my amazing reappearing camera. As you may remember, my apartment was robbed in Moscow. The thieves ram-sacked my apartment, turning all things upside down, looking for my loot, which they found, of course. First of all they found everything, and then they stole everything, that is, except for my new digital camera. The camera was inside my old rucksack. That knapsack is so beat up and weathered that I am sure they thought there would be nothing of value inside it and therefore\",\n",
      "  \"paraphrase_1\": \"Fortunately, my computer is still functioning, so I can continue working on this lovely and sunny Friday afternoon. Last weekend we enjoyed a cruise to Beirut and had a fantastic time with our Dutch friends. This weekend, I will be driving with my Russian colleague and his girlfriend to Nicosia, and then depending on our luck, we may cross through the main checkpoint onto the Turkish side of the island and head to the renowned Famagusta Beach on the east part of the island. Driving there directly is not possible, and Greek Cypriots, along with visitors, have only recently been permitted to cross into the Turkish area. I wonder if I will need a visa as a Canadian? I know I need one for Turkey, right? We'll see how that goes. Assuming I do not face any issues, it should be exciting to explore that side of the island. If I encounter any problems, I'll definitely take some great photos with my remarkable reappearing camera. As you might recall, my apartment in Moscow got robbed. The burglars completely ransacked my home, turning everything upside down in search of my valuables, which they found, of course. They discovered everything and took it all, except for my new digital camera. It was stored in my old backpack. That bag is so battered and worn-out that I’m sure they presumed there was no valuable item inside it, and so\",\n",
      "  \"paraphrase_2\": \"Luckily, my computer is operating well, allowing me to continue working on this beautiful sunny Friday afternoon. We had a great time last weekend on a cruise to Beirut with our Dutch friends. This weekend, I will be driving with my Russian colleague and his girlfriend to Nicosia, and then based on our luck, we may cross the main checkpoint onto the Turkish side of the island and then head to the popular Famagusta Beach located on the East of the island. It is not possible to drive there directly, and Greek Cypriots and visitors have only just recently been granted permission to cross into the Turkish side. I wonder if, as a Canadian, I will require a visa? I know that I need a visa to enter Turkey, right? We'll find out. Assuming there are no issues, it should be enjoyable to see that part of the island. If there are issues, I will definitely capture some nice photos with my incredible reappearing camera. As you might remember, my apartment in Moscow was broken into. The thieves ransacked my place, scattering items everywhere while searching for my treasures, which they did find, obviously. They found everything and took it all, except for my new digital camera. That camera was packed in my old backpack. That knapsack is so worn down and weathered that I’m certain they thought it held nothing valuable, and so\",\n",
      "  \"paraphrase_3\": \"I’m glad to report that my computer is still functioning, enabling me to continue working on this cheerful and sunny Friday afternoon. We enjoyed a cruise to Beirut last weekend and had a fantastic time with our friends from the Netherlands. This weekend, my Russian colleague, his girlfriend, and I plan to drive first to Nicosia and then, depending on luck, attempt to cross through the main checkpoint to reach the Turkish side of the island, after which we'll visit the famous Famagusta Beach on the East coast. Direct driving there is not allowed, and just recently have Greek Cypriots and visitors been granted access to cross to the Turkish side. I am curious if, as a Canadian, I need a visa? I am aware that I need a visa for Turkey, right? We'll have to see how it goes. If I don’t encounter any problems, it ought to be fun to explore that area of the island. Should I run into any issues, I will certainly take some lovely pictures with my spectacular reappearing camera. As you might remember, my apartment in Moscow was burglarized. The robbers completely searched my space, turning everything upside down as they sought my valuables, which they indeed found. They found everything and took everything, with the exception of my new digital camera. That camera was tucked away in my old rucksack. That backpack is so worn out and old that I bet they thought there was nothing of value inside it, and thus\",\n",
      "  \"paraphrase_4\": \"Thank goodness my computer is working well, so I can keep working on this lovely sunny Friday afternoon. Last weekend, we had a wonderful cruise to Beirut with our Dutch friends. This weekend, my Russian colleague along with his girlfriend and I are planning to drive to Nicosia first, and then, if luck is on our side, we will try to cross through the main check point into the Turkish area of the island, heading towards the well-known Famagusta Beach on the eastern coastline. You can't drive directly there, and Greek Cypriots along with visitors have just recently been allowed to cross to the Turkish side. As a Canadian, I wonder if I need a visa? I am aware that I do need one to visit Turkey? We will see how all that goes. Provided I do not run into any issues, it should be enjoyable to see that region of the island. If I do encounter any difficulties, I will definitely take some beautiful photos with my amazing camera that reappears. As you may recall, my apartment in Moscow was broken into. The thieves completely destroyed my apartment, throwing everything around as they searched for my valuables, which they did find, naturally. They found everything and stole everything except for my new digital camera. The camera was in my old rucksack. That bag is so worn and tattered that I am quite sure they assumed it had nothing valuable inside and therefore\",\n",
      "  \"paraphrase_5\": \"Fortunately, my computer is still operational, allowing me to continue my work on this delightful and sunny Friday afternoon. We had a great time last weekend on a cruise to Beirut with our friends from the Netherlands. This weekend, my Russian colleague, his girlfriend, and I will drive to Nicosia first, and then, if luck permits, we will pass through the main checkpoint onto the Turkish side of the island and make our way to the famous Famagusta Beach situated on the East side of the island. One cannot drive directly there, and Greek Cypriots, along with visitors, have only recently been given permission to cross over to the Turkish side. I am curious to know if I will require a visa as a Canadian? I know that I do need one for Turkey, right? We shall find out. However, assuming everything goes smoothly, it should be enjoyable to check out that section of the island. If I do encounter issues, I will surely take some great pictures with my spectacular reappearing camera. As you may remember, my place in Moscow was robbed. The thieves rummaged through everything, leaving my apartment in disarray while searching for my treasures, which, of course, they found. They located everything and took all, save for my new digital camera. The camera was tucked inside my old rucksack. That bag is so worn and decrepit that I’m pretty certain they thought it contained nothing of value, and thus\",\n",
      "  \"paraphrase_6\": \"I’m grateful that my computer is functioning properly, letting me work on this sunny and bright Friday afternoon. Last weekend, we enjoyed a lovely cruise to Beirut alongside our Dutch friends. This weekend, I am going to drive first to Nicosia with my Russian colleague and his girlfriend, and then, depending on how lucky we are, we will try to cross through the main checkpoint to the Turkish side of the island and eventually visit the well-known Famagusta Beach on the eastern part of the island. It’s not possible to drive there directly, and Greek Cypriots and visitors have just recently been allowed to enter the Turkish side. I wonder if I’ll need a visa being a Canadian? I know a visa is required for Turkey, right? We will see. However, assuming I don’t have any difficulties, it should be fun to explore that side of the island. If I do have issues, I will certainly capture some beautiful images with my amazing reappearing camera. You might recall that my apartment in Moscow was targeted by thieves. The burglars completely tore apart my apartment, turning everything upside down while searching for my valuables, which they did find, of course. They found and took everything except my new digital camera. That camera was hidden in my old rucksack. That backpack is so tattered and battered that I’m sure they thought there was nothing of worth inside it, and therefore\",\n",
      "  \"paraphrase_7\": \"I’m thankful that my computer is working well, allowing me to keep working during this bright and sunny Friday afternoon. Last weekend, we enjoyed a cruise to Beirut, having a great time with our Dutch friends. This weekend, I will be embarking on a drive with my Russian colleague and his girlfriend to Nicosia, and then, depending on our fortune, we might cross through the main checkpoint onto the Turkish side of the island, heading to the popular Famagusta Beach on the east side. You can't go there directly by car, and Greek Cypriots and visitors have only recently been allowed to enter the Turkish area. I hope I don’t need a visa as a Canadian? I know I need one for Turkey, right? We’ll find out. Assuming I encounter no issues, it’ll be fun to check out that part of the island. If I do face any problems, I’ll be sure to capture some good pictures with my fantastic reappearing camera. Just as a reminder, my apartment in Moscow was burglarized. The thieves really ransacked my place, making a mess while looking for my valuables, which they obviously found. They found everything and took it all, except my new digital camera. It was packed inside my old bag. That knapsack is so worn down that I believe they assumed it contained nothing valuable, and therefore\",\n",
      "  \"paraphrase_8\": \"I’m relieved that my computer is still operational, which allows me to continue my work on this lovely sunny Friday afternoon. Last weekend was a delightful cruise to Beirut, where I shared some great moments with our Dutch friends. For this weekend, my Russian colleague, his girlfriend, and I have plans to drive to Nicosia first, then depending on our fortune, we’ll attempt to cross through the main check point into the Turkish portion of the island and move on to the renowned Famagusta Beach on the Eastern side. Direct access by car is not possible, andGreek Cypriots and visitors have only been recently allowed to enter the Turkish side. I am curious if I will need a visa as a Canadian? I do know I need one to travel to Turkey, correct? We will see how that unfolds. Assuming there are no complications, I should enjoy visiting that side of the island. If I do have problems, I will definitely take some memorable pictures with my amazing reappearing camera. As you may well recall, my Moscow apartment was robbed. The burglars completely rummaged through my apartment, turning everything upside down in search of valuables, which they naturally found. They found and took everything, but left my new digital camera. That camera was stored in my old rucksack. That backpack is so worn and battered that I’m sure the thieves thought it held nothing valuable and as a result\",\n",
      "  \"paraphrase_9\": \"I am happy to say that my computer is still running, and I can continue my work on this bright and sunny Friday afternoon. Last weekend, we had a wonderful cruise to Beirut with our Dutch friends. This weekend, I will join my Russian colleague and his girlfriend on a drive first to Nicosia, and then if luck is with us, we will cross at the main checkpoint onto the Turkish side of the island and then head to the well-known Famagusta Beach located on the East of the island. One cannot drive there directly, and Greek Cypriots and visitors have only recently been allowed to cross to the Turkish side. I am curious to see if I require a visa as a Canadian? I am aware I need one for Turkey, right? We will find out. However, if everything goes smoothly, it should be enjoyable to see that part of the island. If I do run into any problems, I will definitely take some nice pictures with my fantastic reappearing camera. As a reminder, my apartment in Moscow was robbed. The thieves left my apartment in disarray, turning everything upside down while searching for my belongings, which they did find, of course. They took everything except for my new digital camera. The camera was kept in my old rucksack. That bag is so worn out and decrepit that I’m quite sure they thought there would be nothing of value inside it, and therefore\",\n",
      "  \"paraphrase_10\": \"I’m glad to report that my computer is still operational, which allows me to continue my work on this sunny and pleasant Friday afternoon. Last weekend, we enjoyed an exciting cruise to Beirut with our Dutch friends. This weekend, my Russian colleague and his girlfriend will join me for a drive to Nicosia first, and then depending on our luck, we'll try to get through the main checkpoint onto the Turkish part of the island and then move towards the famous Famagusta Beach located on the east side of the island. There is no direct driving route, and Greek Cypriots and visitors have only recently been allowed to cross to the Turkish side. I wonder, as a Canadian, whether I need a visa? I am aware that I need one to go to Turkey, correct? We’ll see what happens. Assuming no issues come up, it should be enjoyable to visit that section of the island. If I encounter any difficulties, I will certainly take some memorable photos with my amazing reappearing camera. Just as a refresher, my apartment was robbed in Moscow. The thieves completely ransacked my apartment, turning every item upside down as they searched for valuables, which they did indeed find. They discovered everything and stole everything, except for my new digital camera, which was in my old rucksack. That backpack is so worn out that I can’t help but think they assumed it contained nothing of value, and consequently\",\n",
      "  \"paraphrase_11\": \"I'm fortunate to say that my computer is still working, allowing me to continue my work on this bright and sunny Friday afternoon. Last weekend, we took a fantastic cruise to Beirut and had a great time with our Dutch friends. This weekend, my Russian colleague and his girlfriend will join me for a drive to Nicosia first, and then we'll try our luck at crossing through the main checkpoint onto the Turkish side of the island and visit the popular Famagusta Beach on the East coast. You can’t drive there directly, and Greek Cypriots and visitors have only recently been allowed to go over to the Turkish side. I’m curious to know if as a Canadian I need a visa? I’m aware that I need one for Turkey, isn't that right? We will find that out. However, assuming I encounter no troubles, it should be enjoyable to explore that side of the island. If issues arise, I will certainly take some great photographs with my awesome reappearing camera. As you might recall, my apartment in Moscow was robbed. The burglars completely ransacked my apartment, flipping everything around while looking for valuable items, which naturally they found. They found everything and took it all, except my new digital camera. It was in my old rucksack. That old backpack is so worn out that I believe they thought there was nothing of value inside it, and therefore\",\n",
      "  \"paraphrase_12\": \"I'm relieved that my computer is functioning properly, which allows me to work on this sunny and pleasant Friday afternoon. Last weekend, we had a lovely time on a cruise to Beirut with our Dutch friends. For this weekend, my Russian colleague and his girlfriend plan to drive to Nicosia, and then, depending on our luck, we'll see if we can cross through the main checkpoint to the Turkish side of the island and head toward Famagusta Beach on the East coast. One cannot drive there directly, and Greeks and visitors have only recently been allowed to enter the Turkish territory. I wonder as a Canadian if I will need a visa? I know I need one for Turkey, correct? We will find out soon. If all goes smoothly, it should be fun to see that area of the island. Should any issues come up, I'll make sure to take some beautiful pictures with my amazing reappearing camera. As a reminder, my Moscow apartment was robbed not long ago. The thieves completely ransacked the place, creating chaos while searching for my valuables, which they did find, of course. They found and took everything except for my new digital camera, which was hidden in my old rucksack. That bag is so battered that I’m confident they thought it didn't contain anything valuable, and thus\",\n",
      "  \"paraphrase_13\": \"I’m happy to report that my computer is still operational, which enables me to keep working on this bright and sunny Friday afternoon. Last weekend, we took an enjoyable cruise to Beirut and had a wonderful time with our Dutch friends. This weekend, I will be driving with my Russian colleague and his girlfriend first to Nicosia, and then, depending on our luck, we will attempt to cross through the main checkpoint to the Turkish side of the island and then head to the famous Famagusta Beach on the eastern coast. You cannot drive there directly, and Greek Cypriots and visitors have only recently been allowed to cross onto the Turkish side. I hope as a Canadian I will not need a visa? I do know that I require one to visit Turkey, don’t I? We shall see. However, if I do not run into any issues, it is likely to be enjoyable to visit that part of the island. If I do have problems, I will, as always, capture some good pictures with my amazing reappearing camera. As you may recall, my apartment in Moscow was broken into. The thieves completely tore apart my space, tossing everything aside while searching for my valuables, which they naturally found. They discovered everything and took all except for my new digital camera, which was safely inside my old rucksack. That bag is so worn down that I think they presumed there was nothing of worth inside, and therefore\",\n",
      "  \"paraphrase_14\": \"Thank goodness for my computer still running, as it allows me to work on this bright and sunny Friday afternoon. Last weekend, we had a fantastic cruise to Beirut, enjoying our time with our Dutch friends. This weekend, my Russian colleague, his girlfriend, and I will embark on a drive to Nicosia, and depending on our luck, we’ll try our best to pass through the main checkpoint to the Turkish side of the island and visit the famous Famagusta Beach on the East coast. Access by car is not direct, and Greek Cypriots, along with visitors, have just recently been permitted to cross over to the Turkish side. I am curious if I need a visa being a Canadian? I know I have to have one for Turkey, right? We will soon find out. Assuming no problems arise, it should be a fun experience to discover that side of the island. If I do face complications, I will definitely capture some lovely photos with my incredible reappearing camera. Just to remind you, my apartment in Moscow was burglarized. The thieves completely ransacked my apartment, making a mess in their search for my valuables, which undoubtedly they found. They discovered everything and took it all, aside from my new digital camera. That camera was stored in my old rucksack. That bag is so old and worn-out that they probably assumed it contained nothing of value, and so\",\n",
      "  \"paraphrase_15\": \"I’m pleased to say that my computer is still working, allowing me to keep at my work on this bright, sunny Friday afternoon. Last weekend, we had a wonderful cruise to Beirut with our Dutch friends. This weekend, my Russian colleague and his girlfriend will be joining me for a drive to Nicosia, where based on our luck, we’ll attempt to pass through the main checkpoint onto the Turkish side of the island and then venture to the famed Famagusta Beach on the East coast. Driving to that spot directly isn't possible, and Greek Cypriots along with visitors have only very recently been allowed across to the Turkish side. I'm curious whether I will need a visa as a Canadian? I know I need one for Turkey, however, right? We will see what happens. If everything goes smoothly, it should be fun to check that side of the island. Should I face any trouble, I will, of course, take some excellent pictures with my fantastic reappearing camera. As you might recall, my apartment in Moscow was robbed. The criminals completely turned my apartment upside down during their search for valuables, which they very much found. They managed to find everything and took it all, with the exception of my new digital camera, which was kept in my old rucksack. That knapsack has so much damage that I'm quite sure the thieves assumed it held nothing of worth inside, and therefore\",\n",
      "  \"paraphrase_16\": \"Fortunately, my computer continues to run well, allowing me to work through this bright and sunny Friday afternoon. Last weekend, we enjoyed a cruise to Beirut where we had a fantastic time with our friends from the Netherlands. This weekend, I plan to drive first to Nicosia with my Russian colleague and his girlfriend, depending on our luck; hopefully, we’ll be able to cross through the main checkpoint onto the Turkish side of the island and then make our way to the famous Famagusta Beach on the east side. It isn’t possible to drive straight there, and Greek Cypriots and visitors have only very recently been granted access to cross over to the Turkish side. I am curious to find out if I will need a visa because I am Canadian? I know I need one for Turkey, right? We will soon see. Assuming I have no issues, it should be exciting to visit that side of the island. If I do run into problems, I will, of course, take excellent photos with my remarkable reappearing camera. As you might know, my Moscow apartment was burglarized. The thieves thoroughly ransacked my space, tossing everything around while searching for my valuables, which they found without a doubt. They found everything and stole it all, except for my new digital camera, which was kept in my old rucksack. That backpack looks so worn-out that I’m sure they assumed it contained no valuable items inside and thus\",\n",
      "  \"paraphrase_17\": \"I'm delighted to report that my computer is still running, enabling me to work on this\n",
      "Error parsing JSON in row 12: {\"original\": \"However, thankfully my computer is still running, so I am able to keep on working on this bright and sunny Friday afternoon. Last weekend we took a cruise to Beirut and had a really great time with our Dutch friends. This weekend, my Russian colleague and his girlfriend and I will drive first to Nicosia, and then depending on our luck, we will pass through the main check point onto the Turkish side of the island and then proceed to the famous Famagusta Beach on the East side of the island. You cannot drive there directly, and Greek Cypriots and visitors have only recently been allowed to cross over onto the Turkish side. I hope I do not need a visa, being a Canadian? I know that I need one to visit Turkey? We shall see. However, assuming I do not have any problems, it should be fun to see that side of the island. If I do, I will, of course, take some good pictures, with my amazing reappearing camera. As you may remember, my apartment was robbed in Moscow. The thieves ram-sacked my apartment, turning all things upside down, looking for my loot, which they found, of course. First of all they found everything, and then they stole everything, that is, except for my new digital camera. The camera was inside my old rucksack. That knapsack is so beat up and weathered that I am sure they thought there would be nothing of value inside it and therefore\",\n",
      "  \"paraphrase_1\": \"Fortunately, my computer is still operational, allowing me to continue working on this bright and sunny Friday afternoon. Last weekend, we took a cruise to Beirut and had a wonderful time with our Dutch friends. This weekend, my Russian colleague, his girlfriend, and I will first drive to Nicosia, and then if we get lucky, we plan to cross the main checkpoint to the Turkish side of the island and then head to the famous Famagusta Beach on the east coast. You can't drive there directly, and only recently have Greek Cypriots and visitors been allowed to traverse to the Turkish side. I’m wondering if as a Canadian, I need a visa? I know I need one to enter Turkey, right? We’ll see what happens. Assuming everything goes smoothly, it should be exciting to visit that part of the island. If there are any hiccups, I’ll surely take some great pictures with my fantastic camera that seems to reappear. As you might recall, my apartment was burglarized in Moscow. The robbers completely ransacked my apartment, upending everything in search of valuables, which they indeed found. They discovered everything and ended up taking it all, except for my new digital camera. The camera was hidden inside my old backpack. That old knapsack is so worn out and battered that I’m convinced they assumed it contained nothing of worth and therefore\",\n",
      "  \"paraphrase_2\": \"Thankfully, my computer is still functioning, which lets me keep working on this beautiful and sunny Friday afternoon. Last weekend, we enjoyed a cruise to Beirut with our Dutch friends, which was a fantastic experience. This weekend, my Russian co-worker, his girlfriend, and I will travel first to Nicosia and then, depending on our luck, we may cross through the main checkpoint to the Turkish side of the island and head towards the well-known Famagusta Beach on the East side. Driving directly there isn’t possible, and Greek Cypriots and visitors have recently been permitted to cross over to the Turkish area. I’m curious if I will require a visa as a Canadian? I understand that I need one to go to Turkey, right? We’ll find out soon. However, if I encounter no issues, it will be enjoyable to explore that side of the island. Should there be any troubles, I will definitely capture some good photos with my miraculous camera that tends to reappear. As you might remember, my place was broken into in Moscow. The burglars turned my place upside down, searching for valuables, which they certainly found. They uncovered everything and took it all except for my brand-new digital camera. The camera was stored in my old backpack. That bag is so worn and weather-beaten that I’m pretty sure they thought there was nothing valuable inside it and thus\",\n",
      "  \"paraphrase_3\": \"Fortunately, my computer continues to operate, which allows me to keep working on this lovely sunny Friday afternoon. Last weekend, we went on a cruise to Beirut and had an absolutely fantastic time with our Dutch friends. This weekend, my Russian colleague, along with his girlfriend and I, will first drive to Nicosia, and depending on how lucky we are, we might go through the main checkpoint to reach the Turkish side of the island and then head to the renowned Famagusta Beach on the eastern side. Direct access by car isn’t allowed, and Greek Cypriots as well as visitors have only recently gained permission to cross over to Turkey's side. I’m wondering if I need a visa as I am Canadian? I’m aware that I need one for Turkey, right? Time will tell. Yet, if all goes well, it should be a fun adventure to explore that part of the island. If issues arise, I plan on taking some excellent photos with my amazing camera that tends to make a comeback. As you may recall, my apartment in Moscow was robbed. The thieves ransacked my living space, turning everything upside down in search of my valuables, which, of course, they found. They found everything and subsequently stole it all, except for my new digital camera. It was concealed within my old rucksack. That backpack is so tattered and used that I believe they thought it contained nothing of significance and thus\",\n",
      "  \"paraphrase_4\": \"I’m relieved that my computer is functioning well; this allows me to continue my work on this bright and sunny Friday afternoon. Last weekend, we had a wonderful cruise to Beirut with our Dutch pals. This weekend, my Russian colleague, his girlfriend, and I will head first to Nicosia, and then, depending on our luck, we’ll venture through the main checkpoint to the Turkish part of the island before we make our way to the famous Famagusta Beach on the East coast. There’s no direct driving route, and recently Greek Cypriots and visitors have been permitted to cross over to the Turkish area. I hope I won’t need a visa since I’m Canadian? I believe I do need one to visit Turkey, right? We’ll find out soon. If all goes according to plan, it should be an enjoyable experience to see that part of the island. If I encounter any hiccups, I certainly plan to take some nice photos with my incredible reappearing camera. If you recall, my apartment was robbed in Moscow. The thieves completely ransacked my home, overturning everything, searching for valuables, which they eventually found, of course. They found it all and took everything except my new digital camera. That camera was packed inside my old backpack. That worn-out knapsack is so weathered that I’m sure they figured there was nothing valuable inside and thus\",\n",
      "  \"paraphrase_5\": \"It’s a relief that my computer is still active, which allows me to carry on with my work on this bright and beautiful Friday afternoon. Last weekend, we took a cruise to Beirut and had a fantastic experience with our Dutch friends. This weekend, my Russian colleague, his girlfriend, and I will first head to Nicosia, and then, depending on how lucky we are, we’ll cross the main checkpoint into the Turkish territory of the island and proceed to the famous Famagusta Beach located on the East side. Driving there directly is not possible, and it’s only recently that Greek Cypriots and visitors have been allowed to cross into the Turkish side. I’m curious if I need a visa as a Canadian? I understand that a visa is necessary for Turkey, right? We’ll find out shortly. However, assuming there are no problems, it should be exciting to see that part of the island. If any issues arise, I will certainly take some good pictures with my fantastic reappearing camera. As you may recall, my apartment in Moscow was robbed. The burglars thoroughly ransacked my apartment, turning everything upside down in search of valuables, which they did find. They found everything and took it all except for my new digital camera. The camera was tucked away in my old rucksack. That well-used bag is so battered that I’m convinced they thought there was nothing worthwhile inside it and hence\",\n",
      "  \"paraphrase_6\": \"Luckily, my computer is still functioning, allowing me to continue working on this sunny and bright Friday afternoon. Last weekend, we enjoyed a cruise to Beirut with our Dutch friends, which was a truly great time. This weekend, my Russian colleague and his girlfriend, along with me, will first drive to Nicosia, and then, if luck permits, we will pass through the main checkpoint to the Turkish side of the island and then continue on to the famous Famagusta Beach on the eastern coast. You cannot drive to that location directly, and Greek Cypriots and visitors were only recently allowed to cross into the Turkish region. I hope, as a Canadian, I won’t need a visa? I am aware that I require one for visiting Turkey, right? Time will tell. However, if there are no issues, it should definitely be enjoyable to explore that side of the island. If I face complications, I plan to capture some beautiful photos with my superb reappearing camera. As you may remember, my apartment in Moscow was burglarized. The thieves turned my apartment upside down, searching for valuables, which they indeed found. They found everything and stole all of it, except for my new digital camera. The camera was safely hidden inside my old backpack. That knapsack is so worn that I’m sure they believed there was nothing of value within it and therefore\",\n",
      "  \"paraphrase_7\": \"On a positive note, my computer is still operational, enabling me to continue working on this bright, sunny Friday afternoon. Last weekend, we had a delightful cruise to Beirut with our Dutch companions, which was a fantastic experience. This weekend, my Russian colleague, along with his girlfriend and I, will head first to Nicosia, and then based on our luck, we may attempt to cross through the main checkpoint onto the Turkish side of the island and then make our way to the famous Famagusta Beach on the eastern side. Driving there directly is not an option, and Greek Cypriots and visitors have just begun to be permitted to cross over to the Turkish side. I wonder if I’ll need a visa as a Canadian? I know I need one to enter Turkey, right? We shall see. Assuming that everything is alright, it should be a lot of fun to see that side of the island. If there are any hassles, I’ll surely take some excellent pictures with my amazing camera that tends to reappear. As you may recall, I was robbed in Moscow. The thieves completely ransacked my apartment, looking for my valuables, which, of course, they found. They found everything and stole it all except my new digital camera. It was located inside my old rucksack. That bag is so weathered that I’m sure they thought it contained nothing of value and therefore\",\n",
      "  \"paraphrase_8\": \"Gratefully, my computer is still working well, enabling me to continue my work on this bright and sunny Friday afternoon. Last weekend, we took a wonderful cruise to Beirut where we had a great time with our Dutch friends. This weekend, I plan to drive with my Russian colleague and his girlfriend first to Nicosia, and then depending on our luck, we might cross through the main checkpoint into the Turkish part of the island before heading to the famous Famagusta Beach situated on the eastern side. There’s no direct access for cars, and recently, Greek Cypriots and visitors have been permitted to cross onto the Turkish side. I wonder if I’ll require a visa, being Canadian? I know that to visit Turkey, I definitely need one, right? We shall see how it goes. Assuming all goes smoothly, it should be fun to explore that side of the island. If I run into any issues, I will, of course, take some beautiful pictures with my remarkable reappearing camera. You may remember that my apartment was broken into in Moscow. The thieves ransacked my place, turning it upside down in their search for valuables, which they indeed discovered. They found everything and took all of it, except my new digital camera. The camera was hidden inside my old backpack. That bag is so weathered and beaten that I am sure they thought it held nothing of worth and thus\",\n",
      "  \"paraphrase_9\": \"I’m glad to report that my computer is still functioning, allowing me to keep working on this bright and sunny Friday afternoon. Last weekend, we took a cruise to Beirut and had a truly wonderful time with our Dutch friends. This weekend, my Russian colleague, his girlfriend, and I will first head to Nicosia and then, if fortune favors us, we will pass through the main checkpoint to reach the Turkish side of the island before moving on to the well-known Famagusta Beach on the East coast. Direct driving access is not allowed, and Greek Cypriots and visitors have only recently been granted permission to cross into the Turkish area. I kindly hope I don't need a visa as I am Canadian? I know that a visa is necessary for visiting Turkey, right? Time will tell. However, if all goes smoothly, it should be an enjoyable experience to see that region of the island. Should there be any complications, I will undoubtedly take some great photos with my amazing camera that tends to return. As you might recall, my place was burglarized in Moscow. The thieves rampaged through my apartment, searching for valuables, which they undoubtedly found. They uncovered everything, and took it, except for my new digital camera. The camera was stowed away in my old rucksack. That bag is so worn that I am sure they thought it contained nothing of value and hence\",\n",
      "  \"paraphrase_10\": \"On a positive note, my computer is still operational, so I can continue my work on this bright and sunny Friday afternoon. Last weekend, we took a delightful cruise to Beirut and really enjoyed time spent with our Dutch friends. This weekend, my Russian colleague, his girlfriend, and I will be driving first to Nicosia and then, depending on our luck, we might cross through the main checkpoint onto the Turkish side of the island before heading to the renowned Famagusta Beach on the East side. Driving directly there is not allowed, and only recently have Greek Cypriots and visitors been able to cross into the Turkish area. I hope that as a Canadian, I won’t require a visa? I know I need one for Turkey, right? We will see what happens. Assuming no problems arise, it should be enjoyable to explore that part of the island. If issues do come up, I will certainly take some good photos with my awesome reappearing camera. As you may recall, my apartment was robbed in Moscow. The thieves thoroughly ransacked my apartment, turning everything upside down to find valuables, which they did find. They managed to locate everything and ended up taking it all, except for my new digital camera. That camera was kept inside my old backpack. That bag is so worn out that I’m certain they thought it had nothing valuable in it and therefore\",\n",
      "  \"paraphrase_11\": \"I’m relieved that my computer is still operational, allowing me to continue working on this beautiful sunny Friday afternoon. Last weekend, we had a fantastic cruise to Beirut with our Dutch friends and truly enjoyed ourselves. This weekend, I am planning to drive with my Russian colleague and his girlfriend first to Nicosia, and based on our luck, we may cross the main checkpoint to the Turkish side of the island and then proceed to the famous Famagusta Beach located on the eastern edge. It’s not possible to drive there directly, and recently Greek Cypriots and visitors have been allowed to visit the Turkish side. I hope I won’t need a visa since I'm a Canadian? I understand that I do need one for Turkey, right? We’ll find out soon. However, if I encounter no issues, it should be fun to discover that side of the island. If I face challenges, I’ll surely take some beautiful photos with my incredible camera that keeps making a comeback. Those of you who remember will know that my apartment was robbed in Moscow. The thieves ransacked my entire residence, turning everything upside down in search of my loot, which they certainly found. They uncovered everything and stole it all except for my new digital camera. The camera was stowed away in my old backpack. That knapsack is so battered that I am sure they presumed it had nothing of value inside it and therefore\",\n",
      "  \"paraphrase_12\": \"Thankfully, my computer is still functioning well, enabling me to continue my work on this sunny and bright Friday afternoon. Last weekend, we enjoyed a lovely cruise to Beirut with our Dutch friends, which was a really great experience. This weekend, my Russian colleague and his girlfriend, along with me, will drive first to Nicosia and then, if fortunate, we may cross through the main checkpoint onto the Turkish side of the island before heading toward the famous Famagusta Beach on the East side. Driving directly there is prohibited, and only recently have Greek Cypriots and visitors been allowed to pass over onto the Turkish side. I wonder if, as a Canadian, I need a visa? I acknowledge that I require one for visiting Turkey, right? We shall see how it goes. However, assuming everything goes smoothly, it should be exciting to explore that part of the island. If I experience any issues, I will, of course, take some great pictures with my amazing reappearing camera. You might remember that my apartment in Moscow was broken into. The thieves completely ransacked my home, turning everything upside down in search of valuables, which they indeed found. They discovered everything and then stole it all, except for my new digital camera. That camera was hidden inside my old rucksack. That bag is so worn out that I am sure they thought it held nothing of worth and therefore\",\n",
      "  \"paraphrase_13\": \"It's fortunate that my computer is still operational, allowing me to continue my work on this bright, sunny Friday afternoon. Last weekend, we enjoyed a cruise to Beirut, where we had a fantastic time with our Dutch friends. This weekend, my Russian colleague, his girlfriend, and I are planning to first drive to Nicosia, and then depending on our luck, we might go through the main checkpoint to the Turkish side of the island and then visit the famous Famagusta Beach located on the eastern shore. Driving directly there isn't allowed, and just recently have Greek Cypriots and visitors been able to cross over to the Turkish territory. I hope I don't need a visa since I'm Canadian? I know that a visa is necessary to visit Turkey, right? We will see how that goes. However, if everything goes smoothly, it should be exciting to visit that side of the island. If I do have any issues, I’ll make sure to take some excellent pictures with my fantastic reappearing camera. You may recall that my apartment was robbed in Moscow. The thieves rummaged through my entire apartment, searching for valuables, which they indeed found. They found everything and took all, except for my new digital camera. The camera was kept inside my old rucksack. That ragged bag is so shabby that I’m convinced they thought it contained nothing of value and therefore\",\n",
      "  \"paraphrase_14\": \"On a positive note, my computer is still running smoothly, enabling me to continue working on this sunny and bright Friday afternoon. Last weekend, we took a cruise to Beirut and truly had a fantastic time with our Dutch friends. This weekend, I plan to drive with my Russian colleague and his girlfriend first to Nicosia, and then, depending on our luck, we will pass through the main checkpoint to the Turkish side of the island and then visit the well-known Famagusta Beach on the East coast. You can't drive directly there, and recently, Greek Cypriots and visitors have only been allowed to cross over to the Turkish side. I'm curious if I will need a visa as a Canadian? I understand that I need one to go to Turkey, right? We shall find out. However, if there are no issues, it ought to be enjoyable to explore that part of the island. If I face any problems, I will certainly capture some great photos with my amazing camera that tends to reappear. As you already know, my apartment in Moscow was robbed. The thieves completely uprooted my apartment, turning everything upside down in search of my valuables, which they indeed found. They managed to find everything and subsequently stole all, except for my new digital camera. The camera was stored inside my old backpack. That backpack is so weathered that I’m confident they thought there was nothing of value within it and thus\",\n",
      "  \"paraphrase_15\": \"Fortunately, my computer is still in good shape, which allows me to continue my work on this bright and sunny Friday afternoon. Last weekend, we enjoyed a cruise to Beirut with our Dutch friends, which was a great experience. This weekend, my Russian colleague and his girlfriend will be driving with me first to Nicosia, and then hopefully we can cross through the main checkpoint onto the Turkish side of the island and make our way to the famous Famagusta Beach on the eastern side. There is no direct route there, and Greek Cypriots and visitors have only recently been permitted to cross over to the Turkish part. I hope I won't need a visa, as I'm a Canadian? I know that I definitely need one to travel to Turkey, right? We’ll find out in due time. However, if there are no issues, it should be fun to check out that part of the island. If anything comes up, I'll be sure to take some wonderful pictures with my incredible reappearing camera. As you may recall, my apartment was burglarized in Moscow. The thieves turned my apartment upside down, ransacking every item in search of valuables, which they successfully found. They found everything and took it all, except for my new digital camera. That camera was hidden away in my old backpack. That well-used knapsack is so worn out that I’m sure they thought it was empty of valuables and thus\",\n",
      "  \"paraphrase_16\": \"I’m glad to know that my computer is still operational, which means I can keep working on this lovely sunny Friday afternoon. Last weekend, we took a wonderful cruise to Beirut and had an amazing time with our Dutch friends. This weekend, I will drive along with my Russian colleague and his girlfriend to Nicosia, and then if we’re lucky, we will pass through the main checkpoint to the Turkish side of the island and then move to the famous Famagusta Beach towards the East. Driving directly there isn’t feasible, and recently Greek Cypriots and visitors have gained permission to cross into the Turkish region. I’m curious if I need a visa, considering I’m Canadian? I’m aware that a visa is necessary for Turkey, right? We’ll see soon. Nevertheless, if everything goes according to plan, it should be delightful to experience that side of the island. If any complications arise, I will make sure to take some nice pictures using my fantastic camera that keeps coming back. You may remember that my place in Moscow was robbed. The thieves thoroughly ransacked my home, turning things all over in search of valuables, which they certainly found. They discovered everything, and then took it all away except for my brand-new digital camera. The camera was located inside my old backpack. That bag is so used and battered that I’m convinced they assumed there was nothing valuable inside and therefore\",\n",
      "  \"paraphrase_17\": \"I’m relieved that my computer remains functional, allowing me to continue my work this bright and sunny Friday afternoon. Last weekend, we enjoyed a wonderful cruise to Beirut accompanied by our Dutch\n",
      "Error parsing JSON in row 13: {\"original\": \"However, thankfully my computer is still running, so I am able to keep on working on this bright and sunny Friday afternoon. Last weekend we took a cruise to Beirut and had a really great time with our Dutch friends. This weekend, my Russian colleague and his girlfriend and I will drive first to Nicosia, and then depending on our luck, we will pass through the main check point onto the Turkish side of the island and then proceed to the famous Famagusta Beach on the East side of the island. You cannot drive there directly, and Greek Cypriots and visitors have only recently been allowed to cross over onto the Turkish side. I hope I do not need a visa, being a Canadian? I know that I need one to visit Turkey? We shall see. However, assuming I do not have any problems, it should be fun to see that side of the island. If I do, I will, of course, take some good pictures, with my amazing reappearing camera. As you may remember, my apartment was robbed in Moscow. The thieves ram-sacked my apartment, turning all things upside down, looking for my loot, which they found, of course. First of all they found everything, and then they stole everything, that is, except for my new digital camera. The camera was inside my old rucksack. That knapsack is so beat up and weathered that I am sure they thought there would be nothing of value inside it and therefore\",\n",
      "  \"paraphrase_1\": \"Fortunately, my computer is still functioning, allowing me to continue working on this bright and sunny Friday afternoon. Over the past weekend, we went on a cruise to Beirut and had an excellent time with our Dutch friends. This weekend, my Russian colleague, his girlfriend, and I will drive to Nicosia first, and then depending on our luck, we’ll cross through the main checkpoint to the Turkish side of the island and then head to the famous Famagusta Beach located on the eastern part of the island. It's not possible to drive there directly, and it was only recently that Greek Cypriots and visitors were permitted to cross to the Turkish side. I’m curious if I will need a visa, since I’m Canadian? I’m aware I need one for Turkey, though? We will see how it goes. Assuming that I don’t encounter any issues, it should be enjoyable to experience that part of the island. If there are any challenges, I’ll make sure to take good photos with my fantastic camera that keeps reappearing. As you might recall, my apartment got robbed in Moscow. The burglars ransacked my place, turning everything upside down in search of valuables, which they did manage to find. They found everything initially and then took all of it – except for my new digital camera. It was tucked away in my old backpack. That bag is so worn out and dilapidated that I’m confident they assumed there was nothing worth taking inside it, so they left it behind.\",\n",
      "  \"paraphrase_2\": \"Luckily, my computer is still operational, which means I can keep working on this beautiful and sunny Friday afternoon. Last weekend, we enjoyed a cruise to Beirut and had a fantastic time with our Dutch friends. This weekend, my Russian colleague, his girlfriend, and I plan to drive to Nicosia first, and then, based on our luck, we might cross through the main checkpoint to the Turkish part of the island and make our way to the well-known Famagusta Beach on the eastern side. Direct access by car is not allowed, and just recently, Greek Cypriots and visitors have been granted permission to cross over to the Turkish side. I'm wondering if I will need a visa, being a Canadian? I know that I need one for Turkey, right? We will find out. However, assuming there are no hitches, it should be enjoyable to explore that side of the island. If there are any issues, I will certainly capture some great photos with my remarkable camera that tends to reappear. As you might remember, I had my apartment broken into in Moscow. The intruders ransacked the place, turning everything upside down while looking for my valuables, which they, of course, found. They took everything except for my new digital camera. It was hidden inside my old backpack. That backpack looks so worn and tattered that I imagine they thought it held no valuable contents and thus left it alone.\",\n",
      "  \"paraphrase_3\": \"Thank goodness my computer is still up and running, enabling me to continue work on this lovely sunny Friday afternoon. Just last weekend, we embarked on a cruise to Beirut and had a truly great time with our Dutch friends. This weekend, my Russian colleague, along with his girlfriend and I, are set to drive to Nicosia initially, and then depending on our luck, we might cross through the main checkpoint onto the Turkish side of the island and subsequently head to the renowned Famagusta Beach on the eastern coast. You can’t drive there straight away, and it is only recently that Greek Cypriots and visitors have been allowed access to the Turkish side. I hope I won’t need a visa as a Canadian? I understand that I require one to enter Turkey? We will see how things unfold. Nonetheless, presuming I don't encounter any issues, it should be a delightful experience to visit that part of the island. If I do face challenges, I will, of course, take some nice pictures with my incredible reappearing camera. As you might recall, my apartment in Moscow was broken into. The thieves rummaged through my belongings, turning everything upside down while searching for treasures, which they found eventually. They discovered every item and ended up stealing everything, except for my new digital camera. That camera was secured inside my old rucksack. Given the state of that bag, so worn-out and battered, I’m sure they assumed it contained nothing valuable and thus overlooked it.\",\n",
      "  \"paraphrase_4\": \"Thankfully, my computer is still functioning properly, so I can keep working on this gorgeous sunny Friday afternoon. Just last weekend, we went on a cruise to Beirut and had an enjoyable time with our Dutch friends. This weekend, my Russian colleague, his girlfriend, and I will start our drive to Nicosia, and then based on our luck, we might pass through the main checkpoint to the Turkish side of the island, heading then to the famous Famagusta Beach on the island’s east coast. You can't drive right there, and recently, Greek Cypriots and visitors have been given permission to cross over to the Turkish area. I’m wondering whether I will need a visa, being Canadian? I know I need one for Turkey, don’t I? We'll soon find out. Assuming I face no issues, it should be great fun to see that side of the island. If there are problems, I will definitely take some good pictures with my fantastic camera that keeps making a comeback. As you may remember, my apartment was burglarized in Moscow. The thieves broke in and completely ransacked my place, overturning everything in search of my valuables, which they indeed found. First, they found everything, and then they ended up stealing it all, except for my new digital camera. The camera was hidden in my old backpack. That old bag is so weathered and beaten that I believe they thought there couldn't be anything valuable inside it, so they left it behind.\",\n",
      "  \"paraphrase_5\": \"I am grateful that my computer is still operational, which allows me to keep on working this bright and sunny Friday afternoon. Last weekend, we cruised to Beirut and had a wonderful time with our Dutch friends. This weekend, my Russian colleague and his girlfriend and I will first drive to Nicosia, and depending on our luck, we aim to cross through the main checkpoint onto the Turkish side of the island and continue to the renowned Famagusta Beach on the East side. You cannot drive there directly, and Greek Cypriots and visitors have only recently been permitted to transit to the Turkish side. Will I need a visa, considering I am Canadian? I understand I need one for Turkey? We shall see how it goes. Nevertheless, if no issues arise, it should be exciting to see that portion of the island. If there are any hurdles, I will take some lovely pictures with my remarkable reappearing camera. As you might recall, my apartment in Moscow was invaded. The thieves ransacked my place, tossing everything about while searching for valuables, which they ultimately found, of course. They located everything first, and then they stole everything except for my new digital camera. That camera was tucked away in my old rucksack. The bag is so worn out and dilapidated that I’m sure they figured there was nothing of value inside it and thus ignored it.\",\n",
      "  \"paraphrase_6\": \"Fortunately, my computer is still working, which means I can keep on working this sunny and bright Friday afternoon. Just last weekend, we took a cruise to Beirut and had a fantastic time with our Dutch friends. This weekend, my Russian colleague and his girlfriend and I will first head to Nicosia, and then, depending on our luck, we will pass through the main checkpoint onto the Turkish side of the island before proceeding to the famous Famagusta Beach on the island’s east side. Direct access by car isn’t an option, and it is only in recent times that Greek Cypriots and visitors have gained permission to cross over to the Turkish side. I'm curious whether I’ll need a visa as a Canadian? I know I need one for Turkey, after all? We shall find out. If everything goes smoothly, it should indeed be fun to explore that side of the island. If I run into issues, I will certainly take some nice pictures with my amazing camera that keeps reappearing. As you might remember, I suffered a burglary at my apartment in Moscow. The burglars tore through my apartment, turning everything upside down while searching for valuables, and naturally, they found what they were looking for. First, they found everything visible, and then they ended up stealing everything, save for my new digital camera. It was safely tucked away in my old rucksack. That rucksack is so worn down that I believe they figured it had no value and therefore didn’t take it.\",\n",
      "  \"paraphrase_7\": \"I’m relieved that my computer is still up and running so I can keep working on this bright and sunny Friday afternoon. Last weekend, we enjoyed a cruise to Beirut and had a really memorable time with our Dutch friends. This weekend, along with my Russian colleague and his girlfriend, I will first drive to Nicosia, and depending on our luck, we may end up passing through the main checkpoint to the Turkish side of the island, ultimately heading to the well-known Famagusta Beach situated on the east side of the island. You cannot get there by car directly, and it is only recently that Greek Cypriots and visitors have received permission to cross to the Turkish side. I wonder if I need a visa as a Canadian? I already know that I need one to visit Turkey? We'll see how it pans out. Assuming that no issues arise, it should be a great adventure to explore that part of the island. Should any problems occur, I will for sure capture some fantastic pictures with my amazing camera that tends to reappear. You may remember that my apartment was broken into in Moscow. The thieves ransacked the whole place, turning it upside down in search of valuables, which they found without a doubt. They first located everything and then stole everything, except my new digital camera. That camera was hidden in my old rucksack. That backpack is so dilapidated and worn that I'm sure they assumed it had nothing of value inside and thus left it alone.\",\n",
      "  \"paraphrase_8\": \"Thank goodness my computer is still working, allowing me to keep on working this bright and sunny Friday afternoon. Last weekend, we went on a cruise to Beirut and had an absolutely wonderful time with our Dutch friends. This weekend, my Russian colleague and his girlfriend, along with me, will drive to Nicosia first, and then, based on our luck, we’ll attempt to cross through the main checkpoint onto the Turkish side of the island before heading to the famous Famagusta Beach on the eastern side. You cannot drive there directly, and it’s only recently that Greek Cypriots and visitors have been given clearance to cross to the Turkish area. I wonder if I will need a visa as a Canadian? I am aware I need one for Turkey, right? We shall see what happens. However, assuming no troubles arise, it should be quite an enjoyable experience to visit that side of the island. If any issues present themselves, I will, of course, take some excellent photos with my remarkable reappearing camera. As you remember, my apartment in Moscow got robbed. The thieves ransacked the place, turning everything upside down while searching for my valuables, which they eventually found. They first found all the belongings, and then took everything except for my new digital camera. That camera was stashed in my old rucksack. Given how beat up that bag is, I'm certain they thought it didn’t contain anything of worth and therefore passed it by.\",\n",
      "  \"paraphrase_9\": \"I’m thankful that my computer is still functioning, which allows me to continue working on this sunny, bright Friday afternoon. Last weekend, we took a cruise to Beirut and enjoyed a wonderful time with our Dutch friends. This weekend, my Russian colleague, his girlfriend, and I plan to drive first to Nicosia, and then hopefully, based on our luck, cross through the main checkpoint onto the Turkish side of the island before heading to the famous Famagusta Beach on the east side. You cannot directly drive there, and it is only recently that Greek Cypriots and visitors have been allowed to cross over to the Turkish side. I wonder if I will need a visa, being a Canadian? I know I require one for Turkey, correct? We will see soon. However, assuming I don’t encounter any issues, it should be an exciting experience to see that part of the island. If any problems arise, I will certainly take some good pictures with my amazing reappearing camera. As you may recall, my apartment in Moscow was robbed. The thieves tore through my residence, turning everything upside down while searching for valuables, and, of course, they found quite a bit. They initially located everything and ultimately stole everything, but left my new digital camera behind. It was inside my old rucksack. That bag is so worn out that I’m sure they assumed it held nothing of value and thus didn’t bother to take it.\",\n",
      "  \"paraphrase_10\": \"I’m relieved that my computer is still operational, enabling me to keep working this lovely sunny Friday afternoon. Last weekend, we enjoyed a cruise to Beirut and had a fantastic time with our Dutch friends. This weekend, my Russian colleague and his girlfriend, together with me, will drive first to Nicosia, and then, depending on our luck, we will pass through the main checkpoint onto the Turkish side of the island and head to the notable Famagusta Beach on the eastern part of the island. It’s not possible to drive directly there, and it is only recently that Greek Cypriots and visitors have been allowed to go over to the Turkish part. I’m curious if I will need a visa, as a Canadian? I know I absolutely need one to visit Turkey, right? We’ll find out soon enough. Assuming I encounter no problems, it should be quite fun to explore that side of the island. Should any issues crop up, I’ll of course take some nice pictures with my incredible camera that has a tendency to reappear. As you might recall, my apartment in Moscow was invaded. The thieves absolutely ransacked it, turning everything upside down in search of what they could find, and of course, they did find a lot. They discovered everything in the apartment and stole it all, except for my new digital camera. That camera was actually in my old rucksack. Given the state of that bag, which is so battered and worn out, I’m sure they thought there wasn’t anything of value in it and so they left it alone.\",\n",
      "  \"paraphrase_11\": \"It’s a relief that my computer is still functioning well, allowing me to continue working on this bright and sunny Friday afternoon. Last weekend, we had a delightful cruise to Beirut and spent quality time with our Dutch friends. This weekend, I will be driving first to Nicosia with my Russian colleague and his girlfriend, and then depending on our luck, we hope to cross through the main checkpoint to the Turkish side of the island and eventually to the famous Famagusta Beach on the eastern side. You cannot drive directly there, and just recently Greek Cypriots and visitors have received permission to cross over to the Turkish area. I wonder if I’ll need a visa, as a Canadian? I know I require one to enter Turkey, right? We shall see how that turns out. Assuming I do not face any issues, it should be fun to explore that side of the island. If difficulties arise, I plan to take some good pictures with my amazing reappearing camera. As you might remember, my apartment in Moscow was robbed. The burglars completely tore through it, turning everything upside down looking for valuables, which they definitely found. They found everything, and eventually stole everything too, except for my new digital camera. That camera was packed inside my old rucksack. That knapsack is so beaten up that I am sure they assumed nothing of value was in it and therefore ignored it.\",\n",
      "  \"paraphrase_12\": \"I’m thankful that my computer is still up and running, which allows me to keep working on this bright and sunny Friday afternoon. Last weekend, we enjoyed a cruise to Beirut and had a really great time together with our Dutch friends. This weekend, my Russian colleague and his girlfriend, along with myself, will first drive to Nicosia, and depending on our luck, we will try to pass through the main checkpoint onto the Turkish side of the island before heading to the famous Famagusta Beach on the east coast. You cannot drive directly there, and it’s only recently that Greek Cypriots and visitors have been allowed to access the Turkish side. I wonder if I will need a visa being a Canadian? I know I need one for Turkey, that’s for sure, right? We will soon find out. However, assuming there are no obstacles, it should be quite enjoyable to see that side of the island. If any complications do arise, I will certainly take some excellent pictures with my remarkable camera that tends to reappear. As you might remember, my apartment was robbed in Moscow. The thieves ransacked it, turning my things upside down in search of valuables, which they managed to find. They found everything first, and then they stole everything, but left my new digital camera. The camera was safely stored in my old rucksack. That bag is so worn and weathered that I’m certain they thought it contained nothing valuable and thus left it behind.\",\n",
      "  \"paraphrase_13\": \"Luckily, my computer is still operational, so I can continue working on this lovely sunny Friday afternoon. Last weekend, we took a cruise to Beirut and had a fantastic time with our Dutch friends. This weekend, my Russian colleague, his girlfriend, and I plan to drive first to Nicosia and then, based on our luck, we may cross through the main checkpoint onto the Turkish side of the island and continue on to the famed Famagusta Beach on the east side. Direct driving access is not allowed, and it is only recently that Greek Cypriots and visitors have been granted permission to cross over to the Turkish area. I wonder whether I will need a visa since I'm Canadian? I’m aware that I need one for Turkey? We will soon discover. Assuming everything goes well, it will be fun to check out that side of the island. If problems arise, I’ll take great pictures with my incredible reappearing camera. You may recall that my apartment in Moscow was broken into. The thieves ransacked my apartment, turning everything upside down while looking for valuables, which they indeed found. They found everything and then stole everything except for my new digital camera. The camera was safely stored away in my old rucksack. That rucksack is so worn out that I’m sure they thought it had no value, so they missed it entirely.\",\n",
      "  \"paraphrase_14\": \"I’m glad to report that my computer is still functioning, allowing me to work on this lovely sunny Friday afternoon. Last weekend, we took a cruise to Beirut and had an exciting time with our Dutch friends. This weekend, I am set to drive with my Russian colleague and his girlfriend first to Nicosia, and then depending on our luck, we might cross through the main checkpoint onto the Turkish side of the island before making our way to the famous Famagusta Beach on the eastern side. You cannot directly access it by car, and Greek Cypriots and visitors have only recently been permitted to cross over to the Turkish side. I hope I don’t need a visa, as I’m Canadian? I certainly know I need one to enter Turkey, right? We shall see what happens. Assuming there are no problems, it should be enjoyable to see that part of the island. If I have any difficulties, I will certainly snap some nice photos with my amazing camera that keeps reappearing. As you may remember, my apartment in Moscow was robbed. The thieves completely ransacked my place, turning everything upside down searching for valuables, which they ultimately found. They located everything and then stole everything except for my new digital camera. That camera was hidden inside my old rucksack. That backpack is so worn and shabby that I believe they thought it had nothing of value and therefore left it behind.\",\n",
      "  \"paraphrase_15\": \"It’s fortunate that my computer is still up and running, allowing me to maintain my work on this bright and sunny Friday afternoon. Just last weekend, we cruised to Beirut and had a wonderful time with our Dutch friends. This weekend, my Russian colleague, his girlfriend, and I will first head to Nicosia, and afterward, depending on our luck, we might cross through the main checkpoint onto the Turkish side of the island, ultimately heading to the well-known Famagusta Beach on the east side. You cannot drive there directly, and recently, Greek Cypriots and visitors were granted the opportunity to cross over to the Turkish side. I’m curious if I’ll need a visa, as I’m a Canadian? I know I do for Turkey? We will find out soon enough. However, assuming everything goes smoothly, it should be a quite enjoyable trip to see that part of the island. Should I face challenges, I will indeed take some great pictures with my fantastic camera that has a way of reappearing. As you recall, my apartment was targeted by burglars in Moscow. The thieves thoroughly searched my home, turning everything upside down in pursuit of valuables, which they certainly found. They discovered all items quickly and then proceeded to steal everything except for my new digital camera, which was stored in my old rucksack. That rucksack is so worn-out and tattered that I suspect they believed it had no valuables, leading them to overlook it.\",\n",
      "  \"paraphrase_16\": \"I’m happy that my computer is still operational so I can continue my work on this bright, sunny Friday afternoon. Last weekend, we went on a cruise to Beirut and enjoyed a fantastic time with our Dutch friends. This weekend, my Russian colleague, his girlfriend, and I will first drive to Nicosia, then depending on our luck, we’ll try passing through the main checkpoint onto the Turkish side of the island and then head to the famous Famagusta Beach on the east side of the island. There is no direct driving access there, and it's only recently that Greek Cypriots and visitors have been allowed to cross onto the Turkish side. I'm wondering if I will need a visa, being a Canadian? I’m aware I need one to enter Turkey, right? We’ll see how it goes.\n",
      "Error parsing JSON in row 14: {\"original\": \"However, thankfully my computer is still running, so I am able to keep on working on this bright and sunny Friday afternoon.&nbsp; Last weekend we took a cruise to Beirut and had a really great time with our Dutch friends.&nbsp; This weekend, my Russian colleague and his girlfriend and I will drive first to Nicosia, and then depending on our luck, we will pass through the main check point onto the Turkish side of the island and then proceed to the famous Famagusta Beach on the East side of the island.&nbsp; You cannot drive there directly, and Greek Cypriots and visitors have only recently been allowed to cross over onto the Turkish side.&nbsp; I hope I do not need a visa, being a Canadian?&nbsp; I know that I need one to visit Turkey?&nbsp; We shall see.&nbsp; However, assuming I do not have any problems, it should be fun to see that side of the island.&nbsp; If I do, I will, of course, take some good pictures, with my amazing reappearing camera.&nbsp;&nbsp;&nbsp; As you may remember, my apartment was robbed in Moscow.&nbsp; The thieves ram-sacked my apartment, turning all things upside down, looking for my loot, which they found, of course.&nbsp; First of all they found everything, and then they stole everything, that is, except for my new digital camera.&nbsp; The camera was inside my old rucksack.&nbsp; That knapsack is so beat up and weathered that I am sure they thought there would be nothing of value inside it and therefore\",\n",
      "  \"paraphrase_1\": \"Fortunately, my computer is still operational, allowing me to continue my work on this lovely sunny Friday afternoon.&nbsp; Last weekend, we enjoyed a cruise to Beirut and had a fantastic time with our Dutch friends.&nbsp; This weekend, my Russian colleague, his girlfriend, and I plan to drive to Nicosia, and then, if luck is on our side, we will cross the main checkpoint to reach the Turkish side of the island before heading to the renowned Famagusta Beach on the east coast.&nbsp; Direct access is not possible, and Greek Cypriots along with visitors have only recently been permitted to cross into the Turkish area.&nbsp; I’m curious if I’ll need a visa as a Canadian?&nbsp; I’m aware I need one for Turkey, so we will see what happens.&nbsp; Assuming everything goes smoothly, it should be enjoyable to explore that part of the island.&nbsp; If issues arise, I will definitely take some great photos with my trusty reappearing camera.&nbsp;&nbsp;&nbsp; As you might remember, my apartment in Moscow was burgled.&nbsp; The burglars ransacked my place, upending everything in search of valuables, which they managed to find, of course.&nbsp; They located everything and then proceeded to take everything, except for my new digital camera.&nbsp; That camera was tucked away in my old backpack.&nbsp; It’s so worn and battered that I’m sure they assumed it held no worth and therefore\",\n",
      "  \"paraphrase_2\": \"Nonetheless, I’m grateful that my computer is still functioning, which means I can continue working this beautiful sunny Friday afternoon.&nbsp; We had a lovely cruise to Beirut last weekend with our Dutch friends.&nbsp; This weekend, my Russian coworker, his girlfriend, and I will drive to Nicosia, and if fortune favors us, we’ll make our way through the main checkpoint onto the Turkish part of the island before heading to the famous Famagusta Beach on the eastern side.&nbsp; Driving there directly isn’t allowed, and Greek Cypriots and visitors have only very recently been given permission to enter the Turkish side.&nbsp; I wonder if I need a visa since I am Canadian?&nbsp; I already know that I need one to visit Turkey, but we shall see what happens.&nbsp; Assuming there are no hiccups, it ought to be a fun adventure to check out that area of the island.&nbsp; If I encounter any issues, I will certainly take some quality pictures with my incredible reappearing camera.&nbsp;&nbsp;&nbsp; You may recall that my place in Moscow was broken into.&nbsp; The intruders turned my apartment upside down, searching for valuables, and of course, they found everything they were looking for.&nbsp; They initially discovered everything and then took everything, except for my new digital camera.&nbsp; My camera was stowed away in my old backpack.&nbsp; That piece of luggage is so worn and torn that I’m sure they figured there was nothing valuable inside it, so they didn’t bother.\",\n",
      "  \"paraphrase_3\": \"Yet, I am relieved that my computer remains functional, allowing me to work on this bright, sunny Friday afternoon.&nbsp; We had an enjoyable cruise to Beirut with our Dutch friends last weekend.&nbsp; This weekend, I will be driving with my Russian colleague and his girlfriend to Nicosia, and then, if luck is on our side, we will cross through the major checkpoint to reach the Turkish side of the island and head toward the famous Famagusta Beach on the east coast.&nbsp; It's not possible to drive directly there, and only recently have Greek Cypriots and visitors been allowed to cross into the Turkish areas.&nbsp; I hope I won’t require a visa as a Canadian?&nbsp; I know I need one for Turkey, so we’ll see how that works out.&nbsp; Assuming everything goes smoothly, it should be exciting to explore that aspect of the island.&nbsp; If something goes awry, I’ll be sure to capture some great photos with my remarkable reappearing camera.&nbsp;&nbsp;&nbsp; As you might remember, I previously experienced a break-in at my apartment in Moscow.&nbsp; The thieves ransacked the place entirely, turning everything upside down to find my valuables, which, of course, they did.&nbsp; They found everything and then made off with it all, except for my new digital camera.&nbsp; The camera was stored inside my old rucksack.&nbsp; That bag is so worn that I’m certain they assumed there was nothing of value inside and thus\",\n",
      "  \"paraphrase_4\": \"Still, I’m thankful that my computer is up and running, enabling me to continue my work on this lovely sunny Friday afternoon.&nbsp; Last weekend, we embarked on a cruise to Beirut with our Dutch friends and had a great time.&nbsp; This weekend, my Russian colleague, his girlfriend, and I are planning to drive to Nicosia, and if luck permits, make our way through the primary checkpoint to the Turkish side of the island, ultimately heading to the famous Famagusta Beach on the east coast.&nbsp; You cannot drive directly there, and Greek Cypriots along with visitors have only recently been permitted to cross over to the Turkish territory.&nbsp; I hope I won’t need a visa being Canadian?&nbsp; I know I need one to travel to Turkey, but we will see how that goes.&nbsp; Assuming I experience no difficulties, it should be enjoyable to see that part of the island.&nbsp; If there are issues, I will certainly take some excellent photographs with my fantastic reappearing camera.&nbsp;&nbsp;&nbsp; As you may recall, my apartment in Moscow was robbed.&nbsp; The burglars thoroughly ransacked my apartment, completely turning everything upside down in search of my valuables, which they successfully found.&nbsp; They located everything and then stole everything, except for my new digital camera.&nbsp; The camera was nestled inside my old backpack.&nbsp; That bag is so worn that I bet they thought it had no worth and therefore\",\n",
      "  \"paraphrase_5\": \"Thankfully, my computer is still operational, which allows me to continue working on this bright, sunny Friday afternoon.&nbsp; Last weekend, we took a memorable cruise to Beirut and thoroughly enjoyed our time with our Dutch friends.&nbsp; This weekend, I'll be driving with my Russian colleague and his girlfriend to Nicosia, and then, depending on our luck, we'll cross the main checkpoint to reach the Turkish area of the island and visit the famed Famagusta Beach on the eastern coastline.&nbsp; You can't access it directly by car, and only recently have Greek Cypriots and visitors been granted permission to enter into the Turkish side.&nbsp; I’m curious if I’ll need a visa due to being Canadian?&nbsp; I know I must have one to go to Turkey, so we will find out soon enough.&nbsp; If there are no issues, I believe it will be exciting to see that side of the island.&nbsp; Should any problems arise, I will, of course, take some stunning pictures with my amazing reappearing camera.&nbsp;&nbsp;&nbsp; As you might remember, my apartment was broken into when I was in Moscow.&nbsp; The thieves ransacked my home, putting everything upside down while looking for my valuables, which, of course, they found.&nbsp; They found everything they were looking for and then stole it all, except for my new digital camera.&nbsp; The camera was kept inside my old knapsack.&nbsp; That backpack is so worn out that I’m fairly certain they assumed there was nothing of value inside it, so they didn’t bother to take it.\",\n",
      "  \"paraphrase_6\": \"Yet I am thankful that my computer is still functioning, enabling me to work on this bright and sunny Friday afternoon.&nbsp; Last weekend we enjoyed a cruise to Beirut with our Dutch friends, which was a lot of fun.&nbsp; This weekend, I will be driving with my Russian colleague and his girlfriend to Nicosia, and if our luck holds, we'll cross at the main checkpoint to the Turkish part of the island before heading to the famous Famagusta Beach on the east coast.&nbsp; It is not possible to drive there directly, and Greek Cypriots along with visitors have only recently been allowed to cross to the Turkish side.&nbsp; I wonder if I’ll need a visa, being a Canadian?&nbsp; I know I need one for Turkey, but we will see what happens.&nbsp; Assuming there are no issues, it should be exciting to explore that region of the island.&nbsp; If complications occur, I plan to take some fantastic pictures with my wonderful reappearing camera.&nbsp;&nbsp;&nbsp; As you may recall, I experienced a robbery at my apartment in Moscow.&nbsp; The perpetrators ransacked my apartment, turning everything upside down in their search for my belongings, which they naturally located.&nbsp; They found all my stuff and then stole everything, except for my new digital camera.&nbsp; The camera was stored away in my old backpack.&nbsp; That bag is so worn that I bet they thought it contained nothing of value and instead\",\n",
      "  \"paraphrase_7\": \"I am relieved that my computer is functioning properly, allowing me to keep working on this beautiful sunny Friday afternoon.&nbsp; Last weekend, we had a fantastic cruise to Beirut along with our Dutch friends.&nbsp; This weekend, I will be heading to Nicosia with my Russian colleague and his girlfriend, and depending on how lucky we are, we might just cross the main checkpoint into the Turkish side of the island and then make our way to the popular Famagusta Beach located on the east coast.&nbsp; There is no direct route by car, and Greek Cypriots and visitors have only just been allowed to cross over to the Turkish region.&nbsp; I hope I don’t need a visa since I’m Canadian?&nbsp; I’m aware I need one to travel to Turkey, but we’ll see how that plays out.&nbsp; If all goes well, it should be fun to see that side of the island.&nbsp; If complications arise, I will definitely take some great photos with my extraordinary reappearing camera.&nbsp;&nbsp;&nbsp; As you might recall, I suffered a robbery in my Moscow apartment.&nbsp; The thieves thoroughly ransacked my home, turning everything upside down while searching for my valuables, which they, of course, found in the end.&nbsp; They managed to discover everything and then stole it all, except for my new digital camera.&nbsp; I had placed the camera inside my old rucksack.&nbsp; That backpack is so worn and tattered that I’m quite sure they assumed there was nothing of worth inside and therefore\",\n",
      "  \"paraphrase_8\": \"Thank goodness my computer is still up and running, allowing me to continue my work this bright and sunny Friday afternoon.&nbsp; Last weekend, we took a delightful cruise to Beirut with our Dutch friends, and it was a fantastic experience.&nbsp; This weekend, my Russian colleague, his girlfriend, and I will be driving to Nicosia, and if fortune smiles upon us, we will cross through the main checkpoint into the Turkish territory of the island and make our way to the famous Famagusta Beach located on the eastern side.&nbsp; There’s no direct driving route, and only recently have Greek Cypriots and visitors been permitted to cross into the Turkish part.&nbsp; I’m curious if, as a Canadian, I’ll need a visa?&nbsp; I know that I do need one for Turkey, so we’ll just have to wait and see.&nbsp; Assuming there are no complications, it should be exciting to discover that part of the island.&nbsp; If I do encounter issues, I will be sure to capture some amazing pictures using my trusty reappearing camera.&nbsp;&nbsp;&nbsp; You may recall that my apartment was victim to a robbery in Moscow.&nbsp; The intruders turned everything upside down, pilfering through my belongings in search of valuables, and they, of course, found all of them.&nbsp; They discovered everything and then proceeded to steal all of it, except for my new digital camera.&nbsp; The camera was securely tucked inside my old backpack.&nbsp; That rucksack is so worn that I'm positive they thought it held no value and thus\",\n",
      "  \"paraphrase_9\": \"I’m thankful that my computer is still functioning, which enables me to work on this bright sunny Friday afternoon.&nbsp; Last weekend, we cruised to Beirut, enjoying a wonderful time with our Dutch friends.&nbsp; This weekend, I’ll be driving with my Russian colleague and his girlfriend to Nicosia, and depending on our luck, we will attempt to cross through the main checkpoint to the Turkish side of the island and visit Famagusta Beach on the east coast.&nbsp; There is no direct driving access, and Greek Cypriots along with visitors have only just recently been allowed to cross over to the Turkish part.&nbsp; I hope I don’t require a visa as a Canadian?&nbsp; I know I must have one to enter Turkey, so we will find out soon enough.&nbsp; If all goes according to plan, it should be fun exploring that side of the island.&nbsp; Should I face issues, I certainly plan to take some great pictures with my remarkable reappearing camera.&nbsp;&nbsp;&nbsp; As you might remember, my Moscow apartment was robbed.&nbsp; The thieves turned my place upside down, ransacking everything in their search for valuables, which, of course, they found.&nbsp; They found every single item and stolen everything, except for my new digital camera.&nbsp; The camera was stashed in my old rucksack.&nbsp; That knapsack is so worn down that I’m sure they assumed it contained nothing valuable and thus\",\n",
      "  \"paraphrase_10\": \"Fortunately, my computer is still operational, and I can work on this lovely, sunny Friday afternoon.&nbsp; Last weekend, we took a cruise to Beirut, sharing great memories with our Dutch friends.&nbsp; This weekend, I’ll be driving first to Nicosia with my Russian colleague and his girlfriend, and depending on our luck, we might cross through the main checkpoint onto the Turkish side before heading to the renowned Famagusta Beach on the eastern coast of the island.&nbsp; Driving straight to the beach is not possible, and only recently Greek Cypriots and visitors have been granted permission to cross over to the Turkish area.&nbsp; I wonder if as a Canadian, I’ll need a visa?&nbsp; I already know I do for Turkey, so let’s see how that unfolds.&nbsp; If everything goes smoothly, I expect it’ll be thrilling to explore that region of the island.&nbsp; Should complications arise, I’ll definitely make sure to take good photos with my fantastic reappearing camera.&nbsp;&nbsp;&nbsp; You might remember that my apartment in Moscow was burglarized.&nbsp; The thieves ransacked my home, turning everything upside down in their quest for my valuables, which they of course found.&nbsp; They found everything they were after and then took everything, except for my new digital camera.&nbsp; The camera was hidden away inside my old backpack.&nbsp; That bag is so worn out that I’m positive they thought it had no value whatsoever and thus\",\n",
      "  \"paraphrase_11\": \"I’m grateful that my computer is still working, allowing me to continue working this bright and sunny Friday afternoon.&nbsp; Last weekend, we enjoyed a cruise to Beirut and had a fantastic time with our Dutch friends.&nbsp; This weekend, my Russian colleague, his girlfriend, and I will first drive to Nicosia, and if everything goes well, we will then cross through the main checkpoint to the Turkish side of the island and then proceed to the famous Famagusta Beach on the eastern side.&nbsp; You can’t drive directly there, and Greek Cypriots and visitors have only just recently gained permission to cross over to the Turkish territory.&nbsp; I hope I won’t need a visa as a Canadian?&nbsp; I know that I need one to visit Turkey, so we shall see how that pans out.&nbsp; If I encounter no problems, I expect it will be fun to see that side of the island.&nbsp; If I do face difficulties, I will certainly take some great pictures using my wonderful reappearing camera.&nbsp;&nbsp;&nbsp; As you may remember, my apartment in Moscow was robbed.&nbsp; The thieves completely turned my place upside down, searching for my valuables, which they obviously found.&nbsp; They found everything and then took everything, except for my new digital camera.&nbsp; That camera was stowed away in my old rucksack.&nbsp; That old bag is so torn up that I’m sure they thought there was nothing valuable inside and therefore\",\n",
      "  \"paraphrase_12\": \"Fortunately, my computer continues to work, so I can carry on with my work this bright, sunny Friday afternoon.&nbsp; Last weekend we took a wonderful cruise to Beirut with our Dutch friends and had such a great time together.&nbsp; This weekend, I will be driving first to Nicosia with my Russian colleague and his girlfriend, and if luck is on our side, we will pass through the main checkpoint to the Turkish side of the island and head to the famous Famagusta Beach located on the eastern coast.&nbsp; Driving straight there isn’t possible, and only recently have Greek Cypriots and visitors been allowed to cross over to the Turkish area.&nbsp; I hope that being Canadian, I won’t need a visa?&nbsp; I’m aware that I need one to visit Turkey, so let’s see how that turns out.&nbsp; If all goes well, I think it will be exciting to explore that part of the island.&nbsp; Should I face complications, I will take quality photos with my amazing reappearing camera.&nbsp;&nbsp;&nbsp; As you may recall, my apartment in Moscow experienced a burglary.&nbsp; The thieves ransacked my apartment, upending everything in search of valuables, which, of course, they found.&nbsp; They managed to discover everything they were looking for and then took everything, with the exception of my new digital camera.&nbsp; My camera was in my old backpack.&nbsp; That bag is so battered and worn that I’m sure they thought nothing of value was inside it and therefore\",\n",
      "  \"paraphrase_13\": \"I’m relieved my computer is still working, as I can continue my work on this sunny and bright Friday afternoon.&nbsp; Last weekend, we enjoyed a cruise to Beirut, having a fantastic time with our Dutch friends.&nbsp; This weekend, I plan on driving to Nicosia with my Russian colleague and his girlfriend, and depending on our luck, we’ll cross through the main checkpoint to the Turkish side of the island before we proceed to the famous Famagusta Beach on the eastern side. You cannot reach it directly by car, and only recently have Greek Cypriots and visitors been allowed to traverse into the Turkish region.&nbsp; I wonder if, as a Canadian, I will need a visa?&nbsp; I know that I require one to visit Turkey, so we’ll see how that goes.&nbsp; Assuming all goes well, it should be enjoyable to explore that side of the island.&nbsp; If I have any issues, I will definitely take some excellent pictures with my incredible reappearing camera.&nbsp;&nbsp;&nbsp; As you might remember, my Moscow apartment was subject to a robbery.&nbsp; The thieves turned my place upside down, thoroughly searching for valuables, which of course they found.&nbsp; They discovered everything and proceeded to steal it all, except for my new digital camera.&nbsp; That camera was safely hidden inside my old rucksack.&nbsp; That bag is so worn and distressed that I’m fairly certain they assumed it held no value and therefore\",\n",
      "  \"paraphrase_14\": \"I am thankful that my computer is still operational, allowing me to keep working on this bright, sunny Friday afternoon.&nbsp; Last weekend, we went on a lovely cruise to Beirut with our Dutch friends and had an amazing time.&nbsp; This weekend, my Russian colleague and his girlfriend along with me will drive first to Nicosia, and if we are lucky, we will cross the main checkpoint to reach the Turkish part of the island and then continue to the famous Famagusta Beach on the eastern side.&nbsp; Driving there directly is not an option, and only recently have Greek Cypriots and visitors been permitted to cross over to the Turkish side.&nbsp; I wonder if I will need to obtain a visa, being a Canadian?&nbsp; I know I need one to visit Turkey, so let's see how that unfolds.&nbsp; Assuming everything goes smoothly, it should be exciting to see that side of the island.&nbsp; If I encounter any issues, I will definitely take some great photographs using my remarkable reappearing camera.&nbsp;&nbsp;&nbsp; As you may remember, my apartment in Moscow was the victim of burglary.&nbsp; The thieves ransacked my apartment, turning everything upside down to find valuables, which they ultimately located.&nbsp; They found everything and then stole every item, except for my new digital camera.&nbsp; My camera was safely in my old backpack.&nbsp; That old backpack is so weathered that I’m sure they thought it contained nothing valuable and therefore\",\n",
      "  \"paraphrase_15\": \"Gratefully, my computer is still working well enough for me to keep working on this lovely sunny Friday afternoon.&nbsp; Last weekend we took a delightful cruise to Beirut with our Dutch friends and had an amazing time together.&nbsp; This weekend, I will drive alongside my Russian colleague and his girlfriend first to Nicosia, and then if luck is on our side, we hope to cross the main checkpoint into the Turkish area of the island and eventually reach the acclaimed Famagusta Beach on the eastern coast.&nbsp; You can’t directly drive there, and only recently have Greek Cypriots and visitors been allowed to cross into the Turkish territory.&nbsp; As a Canadian, I wonder whether I will need a visa?&nbsp; I do know that I will need one for Turkey, but we will see how it goes.&nbsp; Assuming everything is smooth sailing, it should be fun exploring that side of\n",
      "Error parsing JSON in row 15: {\"original\": \"However, thankfully my computer is still running, so I am able to keep on working on this bright and sunny Friday afternoon. Last weekend we took a cruise to Beirut and had a really great time with our Dutch friends. This weekend, my Russian colleague and his girlfriend and I will drive first to Nicosia, and then depending on our luck, we will pass through the main check point onto the Turkish side of the island and then proceed to the famous Famagusta Beach on the East side of the island. You cannot drive there directly, and Greek Cypriots and visitors have only recently been allowed to cross over onto the Turkish side. I hope I do not need a visa, being a Canadian? I know that I need one to visit Turkey? We shall see. However, assuming I do not have any problems, it should be fun to see that side of the island. If I do, I will, of course, take some good pictures, with my amazing reappearing camera. As you may remember, my apartment was robbed in Moscow. The thieves ram-sacked my apartment, turning all things upside down, looking for my loot, which they found, of course. First of all they found everything, and then they stole everything, that is, except for my new digital camera. The camera was inside my old rucksack. That knapsack is so beat up and weathered that I am sure they thought there would be nothing of value inside it and therefore\",\n",
      "  \"paraphrase_1\": \"Fortunately, my computer is still functioning, allowing me to continue working on this lovely, sunny Friday afternoon. Last weekend, we enjoyed a cruise to Beirut with our Dutch friends, and we had a fantastic time. This weekend, my Russian colleague, his girlfriend, and I plan to drive to Nicosia first, and depending on our luck, we’ll cross the main checkpoint to the Turkish side of the island, eventually making our way to the renowned Famagusta Beach on the eastern part of the island. It's not possible to drive there straight away, and only recently have Greek Cypriots and visitors been permitted to traverse to the Turkish side. I’m crossing my fingers that I won't require a visa as a Canadian. I know that I need one to enter Turkey. We will find out soon enough. Assuming I encounter no issues, it should be exciting to explore that part of the island. If I do come across any challenges, I'll certainly take some good photographs with my incredible reappearing camera. You might recall that my apartment in Moscow was burglarized. The intruders tore my apartment apart, rummaging through everything in search of their spoils, which, naturally, they found. They located all my belongings and stole everything except for my new digital camera. Luckily, that camera was packed away in my old backpack. That bag has seen better days, and it looks so beat up and worn that I’m sure they assumed there was nothing valuable inside it.\",\n",
      "  \"paraphrase_2\": \"I’m relieved that my computer is operational, allowing me to continue my work on this bright and sunny Friday afternoon. Just last weekend, we went on a cruise to Beirut and had an amazing time with our Dutch friends. This weekend, my Russian coworker, his girlfriend, and I will drive to Nicosia first, then hopefully make our way through the main checkpoint to the Turkish side of the island, ultimately reaching the famous Famagusta Beach located on the East side of the island. Direct access isn't available, and until recently, Greek Cypriots and visitors have not been able to cross over to the Turkish side. As a Canadian, I wonder if I will need a visa? I know I need one for Turkey. We'll see what happens. However, if I manage to avoid any problems, it should be enjoyable to experience that side of the island. In case I do experience issues, I’ll certainly capture some great images with my remarkable reappearing camera. You might recall that my place in Moscow was broken into. The burglars ransacked my home, tossing everything about while looking for valuables, which they ultimately found. They discovered all my possessions and took everything except my new digital camera. It was hidden in my old rucksack. That knapsack is so worn out that I bet they didn’t believe it held anything of worth.\",\n",
      "  \"paraphrase_3\": \"Thank goodness my computer is running smoothly, so I can keep working on this beautiful, sunny Friday afternoon. Just last weekend, we took a cruise to Beirut and had an excellent time with our Dutch companions. This weekend, my Russian colleague and his girlfriend and I will first drive to Nicosia, and then, fingers crossed, we’ll cross through the main checkpoint onto the Turkish side of the island before heading to the renowned Famagusta Beach on the East coast. It’s not possible to drive directly there, and only recently have Greek Cypriots and visitors been granted permission to go onto the Turkish side. I wonder if I’ll need a visa as a Canadian? I know I require one to travel to Turkey. We shall see how that goes. Assuming there are no issues, it should be great to visit that side of the island. If I happen to run into trouble, I’ll definitely take good photos with my fantastic reappearing camera. You may remember my apartment was broken into in Moscow. The thieves ransacked my home, turning everything upside down in search of my valuables, which they found, of course. They discovered all of my belongings and stole everything, except for my new digital camera. That camera was tucked away inside my old rucksack. That old bag is so battered and worn that I believe they thought it contained nothing valuable inside.\",\n",
      "  \"paraphrase_4\": \"At least my computer is still functioning well, so I can continue working on this lovely and sunny Friday afternoon. Last weekend we had a wonderful time on a cruise to Beirut with our Dutch friends. This weekend, my Russian colleague, his girlfriend, and I will first drive to Nicosia, and then if luck is on our side, we’ll get through the main checkpoint to the Turkish side of the island, where we’ll head to the famous Famagusta Beach on the island's East side. There is no direct driving route to get there, and Greek Cypriots and visitors have only recently received permission to cross over to the Turkish side. I hope that, as a Canadian, I don't need a visa? I know one is required for Turkey. We’ll find out soon. However, if I experience no complications, I’m looking forward to seeing that part of the island. If things go south, I will surely take some great photos with my amazing reappearing camera. As you might recall, my apartment was robbed in Moscow. The thieves turned my apartment inside out, searching for my treasures, which they indeed found. They found everything and stole it all except for my new digital camera. That camera was safely stored in my old rucksack. That backpack is so worn out that I am pretty sure they thought it would contain nothing valuable.\",\n",
      "  \"paraphrase_5\": \"Thankfully, my computer is still operational, allowing me to continue my work on this cheerful and sunny Friday afternoon. Just last weekend, we enjoyed a cruise to Beirut, where we had a fantastic time with our Dutch friends. This weekend, my Russian colleague along with his girlfriend and I will first drive to Nicosia, and then, depending on our luck, we will go through the main checkpoint to the Turkish side of the island, proceeding to the well-known Famagusta Beach located on the island's East side. Access by car is not direct, and Greek Cypriots and visitors have just recently been permitted to cross to the Turkish side. I wonder if I need a visa since I'm Canadian? I know I need one for Turkey. We'll see what happens. However, barring any issues, it should be exciting to explore that area of the island. If I run into problems, I will definitely take some nice pictures using my remarkable reappearing camera. As you might recall, my apartment in Moscow was broken into. The thieves ransacked my place, turning everything upside down as they searched for my valuables, which, of course, they located. They found everything and stole it all, except for my new digital camera, which was inside my old knapsack. That bag looks so beat down and used that I feel they thought it didn’t hold anything valuable.\",\n",
      "  \"paraphrase_6\": \"Fortunately, my computer is still working, so I can keep on with my work this bright and sunny Friday afternoon. Last weekend, we went on a cruise to Beirut with our Dutch friends and had a fantastic experience. This weekend, my Russian colleague and his girlfriend and I will first travel to Nicosia, and following our luck, we'll cross through the primary checkpoint to the Turkish side of the island, and from there, proceed to the famous Famagusta Beach located on the East side. Driving there directly isn’t an option, and only recently have Greek Cypriots and visitors been able to go to the Turkish side. I wonder if I’ll have to get a visa as a Canadian? I know that I need one to visit Turkey. We shall see how that goes. However, assuming no issues arise, it should be delightful exploring that side of the island. If I do encounter problems, I’ll take some good pictures with my fantastic reappearing camera. You may remember my apartment being robbed in Moscow. The thieves completely ransacked my place, searching through everything for my valuables, which naturally they found. They stumbled upon everything and stole it all, well, except for my new digital camera, which was stored safely in my old rucksack. That backpack has seen much better days, and I’m sure they believed it had nothing of value within.\",\n",
      "  \"paraphrase_7\": \"Thank goodness my computer is still running, so I can keep working on this lovely, sunny Friday afternoon. Last weekend, we took a memorable cruise to Beirut with our Dutch friends and had a great time. This weekend, I will drive first with my Russian colleague and his girlfriend to Nicosia and then, fortune permitting, we will pass through the main checkpoint into the Turkish area of the island and make our way to the famous Famagusta Beach on the eastern side. You can’t drive direct there, and Greek Cypriots along with visitors have only been allowed to cross onto the Turkish side recently. I wonder, as a Canadian, will I need a visa? I know I need one for visiting Turkey. We will find out. However, if I have no issues, it should be fun to explore that side of the island. If any problems arise, I will be sure to take some great photographs with my amazing reappearing camera. You might recall that my Moscow apartment was robbed. The thieves thoroughly ransacked my living space, upending everything in their search for riches, which they naturally found. They found all my belongings and took everything except my new digital camera. Amazingly, that camera was in my old rucksack. That bag is so worn out and dilapidated that I'm sure they figured it held nothing precious.\",\n",
      "  \"paraphrase_8\": \"I’m thankful that my computer is still operational, enabling me to work on this brilliant and sunny Friday afternoon. Just last weekend, we enjoyed a cruise to Beirut and had a splendid time alongside our Dutch friends. This coming weekend, my Russian colleague and his girlfriend, along with myself, will first head to Nicosia, and then depending on luck, we’ll cross the primary checkpoint to access the Turkish side of the island and visit the well-known Famagusta Beach on the East side. You can't access that place directly by car, as Greek Cypriots and visitors have only recently been allowed passage to the Turkish side. I hope that as a Canadian, I won't require a visa? I know for sure that I need one to visit Turkey. We shall see what happens. However, if all goes smoothly, exploring that part of the island should be quite enjoyable. If any difficulties arise, I’ll definitely capture some good images with my magnificent reappearing camera. As you might recall, I had a robbery in my Moscow apartment. The burglars rifled through my space, turning over everything in search of loot, which they, of course, discovered. They uncovered everything and made off with it all, except for my new digital camera which was hiding inside my old bag. That backpack is so ancient and worn-out that I’m confident they thought it would have nothing of value.\",\n",
      "  \"paraphrase_9\": \"Luckily, my computer continues to work, allowing me to keep on working this gorgeous, sunny Friday afternoon. Last weekend, my Dutch friends and I had a fantastic cruise to Beirut. This weekend, my Russian colleague and his girlfriend will join me as we first drive to Nicosia, and then, if luck is on our side, we will cross the main checkpoint into the Turkish part of the island and then head towards the famed Famagusta Beach on the eastern coast. There isn’t a direct driving route, and recently Greek Cypriots and visitors have been permitted to cross over to the Turkish side. I’m hoping that as a Canadian, I won’t need a visa? I know I must obtain one to go to Turkey. We shall see. But if I face no issues, it should be exciting to experience that side of the island. If I encounter problems, I will certainly take some beautiful photographs with my fabulous reappearing camera. As you might remember, my apartment in Moscow was a victim of theft. The thieves completely tore my apartment apart, searching diligently for valuables— which they certainly found. They unearthed everything and took it all, except for my new digital camera which was in my old rucksack. That bag is so beaten up and worn down that I believe they assumed there was nothing valuable inside of it.\",\n",
      "  \"paraphrase_10\": \"It's a relief that my computer is still working, which allows me to keep working on this sunny Friday afternoon. Just last weekend, we enjoyed a cruise to Beirut and had a wonderful time with our Dutch friends. This weekend, my Russian colleague, his girlfriend, and I will first head to Nicosia, and then depending on our luck, we will get through the main checkpoint onto the Turkish side of the island and go to the famous Famagusta Beach on the East side. You can’t drive there directly, and Greek Cypriots and visitors have only recently been granted permission to cross onto the Turkish side. I hope that as a Canadian, I won’t need a visa? I know that I do need one for traveling to Turkey. We'll find out. However, if I don’t encounter any issues, it should be enjoyable to visit that part of the island. If any problems arise, I will, of course, capture some beautiful pictures with my incredible reappearing camera. You might recall that my Moscow apartment was robbed. The intruders thoroughly ransacked my apartment, turning everything upside down in search of valuable items, which they indeed found. They discovered all of my belongings and stole everything aside from my new digital camera. That camera was kept inside my old rucksack. That bag is so worn and battered that I'm sure they thought it had no valuable possessions inside.\",\n",
      "  \"paraphrase_11\": \"I'm incredibly thankful that my computer is still functioning so I can keep working this bright and beautiful Friday afternoon. We recently took a cruise to Beirut last weekend, enjoying a delightful experience with our Dutch friends. This weekend, my Russian colleague along with his girlfriend and I plan to drive initially to Nicosia, and then if fortune favors us, we’ll pass through the main checkpoint to the Turkish side of the island and venture to the famous Famagusta Beach, which lies on the Eastern coast. Direct driving to that beach isn't permitted, and only recently have Greek Cypriots and visitors been given the green light to cross over to the Turkish territory. As a Canadian, I hope I won’t require a visa? I know that I need one when visiting Turkey. We shall find out. But assuming everything goes well, it should be great to check out that side of the island. If I confront any difficulties, I will certainly take some spectacular pictures with my impressive reappearing camera. You might recall how my apartment in Moscow was burglarized. The thieves completely ransacked my home, turned everything upside down while looking for items of value, which they, of course, found. They uncovered everything and took it all, except for one item— my new digital camera, which was hidden inside my old rucksack. That backpack is so old and tattered that I bet they wouldn’t have thought anything valuable was tucked inside it.\",\n",
      "  \"paraphrase_12\": \"I’m relieved that my computer is still operational, which allows me to continue my work on this sunny Friday afternoon. Last weekend, we enjoyed a splendid cruise to Beirut with our Dutch friends, and it was a remarkable experience. This weekend, my Russian colleague, his girlfriend, and I will first drive to Nicosia, and then if we’re lucky, we will manage to cross the main checkpoint into the Turkish section of the island and move on to the famous Famagusta Beach on the East side. You cannot drive straight there, and only now have Greek Cypriots and visitors been allowed to enter the Turkish area. I am wondering if I need a visa since I am a Canadian? I know for Turkey, I definitely need one. We will see how that plays out. Still, if I face no problems, it should be exciting to see that side of the island. If I do run into difficulties, I will surely take some wonderful pictures with my extraordinary reappearing camera. You might remember that my Moscow apartment was once robbed. The thieves completely ransacked my space, searching for valuables, which they absolutely found. They discovered everything and stole it all except for my new digital camera, which was tucked away in my old rucksack. That old bag is so worn down that I’m pretty sure they assumed it contained nothing of value.\",\n",
      "  \"paraphrase_13\": \"I'm glad that my computer continues to run, enabling me to keep working on this bright and sunny Friday afternoon. Last weekend, we took a scenic cruise to Beirut and had a fantastic time with our Dutch friends. This weekend, my Russian colleague and his girlfriend will join me as we first drive to Nicosia, and then based on our luck, we will cross over at the main checkpoint to the Turkish side of the island and eventually reach the well-known Famagusta Beach on the East coast. You cannot head there directly, and recently, only Greek Cypriots and visitors have been allowed access to the Turkish part of the island. I wonder if I will need a visa since I'm Canadian? I know I will need one for Turkey. We will see how it goes. Assuming everything is fine, it should be enjoyable exploring that area of the island. If any troubles arise, I’ll certainly snap some good photos with my fantastic reappearing camera. You may recall that my apartment in Moscow suffered a break-in. The thieves completely ransacked my place, overturning things in search of valuables, which they found without a doubt. They stole everything except my new digital camera, which was secured inside my old rucksack. That bag is so old and beaten that I believe they assumed it held no valuable items.\",\n",
      "  \"paraphrase_14\": \"I consider myself fortunate that my computer is still running, allowing me to do my work this sunny Friday afternoon. Last weekend, we enjoyed a delightful cruise to Beirut with our Dutch friends and it was an amazing time. This weekend, my Russian colleague, his girlfriend, and I will drive to Nicosia first, and then, luck permitting, we’ll navigate through the main checkpoint onto the Turkish side of the island and then make our way to the famous Famagusta Beach on the East coast. There’s no direct driving route to that location, and only just have Greek Cypriots and visitors been allowed to cross over to the Turkish territory. I am curious if I will need a visa since I am a Canadian? I am aware that I do need one for Turkey. We will find out shortly. However, If I don’t encounter any issues, it should be fun experiencing that side of the island. If issues come up, I will, of course, take some beautiful photographs with my extraordinary reappearing camera. As you might remember, my Moscow apartment was robbed. The burglars turned my space upside down, ransacking everything in search of valuables, which they inevitably found. They found everything and stole it, except for my new digital camera that they missed in my old rucksack. That backpack is so beat-up that I am sure they figured it contained no valuables.\",\n",
      "  \"paraphrase_15\": \"Fortunately, my computer is functioning correctly, which allows me to keep working on this beautiful and sunny Friday afternoon. Last weekend, I went on a cruise to Beirut with our Dutch friends, and it was such a wonderful time. This weekend, my Russian colleague, his girlfriend, and I will drive first to Nicosia and, depending on our luck, will cross through the main checkpoint to the Turkish side of the island, eventually reaching the famous Famagusta Beach on the East side. There’s no direct route by car, and recently, only Greek Cypriots and visitors have been allowed to cross over to the Turkish side. I hope I won’t need a visa since I am a Canadian. I know I need one to visit Turkey, though. We shall see how that turns out. If everything goes well, it should be exciting to check out that part of the island. If things don’t go as planned, I’ll make sure to take some great pictures with my amazing reappearing camera. You may recall that my apartment in Moscow was burglarized. The thieves thoroughly ransacked my living space in search of valuables, which they did end up finding. They found everything and stole it all, except for my new digital camera, which was hidden in my old rucksack. That bag is so old and worn out that I am confident they thought it contained nothing valuable.\",\n",
      "  \"paraphrase_16\": \"I'm quite thankful that my computer is running smoothly, as it enables me to work on this bright and sunny Friday afternoon. Just last weekend, we enjoyed a delightful cruise to Beirut alongside our Dutch friends, and it was a really good time. This weekend, my Russian colleague and his girlfriend will accompany me as we first drive to Nicosia, and if luck is on our side, we will pass the main checkpoint and move onto the Turkish side of the island before heading to the famous Famagusta Beach on the East side. Driving directly there isn’t allowed, and it’s only recently that Greek Cypriots and visitors have been granted the right to cross over onto the Turkish side. I hope that as a Canadian, I won’t need a visa? I know one is necessary for entry into Turkey. We will discover soon enough. Assuming I don’t encounter any problems, it should be thrilling to explore that side of the island. If challenges arise, I’ll make sure to take some good pictures with my marvelous reappearing camera. You may remember that my apartment in Moscow was broken into. The thieves went through everything, tossing my apartment upside down in search of treasures, which they did indeed find. They found all my items and stole everything, apart from my new digital camera that was safely hidden in my old rucksack. That backpack is so battered and beaten down that I'm sure they thought it was worthless inside.\",\n",
      "  \"paraphrase_17\": \"I feel fortunate that my computer is still working so that I can continue my work on this beautiful and sunny Friday afternoon. Last weekend, we enjoyed a memorable cruise to Beirut with our Dutch friends, which was fantastic. This weekend, my Russian colleague and his girlfriend will be joining me as we first drive to Nicosia and then, hopefully, pass through the main checkpoint into the Turkish side of the island and then continue on to the famous Famagusta Beach located on the East side. Direct driving there is not possible, and recently,\n",
      "Error parsing JSON in row 18: {\"original\": \"However, thankfully my computer is still running, so I am able to keep on working on this bright and sunny Friday afternoon. Last weekend we took a cruise to Beirut and had a really great time with our Dutch friends. This weekend, my Russian colleague and his girlfriend and I will drive first to Nicosia, and then depending on our luck, we will pass through the main check point onto the Turkish side of the island and then proceed to the famous Famagusta Beach on the East side of the island. You cannot drive there directly, and Greek Cypriots and visitors have only recently been allowed to cross over onto the Turkish side. I hope I do not need a visa, being a Canadian? I know that I need one to visit Turkey? We shall see. However, assuming I do not have any problems, it should be fun to see that side of the island. If I do, I will, of course, take some good pictures, with my amazing reappearing camera. As you may remember, my apartment was robbed in Moscow. The thieves ram-sacked my apartment, turning all things upside down, looking for my loot, which they found, of course. First of all they found everything, and then they stole everything, that is, except for my new digital camera. The camera was inside my old rucksack. That knapsack is so beat up and weathered that I am sure they thought there would be nothing of value inside it and therefore\",\n",
      "  \"paraphrase_1\": \"Fortunately, my computer is still functioning, allowing me to continue working this bright and sunny Friday afternoon. Last weekend, we went on a cruise to Beirut and had a fantastic time with our Dutch friends. This weekend, my Russian colleague, his girlfriend, and I plan to drive to Nicosia first, and then depending on our luck, we might cross through the main checkpoint to the Turkish side of the island before heading to the renowned Famagusta Beach located on the east side. You can't drive there directly, and only recently have Greek Cypriots and visitors been permitted to cross over to the Turkish side. I wonder if I need a visa, being Canadian? I know a visa is required to visit Turkey, right? We'll find out. Assuming there are no issues, it should be exciting to explore that side of the island. If I run into any problems, I will definitely take some nice pictures with my fantastic reappearing camera. As you might recall, my apartment was broken into in Moscow. The burglars turned my apartment upside down, searching for my valuables, which, of course, they found. They located everything and took everything, except for my new digital camera. It was stashed inside my old backpack. That bag is so worn out and dilapidated that I bet they assumed there wasn't anything valuable in it and therefore\", \n",
      "  \"paraphrase_2\": \"Luckily, my computer is still operational, so I can continue my work on this sunny and bright Friday afternoon. We had a wonderful time with our Dutch friends last weekend during our cruise to Beirut. This weekend, my Russian colleague and his girlfriend will join me as we drive to Nicosia first, and based on our luck, we hope to cross the main checkpoint onto the Turkish part of the island and then make our way to the famous Famagusta Beach on the East side. Direct driving to that location is not possible, and it's only recently that Greek Cypriots and visitors have been allowed to cross into the Turkish area. I'm curious if I need a visa as a Canadian? I know I need one for Turkey, right? We’ll see what happens. Assuming there are no complications, I expect it will be enjoyable to explore that part of the island. If I encounter any issues, I will certainly take some great pictures with my amazing reappearing camera. You might remember that my apartment got robbed in Moscow. The thieves ransacked my place, turning everything upside down while searching for my goods, which they ultimately found. They uncovered everything and took it all except my new digital camera, which I had tucked inside my old rucksack. That knapsack is so worn and battered that I'm sure they assumed it contained no valuables and hence\", \n",
      "  \"paraphrase_3\": \"I’m grateful that my computer is still working, which means I can continue my tasks on this bright and sunny Friday afternoon. Last weekend, we enjoyed a delightful cruise to Beirut with our Dutch friends. This weekend, my Russian coworker, his girlfriend, and I will first drive to Nicosia, and depending on our fortune, we might cross the main checkpoint to explore the Turkish side of the island, eventually heading to renowned Famagusta Beach in the East. It’s not possible to drive there directly, and recently Greek Cypriots and visitors have been authorized to cross to the Turkish side. I wonder if, as a Canadian, I will need a visa? I know one is needed for Turkey, right? We'll see how it goes. Assuming I don't encounter any issues, it should be quite fun to visit that side of the island. If I do run into troubles, I'll certainly capture some great photos with my remarkable reappearing camera. As you may recall, my apartment was burglarized in Moscow. The thieves completely ransacked my home, tossing everything around in search of my valuables, and they certainly found them. They discovered everything and took all but my new digital camera, which was hidden in my old backpack. That bag is so worn and shabby that I’m certain they thought it wouldn't contain anything of value, and so\", \n",
      "  \"paraphrase_4\": \"Thankfully, my computer is still operational, which allows me to keep working on this bright and sunny Friday afternoon. Last weekend, we took a wonderful cruise to Beirut with our Dutch friends. This weekend, my Russian colleague and his girlfriend will accompany me as we drive to Nicosia, and depending on our luck, we might cross the main checkpoint into the Turkish part of the island and then head to the well-known Famagusta Beach on the East side. You cannot drive directly there, and it is only recently that Greek Cypriots and visitors have been granted access to the Turkish side. I hope I don’t require a visa since I’m Canadian? I understand that one is necessary for traveling to Turkey, correct? We'll find out soon. Assuming I face no challenges, it should be enjoyable to visit that part of the island. Should I encounter any issues, I will, of course, take nice photos using my amazing reappearing camera. As you might recall, my apartment in Moscow was burglarized. The thieves ransacked my apartment, turning everything upside down in search of my possessions, which they ultimately found. They first discovered everything and then stole all of it, except for my new digital camera, which was securely tucked away in my old rucksack. That bag is so worn out and tattered that I bet they figured there was nothing of value in it, and thus\", \n",
      "  \"paraphrase_5\": \"Fortunately, my computer is still functioning, enabling me to continue my work on this lovely and bright Friday afternoon. We had a fabulous time on a cruise to Beirut with our Dutch friends last weekend. This weekend, I will be driving first to Nicosia with my Russian colleague and his girlfriend, and, depending on our luck, we will try to cross through the main checkpoint to access the Turkish side of the island and then visit the famous Famagusta Beach on the East side. Direct driving to that area is not an option since Greek Cypriots and visitors have only recently been allowed to go over to the Turkish side. I’m curious if I will need a visa as a Canadian? I know I need one to enter Turkey, right? We’ll have to wait and see. Assuming I don’t run into any problems, it should be exciting to see that side of the island. If I do encounter issues, I will certainly take wonderful pictures with my great reappearing camera. As you may recall, my place was robbed in Moscow. The thieves completely tore apart my apartment, hunting for my valuables, which they did find, of course. They located everything and stole it all except for my new digital camera, which was hidden in my old backpack. That backpack is so worn down and shabby that I’m sure they thought it must not hold anything valuable and therefore\", \n",
      "  \"paraphrase_6\": \"I am glad to report that my computer is still operational, which allows me to keep on working this bright and sunny Friday afternoon. Last weekend, we had a fantastic cruise to Beirut with our Dutch friends. This weekend, my Russian coworker, his girlfriend, and I will first drive to Nicosia, and depending on our luck, we will try to pass through the main checkpoint to the Turkish side of the island and then continue to the famous Famagusta Beach on the East side. You cannot drive directly there, as Greek Cypriots and visitors have only recently been allowed to cross into the Turkish territory. I’m wondering if I will need a visa, being a Canadian? I do know that a visa is necessary for visiting Turkey, right? We’ll just have to see. Assuming I don’t run into any difficulties, it should be fun to see that side of the island. If any problems arise, I will surely take some great photos with my amazing reappearing camera. As you might recall from before, my apartment in Moscow was burglarized and the thieves ransacked it completely, flipping everything upside down in search of my valuables, which they did find. They found all my belongings and stole everything except my new digital camera, which was stored in my old rucksack. That bag is so worn and battered that I bet they thought it couldn’t possibly contain anything of value and therefore\", \n",
      "  \"paraphrase_7\": \"It’s fortunate that my computer is still up and running, enabling me to continue my tasks on this bright and sunny Friday afternoon. Just last weekend, we enjoyed a delightful cruise to Beirut with our Dutch friends. This weekend, my Russian colleague and his girlfriend will accompany me as we drive first to Nicosia, and then based on our luck, we’ll pass through the main checkpoint to explore the Turkish side of the island and then head to the renowned Famagusta Beach on the East side. Driving there directly isn't permitted, and only recently have Greek Cypriots and visitors been allowed to cross into the Turkish side. I’m curious if I need a visa being a Canadian? I know for Turkey one is indeed necessary, right? We’ll see how that works out. Assuming I don’t face any issues, it should be an enjoyable experience to see that side of the island. If I do encounter any issues, I will take some beautiful photos, thanks to my exceptional reappearing camera. As you may remember, my apartment in Moscow was robbed. The thieves completely ransacked my place, turning it upside down while searching for my valuables, which they naturally discovered. They found everything and took it all except for my new digital camera that was hidden away in my old backpack. That bag is so worn and scruffy that I’m sure they thought it didn’t hold anything worth taking, and thus\", \n",
      "  \"paraphrase_8\": \"I’m relieved that my computer continues to function, which permits me to keep working on this bright and sunny Friday afternoon. Last weekend, we took a lovely cruise to Beirut where we had a great time with our Dutch friends. This weekend, my Russian colleague and his girlfriend will join me as we drive first to Nicosia, and then depending on our luck, we’ll try to pass through the main checkpoint to the Turkish side of the island, eventually heading to the well-known Famagusta Beach located on the East side. You can’t drive there directly, as Greek Cypriots and visitors have only recently been granted access to the Turkish side. I hope I don’t need a visa, considering I’m Canadian? I know a visa is required to visit Turkey, isn't it? We’ll see what unfolds. Assuming I encounter no problems, it should be fun to check out that side of the island. Should I face any issues, I will definitely take some lovely photographs with my wonderful reappearing camera. As you might remember, my place was robbed in Moscow. The thieves ransacked my apartment, turning everything upside down while hunting for my valuables, which, of course, they found. They took everything they uncovered except my new digital camera, which was stashed inside my old rucksack. That backpack is so old and beat up that I’m sure they thought it didn’t have anything precious inside, and therefore\", \n",
      "  \"paraphrase_9\": \"Fortunately, my computer is still operational, which allows me to continue my work on this bright and sunny Friday afternoon. Last weekend, we enjoyed a cruise to Beirut and had a wonderful time with our Dutch friends. This weekend, my Russian colleague and his girlfriend will be driving with me first to Nicosia, and then depending on luck, we will attempt to cross the main checkpoint to arrive at the Turkish side of the island and then visit the famous Famagusta Beach located on the East side. You cannot drive directly there, and it has only been recently that Greek Cypriots and visitors have been permitted to cross over to the Turkish side. I hope as a Canadian that I will not need a visa? I understand that I need one for entering Turkey, right? We'll have to see about that. Assuming there are no complications, it should be enjoyable to see that side of the island. If I do run into any issues, I will certainly capture some great shots with my amazing reappearing camera. As you may know, my apartment was burglarized in Moscow. The thieves ransacked my home, tossing everything around in search of my possessions, which they ultimately found. They found everything except my new digital camera, which was safely stored in my old rucksack. That knapsack is so worn that I bet they thought there was nothing of value inside it and therefore\", \n",
      "  \"paraphrase_10\": \"I’m thankful that my computer is still functioning, allowing me to keep working on this beautiful and sunny Friday afternoon. Last weekend, we went on a fantastic cruise to Beirut with our Dutch friends, and we had an incredible time. This weekend, I’ll be driving with my Russian colleague and his girlfriend first to Nicosia, and then depending on our luck, we hope to cross through the main checkpoint into the Turkish side of the island, eventually making our way to the renowned Famagusta Beach on the eastern part of the island. Driving there directly isn’t possible, as Greek Cypriots and visitors have just recently been permitted to travel to the Turkish side. I wonder if I, as a Canadian, will need a visa? I know that one is required for Turkey, right? We’ll find out soon. Assuming there are no problems, it should be fun to see this side of the island. If I encounter any difficulties, I’ll be sure to take great pictures with my wonderful reappearing camera. As you might recall, my apartment in Moscow was broken into. The thieves ransacked the place, tossing everything around looking for my belongings, which they managed to find. They discovered everything and stole everything except my new digital camera that was hidden in my old backpack. That backpack is so ragged and worn that I’m sure they assumed it contained nothing of worth and therefore\", \n",
      "  \"paraphrase_11\": \"I’m relieved that my computer is still operational, enabling me to continue working on this bright and sunny Friday afternoon. Last weekend, we took a wonderful cruise to Beirut with our Dutch friends, which was a great experience. This weekend, I, along with my Russian colleague and his girlfriend, intend to drive to Nicosia first, and depending on fortune, we hope to cross the main checkpoint onto the Turkish side of the island, leading us to the famous Famagusta Beach on the East side. It’s not possible to drive there directly, and recently Greek Cypriots and visitors have been allowed to cross into the Turkish territory. As a Canadian, I hope I won’t require a visa? I am aware that one is needed for Turkey, correct? We’ll see what happens. Assuming I don’t face any troubles, it should be exciting to explore that side of the island. If I do encounter any issues, I'll definitely capture some fantastic photos with my remarkable reappearing camera. As you might remember, my apartment was burglarized in Moscow. The thieves ransacked the entire space, flipping everything around as they searched for my valuables, which they of course found. They took everything except for my new digital camera that was hidden inside my old backpack. That bag is so worn out that I'm sure they thought it must not have anything valuable inside and therefore\", \n",
      "  \"paraphrase_12\": \"I’m grateful that my computer is still running, which allows me to continue my work on this bright and sunny Friday afternoon. Last weekend, we enjoyed a great cruise to Beirut with our Dutch friends. This weekend, my Russian colleague and his girlfriend will accompany me as we drive first to Nicosia, and then based on luck, we may cross through the main checkpoint to the Turkish area of the island and then head to the famous Famagusta Beach on the East side. Direct access to that area isn't possible, and only recently have Greek Cypriots and visitors been allowed to cross to that side. I wonder if I need a visa being a Canadian? I know that for Turkey I will need one, right? We’ll see what happens. Assuming there are no issues, it should be fun to visit that part of the island. If I encounter any problems, I will, of course, take some good photos with my amazing reappearing camera. As you might remember, my apartment was robbed in Moscow. The thieves turned my entire apartment upside down, searching for my valuables, which they successfully found. They discovered everything except my new digital camera, which they overlooked while it was stored inside my old rucksack. That knapsack is so beaten up that I am certain they thought it held no value and therefore\", \n",
      "  \"paraphrase_13\": \"It’s a relief that my computer is still functioning, allowing me to keep my work going on this bright and sunny Friday afternoon. Last weekend, we took a lovely cruise to Beirut and had a great time with our Dutch friends. This weekend, I'm planning to drive to Nicosia with my Russian colleague and his girlfriend, and depending on our luck, we will see if we can cross through the main checkpoint to get to the Turkish side of the island and then proceed to the famous Famagusta Beach on the East side. Direct driving is not allowed there, and it’s been only recently that Greek Cypriots and visitors are permitted to cross into the Turkish area. I hope I won’t need a visa as a Canadian? I’m aware that one is necessary for Turkey, is that correct? We’ll just have to wait and see. Assuming I don’t have any complications, it ought to be fun to check out that side of the island. If I run into any obstacles, I’ll be sure to take some wonderful pictures with my incredible reappearing camera. As you may recall, my apartment got robbed in Moscow. The thieves made a complete mess of my apartment, looking underneath everything for my valuables, which they ultimately found. They took everything except my new digital camera that was tucked away in my old rucksack. That bag is so worn out that I believe they thought it contained no valuables and therefore\", \n",
      "  \"paraphrase_14\": \"I’m happy to say that my computer is still operational, allowing me to keep working on this sunny and bright Friday afternoon. Last weekend, we went on a delightful cruise to Beirut where we had a great time with our Dutch friends. This weekend, I and my Russian colleague along with his girlfriend will drive first to Nicosia, and then depending on our luck, we’ll try to pass through the main checkpoint onto the Turkish side of the island and then make our way to the famous Famagusta Beach on the East side. Driving to that area directly isn’t possible, and Greek Cypriots and visitors have only recently been granted permission to travel to the Turkish side. I really hope I won’t need a visa since I’m a Canadian? I know that one is required for Turkey, right? We’ll see how it all goes. If all goes smoothly, it should be interesting to visit that part of the island. If I do have any obstacles, I will, of course, capture some great pictures with my incredible reappearing camera. You might recall that my apartment was robbed in Moscow. The thieves ransacked my apartment, tossing everything around as they searched for my valuables, which they indeed found. Everything was uncovered and taken, except for my new digital camera, which they didn't find because it was hidden in my old rucksack. That bag is so worn that I’m certain they assumed it held nothing of value and therefore\", \n",
      "  \"paraphrase_15\": \"I’m thankful that my computer is still running, so I can continue working on this bright and sunny Friday afternoon. Last weekend, we took a nice cruise to Beirut with our Dutch friends and had an amazing time. This weekend, my Russian colleague and his girlfriend will join me as we first drive to Nicosia, and then, depending on our luck, we will try to pass through the main checkpoint onto the Turkish side of the island, eventually heading to the renowned Famagusta Beach located on the East side. You cannot drive directly there, and it was only recently that Greek Cypriots and visitors were allowed to cross onto the Turkish side. I wonder if I will need a visa, being a Canadian? I do know that I need one to visit Turkey, right? We shall see how that works out. Assuming everything goes well, it should be fun to explore that side of the island. If I do encounter any issues, I will surely take great photos with my wonderful reappearing camera. As you might remember, my apartment was burgled in Moscow. The thieves completely ransacked my home, turning everything upside down while searching for my belongings, which they ultimately found. They took everything, except for my new digital camera, which was hidden in my old backpack. That bag is so worn out and battered that I’m sure they thought it didn’t contain anything of worth and therefore\", \n",
      "  \"paraphrase_16\": \"I feel fortunate that my computer is still operating, allowing me to continue working on this sunny Friday afternoon. Last weekend, we enjoyed a fantastic cruise to Beirut with our Dutch friends. This weekend, my Russian colleague and his girlfriend will drive with me first to Nicosia, and based on our luck, we’ll try to cross the main checkpoint onto the Turkish part of the island and then visit the famous Famagusta Beach on the East side. There’s no direct route to drive there, and it’s only recently that Greek Cypriots and visitors have been allowed to access the Turkish side. I hope I don’t need a visa as a Canadian? I definitely need to know about this because I know it’s required for Turkey, right? We’ll see soon. Assuming I run into no problems, it should be an adventure to see that side of the island. If I do have complications, of course, I will take some great photographs with my outstanding reappearing camera. As you probably remember, my apartment was robbed in Moscow. The burglars rifled through everything and ransacked my home, looking for my valuables which they found. They uncovered everything and took it, except for my new digital camera, which was inside my old rucksack. That bag is so dilapidated and worn that I bet they thought it didn’t have anything of value in it and hence\", \n",
      "  \"paraphrase_17\": \"I’m thankful that my computer is still functioning correctly, which allows me to keep working on this lovely sunny Friday afternoon. Last weekend, we had an enjoyable cruise to Beirut with our Dutch friends. My Russian colleague and his girlfriend will be joining me this weekend as we drive first to N\n",
      "Error parsing JSON in row 19: {\"original\": \"However, thankfully my computer is still running, so I am able to keep on working on this bright and sunny Friday afternoon. Last weekend we took a cruise to Beirut and had a really great time with our Dutch friends. This weekend, my Russian colleague and his girlfriend and I will drive first to Nicosia, and then depending on our luck, we will pass through the main check point onto the Turkish side of the island and then proceed to the famous Famagusta Beach on the East side of the island. You cannot drive there directly, and Greek Cypriots and visitors have only recently been allowed to cross over onto the Turkish side. I hope I do not need a visa, being a Canadian? I know that I need one to visit Turkey? We shall see. However, assuming I do not have any problems, it should be fun to see that side of the island. If I do, I will, of course, take some good pictures, with my amazing reappearing camera. As you may remember, my apartment was robbed in Moscow. The thieves ram-sacked my apartment, turning all things upside down, looking for my loot, which they found, of course. First of all they found everything, and then they stole everything, that is, except for my new digital camera. The camera was inside my old rucksack. That knapsack is so beat up and weathered that I am sure they thought there would be nothing of value inside it and therefore\",  \n",
      "  \"paraphrase_1\": \"Fortunately, my computer is still operational, allowing me to continue working on this beautiful and sunny Friday afternoon. Last weekend, we enjoyed a cruise to Beirut, spending quality time with our Dutch friends. This weekend, my Russian colleague, his girlfriend, and I plan to drive to Nicosia first, and then depending on our luck, we will try to cross through the main checkpoint to the Turkish side of the island, ultimately heading towards the well-known Famagusta Beach on the eastern part of the island. Accessing that beach directly by driving isn't possible, and only lately have Greek Cypriots and visitors been permitted to cross over to the Turkish side. I wonder if I'll need a visa, given that I'm Canadian? I know a visa is required for travel to Turkey, though. We will find out. Assuming everything goes smoothly, it will be exciting to explore that side of the island. If I encounter issues, I’ll definitely capture some memorable photos with my fantastic reappearing camera. As you may recall, my apartment was burglarized while I was in Moscow. The intruders turned my place upside down in search of valuables, which of course, they found. Initially, they discovered everything, and then they stole it all, except for my new digital camera. The camera was tucked away in my old backpack. That knapsack is so worn and tattered that I believe they assumed there was no valuable item inside it, and as a result, \",  \n",
      "  \"paraphrase_2\": \"Thank goodness my computer is still functioning, allowing me to keep working on this sunny and bright Friday afternoon. Last weekend, we cruised to Beirut and had a wonderful time with our Dutch friends. This weekend, I will join my Russian colleague and his girlfriend to drive to Nicosia first, and then depending on our fortune, we might go through the main checkpoint onto the Turkish side of the island before heading to the famous Famagusta Beach on the eastern side. Driving there is not straightforward, and both Greek Cypriots and visitors have only more recently been granted permission to cross over to the Turkish side. As a Canadian, I hope I won’t have to obtain a visa? I know I need one for Turkey, though? We'll find out. Assuming no issues arise, it should be enjoyable to see that section of the island. If I face any difficulties, I’ll certainly take some nice pictures with my remarkable reappearing camera. As you might remember, my apartment in Moscow got robbed. The burglars ransacked my apartment, making a mess while searching for my valuables, which they obviously found. They discovered everything first and then took all, except for my new digital camera. The camera was inside my old rucksack. That bag is so battered and worn that they probably thought it contained nothing of value, and therefore\",  \n",
      "  \"paraphrase_3\": \"Luckily, my computer is still alive and running, allowing me to continue my work on this lovely and sunny Friday afternoon. Last weekend, we went on a cruise to Beirut and had an amazing time with our Dutch friends. This weekend, my Russian colleague, along with his girlfriend and I, will drive first to Nicosia, and then depending on how fortunate we are, we will try to cross at the main checkpoint to the Turkish side of the island and venture towards the renowned Famagusta Beach on the eastern end of the island. There is no direct driving access to that beach, and recently, Greek Cypriots and visitors have been granted permission to cross over to the Turkish side. I wonder if I need a visa since I’m Canadian? I know I need one for going to Turkey? We’ll find out. If everything works out, it should be exciting to visit that part of the island. However, if I do encounter any problems, I will definitely capture some great pictures with my incredible reappearing camera. As you might recall, my place in Moscow was broken into. The thieves wrecked my apartment, flipping everything around while searching for my valuables, which they inevitably found. They located everything and subsequently stole it all, except my new digital camera. The camera was hidden in my old rucksack. That backpack is so worn-out and aged that it’s likely they thought it contained no valuables, thus\",  \n",
      "  \"paraphrase_4\": \"I’m relieved that my computer remains functional, letting me continue working on this bright and cheerful Friday afternoon. Last weekend, we took a delightful cruise to Beirut, enjoying great moments with our Dutch friends. This weekend, my Russian colleague and his girlfriend will join me on a drive to Nicosia first, and then depending on our luck, we will see if we can cross through the main checkpoint to the Turkish side of the island and visit the famous Famagusta Beach on the east coast. Accessing this beach doesn't allow for direct driving, and Greek Cypriots and visitors have only recently been allowed to pass into the Turkish territory. As a Canadian, I hope I won't require a visa? I understand I need a visa for Turkey, though? We'll find out soon. If I face no troubles, it should be an interesting experience to explore that part of the island. If there are issues, I will surely take some beautiful photos with my exceptional reappearing camera. You may recall that my apartment in Moscow was burglarized. The burglars thoroughly searched my apartment, tossing everything around in their quest for valuables, which they did find, of course. They uncovered everything and then stole everything, with the exception of my new digital camera. My camera was kept in my old rucksack. That backpack is so worn and rugged that I’m sure they thought it would contain nothing worth stealing, hence\",  \n",
      "  \"paraphrase_5\": \"Thankfully, my computer is still operational, which allows me to continue working on this sunny and bright Friday afternoon. Last weekend, we enjoyed a cruise to Beirut and had a fantastic time with our Dutch friends. This weekend, my Russian colleague, his girlfriend, and I will first drive to Nicosia, and then, depending on our luck, we’ll see if we can pass through the main checkpoint to the Turkish side of the island and then head to the well-known Famagusta Beach on the East side of the island. Driving there is not possible directly, and only recently have Greek Cypriots and visitors been permitted to cross over to the Turkish side. I hope I don’t need a visa since I’m Canadian? I know I require one for Turkey? We’ll see how it goes. Assuming everything proceeds without issues, it should be exciting to check out that side of the island. If I do encounter problems, I will definitely take some great photos with my remarkable reappearing camera. As you might remember, my apartment was robbed when I was in Moscow. The thieves completely ransacked my apartment, looking for my valuables, which they indeed found. They first found everything and then stole all of it, except for my new digital camera. That camera was stored within my old rucksack. That knapsack is so battered and worn that I’m positive they assumed nothing of value was inside it and therefore\",  \n",
      "  \"paraphrase_6\": \"I’m thankful that my computer is still functioning well, enabling me to continue my work on this sunny and cheerful Friday afternoon. Last weekend, we went on a cruise to Beirut and had an excellent time with our Dutch friends. This weekend, I, along with my Russian colleague and his girlfriend, will first make our way to Nicosia, and then depending on our luck, we may cross through the main checkpoint onto the Turkish side of the island and then head towards the famous Famagusta Beach situated on the east coast of the island. One cannot drive there directly, and only recently have Greek Cypriots and visitors been allowed to travel to the Turkish side. As a Canadian, I hope I won’t need to get a visa? I understand I require one when visiting Turkey? We shall see how it goes. Assuming I don’t face any troubles, it should be pretty fun to check out that part of the island. If I happen to encounter any issues, I will certainly take some fantastic pictures with my incredible reappearing camera. As you may remember, my apartment in Moscow was broken into. The thieves completely ransacked the place, flipping everything over in search of my valuables, which they obviously found. They discovered everything and subsequently took everything, except my new digital camera. The camera was safely stored inside my old rucksack. That bag is so tattered and worn-out that I’m certain they thought nothing of value lay within it, and thus\",  \n",
      "  \"paraphrase_7\": \"I am grateful that my computer continues to work, allowing me to keep on working this bright and sunny Friday afternoon. Last weekend, we had a great experience on a cruise to Beirut with our Dutch friends. This weekend, my Russian colleague and his girlfriend along with me will first drive to Nicosia, and then, based on our luck, we will try to cross through the main checkpoint to the Turkish side of the island and eventually go to the famous Famagusta Beach on the eastern side. Driving there directly is not possible and Greek Cypriots and visitors have only very recently been allowed to cross over to the Turkish side. I wonder, do I need a visa being Canadian? I understand that I need one for visiting Turkey? We will find out soon enough. Assuming I run into no issues, it will definitely be enjoyable to see that side of the island. If any problems arise, I will, of course, capture some great pictures with my remarkable reappearing camera. As you may recall, I was a victim of a robbery in my apartment in Moscow. The thieves turned my place inside out, searching for valuables, which they inevitably found. They first located everything and then proceeded to steal it all, except my new digital camera. Thankfully, the camera was kept in my old rucksack. That rucksack is so worn and dilapidated that I am certain they assumed there was nothing of value in it and therefore\",  \n",
      "  \"paraphrase_8\": \"I’m relieved to see that my computer is still functioning, so I can continue my work on this beautiful and sunny Friday afternoon. Last weekend, we took a delightful cruise to Beirut and enjoyed our time with our Dutch friends. This weekend, I’ll be driving with my Russian colleague and his girlfriend to Nicosia first, and then depending on our luck, we’ll try to cross through the main checkpoint onto the Turkish side of the island and move on towards the famous Famagusta Beach located on the east side of the island. Unfortunately, direct driving access is not permitted, and only recently have Greek Cypriots and visitors been allowed to cross into the Turkish zone. As a Canadian, I wonder if I will need a visa? I know I will need one for Turkey? We shall see how that works out. If everything goes smoothly, it should be fun to explore that section of the island. Should I have any complications, I will definitely take some memorable photos with my fantastic reappearing camera. As you might recall, my apartment in Moscow was robbed. The robbers made a mess of my apartment, looking for valuables which they did find. They found everything, and then they took everything except my new digital camera. It happened to be in my old backpack. That knapsack is so old and worn that I’m sure they thought nothing of value was inside it, and therefore\",  \n",
      "  \"paraphrase_9\": \"Fortunately, my computer is still operational, and I’m able to carry on working this bright and sunny Friday afternoon. Last weekend, we enjoyed a cruise to Beirut, having a splendid time with our Dutch friends. This weekend, my Russian colleague, his girlfriend, and I will begin our journey to Nicosia first, and then we'll attempt to pass through the main checkpoint to reach the Turkish side of the island, finally heading to the well-known Famagusta Beach on the east coast. You cannot access that beach directly by car, and only recently have Greek Cypriots and visitors been allowed to cross into the Turkish side. As a Canadian, I’m hopeful that I won’t need a visa? I do know that I require one to visit Turkey? We'll see what happens. Assuming no issues arise, it should be exciting to see that part of the island. If I do run into any problems, I will surely take some stunning pictures with my impressive reappearing camera. As you might recall, I had an unfortunate experience when my apartment was robbed in Moscow. The thieves thoroughly searched my place, turning everything upside down, seeking for valuables, which they actually found. They discovered everything and then stole everything, except my new digital camera. It was safely tucked inside my old rucksack. That backpack is so worn out that I’m convinced they thought there would be nothing of worth inside it and therefore\",  \n",
      "  \"paraphrase_10\": \"It's a relief that my computer is still functioning, permitting me to work on this beautiful, sunny Friday afternoon. Last weekend, we took a delightful cruise to Beirut and had a wonderful time with our Dutch friends. This weekend, I will accompany my Russian colleague and his girlfriend to drive first to Nicosia, and then, luck permitting, we’ll attempt to cross through the primary checkpoint to the Turkish side of the island and then head towards the famed Famagusta Beach located on the East side of the island. There is no direct driving route to that beach, and Greek Cypriots and visitors have only just recently been allowed access to the Turkish side. Being Canadian, I hope I don’t need a visa? I know I need one for Turkey, however? We will find out as we go. Nevertheless, assuming there are no issues, it should be great fun to see that side of the island. If I face any difficulties, I will certainly take some beautiful photos with my amazing reappearing camera. As you remember, my apartment in Moscow was burglarized. The thieves ransacked my entire place, flipping everything in their search for valuables, which they, of course, found. They located everything and then proceeded to steal everything, with the exception of my new digital camera. That camera was inside my old rucksack. That worn-out bag is so beat up that I am sure they thought it had no valuables inside it, and thus\",  \n",
      "  \"paraphrase_11\": \"Thankfully, my computer continues to function, which lets me work on this bright and sunny Friday afternoon. Last weekend, we had a lovely cruise to Beirut and enjoyed great moments with our Dutch friends. This weekend, my Russian colleague and his girlfriend will accompany me as we first drive to Nicosia, and then based on our luck, we will try to cross through the main checkpoint to the Turkish side of the island and eventually head for the famous Famagusta Beach on the island's east side. Driving directly there is not an option, and just recently, Greek Cypriots and visitors have been allowed to pass to the Turkish side. As a Canadian, I wonder if I need a visa? I am aware that I need one for Turkey, though? We will see how it turns out. If I don’t have any difficulties, it should indeed be fun to explore that section of the island. If I do face any issues, I will surely take some fantastic pictures with my exceptional reappearing camera. As you might recall, my apartment in Moscow was the scene of a robbery. The thieves ripped through my apartment, looking for valuables, which they inevitably found. They found everything and then took all, except my new digital camera. That camera was kept inside my worn-out rucksack. That bag is in such bad condition that I am certain they assumed it contained nothing valuable, and therefore\",  \n",
      "  \"paraphrase_12\": \"I’m glad that my computer is still working, allowing me to continue doing my work on this bright and sunny Friday afternoon. Last weekend, we enjoyed a cruise to Beirut and shared some wonderful moments with our Dutch friends. This weekend, my Russian colleague, his girlfriend and I will first drive to Nicosia, and then, who knows—if luck is on our side—we will go through the main checkpoint onto the Turkish side of the island and then make our way to the famous Famagusta Beach on the east side. You can't drive there directly, and Greek Cypriots and visitors were only recently permitted to cross onto the Turkish side. I wonder, as a Canadian, will I need a visa? I know I will need one for Turkey, though? We'll see how that plays out. Assuming nothing goes wrong, it should be quite enjoyable to explore that section of the island. If I do encounter any concerns, I will, of course, take some great pictures with my amazing reappearing camera. You may remember that I experienced a robbery in my apartment in Moscow. The thieves ravaged my home, turning everything upside down in search of valuables, which they did, of course, find. First, they discovered everything, and subsequently stole everything, except my new digital camera. The camera was safely tucked in my old rucksack. I reckon that bag is so tattered and worn that they probably assumed there was nothing valuable inside, and therefore\",  \n",
      "  \"paraphrase_13\": \"I’m pleased that my computer is still operational, allowing me to work on this lovely sunny Friday afternoon. Last weekend, we embarked on a cruise to Beirut and enjoyed a fantastic time with our Dutch friends. This weekend, my Russian colleague, his girlfriend, and I will first drive up to Nicosia, and then, if we're lucky, we will pass through the main checkpoint onto the Turkish side of the island and then proceed to the famous Famagusta Beach on the east coast. You cannot drive there directly, and recently, Greek Cypriots and visitors have been granted access to the Turkish side. I hope I won't need a visa as a Canadian? I am aware that I need one to travel to Turkey? We will find out for sure. If all goes well, it should be great fun to explore that part of the island. If there are issues, I’ll take some wonderful pictures with my impressive reappearing camera. As you might recall, my apartment was broken into while I was in Moscow. The thieves thoroughly searched my apartment, turning everything upside down, in their quest for valuables, which they inevitably found. They found everything, and then they took all except for my new digital camera. That camera was packed away in my old backpack. That old bag is so worn that I am sure they assumed it had no valuables inside and so\",  \n",
      "  \"paraphrase_14\": \"It’s a relief that my computer is still functioning, which allows me to continue working on this sunny and bright Friday afternoon. Last weekend, we enjoyed a fantastic cruise to Beirut with our Dutch friends. This weekend, my Russian colleague and his girlfriend will join me on a drive to Nicosia first, and then based on our luck, we will try to cross the main checkpoint onto the Turkish part of the island and then head to the famous Famagusta Beach on the eastern side of the island. There’s no direct driving access there, and only recently have Greek Cypriots and visitors been granted permission to cross over to the Turkish side. Will I need a visa as a Canadian? I understand that I definitely need one for Turkey, right? We’ll see. Assuming everything goes well, it should be enjoyable to visit that portion of the island. If I face any issues, I will definitely take some beautiful photos with my amazing reappearing camera. As you may remember, my apartment was burglarized when I was in Moscow. The thieves turned my entire apartment upside down, searching for valuables, which they certainly found. They first found everything and then stole everything except my new digital camera. The camera was placed in my old rucksack. That knapsack is so old and battered that I bet they thought it contained no valuables and thus\",  \n",
      "  \"paraphrase_15\": \"I'm thankful that my computer is still operating, enabling me to continue working on this sunny and bright Friday afternoon. Last weekend, we took a delightful cruise to Beirut and had a wonderful experience with our Dutch friends. This weekend, my Russian colleague, his girlfriend, and I will first drive to Nicosia, and then, if fortune favors us, we will attempt to cross through the main checkpoint to the Turkish side of the island and ultimately make our way to the well-known Famagusta Beach on the eastern part of the island. Direct driving there isn’t an option, and only recently have Greek Cypriots and visitors been allowed access to the Turkish side. As a Canadian, I hope I won’t be needing a visa? I know for certain that I need one for Turkey, though? We will find out shortly. Assuming I encounter no issues, it should be fun to see that side of the island. If I do experience any problems, I will surely take some lovely pictures with my amazing reappearing camera. You might remember my apartment being robbed back in Moscow. The thieves completely went through my place, flipping everything upside down looking for valuables, which they did find. They found everything and then stole it all, except for my new digital camera. It was safely kept inside my old rucksack, which is so used and worn that I’m positive they thought there was nothing valuable inside, and therefore\",  \n",
      "  \"paraphrase_16\": \"I feel thankful that my computer is still in working order, allowing me to keep working on this bright and sunny Friday afternoon. Last weekend, we had a wonderful time on a cruise to Beirut with our Dutch friends. This weekend, my Russian colleague, his girlfriend, and I plan to drive first to Nicosia and then, if luck is on our side, pass through the main checkpoint to the Turkish side of the island, proceeding to the renowned Famagusta Beach on the eastern end. It's not possible to drive directly to that beach, and recently, Greek Cypriots and visitors have been allowed to enter the Turkish side. I wonder if I will need a visa, as a Canadian? I know I definitely need one for visiting Turkey? We will see how it turns out. If everything goes well, it should be enjoyable to explore that side of the island. If I do have any issues, I'll take some good pictures with my fantastic reappearing camera. As you may recall, my apartment was burglarized while I was in Moscow. The thieves completely ransacked my apartment, turning everything upside down in search of valuables, which they clearly found. They managed to find everything and then subsequently stole all, except for my new digital camera. That camera was hidden in my old rucksack. That worn-out bag looks so beat-up that I\n"
     ]
    }
   ],
   "source": [
    "for index, row in fail_test.iterrows():\n",
    "    response_str = row['response']\n",
    "    try:\n",
    "        response_json = json.loads(response_str)\n",
    "    except json.JSONDecodeError:\n",
    "        print(f\"Error parsing JSON in row {index}: {response_str}\")"
   ]
  },
  {
   "cell_type": "code",
   "execution_count": 161,
   "id": "b64177e7-a460-4229-984d-18088e14e141",
   "metadata": {},
   "outputs": [
    {
     "data": {
      "text/html": [
       "<div>\n",
       "<style scoped>\n",
       "    .dataframe tbody tr th:only-of-type {\n",
       "        vertical-align: middle;\n",
       "    }\n",
       "\n",
       "    .dataframe tbody tr th {\n",
       "        vertical-align: top;\n",
       "    }\n",
       "\n",
       "    .dataframe thead th {\n",
       "        text-align: right;\n",
       "    }\n",
       "</style>\n",
       "<table border=\"1\" class=\"dataframe\">\n",
       "  <thead>\n",
       "    <tr style=\"text-align: right;\">\n",
       "      <th></th>\n",
       "      <th>doc_id</th>\n",
       "      <th>chunk_id</th>\n",
       "      <th>original</th>\n",
       "      <th>rephrased</th>\n",
       "    </tr>\n",
       "  </thead>\n",
       "  <tbody>\n",
       "    <tr>\n",
       "      <th>0</th>\n",
       "      <td>617540</td>\n",
       "      <td>1</td>\n",
       "      <td>It has been suggested that I share some storie...</td>\n",
       "      <td>I have been recommended to talk about some sto...</td>\n",
       "    </tr>\n",
       "    <tr>\n",
       "      <th>1</th>\n",
       "      <td>617540</td>\n",
       "      <td>1</td>\n",
       "      <td>It has been suggested that I share some storie...</td>\n",
       "      <td>I've been asked to recount stories about my st...</td>\n",
       "    </tr>\n",
       "    <tr>\n",
       "      <th>2</th>\n",
       "      <td>617540</td>\n",
       "      <td>1</td>\n",
       "      <td>It has been suggested that I share some storie...</td>\n",
       "      <td>There have been recommendations for me to reco...</td>\n",
       "    </tr>\n",
       "    <tr>\n",
       "      <th>3</th>\n",
       "      <td>617540</td>\n",
       "      <td>1</td>\n",
       "      <td>It has been suggested that I share some storie...</td>\n",
       "      <td>People have suggested that I share a few tales...</td>\n",
       "    </tr>\n",
       "    <tr>\n",
       "      <th>4</th>\n",
       "      <td>617540</td>\n",
       "      <td>1</td>\n",
       "      <td>It has been suggested that I share some storie...</td>\n",
       "      <td>It has been proposed that I tell some stories ...</td>\n",
       "    </tr>\n",
       "    <tr>\n",
       "      <th>...</th>\n",
       "      <td>...</td>\n",
       "      <td>...</td>\n",
       "      <td>...</td>\n",
       "      <td>...</td>\n",
       "    </tr>\n",
       "    <tr>\n",
       "      <th>7943</th>\n",
       "      <td>617540</td>\n",
       "      <td>9</td>\n",
       "      <td>they always have cash and insist on paying for...</td>\n",
       "      <td>They consistently carry cash and make it a poi...</td>\n",
       "    </tr>\n",
       "    <tr>\n",
       "      <th>7944</th>\n",
       "      <td>617540</td>\n",
       "      <td>9</td>\n",
       "      <td>they always have cash and insist on paying for...</td>\n",
       "      <td>They always seem to have cash available and in...</td>\n",
       "    </tr>\n",
       "    <tr>\n",
       "      <th>7945</th>\n",
       "      <td>617540</td>\n",
       "      <td>9</td>\n",
       "      <td>they always have cash and insist on paying for...</td>\n",
       "      <td>They are always seen with cash and are adamant...</td>\n",
       "    </tr>\n",
       "    <tr>\n",
       "      <th>7946</th>\n",
       "      <td>617540</td>\n",
       "      <td>9</td>\n",
       "      <td>they always have cash and insist on paying for...</td>\n",
       "      <td>They typically carry cash and insist on handli...</td>\n",
       "    </tr>\n",
       "    <tr>\n",
       "      <th>7947</th>\n",
       "      <td>617540</td>\n",
       "      <td>9</td>\n",
       "      <td>they always have cash and insist on paying for...</td>\n",
       "      <td>Having cash on hand is common for them, and th...</td>\n",
       "    </tr>\n",
       "  </tbody>\n",
       "</table>\n",
       "<p>7948 rows × 4 columns</p>\n",
       "</div>"
      ],
      "text/plain": [
       "      doc_id chunk_id                                           original  \\\n",
       "0     617540        1  It has been suggested that I share some storie...   \n",
       "1     617540        1  It has been suggested that I share some storie...   \n",
       "2     617540        1  It has been suggested that I share some storie...   \n",
       "3     617540        1  It has been suggested that I share some storie...   \n",
       "4     617540        1  It has been suggested that I share some storie...   \n",
       "...      ...      ...                                                ...   \n",
       "7943  617540        9  they always have cash and insist on paying for...   \n",
       "7944  617540        9  they always have cash and insist on paying for...   \n",
       "7945  617540        9  they always have cash and insist on paying for...   \n",
       "7946  617540        9  they always have cash and insist on paying for...   \n",
       "7947  617540        9  they always have cash and insist on paying for...   \n",
       "\n",
       "                                              rephrased  \n",
       "0     I have been recommended to talk about some sto...  \n",
       "1     I've been asked to recount stories about my st...  \n",
       "2     There have been recommendations for me to reco...  \n",
       "3     People have suggested that I share a few tales...  \n",
       "4     It has been proposed that I tell some stories ...  \n",
       "...                                                 ...  \n",
       "7943  They consistently carry cash and make it a poi...  \n",
       "7944  They always seem to have cash available and in...  \n",
       "7945  They are always seen with cash and are adamant...  \n",
       "7946  They typically carry cash and insist on handli...  \n",
       "7947  Having cash on hand is common for them, and th...  \n",
       "\n",
       "[7948 rows x 4 columns]"
      ]
     },
     "execution_count": 161,
     "metadata": {},
     "output_type": "execute_result"
    }
   ],
   "source": [
    "final_df"
   ]
  },
  {
   "cell_type": "code",
   "execution_count": 156,
   "id": "c482388b-c9a1-4a0f-b2d5-8799a95017de",
   "metadata": {},
   "outputs": [],
   "source": [
    "save_loc = f\"{batch_save_loc}batch_402496.jsonl\"\n",
    "save_as_jsonl(final_df, save_loc)"
   ]
  },
  {
   "cell_type": "code",
   "execution_count": 33,
   "id": "1e435338-d879-4801-ac4d-29334e4ac808",
   "metadata": {},
   "outputs": [],
   "source": [
    "grammar = r\"\"\"\n",
    "start: \"[\" items \"]\"\n",
    "\n",
    "items: item (\",\" item)*\n",
    "\n",
    "item: ESCAPED_STRING\n",
    "\n",
    "ESCAPED_STRING: \"\\\"\" /[a-zA-Z0-9.,!?;:’\\-()' ]+/ \"\\\"\"\n",
    "\n",
    "%ignore \" \"\n",
    "%ignore \"\\n\"\n",
    "\"\"\"\n",
    "\n",
    "parser = Lark(grammar, parser='earley')"
   ]
  },
  {
   "cell_type": "code",
   "execution_count": 36,
   "id": "ead85c6d-ca21-4bd8-b145-4c29a5622d8e",
   "metadata": {},
   "outputs": [],
   "source": [
    "grammar = r\"\"\"\n",
    "start: \"[\" items \"]\"\n",
    "\n",
    "items: item (\",\" item)*\n",
    "\n",
    "item: ESCAPED_STRING\n",
    "\n",
    "ESCAPED_STRING: \"\\\"\" /[^\"]+/ \"\\\"\"\n",
    "\n",
    "%ignore \" \"\n",
    "%ignore \"\\n\"\n",
    "\"\"\"\n",
    "\n",
    "parser = Lark(grammar, parser='earley')"
   ]
  },
  {
   "cell_type": "code",
   "execution_count": 37,
   "id": "b1b3b2f5-989f-447a-9a34-20514dde5eb6",
   "metadata": {},
   "outputs": [],
   "source": [
    "def validate_and_parse_response(df, parser):\n",
    "    # # Load the grammar\n",
    "    # with open(grammar_file, 'r') as file:\n",
    "    #     grammar = file.read()\n",
    "    \n",
    "    # parser = Lark(grammar, start='start', parser='earley')\n",
    "\n",
    "    # Function to parse each response\n",
    "    def parse_response(response):\n",
    "        try:\n",
    "            # Check if the response is a string, if so, parse it\n",
    "            if isinstance(response, str):\n",
    "                # Validate the response using the grammar\n",
    "                parser.parse(response)\n",
    "                # Convert the string to an actual list\n",
    "                return ast.literal_eval(response)\n",
    "            else:\n",
    "                return response\n",
    "        except (UnexpectedInput, ValueError, SyntaxError) as e:\n",
    "            print(f\"Invalid response format: {response} - Error: {e}\")\n",
    "            return response  # Return the original string if parsing fails\n",
    "\n",
    "    # Loop through each row and validate/parse the 'response' column\n",
    "    for index, row in df.iterrows():\n",
    "        df.at[index, 'response'] = parse_response(row['response'])\n",
    "    \n",
    "    return df"
   ]
  },
  {
   "cell_type": "code",
   "execution_count": 38,
   "id": "09c3e8c3-3bc9-4aa8-9dd0-4ed9e6b34503",
   "metadata": {},
   "outputs": [
    {
     "name": "stdout",
     "output_type": "stream",
     "text": [
      "Invalid response format: [\"It presents itself as more of a supportive scenario rather than a case of earning a hefty sum to have an unpleasant individual with a waste bag beside him perform an unsavory act on you.\", \n",
      " \"It creates the impression of being a more charitable context rather than a lucrative opportunity to have a repulsive man with a bodily waste bag engage in an indecent act with you.\", \n",
      " \"It feels more like a scenario where assistance is offered rather than a situation where you get paid a significant amount to have a disgusting man with a sanitary bag next to him satisfy your lower regions.\", \n",
      " \"This makes it seem more like a situation where you're lending a hand instead of one where you receive substantial compensation to endure the presence of a foul person carrying a waste pouch licking you.\", \n",
      " \"It comes across as a more altruistic arrangement than one that involves receiving a lot of money for enduring the advances of a nasty guy with a defecation bag beside him.\", \n",
      " \"This makes it feel more like a situation of providing help rather than earning a large paycheck for allowing a revolting man with a crap bag to engage in inappropriate behavior with you.\", \n",
      " \"It sounds more like an act of kindness rather than a lucrative arrangement where a disgusting individual with a feces bag is licking you.\", \n",
      " \"It gives off the vibe of a supportive situation as opposed to one in which you’re compensated handsomely for an encounter with an unappealing guy with a waste receptacle.\", \n",
      " \"It sounds more like a community support effort instead of a job paying a lot of money to have an unpleasant man with a bag of waste perform lewd acts on you.\", \n",
      " \"This conveys more of a community-oriented atmosphere than the prospect of getting rich by enduring the unsightly advances of a man with a sanitary pouch.\", \n",
      " \"It makes it appear more like a charitable act rather than a situation where one would get a big payout for the disgusting actions of a man with a crap bag.\", \n",
      " \"This portrays it as a favor being done instead of receiving a sizable paycheck for dealing with a repulsive man carrying a waste container.\", \n",
      " \"It gives an impression that's more about mutual assistance than about a monetarily rewarding exchange involving a distasteful individual with a sanitary bag.\", \n",
      " \"It feels less like a job where you make a lot of money and more like a helping hand for someone rather than dealing with a pitiful person with a waste collection bag.\", \n",
      " \"It leans towards sounding more like a supportive gesture rather than a heavy pay scheme involving a man with a disgusting waste bag.\", \n",
      " \"This makes the situation sound more like one of goodwill rather than an enticing financial opportunity involving a loathsome guy with a pouch for excrement.\", \n",
      " \"It conveys a sense of camaraderie instead of a focus on being well-compensated to have to handle a filthy man carrying around a bag for his waste.\", \n",
      " \"It reflects more of a helping situation than becoming wealthy through a distasteful arrangement with a filthy individual with a waste bag.\", \n",
      " \"It suggests a more positive context of aiding others than a transaction for a lot of cash involving a repugnant guy with a waste container.\", \n",
      " \"This paints a picture of more of a supportive encounter instead of a scenario where you gain wealth from having an unsavory man with a waste bag.\";] - Error: No terminal matches ';' in the current parser context, at line 20 col 149\n",
      "\n",
      "aving an unsavory man with a waste bag.\";]\n",
      "                                        ^\n",
      "Expected one of: \n",
      "\t* RSQB\n",
      "\t* COMMA\n",
      "\n",
      "Invalid response format: [\"'This is a compiled narrative from both parties who are no longer in communication.'\", \"'This story brings together perspectives from both sides that have ceased to communicate.'\", \"'This narrative is a collection from both sides which have stopped speaking to one another.'\", \"'Here we have a compilation from both parties that no longer exchange words.'\", \"'This is a collected story from both sides, who have cut off communication.'\", \"'This narration compiles views from both parties that have stopped talking to each other.'\", \"'This is a story put together from both sides that have stopped their dialogue.'\", \"'This tale is a compilation from two sides that no longer converse.'\", \"'This is an assembled story from both factions that have ended their communication.'\", \"'This narrative is a blend of accounts from both sides that aren’t in touch any longer.'\", \"'This is a collected story from both parties that no longer engage with each other.'\", \"'Here is a compilation tale from both sides who no longer communicate.'\", \"'This story is a gathering of insights from both groups that have ceased all interaction.'\", \"'This document is a collection from both sides that have stopped their conversations.'\", \"'This narrative amalgamates stories from both sides that have gone silent with each other.'\", \"'This is a compiled tale from both parties who no longer have dialogue.'\", \"'This is a story gathered from both factions which are no longer conversing.'\", \"'This account combines viewpoints from both sides that have stopped their exchanges.'\", \"'This tale is a merger of narratives from individuals who no longer speak with each other.'\", \"'This story draws together contributions from both parties that have ended their communication.']\" - Error: Unexpected end-of-input. Expected one of: \n",
      "\t* COMMA\n",
      "\t* RSQB\n",
      "\n",
      "Invalid response format: [] - Error: No terminal matches ']' in the current parser context, at line 1 col 2\n",
      "\n",
      "[]\n",
      " ^\n",
      "Expected one of: \n",
      "\t* ESCAPED_STRING\n",
      "\n",
      "Invalid response format: [] - Error: No terminal matches ']' in the current parser context, at line 1 col 2\n",
      "\n",
      "[]\n",
      " ^\n",
      "Expected one of: \n",
      "\t* ESCAPED_STRING\n",
      "\n",
      "Invalid response format: [\"'Duh..'\", \"'Of course..'\", \"'Obviously..'\", \"'Naturally..'\", \"'Clearly..'\", \"'It goes without saying..'\", \"'Well, obviously..'\", \"'Duh, right?'\", \"'Like, of course..'\", \"'No kidding..'\", \"'Really now..'\", \"'Surely..'\", \"'Needless to say..'\", \"'I mean, duh..'\", \"'It's obvious, right?'\", \"'Without a doubt..'\", \"'You don't say..'\", \"'Uh, yeah..'\", \"'Isn't it obvious?'\", \"'For sure..'\", \"'Duh, you know?'] - Error: No terminal matches '\"' in the current parser context, at line 1 col 389\n",
      "\n",
      " \"'Isn't it obvious?'\", \"'For sure..'\", \"'Duh, you know?']\n",
      "                                        ^\n",
      "Expected one of: \n",
      "\t* ESCAPED_STRING\n",
      "\n",
      "Invalid response format: [] - Error: No terminal matches ']' in the current parser context, at line 1 col 2\n",
      "\n",
      "[]\n",
      " ^\n",
      "Expected one of: \n",
      "\t* ESCAPED_STRING\n",
      "\n"
     ]
    }
   ],
   "source": [
    "test_converted = validate_and_parse_response(test, parser)"
   ]
  },
  {
   "cell_type": "code",
   "execution_count": 15,
   "id": "a65b81ef-9214-4895-ad1f-0992327f39a8",
   "metadata": {},
   "outputs": [
    {
     "data": {
      "text/plain": [
       "'[\"It has been proposed that I share a few tales about my stripper friends.\", \"Some have recommended that I tell some stories involving my stripper acquaintances.\", \"There has been a suggestion for me to relay stories of my stripper buddies.\", \"I’ve been advised to share anecdotes about my stripper pals.\", \"It has been hinted that I should narrate some experiences with my stripper friends.\", \"People have suggested that I recount some stories related to my stripper companions.\", \"Someone recommended that I share tales featuring my stripper friends.\", \"There has been an idea floated that I should talk about my stripper pals.\", \"It has been put forward that I narrate some stories about my stripper friends.\", \"I’ve received suggestions to tell some stories regarding my stripper friends.\", \"Some individuals have suggested that I share stories of my stripper buddies.\", \"I\\'ve been encouraged to discuss my experiences with my stripper pals.\", \"It has been communicated that I might share some narratives about my stripper friends.\", \"I’ve been urged to tell some stories about my stripper acquaintances.\", \"There has been a recommendation for me to share experiences with my stripper pals.\", \"I’ve been asked to share some anecdotes concerning my stripper friends.\", \"People have proposed that I recite stories about my stripper companions.\", \"I’ve been inspired to narrate some tales of my stripper buddies.\", \"It\\'s been suggested that I convey some stories of my stripper friends.\", \"There is a suggestion for me to tell tales involving my stripper acquaintances.\"]'"
      ]
     },
     "execution_count": 15,
     "metadata": {},
     "output_type": "execute_result"
    }
   ],
   "source": [
    "test_converted.iloc[0,2]"
   ]
  },
  {
   "cell_type": "code",
   "execution_count": 16,
   "id": "6ee4c13e-58f1-4c3e-be87-97d41338ecaa",
   "metadata": {},
   "outputs": [
    {
     "data": {
      "text/html": [
       "<div>\n",
       "<style scoped>\n",
       "    .dataframe tbody tr th:only-of-type {\n",
       "        vertical-align: middle;\n",
       "    }\n",
       "\n",
       "    .dataframe tbody tr th {\n",
       "        vertical-align: top;\n",
       "    }\n",
       "\n",
       "    .dataframe thead th {\n",
       "        text-align: right;\n",
       "    }\n",
       "</style>\n",
       "<table border=\"1\" class=\"dataframe\">\n",
       "  <thead>\n",
       "    <tr style=\"text-align: right;\">\n",
       "      <th></th>\n",
       "      <th>id</th>\n",
       "      <th>custom_id</th>\n",
       "      <th>response</th>\n",
       "      <th>doc_id</th>\n",
       "      <th>chunk_id</th>\n",
       "      <th>repetition</th>\n",
       "    </tr>\n",
       "  </thead>\n",
       "  <tbody>\n",
       "    <tr>\n",
       "      <th>0</th>\n",
       "      <td>batch_req_SGhzjs2FC09ZbXkFCIFVKXAE</td>\n",
       "      <td>doc_617540_chunk_1_1</td>\n",
       "      <td>[\"It has been proposed that I share a few tale...</td>\n",
       "      <td>617540</td>\n",
       "      <td>1</td>\n",
       "      <td>1</td>\n",
       "    </tr>\n",
       "    <tr>\n",
       "      <th>1</th>\n",
       "      <td>batch_req_rzSSPUOj9hzG1RRSNSet8rEy</td>\n",
       "      <td>doc_617540_chunk_1_2</td>\n",
       "      <td>[\"It has been recommended that I share a few t...</td>\n",
       "      <td>617540</td>\n",
       "      <td>1</td>\n",
       "      <td>2</td>\n",
       "    </tr>\n",
       "    <tr>\n",
       "      <th>2</th>\n",
       "      <td>batch_req_m0hECxM0s1dGDMg7BUyybsxr</td>\n",
       "      <td>doc_617540_chunk_1_3</td>\n",
       "      <td>[\"It has been proposed that I recount some tal...</td>\n",
       "      <td>617540</td>\n",
       "      <td>1</td>\n",
       "      <td>3</td>\n",
       "    </tr>\n",
       "    <tr>\n",
       "      <th>3</th>\n",
       "      <td>batch_req_fNvwAF3S3oXC73x2NdNnzhmb</td>\n",
       "      <td>doc_617540_chunk_1_4</td>\n",
       "      <td>[\"It has been recommended that I share a few t...</td>\n",
       "      <td>617540</td>\n",
       "      <td>1</td>\n",
       "      <td>4</td>\n",
       "    </tr>\n",
       "    <tr>\n",
       "      <th>4</th>\n",
       "      <td>batch_req_4tzMUFTOq0L52SqnzAKehBVp</td>\n",
       "      <td>doc_617540_chunk_1_5</td>\n",
       "      <td>[\"It has been recommended that I tell some tal...</td>\n",
       "      <td>617540</td>\n",
       "      <td>1</td>\n",
       "      <td>5</td>\n",
       "    </tr>\n",
       "    <tr>\n",
       "      <th>...</th>\n",
       "      <td>...</td>\n",
       "      <td>...</td>\n",
       "      <td>...</td>\n",
       "      <td>...</td>\n",
       "      <td>...</td>\n",
       "      <td>...</td>\n",
       "    </tr>\n",
       "    <tr>\n",
       "      <th>465</th>\n",
       "      <td>batch_req_ykOKTuWBaylBo3jUIwPh2zMp</td>\n",
       "      <td>doc_617540_chunk_47_6</td>\n",
       "      <td>[\"But I have a feeling that someone made a mov...</td>\n",
       "      <td>617540</td>\n",
       "      <td>47</td>\n",
       "      <td>6</td>\n",
       "    </tr>\n",
       "    <tr>\n",
       "      <th>466</th>\n",
       "      <td>batch_req_VO6mIoTEcEcxWWee9Wvxg6KZ</td>\n",
       "      <td>doc_617540_chunk_47_7</td>\n",
       "      <td>[\"But I have a feeling that someone made a mov...</td>\n",
       "      <td>617540</td>\n",
       "      <td>47</td>\n",
       "      <td>7</td>\n",
       "    </tr>\n",
       "    <tr>\n",
       "      <th>467</th>\n",
       "      <td>batch_req_B8U6pJ7ToLMa3H39Srserxs9</td>\n",
       "      <td>doc_617540_chunk_47_8</td>\n",
       "      <td>[\"But I have a feeling that someone flirted wi...</td>\n",
       "      <td>617540</td>\n",
       "      <td>47</td>\n",
       "      <td>8</td>\n",
       "    </tr>\n",
       "    <tr>\n",
       "      <th>468</th>\n",
       "      <td>batch_req_w50FDCIKy07GW6fOILlCuQpy</td>\n",
       "      <td>doc_617540_chunk_47_9</td>\n",
       "      <td>[\"But I have a feeling that someone flirted wi...</td>\n",
       "      <td>617540</td>\n",
       "      <td>47</td>\n",
       "      <td>9</td>\n",
       "    </tr>\n",
       "    <tr>\n",
       "      <th>469</th>\n",
       "      <td>batch_req_0e1N3u2F1Vpl5hKC1QfkPJsV</td>\n",
       "      <td>doc_617540_chunk_47_10</td>\n",
       "      <td>[\"But I have a suspicion that someone made a p...</td>\n",
       "      <td>617540</td>\n",
       "      <td>47</td>\n",
       "      <td>10</td>\n",
       "    </tr>\n",
       "  </tbody>\n",
       "</table>\n",
       "<p>470 rows × 6 columns</p>\n",
       "</div>"
      ],
      "text/plain": [
       "                                     id               custom_id  \\\n",
       "0    batch_req_SGhzjs2FC09ZbXkFCIFVKXAE    doc_617540_chunk_1_1   \n",
       "1    batch_req_rzSSPUOj9hzG1RRSNSet8rEy    doc_617540_chunk_1_2   \n",
       "2    batch_req_m0hECxM0s1dGDMg7BUyybsxr    doc_617540_chunk_1_3   \n",
       "3    batch_req_fNvwAF3S3oXC73x2NdNnzhmb    doc_617540_chunk_1_4   \n",
       "4    batch_req_4tzMUFTOq0L52SqnzAKehBVp    doc_617540_chunk_1_5   \n",
       "..                                  ...                     ...   \n",
       "465  batch_req_ykOKTuWBaylBo3jUIwPh2zMp   doc_617540_chunk_47_6   \n",
       "466  batch_req_VO6mIoTEcEcxWWee9Wvxg6KZ   doc_617540_chunk_47_7   \n",
       "467  batch_req_B8U6pJ7ToLMa3H39Srserxs9   doc_617540_chunk_47_8   \n",
       "468  batch_req_w50FDCIKy07GW6fOILlCuQpy   doc_617540_chunk_47_9   \n",
       "469  batch_req_0e1N3u2F1Vpl5hKC1QfkPJsV  doc_617540_chunk_47_10   \n",
       "\n",
       "                                              response  doc_id chunk_id  \\\n",
       "0    [\"It has been proposed that I share a few tale...  617540        1   \n",
       "1    [\"It has been recommended that I share a few t...  617540        1   \n",
       "2    [\"It has been proposed that I recount some tal...  617540        1   \n",
       "3    [\"It has been recommended that I share a few t...  617540        1   \n",
       "4    [\"It has been recommended that I tell some tal...  617540        1   \n",
       "..                                                 ...     ...      ...   \n",
       "465  [\"But I have a feeling that someone made a mov...  617540       47   \n",
       "466  [\"But I have a feeling that someone made a mov...  617540       47   \n",
       "467  [\"But I have a feeling that someone flirted wi...  617540       47   \n",
       "468  [\"But I have a feeling that someone flirted wi...  617540       47   \n",
       "469  [\"But I have a suspicion that someone made a p...  617540       47   \n",
       "\n",
       "    repetition  \n",
       "0            1  \n",
       "1            2  \n",
       "2            3  \n",
       "3            4  \n",
       "4            5  \n",
       "..         ...  \n",
       "465          6  \n",
       "466          7  \n",
       "467          8  \n",
       "468          9  \n",
       "469         10  \n",
       "\n",
       "[470 rows x 6 columns]"
      ]
     },
     "execution_count": 16,
     "metadata": {},
     "output_type": "execute_result"
    }
   ],
   "source": [
    "test_converted"
   ]
  },
  {
   "cell_type": "code",
   "execution_count": 31,
   "id": "e75a55c9-3b82-4540-8449-cc503af03818",
   "metadata": {},
   "outputs": [
    {
     "ename": "GrammarError",
     "evalue": "Rules aren't allowed inside terminals (NonTerminal('ws') in __IGNORE_0)",
     "output_type": "error",
     "traceback": [
      "\u001b[0;31m---------------------------------------------------------------------------\u001b[0m",
      "\u001b[0;31mGrammarError\u001b[0m                              Traceback (most recent call last)",
      "Cell \u001b[0;32mIn[31], line 20\u001b[0m\n\u001b[1;32m      1\u001b[0m \u001b[38;5;28;01mfrom\u001b[39;00m \u001b[38;5;21;01mlark\u001b[39;00m \u001b[38;5;28;01mimport\u001b[39;00m Lark, Transformer\n\u001b[1;32m      3\u001b[0m grammar \u001b[38;5;241m=\u001b[39m \u001b[38;5;124mr\u001b[39m\u001b[38;5;124m\"\"\"\u001b[39m\n\u001b[1;32m      4\u001b[0m \u001b[38;5;124mstart: \u001b[39m\u001b[38;5;124m\"\u001b[39m\u001b[38;5;124m[\u001b[39m\u001b[38;5;124m\"\u001b[39m\u001b[38;5;124m items \u001b[39m\u001b[38;5;124m\"\u001b[39m\u001b[38;5;124m]\u001b[39m\u001b[38;5;124m\"\u001b[39m\n\u001b[1;32m      5\u001b[0m \n\u001b[0;32m   (...)\u001b[0m\n\u001b[1;32m     17\u001b[0m \u001b[38;5;132;01m%i\u001b[39;00m\u001b[38;5;124mgnore \u001b[39m\u001b[38;5;124m\"\u001b[39m\u001b[38;5;124m\\\u001b[39m\u001b[38;5;124mn\u001b[39m\u001b[38;5;124m\"\u001b[39m\n\u001b[1;32m     18\u001b[0m \u001b[38;5;124m\"\"\"\u001b[39m\n\u001b[0;32m---> 20\u001b[0m parser \u001b[38;5;241m=\u001b[39m \u001b[43mLark\u001b[49m\u001b[43m(\u001b[49m\u001b[43mgrammar\u001b[49m\u001b[43m,\u001b[49m\u001b[43m \u001b[49m\u001b[43mparser\u001b[49m\u001b[38;5;241;43m=\u001b[39;49m\u001b[38;5;124;43m'\u001b[39;49m\u001b[38;5;124;43mearley\u001b[39;49m\u001b[38;5;124;43m'\u001b[39;49m\u001b[43m)\u001b[49m\n\u001b[1;32m     22\u001b[0m \u001b[38;5;28;01mclass\u001b[39;00m \u001b[38;5;21;01mListTransformer\u001b[39;00m(Transformer):\n\u001b[1;32m     23\u001b[0m     \u001b[38;5;28;01mdef\u001b[39;00m \u001b[38;5;21mstart\u001b[39m(\u001b[38;5;28mself\u001b[39m, items):\n",
      "File \u001b[0;32m~/my_env/lib/python3.10/site-packages/lark/lark.py:360\u001b[0m, in \u001b[0;36mLark.__init__\u001b[0;34m(self, grammar, **options)\u001b[0m\n\u001b[1;32m    356\u001b[0m             \u001b[38;5;28mself\u001b[39m\u001b[38;5;241m.\u001b[39moptions \u001b[38;5;241m=\u001b[39m old_options\n\u001b[1;32m    359\u001b[0m     \u001b[38;5;66;03m# Parse the grammar file and compose the grammars\u001b[39;00m\n\u001b[0;32m--> 360\u001b[0m     \u001b[38;5;28mself\u001b[39m\u001b[38;5;241m.\u001b[39mgrammar, used_files \u001b[38;5;241m=\u001b[39m \u001b[43mload_grammar\u001b[49m\u001b[43m(\u001b[49m\u001b[43mgrammar\u001b[49m\u001b[43m,\u001b[49m\u001b[43m \u001b[49m\u001b[38;5;28;43mself\u001b[39;49m\u001b[38;5;241;43m.\u001b[39;49m\u001b[43msource_path\u001b[49m\u001b[43m,\u001b[49m\u001b[43m \u001b[49m\u001b[38;5;28;43mself\u001b[39;49m\u001b[38;5;241;43m.\u001b[39;49m\u001b[43moptions\u001b[49m\u001b[38;5;241;43m.\u001b[39;49m\u001b[43mimport_paths\u001b[49m\u001b[43m,\u001b[49m\u001b[43m \u001b[49m\u001b[38;5;28;43mself\u001b[39;49m\u001b[38;5;241;43m.\u001b[39;49m\u001b[43moptions\u001b[49m\u001b[38;5;241;43m.\u001b[39;49m\u001b[43mkeep_all_tokens\u001b[49m\u001b[43m)\u001b[49m\n\u001b[1;32m    361\u001b[0m \u001b[38;5;28;01melse\u001b[39;00m:\n\u001b[1;32m    362\u001b[0m     \u001b[38;5;28;01massert\u001b[39;00m \u001b[38;5;28misinstance\u001b[39m(grammar, Grammar)\n",
      "File \u001b[0;32m~/my_env/lib/python3.10/site-packages/lark/load_grammar.py:1415\u001b[0m, in \u001b[0;36mload_grammar\u001b[0;34m(grammar, source, import_paths, global_keep_all_tokens)\u001b[0m\n\u001b[1;32m   1413\u001b[0m \u001b[38;5;28;01mdef\u001b[39;00m \u001b[38;5;21mload_grammar\u001b[39m(grammar, source, import_paths, global_keep_all_tokens):\n\u001b[1;32m   1414\u001b[0m     builder \u001b[38;5;241m=\u001b[39m GrammarBuilder(global_keep_all_tokens, import_paths)\n\u001b[0;32m-> 1415\u001b[0m     \u001b[43mbuilder\u001b[49m\u001b[38;5;241;43m.\u001b[39;49m\u001b[43mload_grammar\u001b[49m\u001b[43m(\u001b[49m\u001b[43mgrammar\u001b[49m\u001b[43m,\u001b[49m\u001b[43m \u001b[49m\u001b[43msource\u001b[49m\u001b[43m)\u001b[49m\n\u001b[1;32m   1416\u001b[0m     \u001b[38;5;28;01mreturn\u001b[39;00m builder\u001b[38;5;241m.\u001b[39mbuild(), builder\u001b[38;5;241m.\u001b[39mused_files\n",
      "File \u001b[0;32m~/my_env/lib/python3.10/site-packages/lark/load_grammar.py:1289\u001b[0m, in \u001b[0;36mGrammarBuilder.load_grammar\u001b[0;34m(self, grammar_text, grammar_name, mangle)\u001b[0m\n\u001b[1;32m   1282\u001b[0m         \u001b[38;5;28;01massert\u001b[39;00m \u001b[38;5;28;01mFalse\u001b[39;00m, stmt\n\u001b[1;32m   1285\u001b[0m term_defs \u001b[38;5;241m=\u001b[39m { name: d\u001b[38;5;241m.\u001b[39mtree\n\u001b[1;32m   1286\u001b[0m     \u001b[38;5;28;01mfor\u001b[39;00m name, d \u001b[38;5;129;01min\u001b[39;00m \u001b[38;5;28mself\u001b[39m\u001b[38;5;241m.\u001b[39m_definitions\u001b[38;5;241m.\u001b[39mitems()\n\u001b[1;32m   1287\u001b[0m     \u001b[38;5;28;01mif\u001b[39;00m d\u001b[38;5;241m.\u001b[39mis_term\n\u001b[1;32m   1288\u001b[0m }\n\u001b[0;32m-> 1289\u001b[0m \u001b[43mresolve_term_references\u001b[49m\u001b[43m(\u001b[49m\u001b[43mterm_defs\u001b[49m\u001b[43m)\u001b[49m\n",
      "File \u001b[0;32m~/my_env/lib/python3.10/site-packages/lark/load_grammar.py:879\u001b[0m, in \u001b[0;36mresolve_term_references\u001b[0;34m(term_dict)\u001b[0m\n\u001b[1;32m    877\u001b[0m item ,\u001b[38;5;241m=\u001b[39m exp\u001b[38;5;241m.\u001b[39mchildren\n\u001b[1;32m    878\u001b[0m \u001b[38;5;28;01mif\u001b[39;00m \u001b[38;5;28misinstance\u001b[39m(item, NonTerminal):\n\u001b[0;32m--> 879\u001b[0m     \u001b[38;5;28;01mraise\u001b[39;00m GrammarError(\u001b[38;5;124m\"\u001b[39m\u001b[38;5;124mRules aren\u001b[39m\u001b[38;5;124m'\u001b[39m\u001b[38;5;124mt allowed inside terminals (\u001b[39m\u001b[38;5;132;01m%s\u001b[39;00m\u001b[38;5;124m in \u001b[39m\u001b[38;5;132;01m%s\u001b[39;00m\u001b[38;5;124m)\u001b[39m\u001b[38;5;124m\"\u001b[39m \u001b[38;5;241m%\u001b[39m (item, name))\n\u001b[1;32m    880\u001b[0m \u001b[38;5;28;01melif\u001b[39;00m \u001b[38;5;28misinstance\u001b[39m(item, Terminal):\n\u001b[1;32m    881\u001b[0m     \u001b[38;5;28;01mtry\u001b[39;00m:\n",
      "\u001b[0;31mGrammarError\u001b[0m: Rules aren't allowed inside terminals (NonTerminal('ws') in __IGNORE_0)"
     ]
    }
   ],
   "source": [
    "from lark import Lark, Transformer\n",
    "\n",
    "grammar = r\"\"\"\n",
    "start: \"[\" items \"]\"\n",
    "\n",
    "items: item (\",\" item)*\n",
    "\n",
    "item: string\n",
    "\n",
    "string: \"\\\"\" word (ws+ word)* \"\\\"\" \n",
    "\n",
    "word: /[a-zA-Z0-9.,!?;:’\\-()']+/\n",
    "\n",
    "ws: \" \"\n",
    "\n",
    "%ignore ws\n",
    "%ignore \"\\n\"\n",
    "\"\"\"\n",
    "\n",
    "parser = Lark(grammar, parser='earley')\n",
    "\n",
    "class ListTransformer(Transformer):\n",
    "    def start(self, items):\n",
    "        return items[0]\n",
    "\n",
    "    def items(self, items):\n",
    "        return items\n",
    "\n",
    "    def item(self, item):\n",
    "        return item[0]\n",
    "\n",
    "    def string(self, string):\n",
    "        return \"\".join(string)\n",
    "\n",
    "    def word(self, word):\n",
    "        return str(word[0])\n",
    "\n",
    "tree = parser.parse('[\"hello\", \"world\", \"example\"]')\n",
    "result = ListTransformer().transform(tree)\n",
    "print(result)\n"
   ]
  },
  {
   "cell_type": "code",
   "execution_count": null,
   "id": "893a07f0-a40b-4a94-a526-cecb7c9ec2d1",
   "metadata": {},
   "outputs": [],
   "source": []
  }
 ],
 "metadata": {
  "kernelspec": {
   "display_name": "paraphrase_llm",
   "language": "python",
   "name": "paraphrase_llm"
  },
  "language_info": {
   "codemirror_mode": {
    "name": "ipython",
    "version": 3
   },
   "file_extension": ".py",
   "mimetype": "text/x-python",
   "name": "python",
   "nbconvert_exporter": "python",
   "pygments_lexer": "ipython3",
   "version": "3.10.9"
  }
 },
 "nbformat": 4,
 "nbformat_minor": 5
}
